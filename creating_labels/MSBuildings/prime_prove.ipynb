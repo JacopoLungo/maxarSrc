{
 "cells": [
  {
   "cell_type": "code",
   "execution_count": 13,
   "metadata": {},
   "outputs": [],
   "source": [
    "import pandas as pd\n",
    "import geopandas as gpd\n",
    "from shapely.geometry import shape\n",
    "import os"
   ]
  },
  {
   "cell_type": "code",
   "execution_count": 22,
   "metadata": {},
   "outputs": [
    {
     "name": "stdout",
     "output_type": "stream",
     "text": [
      "Found 6 links for TheGambia\n"
     ]
    }
   ],
   "source": [
    "#args\n",
    "location = 'TheGambia'\n",
    "root = ''\n",
    "quiet = False\n",
    "#_______________________\n",
    "\n",
    "dataset_links = pd.read_csv(os.path.join(root, 'dataset-links.csv'))\n",
    "country_links = dataset_links[dataset_links.Location == location]\n",
    "#eventualmente filtrare anche sul quadkey\n",
    "if not quiet:\n",
    "    print(f\"Found {len(country_links)} links for {location}\")\n",
    "\n",
    "gdfs = []\n",
    "for _, row in country_links.iterrows():\n",
    "    df = pd.read_json(row.Url, lines=True)\n",
    "    df[\"geometry\"] = df[\"geometry\"].apply(shape)\n",
    "    gdf_down = gpd.GeoDataFrame(df, crs=4326)\n",
    "    gdfs.append(gdf_down)\n",
    "\n",
    "gdfs = pd.concat(gdfs)"
   ]
  },
  {
   "cell_type": "code",
   "execution_count": 36,
   "metadata": {},
   "outputs": [],
   "source": [
    "s_index_buildings = gdf.sindex"
   ]
  },
  {
   "cell_type": "code",
   "execution_count": 39,
   "metadata": {},
   "outputs": [
    {
     "ename": "ModuleNotFoundError",
     "evalue": "No module named 'datasets_and_samplers'",
     "output_type": "error",
     "traceback": [
      "\u001b[0;31m---------------------------------------------------------------------------\u001b[0m",
      "\u001b[0;31mModuleNotFoundError\u001b[0m                       Traceback (most recent call last)",
      "\u001b[1;32m/home/vaschetti/maxarSrc/creating_labels/MSBuildings/prime_prove.ipynb Cell 4\u001b[0m line \u001b[0;36m1\n\u001b[0;32m----> <a href='vscode-notebook-cell://ssh-remote%2B7b22686f73744e616d65223a224c494e4b53227d/home/vaschetti/maxarSrc/creating_labels/MSBuildings/prime_prove.ipynb#X23sdnNjb2RlLXJlbW90ZQ%3D%3D?line=0'>1</a>\u001b[0m \u001b[39mfrom\u001b[39;00m \u001b[39mdatasets_and_samplers\u001b[39;00m\u001b[39m.\u001b[39;00m\u001b[39mmyGeoDatasets\u001b[39;00m \u001b[39mimport\u001b[39;00m Maxar\n",
      "\u001b[0;31mModuleNotFoundError\u001b[0m: No module named 'datasets_and_samplers'"
     ]
    }
   ],
   "source": [
    "from datasets_and_samplers.myGeoDatasets import Maxar"
   ]
  },
  {
   "cell_type": "code",
   "execution_count": null,
   "metadata": {},
   "outputs": [],
   "source": [
    "#iterate over the images\n",
    "from myGeoDatasets import Maxar\n",
    "from mySamplers import MyGridGeoSampler\n",
    "from torch.utils.data import DataLoader\n",
    "\n",
    "dataset = Maxar('/mnt/data2/vaschetti_data/maxar/Gambia-flooding-8-11-2022/pre/10300100CFC9A500/033133031213.tif')\n",
    "sampler = MyGridGeoSampler(dataset, size=4000, stride=4000)\n",
    "dataloader = DataLoader(dataset, sampler=sampler, collate_fn=stack_samples)"
   ]
  },
  {
   "cell_type": "code",
   "execution_count": 34,
   "metadata": {},
   "outputs": [
    {
     "data": {
      "text/plain": [
       "type                                                    Feature\n",
       "properties                                     {'height': -1.0}\n",
       "geometry      POLYGON ((-16.175160125015278 13.3320361871642...\n",
       "Name: 0, dtype: object"
      ]
     },
     "execution_count": 34,
     "metadata": {},
     "output_type": "execute_result"
    }
   ],
   "source": [
    "gdfs.iloc[0]"
   ]
  },
  {
   "cell_type": "code",
   "execution_count": 30,
   "metadata": {},
   "outputs": [
    {
     "data": {
      "text/html": [
       "<div>\n",
       "<style scoped>\n",
       "    .dataframe tbody tr th:only-of-type {\n",
       "        vertical-align: middle;\n",
       "    }\n",
       "\n",
       "    .dataframe tbody tr th {\n",
       "        vertical-align: top;\n",
       "    }\n",
       "\n",
       "    .dataframe thead th {\n",
       "        text-align: right;\n",
       "    }\n",
       "</style>\n",
       "<table border=\"1\" class=\"dataframe\">\n",
       "  <thead>\n",
       "    <tr style=\"text-align: right;\">\n",
       "      <th></th>\n",
       "      <th>type</th>\n",
       "      <th>properties</th>\n",
       "      <th>geometry</th>\n",
       "    </tr>\n",
       "  </thead>\n",
       "  <tbody>\n",
       "    <tr>\n",
       "      <th>0</th>\n",
       "      <td>Feature</td>\n",
       "      <td>{'height': -1.0}</td>\n",
       "      <td>POLYGON ((-16.17516 13.33204, -16.17509 13.332...</td>\n",
       "    </tr>\n",
       "    <tr>\n",
       "      <th>1</th>\n",
       "      <td>Feature</td>\n",
       "      <td>{'height': -1.0}</td>\n",
       "      <td>POLYGON ((-16.17875 13.32799, -16.17867 13.327...</td>\n",
       "    </tr>\n",
       "    <tr>\n",
       "      <th>2</th>\n",
       "      <td>Feature</td>\n",
       "      <td>{'height': -1.0}</td>\n",
       "      <td>POLYGON ((-16.21254 13.24998, -16.21252 13.249...</td>\n",
       "    </tr>\n",
       "    <tr>\n",
       "      <th>3</th>\n",
       "      <td>Feature</td>\n",
       "      <td>{'height': -1.0}</td>\n",
       "      <td>POLYGON ((-16.21398 13.24746, -16.21418 13.247...</td>\n",
       "    </tr>\n",
       "    <tr>\n",
       "      <th>4</th>\n",
       "      <td>Feature</td>\n",
       "      <td>{'height': -1.0}</td>\n",
       "      <td>POLYGON ((-16.25548 13.41909, -16.25547 13.419...</td>\n",
       "    </tr>\n",
       "  </tbody>\n",
       "</table>\n",
       "</div>"
      ],
      "text/plain": [
       "      type        properties  \\\n",
       "0  Feature  {'height': -1.0}   \n",
       "1  Feature  {'height': -1.0}   \n",
       "2  Feature  {'height': -1.0}   \n",
       "3  Feature  {'height': -1.0}   \n",
       "4  Feature  {'height': -1.0}   \n",
       "\n",
       "                                            geometry  \n",
       "0  POLYGON ((-16.17516 13.33204, -16.17509 13.332...  \n",
       "1  POLYGON ((-16.17875 13.32799, -16.17867 13.327...  \n",
       "2  POLYGON ((-16.21254 13.24998, -16.21252 13.249...  \n",
       "3  POLYGON ((-16.21398 13.24746, -16.21418 13.247...  \n",
       "4  POLYGON ((-16.25548 13.41909, -16.25547 13.419...  "
      ]
     },
     "execution_count": 30,
     "metadata": {},
     "output_type": "execute_result"
    }
   ],
   "source": [
    "gdfs.head()"
   ]
  },
  {
   "cell_type": "code",
   "execution_count": null,
   "metadata": {},
   "outputs": [],
   "source": [
    "from rtree import index\n"
   ]
  },
  {
   "cell_type": "code",
   "execution_count": 26,
   "metadata": {},
   "outputs": [
    {
     "data": {
      "text/plain": [
       "349764"
      ]
     },
     "execution_count": 26,
     "metadata": {},
     "output_type": "execute_result"
    }
   ],
   "source": [
    "len(gdfs)"
   ]
  },
  {
   "cell_type": "code",
   "execution_count": 6,
   "metadata": {},
   "outputs": [
    {
     "data": {
      "text/plain": [
       "type            object\n",
       "properties      object\n",
       "geometry      geometry\n",
       "dtype: object"
      ]
     },
     "execution_count": 6,
     "metadata": {},
     "output_type": "execute_result"
    }
   ],
   "source": [
    "gdf.dtypes"
   ]
  },
  {
   "cell_type": "code",
   "execution_count": 7,
   "metadata": {},
   "outputs": [],
   "source": [
    "import pandas as pd\n",
    "import geopandas as gpd\n",
    "from shapely.geometry import shape\n",
    "\n",
    "url = 'https://minedbuildings.blob.core.windows.net/global-buildings/2023-10-16/global-buildings.geojsonl/RegionName%3DAbyei/quadkey%3D122321003/part-00198-1b124b55-19d6-4754-9116-1c5a66bed369.c000.csv.gz'\n",
    "df = pd.read_json(url, lines=True)\n",
    "df[\"geometry\"] = df[\"geometry\"].apply(shape)\n",
    "gdf = gpd.GeoDataFrame(df, crs=4326)\n",
    "#gdf.to_file(filename, driver=\"GeoJSON\", **kwargs)if not quiet:\n",
    "#    print(f\"Downloading {i} of {len(country_links)}: {row.QuadKey}.geojson\")"
   ]
  },
  {
   "cell_type": "code",
   "execution_count": 11,
   "metadata": {},
   "outputs": [
    {
     "data": {
      "text/plain": [
       "type            object\n",
       "properties      object\n",
       "geometry      geometry\n",
       "dtype: object"
      ]
     },
     "execution_count": 11,
     "metadata": {},
     "output_type": "execute_result"
    }
   ],
   "source": [
    "gdf.dtypes"
   ]
  },
  {
   "cell_type": "code",
   "execution_count": 12,
   "metadata": {},
   "outputs": [
    {
     "name": "stdout",
     "output_type": "stream",
     "text": [
      "Found 2 links for Abyei\n",
      "Downloading 1 of 2: 122321003.geojson\n",
      "Downloading 2 of 2: 122321021.geojson\n",
      "Reading 1 of 2: buildings Abyei/122321003.geojson\n",
      "Reading 2 of 2: buildings Abyei/122321021.geojson\n",
      "Merging GeoDataFrames ...\n",
      "Saving merged file to Abyei ...\n",
      "Saved merged file to Abyei\n"
     ]
    },
    {
     "data": {
      "text/plain": [
       "['buildings Abyei/122321003.geojson', 'buildings Abyei/122321021.geojson']"
      ]
     },
     "execution_count": 12,
     "metadata": {},
     "output_type": "execute_result"
    }
   ],
   "source": [
    "import leafmap\n",
    "country = \"Abyei\"\n",
    "leafmap.download_ms_buildings(\n",
    "    country, \n",
    "    out_dir=f\"buildings {country}\", \n",
    "    merge_output=f\"{country}_ms.shp\", \n",
    "    )"
   ]
  }
 ],
 "metadata": {
  "kernelspec": {
   "display_name": "maxarSrc",
   "language": "python",
   "name": "maxarsrc"
  },
  "language_info": {
   "codemirror_mode": {
    "name": "ipython",
    "version": 3
   },
   "file_extension": ".py",
   "mimetype": "text/x-python",
   "name": "python",
   "nbconvert_exporter": "python",
   "pygments_lexer": "ipython3",
   "version": "3.10.13"
  }
 },
 "nbformat": 4,
 "nbformat_minor": 2
}

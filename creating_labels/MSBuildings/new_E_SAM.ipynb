{
 "cells": [
  {
   "cell_type": "code",
   "execution_count": 1,
   "metadata": {},
   "outputs": [],
   "source": [
    "import os\n",
    "os.chdir('/home/vaschetti/maxarSrc/creating_labels/models/EfficientSAM')\n",
    "from efficient_sam.build_efficient_sam import build_efficient_sam_vitt, build_efficient_sam_vits\n",
    "from PIL import Image\n",
    "from torchvision import transforms\n",
    "import torch\n",
    "import numpy as np\n",
    "import zipfile"
   ]
  },
  {
   "cell_type": "code",
   "execution_count": 2,
   "metadata": {},
   "outputs": [],
   "source": [
    "device = 'cuda:3'\n",
    "models = {}\n",
    "# Build the EfficientSAM-Ti model.\n",
    "models['efficientsam_ti'] = build_efficient_sam_vitt().to(device)\n",
    "\n",
    "# Since EfficientSAM-S checkpoint file is >100MB, we store the zip file.\n",
    "with zipfile.ZipFile(\"weights/efficient_sam_vits.pt.zip\", 'r') as zip_ref:\n",
    "    zip_ref.extractall(\"weights\")\n",
    "# # Build the EfficientSAM-S model.\n",
    "models['efficientsam_s'] = build_efficient_sam_vits().to(device)"
   ]
  },
  {
   "cell_type": "code",
   "execution_count": 3,
   "metadata": {},
   "outputs": [],
   "source": [
    "# load an image\n",
    "sample_image_np = np.array(Image.open(\"figs/examples/dogs.jpg\"))\n",
    "sample_image_tensor = transforms.ToTensor()(sample_image_np)\n",
    "sample_image_tensor = sample_image_tensor.to(device)"
   ]
  },
  {
   "cell_type": "code",
   "execution_count": 4,
   "metadata": {},
   "outputs": [
    {
     "data": {
      "text/plain": [
       "True"
      ]
     },
     "execution_count": 4,
     "metadata": {},
     "output_type": "execute_result"
    }
   ],
   "source": [
    "next(models['efficientsam_ti'].parameters()).is_cuda"
   ]
  },
  {
   "cell_type": "code",
   "execution_count": 5,
   "metadata": {},
   "outputs": [
    {
     "data": {
      "text/plain": [
       "True"
      ]
     },
     "execution_count": 5,
     "metadata": {},
     "output_type": "execute_result"
    }
   ],
   "source": [
    "next(models['efficientsam_s'].parameters()).is_cuda"
   ]
  },
  {
   "cell_type": "code",
   "execution_count": 16,
   "metadata": {},
   "outputs": [
    {
     "name": "stdout",
     "output_type": "stream",
     "text": [
      "cuda:3\n",
      "cuda:3\n",
      "sample_img tensor device:  cuda:3\n",
      "Running inference using  efficientsam_ti\n",
      "Time taken:  0.26722145080566406\n",
      "Running inference using  efficientsam_s\n",
      "Time taken:  0.2212996482849121\n"
     ]
    }
   ],
   "source": [
    "from time import time\n",
    "# Feed a few (x,y) points in the mask as input.\n",
    "\n",
    "input_points = torch.tensor([[[[580, 350], [650, 350]]]], device=device)\n",
    "print(input_points.device)\n",
    "\n",
    "input_labels = torch.tensor([[[1, 1]]], device=device)\n",
    "print(input_labels.device)\n",
    "\n",
    "print('sample_img tensor device: ', sample_image_tensor.device)\n",
    "\n",
    "# Run inference for both EfficientSAM-Ti and EfficientSAM-S models.\n",
    "for model_name, efficient_sam in models.items():\n",
    "    print('Running inference using ', model_name)\n",
    "    t_0 = time()\n",
    "    predicted_logits, predicted_iou = efficient_sam(\n",
    "        sample_image_tensor[None, ...],\n",
    "        input_points,\n",
    "        input_labels,\n",
    "    )\n",
    "    print('Time taken: ', time() - t_0)\n",
    "    # The masks are already sorted by their predicted IOUs.\n",
    "    # The first dimension is the batch size (we have a single image. so it is 1).\n",
    "    # The second dimension is the number of masks we want to generate (in this case, it is only 1)\n",
    "    # The third dimension is the number of candidate masks output by the model.\n",
    "    # For this demo we use the first mask.\n",
    "    mask = torch.ge(predicted_logits[0, 0, 0, :, :], 0).cpu().detach().numpy()\n",
    "    masked_image_np = sample_image_np.copy().astype(np.uint8) * mask[:,:,None]\n",
    "    #Image.fromarray(masked_image_np).save(f\"figs/examples/dogs_{model_name}_mask.png\")\n",
    "    \n"
   ]
  }
 ],
 "metadata": {
  "kernelspec": {
   "display_name": "maxarSrc",
   "language": "python",
   "name": "maxarsrc"
  },
  "language_info": {
   "codemirror_mode": {
    "name": "ipython",
    "version": 3
   },
   "file_extension": ".py",
   "mimetype": "text/x-python",
   "name": "python",
   "nbconvert_exporter": "python",
   "pygments_lexer": "ipython3",
   "version": "3.10.13"
  }
 },
 "nbformat": 4,
 "nbformat_minor": 2
}

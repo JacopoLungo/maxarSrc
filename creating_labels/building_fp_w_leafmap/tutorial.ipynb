{
 "cells": [
  {
   "cell_type": "code",
   "execution_count": 1,
   "metadata": {},
   "outputs": [],
   "source": [
    "import leafmap"
   ]
  },
  {
   "cell_type": "code",
   "execution_count": 11,
   "metadata": {},
   "outputs": [],
   "source": [
    "country = \"TheGambia\"\n",
    "head = 2"
   ]
  },
  {
   "cell_type": "code",
   "execution_count": 12,
   "metadata": {},
   "outputs": [
    {
     "name": "stdout",
     "output_type": "stream",
     "text": [
      "Found 6 links for TheGambia\n",
      "Downloading 1 of 2: 33303200.geojson\n",
      "Downloading 2 of 2: 33303201.geojson\n",
      "Reading 1 of 2: buildings/33303200.geojson\n",
      "Reading 2 of 2: buildings/33303201.geojson\n",
      "Merging GeoDataFrames ...\n",
      "Saving merged file to TheGambia_ms.shp ...\n",
      "Saved merged file to TheGambia_ms.shp\n"
     ]
    },
    {
     "data": {
      "text/plain": [
       "['buildings/33303200.geojson', 'buildings/33303201.geojson']"
      ]
     },
     "execution_count": 12,
     "metadata": {},
     "output_type": "execute_result"
    }
   ],
   "source": [
    "leafmap.download_ms_buildings(\n",
    "    country, \n",
    "    out_dir=f\"buildings {country}\", \n",
    "    merge_output=f\"{country}_ms.shp\", \n",
    "    head=head\n",
    "    )"
   ]
  },
  {
   "cell_type": "code",
   "execution_count": null,
   "metadata": {},
   "outputs": [],
   "source": [
    "m = leafmap.Map()\n",
    "m.add_basemap(\"SATELLITE\")\n",
    "m.add_vector(f\"{country}_ms.shp\", layer_name=\"MS Buildings\")\n",
    "m"
   ]
  },
  {
   "cell_type": "code",
   "execution_count": 4,
   "metadata": {},
   "outputs": [
    {
     "name": "stdout",
     "output_type": "stream",
     "text": [
      "lat-long:  -12.3963681351709 -3.2080078125\n"
     ]
    }
   ],
   "source": [
    "def quadkey_to_coordinates(quadkey):\n",
    "    bounding_box = {\n",
    "        'min_lat': -85.05112878,\n",
    "        'max_lat': 85.05112878,\n",
    "        'min_lon': -180.0,\n",
    "        'max_lon': 180.0\n",
    "    }\n",
    "\n",
    "    level = len(quadkey)\n",
    "\n",
    "    for i in range(level):\n",
    "        digit = int(quadkey[i])\n",
    "        mid_lat = (bounding_box['min_lat'] + bounding_box['max_lat']) / 2\n",
    "        mid_lon = (bounding_box['min_lon'] + bounding_box['max_lon']) / 2\n",
    "\n",
    "        if digit == 0:\n",
    "            bounding_box['max_lat'] = mid_lat\n",
    "            bounding_box['max_lon'] = mid_lon\n",
    "        elif digit == 1:\n",
    "            bounding_box['max_lat'] = mid_lat\n",
    "            bounding_box['min_lon'] = mid_lon\n",
    "        elif digit == 2:\n",
    "            bounding_box['min_lat'] = mid_lat\n",
    "            bounding_box['max_lon'] = mid_lon\n",
    "        elif digit == 3:\n",
    "            bounding_box['min_lat'] = mid_lat\n",
    "            bounding_box['min_lon'] = mid_lon\n",
    "\n",
    "    return {\n",
    "        'latitude': (bounding_box['min_lat'] + bounding_box['max_lat']) / 2,\n",
    "        'longitude': (bounding_box['min_lon'] + bounding_box['max_lon']) / 2\n",
    "    }\n",
    "\n",
    "# Example usage:\n",
    "quadkey = \"033133031213\"\n",
    "coordinates = quadkey_to_coordinates(quadkey)\n",
    "print('lat-long: ', coordinates['latitude'], coordinates['longitude'] )"
   ]
  },
  {
   "cell_type": "code",
   "execution_count": 6,
   "metadata": {},
   "outputs": [
    {
     "name": "stdout",
     "output_type": "stream",
     "text": [
      "033123002212\n"
     ]
    }
   ],
   "source": [
    "def coordinates_to_quadkey(latitude, longitude, zoom):\n",
    "    n = 2 ** zoom\n",
    "    x_tile = int((longitude + 180.0) / 360.0 * n)\n",
    "    y_tile = int((1.0 - (latitude + 90.0) / 180.0) * n)\n",
    "\n",
    "    quadkey = \"\"\n",
    "    for i in range(zoom, 0, -1):\n",
    "        digit = 0\n",
    "        mask = 1 << (i - 1)\n",
    "        if (x_tile & mask) != 0:\n",
    "            digit += 1\n",
    "        if (y_tile & mask) != 0:\n",
    "            digit += 2\n",
    "        quadkey += str(digit)\n",
    "\n",
    "    return quadkey\n",
    "\n",
    "# Example usage:\n",
    "latitude = 13.47815\n",
    "longitude = -16.68430\n",
    "zoom_level = 12\n",
    "quadkey = coordinates_to_quadkey(latitude, longitude, zoom_level)\n",
    "print(quadkey)"
   ]
  },
  {
   "cell_type": "code",
   "execution_count": 7,
   "metadata": {},
   "outputs": [],
   "source": [
    "import math\n",
    "\n",
    "def get_quadkey(lat, lng, zoom):\n",
    "    x = int((lng + 180) / 360 * (1 << zoom))\n",
    "    y = int((1 - math.log(math.tan(math.radians(lat)) + 1 / math.cos(math.radians(lat))) / math.pi) / 2 * (1 << zoom))\n",
    "    quadkey = ''\n",
    "    for i in range(zoom, 0, -1):\n",
    "        digit = 0\n",
    "        mask = 1 << (i - 1)\n",
    "        if (x & mask) != 0:\n",
    "            digit += 1\n",
    "        if (y & mask) != 0:\n",
    "            digit += 2\n",
    "        quadkey += str(digit)\n",
    "    return quadkey"
   ]
  },
  {
   "cell_type": "code",
   "execution_count": 15,
   "metadata": {},
   "outputs": [],
   "source": [
    "import geopandas as gpd\n",
    "df = gpd.read_file(\"buildings/33303200.geojson\")"
   ]
  },
  {
   "cell_type": "code",
   "execution_count": 20,
   "metadata": {},
   "outputs": [],
   "source": [
    "import folium\n",
    "import matplotlib.pyplot as plt\n",
    "import mapclassify"
   ]
  },
  {
   "cell_type": "code",
   "execution_count": 10,
   "metadata": {},
   "outputs": [],
   "source": [
    "from collections import namedtuple\n",
    "def quadkey_to_tile(qk):\n",
    "    \"\"\"Get the tile corresponding to a quadkey\n",
    "\n",
    "    Parameters\n",
    "    ----------\n",
    "    qk : str\n",
    "        A quadkey string.\n",
    "\n",
    "    Returns\n",
    "    -------\n",
    "    Tile\n",
    "\n",
    "    \"\"\"\n",
    "    Tile = namedtuple(\"Tile\", [\"x\", \"y\", \"z\"])\n",
    "    if len(qk) == 0:\n",
    "        return Tile(0, 0, 0)\n",
    "    xtile, ytile = 0, 0\n",
    "    for i, digit in enumerate(reversed(qk)):\n",
    "        mask = 1 << i\n",
    "        if digit == \"1\":\n",
    "            xtile = xtile | mask\n",
    "        elif digit == \"2\":\n",
    "            ytile = ytile | mask\n",
    "        elif digit == \"3\":\n",
    "            xtile = xtile | mask\n",
    "            ytile = ytile | mask\n",
    "        elif digit != \"0\":\n",
    "            warnings.warn(\n",
    "                \"QuadKeyError will not derive from ValueError in mercantile 2.0.\",\n",
    "                DeprecationWarning,\n",
    "            )\n",
    "            raise QuadKeyError(\"Unexpected quadkey digit: %r\", digit)\n",
    "    return Tile(xtile, ytile, i + 1)"
   ]
  },
  {
   "cell_type": "code",
   "execution_count": 11,
   "metadata": {},
   "outputs": [
    {
     "data": {
      "text/plain": [
       "Tile(x=232, y=236, z=9)"
      ]
     },
     "execution_count": 11,
     "metadata": {},
     "output_type": "execute_result"
    }
   ],
   "source": [
    "quadkey_to_tile('033303200')"
   ]
  },
  {
   "cell_type": "code",
   "execution_count": 9,
   "metadata": {},
   "outputs": [
    {
     "data": {
      "text/plain": [
       "'033303200'"
      ]
     },
     "execution_count": 9,
     "metadata": {},
     "output_type": "execute_result"
    }
   ],
   "source": [
    "get_quadkey(13.47815, -16.68430, 9)"
   ]
  },
  {
   "cell_type": "code",
   "execution_count": null,
   "metadata": {},
   "outputs": [],
   "source": [
    "def coord_to_quadkey():\n",
    "    "
   ]
  }
 ],
 "metadata": {
  "kernelspec": {
   "display_name": "maxarSrc",
   "language": "python",
   "name": "maxarsrc"
  },
  "language_info": {
   "codemirror_mode": {
    "name": "ipython",
    "version": 3
   },
   "file_extension": ".py",
   "mimetype": "text/x-python",
   "name": "python",
   "nbconvert_exporter": "python",
   "pygments_lexer": "ipython3",
   "version": "3.10.13"
  }
 },
 "nbformat": 4,
 "nbformat_minor": 2
}

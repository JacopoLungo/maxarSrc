{
 "cells": [
  {
   "cell_type": "code",
   "execution_count": 5,
   "metadata": {},
   "outputs": [],
   "source": [
    "import pandas as pd\n",
    "import geopandas as gpd\n",
    "from shapely.geometry import shape, Polygon, Point\n",
    "import shapely\n",
    "import os\n",
    "import sys\n",
    "sys.path.append('/home/vaschetti/maxarSrc/datasets_and_samplers')\n",
    "from myGeoDatasets import Maxar\n",
    "from mySamplers import MyGridGeoSampler\n",
    "from torch.utils.data import DataLoader\n",
    "from torchgeo.datasets import stack_samples, unbind_samples\n",
    "from samplers_utils import boundingBox_2_Polygon\n",
    "import numpy as np\n",
    "import matplotlib.patches as patches\n",
    "import matplotlib.pyplot as plt\n",
    "import cv2\n",
    "import supervision as sv\n",
    "import json\n",
    "import time as tm"
   ]
  },
  {
   "cell_type": "code",
   "execution_count": 6,
   "metadata": {},
   "outputs": [],
   "source": [
    "path = '/home/vaschetti/maxarSrc/creating_labels/MSRoads/data/AfricaWest-Full/AfricaWest-Full.tsv'\n",
    "road_df = pd.read_csv(path, names =['country', 'geometry'] ,delimiter='\\t')\n",
    "country = 'GMB'\n",
    "road_df = road_df[road_df['country'] == country]\n",
    "road_df['geometry'] = road_df['geometry'].apply(json.loads).apply(lambda d: shape(d.get('geometry')))\n",
    "road_gdf = gpd.GeoDataFrame(road_df, crs=4326)"
   ]
  },
  {
   "cell_type": "code",
   "execution_count": 7,
   "metadata": {},
   "outputs": [],
   "source": [
    "dataset = Maxar('/mnt/data2/vaschetti_data/maxar/Gambia-flooding-8-11-2022/pre/10300100CFC9A500/033133031213.tif')\n",
    "sample_size = 600\n",
    "sampler = MyGridGeoSampler(dataset, size=sample_size, stride=600)\n",
    "dataloader = DataLoader(dataset, sampler=sampler, collate_fn=stack_samples)\n",
    "data_crs = dataset.crs\n",
    "road_gdf_32628 = road_gdf.to_crs(data_crs)"
   ]
  },
  {
   "cell_type": "code",
   "execution_count": 9,
   "metadata": {},
   "outputs": [],
   "source": [
    "sys.path.append('/home/vaschetti/maxarSrc/creating_labels/models/EfficientSAM')\n",
    "from efficient_sam.efficient_sam import build_efficient_sam\n",
    "from PIL import Image\n",
    "from torchvision import transforms\n",
    "import torch\n",
    "import numpy as np\n",
    "import matplotlib.pyplot as plt"
   ]
  },
  {
   "cell_type": "code",
   "execution_count": 11,
   "metadata": {},
   "outputs": [
    {
     "data": {
      "text/plain": [
       "Sam(\n",
       "  (image_encoder): ImageEncoderViT(\n",
       "    (patch_embed): PatchEmbed(\n",
       "      (proj): Conv2d(3, 192, kernel_size=(16, 16), stride=(16, 16))\n",
       "    )\n",
       "    (blocks): ModuleList(\n",
       "      (0-11): 12 x Block(\n",
       "        (norm1): LayerNorm((192,), eps=1e-05, elementwise_affine=True)\n",
       "        (attn): Attention(\n",
       "          (qkv): Linear(in_features=192, out_features=576, bias=True)\n",
       "          (proj): Linear(in_features=192, out_features=192, bias=True)\n",
       "        )\n",
       "        (norm2): LayerNorm((192,), eps=1e-05, elementwise_affine=True)\n",
       "        (mlp): Mlp(\n",
       "          (fc1): Linear(in_features=192, out_features=768, bias=True)\n",
       "          (act): GELU(approximate='none')\n",
       "          (fc2): Linear(in_features=768, out_features=192, bias=True)\n",
       "        )\n",
       "      )\n",
       "    )\n",
       "    (neck): Sequential(\n",
       "      (0): Conv2d(192, 256, kernel_size=(1, 1), stride=(1, 1), bias=False)\n",
       "      (1): LayerNorm2d()\n",
       "      (2): Conv2d(256, 256, kernel_size=(3, 3), stride=(1, 1), padding=(1, 1), bias=False)\n",
       "      (3): LayerNorm2d()\n",
       "    )\n",
       "  )\n",
       "  (prompt_encoder): PromptEncoder(\n",
       "    (pe_layer): PositionEmbeddingRandom()\n",
       "    (invalid_points): Embedding(1, 256)\n",
       "    (point_embeddings): Embedding(1, 256)\n",
       "    (bbox_top_left_embeddings): Embedding(1, 256)\n",
       "    (bbox_bottom_right_embeddings): Embedding(1, 256)\n",
       "  )\n",
       "  (mask_decoder): MaskDecoder(\n",
       "    (transformer): TwoWayTransformer(\n",
       "      (layers): ModuleList(\n",
       "        (0-1): 2 x TwoWayAttentionBlock(\n",
       "          (self_attn): AttentionForTwoWayAttentionBlock(\n",
       "            (q_proj): Linear(in_features=256, out_features=256, bias=True)\n",
       "            (k_proj): Linear(in_features=256, out_features=256, bias=True)\n",
       "            (v_proj): Linear(in_features=256, out_features=256, bias=True)\n",
       "            (out_proj): Linear(in_features=256, out_features=256, bias=True)\n",
       "          )\n",
       "          (norm1): LayerNorm((256,), eps=1e-05, elementwise_affine=True)\n",
       "          (cross_attn_token_to_image): AttentionForTwoWayAttentionBlock(\n",
       "            (q_proj): Linear(in_features=256, out_features=128, bias=True)\n",
       "            (k_proj): Linear(in_features=256, out_features=128, bias=True)\n",
       "            (v_proj): Linear(in_features=256, out_features=128, bias=True)\n",
       "            (out_proj): Linear(in_features=128, out_features=256, bias=True)\n",
       "          )\n",
       "          (norm2): LayerNorm((256,), eps=1e-05, elementwise_affine=True)\n",
       "          (mlp): MLPBlock(\n",
       "            (layers): ModuleList(\n",
       "              (0): Sequential(\n",
       "                (0): Linear(in_features=256, out_features=2048, bias=True)\n",
       "                (1): GELU(approximate='none')\n",
       "              )\n",
       "            )\n",
       "            (fc): Linear(in_features=2048, out_features=256, bias=True)\n",
       "          )\n",
       "          (norm3): LayerNorm((256,), eps=1e-05, elementwise_affine=True)\n",
       "          (norm4): LayerNorm((256,), eps=1e-05, elementwise_affine=True)\n",
       "          (cross_attn_image_to_token): AttentionForTwoWayAttentionBlock(\n",
       "            (q_proj): Linear(in_features=256, out_features=128, bias=True)\n",
       "            (k_proj): Linear(in_features=256, out_features=128, bias=True)\n",
       "            (v_proj): Linear(in_features=256, out_features=128, bias=True)\n",
       "            (out_proj): Linear(in_features=128, out_features=256, bias=True)\n",
       "          )\n",
       "        )\n",
       "      )\n",
       "      (final_attn_token_to_image): AttentionForTwoWayAttentionBlock(\n",
       "        (q_proj): Linear(in_features=256, out_features=128, bias=True)\n",
       "        (k_proj): Linear(in_features=256, out_features=128, bias=True)\n",
       "        (v_proj): Linear(in_features=256, out_features=128, bias=True)\n",
       "        (out_proj): Linear(in_features=128, out_features=256, bias=True)\n",
       "      )\n",
       "      (norm_final_attn): LayerNorm((256,), eps=1e-05, elementwise_affine=True)\n",
       "    )\n",
       "    (iou_token): Embedding(1, 256)\n",
       "    (mask_tokens): Embedding(4, 256)\n",
       "    (final_output_upscaling_layers): ModuleList(\n",
       "      (0): Sequential(\n",
       "        (0): ConvTranspose2d(256, 64, kernel_size=(2, 2), stride=(2, 2))\n",
       "        (1): GroupNorm(1, 64, eps=1e-05, affine=True)\n",
       "        (2): GELU(approximate='none')\n",
       "      )\n",
       "      (1): Sequential(\n",
       "        (0): ConvTranspose2d(64, 32, kernel_size=(2, 2), stride=(2, 2))\n",
       "        (1): Identity()\n",
       "        (2): GELU(approximate='none')\n",
       "      )\n",
       "    )\n",
       "    (output_hypernetworks_mlps): ModuleList(\n",
       "      (0-3): 4 x MLPBlock(\n",
       "        (layers): ModuleList(\n",
       "          (0-1): 2 x Sequential(\n",
       "            (0): Linear(in_features=256, out_features=256, bias=True)\n",
       "            (1): GELU(approximate='none')\n",
       "          )\n",
       "        )\n",
       "        (fc): Linear(in_features=256, out_features=32, bias=True)\n",
       "      )\n",
       "    )\n",
       "    (iou_prediction_head): MLPBlock(\n",
       "      (layers): ModuleList(\n",
       "        (0-1): 2 x Sequential(\n",
       "          (0): Linear(in_features=256, out_features=256, bias=True)\n",
       "          (1): GELU(approximate='none')\n",
       "        )\n",
       "      )\n",
       "      (fc): Linear(in_features=256, out_features=4, bias=True)\n",
       "    )\n",
       "  )\n",
       ")"
      ]
     },
     "execution_count": 11,
     "metadata": {},
     "output_type": "execute_result"
    }
   ],
   "source": [
    "# Build the model.\n",
    "device = 'cpu'\n",
    "ESAM_root = '/home/vaschetti/maxarSrc/creating_labels/models/EfficientSAM'\n",
    "efficient_sam = build_efficient_sam(os.path.join(ESAM_root, 'weights/efficient_sam_vitt.pth'), device=device)\n",
    "efficient_sam.eval()"
   ]
  },
  {
   "cell_type": "code",
   "execution_count": 15,
   "metadata": {},
   "outputs": [
    {
     "name": "stdout",
     "output_type": "stream",
     "text": [
      "In sampler\n",
      "tile_polygon:  POLYGON ((320156.25 1489843.75, 315455.322265625 1489843.75, 315470.63516642543 1492342.8892077415, 320156.25 1491748.5059546148, 320156.25 1489843.75))\n"
     ]
    }
   ],
   "source": [
    "from road_seg_utils import segment_roads\n",
    "dataset_res = dataset.res\n",
    "\n",
    "road_point_dist = 40 #50\n",
    "bg_point_dist = 40 #80\n",
    "offset_distance = 25 #30\n",
    "\n",
    "rnd_ix = np.random.randint(0, 50) #pick a rnd image\n",
    "i = 0\n",
    "for batch in dataloader:\n",
    "    query_bbox_poly = boundingBox_2_Polygon(batch['bbox'][0])\n",
    "    hits = road_gdf_32628.geometry.intersects(query_bbox_poly)\n",
    "    queried_road_gdf_36628 = road_gdf_32628[hits]\n",
    "    \n",
    "    if len(queried_road_gdf_36628) > 2: #20\n",
    "        i+=1\n",
    "        if i == rnd_ix:\n",
    "            sample = unbind_samples(batch)[0]\n",
    "            img4Sam = sample[\"image\"].permute(1, 2, 0).numpy().astype('uint8')\n",
    "            \n",
    "            road_lines = rel_road_lines(queried_road_gdf_36628, query_bbox_poly, dataset_res)\n",
    "            #print(len(road_lines))\n",
    "\n",
    "            #final_mask, final_pt_coords4Sam, final_labels4Sam = segment_roads(predictor, img4Sam, road_lines,\n",
    "            #                                                                  sample_size,\n",
    "            #                                                                  road_point_dist = road_point_dist,\n",
    "            #                                                                  bg_point_dist = bg_point_dist,\n",
    "            #                                                                  offset_distance = offset_distance,\n",
    "            #                                                                  do_clean_mask=True)\n",
    "            \n",
    "            \"\"\"plt.figure(figsize=(10,10))\n",
    "            plt.imshow(img4Sam)\n",
    "            show_mask(final_mask, plt.gca())\n",
    "            show_points(final_pt_coords4Sam, final_labels4Sam, plt.gca())\n",
    "            plotLinestrings(road_lines, plt.gca(), color = 'b') #plt road\n",
    "            plt.axis('off')\n",
    "            plt.gca().set_xlim([0, sample_size])\n",
    "            plt.gca().set_ylim([sample_size, 0])\n",
    "            plt.show()\"\"\"\n",
    "            break\n"
   ]
  },
  {
   "cell_type": "code",
   "execution_count": 16,
   "metadata": {},
   "outputs": [],
   "source": [
    "sample_image_np = img4Sam\n",
    "sample_image_tensor = transforms.ToTensor()(sample_image_np)\n",
    "sample_image_tensor = sample_image_tensor.to(device)"
   ]
  },
  {
   "cell_type": "code",
   "execution_count": 17,
   "metadata": {},
   "outputs": [],
   "source": [
    "from road_seg_utils import rel_road_lines, line2points, get_offset_lines, clear_roads, plotLinestrings, plotPoints, rmv_pts_out_img"
   ]
  },
  {
   "cell_type": "code",
   "execution_count": 61,
   "metadata": {},
   "outputs": [
    {
     "name": "stdout",
     "output_type": "stream",
     "text": [
      "13\n",
      "9\n"
     ]
    }
   ],
   "source": [
    "road_input_points = []\n",
    "bg_input_points = []\n",
    "\n",
    "positive_input_labels = []\n",
    "negative_input_labels = []\n",
    "\n",
    "all_input_points = []\n",
    "all_input_labels = []\n",
    "\n",
    "print(len(road_lines))\n",
    "max = 0\n",
    "for road in road_lines:\n",
    "    road_pts = line2points(road, road_point_dist) #turn the road into a list of shapely points\n",
    "    np_roads_pts = np.array([list(pt.coords)[0] for pt in road_pts]) #turn the shapely points into a numpy array\n",
    "    np_roads_pts = rmv_pts_out_img(np_roads_pts, sample_size) #remove road points outside the image\n",
    "    if len(np_roads_pts) > max:\n",
    "        max = len(np_roads_pts)\n",
    "\n",
    "    all_input_points.append(np_roads_pts.tolist())\n",
    "    all_input_labels.append([1]*(np_roads_pts.shape[0]))\n",
    "    \n",
    "    np_road_labels = np.array([1]*np_roads_pts.shape[0])\n",
    "    \n",
    "    bg_lines = get_offset_lines(road, offset_distance) #create two offset lines from the road\n",
    "    bg_pts = line2points(bg_lines, bg_point_dist) #turn the offset lines into a list of shapely points\n",
    "    bg_pts = clear_roads(road_lines, bg_pts, offset_distance - 4) #remove bg points that may be on other roads\n",
    "    np_bg_pts = np.array([list(pt.coords)[0] for pt in bg_pts])\n",
    "    np_bg_pts = rmv_pts_out_img(np_bg_pts, sample_size)\n",
    "    \n",
    "    all_input_points.append(np_bg_pts.tolist())\n",
    "    all_input_labels.append([0]*(np_bg_pts.shape[0]))\n",
    "\n",
    "    np_bg_labels = np.array([0]*np_bg_pts.shape[0])\n",
    "    \n",
    "    if len(np_bg_labels) == 0 or len(np_road_labels) < 2: #if there are no bg_points or 0 or 1 road points skip the road\n",
    "        continue\n",
    "\n",
    "print(max)"
   ]
  },
  {
   "cell_type": "code",
   "execution_count": 63,
   "metadata": {},
   "outputs": [
    {
     "data": {
      "text/plain": [
       "26"
      ]
     },
     "execution_count": 63,
     "metadata": {},
     "output_type": "execute_result"
    }
   ],
   "source": [
    "len(all_input_points)"
   ]
  },
  {
   "cell_type": "code",
   "execution_count": 58,
   "metadata": {},
   "outputs": [
    {
     "data": {
      "text/plain": [
       "[[[480.60842210922243, 308.7360828163147],\n",
       "  [442.0065560801419, 319.21920921414653],\n",
       "  [403.4046900510614, 329.7023356119783],\n",
       "  [364.8028240219808, 340.1854620098101],\n",
       "  [326.20095799290027, 350.66858840764195],\n",
       "  [287.5990919638198, 361.1517148054737]],\n",
       " [[377.9890218464307, 12.86829488065083],\n",
       "  [391.0966683651789, 50.65969076304116],\n",
       "  [404.20431488392705, 88.45108664543147],\n",
       "  [417.31196140267525, 126.24248252782183],\n",
       "  [430.41960792142345, 164.03387841021214],\n",
       "  [443.52725444017165, 201.82527429260247],\n",
       "  [456.63490095891984, 239.6166701749928],\n",
       "  [469.74254747766804, 277.40806605738317]],\n",
       " [[290.0636716082985, 3.401997588706145],\n",
       "  [252.65481974860643, 17.56454688392897],\n",
       "  [215.2459678889144, 31.727096179151793],\n",
       "  [177.8371160292224, 45.889645474374625]]]"
      ]
     },
     "execution_count": 58,
     "metadata": {},
     "output_type": "execute_result"
    }
   ],
   "source": [
    "road_input_points[:3]"
   ]
  },
  {
   "cell_type": "code",
   "execution_count": 38,
   "metadata": {},
   "outputs": [],
   "source": [
    "#for list_road_pt in road_input_points:\n",
    "#    list_road_pt.extend([[-1,-1]]*(max - len(list_road_pt)))"
   ]
  },
  {
   "cell_type": "code",
   "execution_count": 53,
   "metadata": {},
   "outputs": [
    {
     "data": {
      "text/plain": [
       "[[1, 1, 1, 1, 1, 1],\n",
       " [1, 1, 1, 1, 1, 1, 1, 1],\n",
       " [1, 1, 1, 1],\n",
       " [1, 1, 1],\n",
       " [1, 1, 1, 1, 1, 1],\n",
       " [1],\n",
       " [1, 1, 1, 1],\n",
       " [1, 1, 1, 1, 1, 1, 1],\n",
       " [1, 1, 1, 1, 1, 1, 1, 1, 1],\n",
       " [1, 1, 1],\n",
       " [1],\n",
       " [],\n",
       " [1, 1, 1, 1, 1, 1, 1, 1]]"
      ]
     },
     "execution_count": 53,
     "metadata": {},
     "output_type": "execute_result"
    }
   ],
   "source": [
    "positive_input_labels"
   ]
  },
  {
   "cell_type": "code",
   "execution_count": 59,
   "metadata": {},
   "outputs": [
    {
     "data": {
      "text/plain": [
       "[[[332.75291199154515, 374.7947546758173],\n",
       "  [358.25087002333595, 316.0592957416348],\n",
       "  [281.0471379651749, 337.0255485372984],\n",
       "  [409.95664404970626, 353.8285018801536],\n",
       "  [396.8527360524165, 305.576169343803],\n",
       "  [294.15104596246465, 385.27788107364904],\n",
       "  [319.6490039942554, 326.5424221394666],\n",
       "  [448.55851007878675, 343.34537548232186],\n",
       "  [435.454602081497, 295.0930429459712],\n",
       "  [371.3547780206257, 364.31162827798545]],\n",
       " [[493.362169904162, 269.2157869831656],\n",
       "  [467.1468768666656, 193.63299521838485],\n",
       "  [393.6923389761813, 134.43476160203943],\n",
       "  [454.0392303479174, 155.84159933599452],\n",
       "  [380.5846924574331, 96.6433657196491],\n",
       "  [401.60864427292466, 4.676015806433213],\n",
       "  [427.823937310421, 80.25880757121386],\n",
       "  [414.71629079167286, 42.467411688823546],\n",
       "  [367.47704593868497, 58.85196983725878],\n",
       "  [433.0152785324259, 247.8089492492104],\n",
       "  [419.9076320136777, 210.0175533668201],\n",
       "  [354.36939941993677, 21.060573954868445],\n",
       "  [406.7999854949295, 172.22615748442973],\n",
       "  [480.2545233854138, 231.42439110077518],\n",
       "  [440.9315838291692, 118.05020345360421],\n",
       "  [446.1229250511741, 285.60034513160076]],\n",
       " [[261.5064130581207, 40.945079296236486],\n",
       "  [224.09756119842868, 55.10762859145931],\n",
       "  [186.68870933873666, 69.27017788668215],\n",
       "  [336.32411677750474, 12.619980705790837],\n",
       "  [206.39437457940014, 8.346563766844277],\n",
       "  [298.91526491781275, 26.78253000101366],\n",
       "  [168.98552271970811, 22.509113062067108]],\n",
       " [[468.6911857405678, 572.1205508940469],\n",
       "  [546.8949680338895, 555.2632546986682],\n",
       "  [507.79307688722866, 563.6919027963576],\n",
       "  [390.487403447246, 588.9778470894257],\n",
       "  [429.58929459390686, 580.5491989917364]],\n",
       " [[277.967811151467, 480.3051638171338],\n",
       "  [264.1623634333175, 442.76305927701196],\n",
       "  [250.3569157151681, 405.22095473689],\n",
       "  [366.3117849810677, 575.6746677898127],\n",
       "  [352.50633726291824, 538.1325632496909],\n",
       "  [297.2845463903205, 387.96414508920316],\n",
       "  [311.0899941084699, 425.5062496293251],\n",
       "  [305.57870658776585, 555.3893728973777],\n",
       "  [338.7008895447688, 500.5904587095689],\n",
       "  [324.8954418266194, 463.04835416944695],\n",
       "  [319.38415430591533, 592.9314774374996],\n",
       "  [291.7732588696164, 517.8472683572558]],\n",
       " [],\n",
       " [[39.926577802324005, 74.07044181374154],\n",
       "  [2.8285612083549836, 89.02828807560694],\n",
       "  [114.12261099026202, 44.15474929001073],\n",
       "  [58.623885629655774, 120.44296255620277],\n",
       "  [132.8199188175938, 90.52727003247196],\n",
       "  [77.024594396293, 59.11259555187614],\n",
       "  [21.525869035686753, 135.40080881806819],\n",
       "  [95.72190222362477, 105.48511629433737]],\n",
       " [[0.22985964622023403, 502.08533936669676],\n",
       "  [222.44257853567126, 411.41281009924],\n",
       "  [148.37167223918755, 441.63698652172553],\n",
       "  [111.33621909094575, 456.7490747329684],\n",
       "  [18.375202530408615, 440.67893472015163],\n",
       "  [55.410655678650414, 425.56684650890884],\n",
       "  [92.44610882689233, 410.45475829766605],\n",
       "  [74.30076594270383, 471.8611629442112],\n",
       "  [37.265312794462034, 486.97325115545397],\n",
       "  [185.40712538742935, 426.5248983104828],\n",
       "  [203.55246827161784, 365.11849366393767],\n",
       "  [129.48156197513413, 395.3426700864232],\n",
       "  [166.51701512337593, 380.23058187518046]],\n",
       " [[210.65790679015763, 288.75931143442085],\n",
       "  [207.71323500044588, 121.1546309864964],\n",
       "  [232.91289765880916, 197.08207662972012],\n",
       "  [245.5127289879908, 235.04579945133196],\n",
       "  [185.45824413179434, 212.83186579119717],\n",
       "  [172.8584128026127, 174.8681429695853],\n",
       "  [198.05807546097597, 250.795588612809],\n",
       "  [258.11256031717244, 273.0095222729438],\n",
       "  [195.11340367126422, 83.19090816488455],\n",
       "  [147.65875014424938, 98.94069732636162],\n",
       "  [223.25773811933928, 326.72303425603275],\n",
       "  [270.7123916463541, 310.9732450945557],\n",
       "  [220.31306632962753, 159.11835380810825],\n",
       "  [160.25858147343104, 136.90442014797347]],\n",
       " [[564.1572363083487, 308.97422359948604],\n",
       "  [525.9559734189047, 320.8343885920819],\n",
       "  [587.5332929570477, 249.36247999508524],\n",
       "  [511.13076717815994, 273.08280998027703],\n",
       "  [549.3320300676039, 261.2226449876811]],\n",
       " [[580.6141395145175, 63.859947988097005],\n",
       "  [593.7007628383768, 101.65862904947029],\n",
       "  [567.5275161906583, 26.06126692672366]],\n",
       " [],\n",
       " [[531.5831988649851, 375.2685721331902],\n",
       "  [545.332209014674, 412.8313824634058],\n",
       "  [586.5792394637409, 525.5198134540526],\n",
       "  [525.8767164012825, 505.1432658109482],\n",
       "  [470.88067580252664, 354.89202449008593],\n",
       "  [517.8341887152961, 337.7057618029747],\n",
       "  [498.3786961019046, 430.01764515051707],\n",
       "  [512.1277062515935, 467.58045548073267],\n",
       "  [572.830229314052, 487.957003123837],\n",
       "  [539.6257265509715, 542.7060761411637],\n",
       "  [559.081219164363, 450.3941927936214],\n",
       "  [484.6296859522156, 392.45483482030147]]]"
      ]
     },
     "execution_count": 59,
     "metadata": {},
     "output_type": "execute_result"
    }
   ],
   "source": [
    "bg_input_points"
   ]
  },
  {
   "cell_type": "code",
   "execution_count": 60,
   "metadata": {},
   "outputs": [
    {
     "data": {
      "text/plain": [
       "[[0, 0, 0, 0, 0, 0, 0, 0, 0, 0],\n",
       " [0, 0, 0, 0, 0, 0, 0, 0, 0, 0, 0, 0, 0, 0, 0, 0],\n",
       " [0, 0, 0, 0, 0, 0, 0],\n",
       " [0, 0, 0, 0, 0],\n",
       " [0, 0, 0, 0, 0, 0, 0, 0, 0, 0, 0, 0],\n",
       " [],\n",
       " [0, 0, 0, 0, 0, 0, 0, 0],\n",
       " [0, 0, 0, 0, 0, 0, 0, 0, 0, 0, 0, 0, 0],\n",
       " [0, 0, 0, 0, 0, 0, 0, 0, 0, 0, 0, 0, 0, 0],\n",
       " [0, 0, 0, 0, 0],\n",
       " [0, 0, 0],\n",
       " [],\n",
       " [0, 0, 0, 0, 0, 0, 0, 0, 0, 0, 0, 0]]"
      ]
     },
     "execution_count": 60,
     "metadata": {},
     "output_type": "execute_result"
    }
   ],
   "source": [
    "negative_input_labels"
   ]
  },
  {
   "cell_type": "code",
   "execution_count": 46,
   "metadata": {},
   "outputs": [
    {
     "name": "stdout",
     "output_type": "stream",
     "text": [
      "13 \n",
      "\n",
      "6\n",
      "8\n",
      "4\n",
      "3\n",
      "6\n",
      "1\n",
      "4\n",
      "7\n",
      "9\n",
      "3\n",
      "1\n",
      "0\n",
      "8\n"
     ]
    }
   ],
   "source": [
    "print(len(road_input_points), '\\n')\n",
    "for road in road_input_points:\n",
    "    print(len(road))\n",
    "    positive_input_labels"
   ]
  },
  {
   "cell_type": "code",
   "execution_count": null,
   "metadata": {},
   "outputs": [],
   "source": [
    "E_SAM_inpu_pts = #positive + negative points"
   ]
  },
  {
   "cell_type": "code",
   "execution_count": 48,
   "metadata": {},
   "outputs": [
    {
     "data": {
      "text/plain": [
       "[[[480.60842210922243, 308.7360828163147],\n",
       "  [442.0065560801419, 319.21920921414653],\n",
       "  [403.4046900510614, 329.7023356119783],\n",
       "  [364.8028240219808, 340.1854620098101],\n",
       "  [326.20095799290027, 350.66858840764195],\n",
       "  [287.5990919638198, 361.1517148054737]],\n",
       " [[377.9890218464307, 12.86829488065083],\n",
       "  [391.0966683651789, 50.65969076304116],\n",
       "  [404.20431488392705, 88.45108664543147],\n",
       "  [417.31196140267525, 126.24248252782183],\n",
       "  [430.41960792142345, 164.03387841021214],\n",
       "  [443.52725444017165, 201.82527429260247],\n",
       "  [456.63490095891984, 239.6166701749928],\n",
       "  [469.74254747766804, 277.40806605738317]],\n",
       " [[290.0636716082985, 3.401997588706145],\n",
       "  [252.65481974860643, 17.56454688392897],\n",
       "  [215.2459678889144, 31.727096179151793],\n",
       "  [177.8371160292224, 45.889645474374625]],\n",
       " [[473.95909080162363, 596.5592328607099],\n",
       "  [513.0609819482845, 588.1305847630206],\n",
       "  [552.1628730949454, 579.7019366653312]],\n",
       " [[342.8479696434915, 584.3030726136561],\n",
       "  [329.04252192534204, 546.7609680735343],\n",
       "  [315.2370742071926, 509.21886353341233],\n",
       "  [301.4316264890432, 471.6767589932904],\n",
       "  [287.6261787708937, 434.13465445316854],\n",
       "  [273.8207310527443, 396.5925499130466]],\n",
       " [[583.654928566089, 593.1274513873134]],\n",
       " [[12.177215122020868, 112.21454844683755],\n",
       "  [49.27523171598989, 97.25670218497216],\n",
       "  [86.37324830995888, 82.29885592310676],\n",
       "  [123.4712649039279, 67.34100966124134]],\n",
       " [[27.820257662435324, 463.8260929378028],\n",
       "  [64.85571081067712, 448.71400472656],\n",
       "  [101.89116395891904, 433.6019165153172],\n",
       "  [138.92661710716084, 418.48982830407436],\n",
       "  [175.96207025540264, 403.37774009283163],\n",
       "  [212.99752340364455, 388.26565188158884],\n",
       "  [250.03297655188635, 373.153563670346]],\n",
       " [[158.78624557857515, 53.10207992401123],\n",
       "  [171.3860769077568, 91.06580274562307],\n",
       "  [183.98590823693846, 129.02952556723494],\n",
       "  [196.58573956612008, 166.99324838884678],\n",
       "  [209.18557089530174, 204.95697121045865],\n",
       "  [221.7854022244834, 242.9206940320705],\n",
       "  [234.38523355366505, 280.8844168536823],\n",
       "  [246.9850648828467, 318.8481396752942],\n",
       "  [259.58489621202835, 356.81186249690603]],\n",
       " [[594.9458960774201, 273.23826930098767],\n",
       "  [556.7446331879762, 285.0984342935836],\n",
       "  [518.5433702985324, 296.95859928617944]],\n",
       " [[591.1516918540166, 17.882127349311602]],\n",
       " [],\n",
       " [[480.60842210922243, 308.7360828163147],\n",
       "  [494.3574322589114, 346.2988931465303],\n",
       "  [508.10644240860034, 383.86170347674584],\n",
       "  [521.8554525582894, 421.42451380696144],\n",
       "  [535.6044627079783, 458.987324137177],\n",
       "  [549.3534728576673, 496.5501344673926],\n",
       "  [563.1024830073562, 534.1129447976082],\n",
       "  [576.8514931570452, 571.6757551278238]]]"
      ]
     },
     "execution_count": 48,
     "metadata": {},
     "output_type": "execute_result"
    }
   ],
   "source": [
    "positive_pt = road_input_points\n",
    "positive_pt"
   ]
  },
  {
   "cell_type": "code",
   "execution_count": 43,
   "metadata": {},
   "outputs": [
    {
     "data": {
      "text/plain": [
       "(13,)"
      ]
     },
     "execution_count": 43,
     "metadata": {},
     "output_type": "execute_result"
    }
   ],
   "source": [
    "positive_labels = np.array([1]*positive_pt.shape[0])\n",
    "positive_labels.shape"
   ]
  },
  {
   "cell_type": "code",
   "execution_count": 18,
   "metadata": {},
   "outputs": [],
   "source": [
    "def segment_roads(predictor, img4Sam, road_lines, sample_size, road_point_dist = 50, bg_point_dist = 80, offset_distance = 50, do_clean_mask = True):\n",
    "    \n",
    "    #initialize an empty mask\n",
    "    final_mask = np.full((sample_size, sample_size), False)\n",
    "    \n",
    "    final_pt_coords4Sam = []\n",
    "    final_labels4Sam = []\n",
    "    \n",
    "    for road in road_lines:\n",
    "        road_pts = line2points(road, road_point_dist) #turn the road into a list of shapely points\n",
    "        np_roads_pts = np.array([list(pt.coords)[0] for pt in road_pts]) #turn the shapely points into a numpy array\n",
    "        np_roads_pts = rmv_pts_out_img(np_roads_pts, sample_size) #remove road points outside the image\n",
    "        np_road_labels = np.array([1]*np_roads_pts.shape[0])\n",
    "        \n",
    "        bg_lines = get_offset_lines(road, offset_distance) #create two offset lines from the road\n",
    "        bg_pts = line2points(bg_lines, bg_point_dist) #turn the offset lines into a list of shapely points\n",
    "        bg_pts = clear_roads(road_lines, bg_pts, offset_distance - 4) #remove bg points that may be on other roads\n",
    "        np_bg_pts = np.array([list(pt.coords)[0] for pt in bg_pts])\n",
    "        np_bg_pts = rmv_pts_out_img(np_bg_pts, sample_size)\n",
    "        np_bg_labels = np.array([0]*np_bg_pts.shape[0])\n",
    "\n",
    "        if len(np_bg_labels) == 0 or len(np_road_labels) < 2: #if there are no bg_points or 0 or 1 road points skip the road\n",
    "            continue\n",
    "\n",
    "        pt_coords4Sam = np.concatenate((np_roads_pts, np_bg_pts))\n",
    "        labels4Sam = np.concatenate((np_road_labels, np_bg_labels))\n",
    "\n",
    "        final_pt_coords4Sam.extend(pt_coords4Sam.tolist())\n",
    "        final_labels4Sam.extend(labels4Sam.tolist())\n",
    "\n",
    "        mask, _, _ = predictor.predict(\n",
    "                point_coords=pt_coords4Sam,\n",
    "                point_labels=labels4Sam,\n",
    "                multimask_output=False,\n",
    "            )\n",
    "        final_mask = np.logical_or(final_mask, mask[0])\n",
    "\n",
    "    if do_clean_mask:\n",
    "        final_mask = clean_mask(road_lines, final_mask, offset_distance - 10) #TODO: eventualmente aggiungere un parametro per l'additional_cleaning       \n",
    "    \n",
    "    return final_mask[np.newaxis, :], np.array(final_pt_coords4Sam), np.array(final_labels4Sam)"
   ]
  }
 ],
 "metadata": {
  "kernelspec": {
   "display_name": "maxarSrc",
   "language": "python",
   "name": "maxarsrc"
  },
  "language_info": {
   "codemirror_mode": {
    "name": "ipython",
    "version": 3
   },
   "file_extension": ".py",
   "mimetype": "text/x-python",
   "name": "python",
   "nbconvert_exporter": "python",
   "pygments_lexer": "ipython3",
   "version": "3.10.13"
  }
 },
 "nbformat": 4,
 "nbformat_minor": 2
}

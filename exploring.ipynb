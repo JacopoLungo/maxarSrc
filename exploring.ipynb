{
 "cells": [
  {
   "cell_type": "code",
   "execution_count": 1,
   "metadata": {},
   "outputs": [],
   "source": [
    "import leafmap"
   ]
  },
  {
   "cell_type": "code",
   "execution_count": 2,
   "metadata": {},
   "outputs": [
    {
     "data": {
      "text/plain": [
       "['BayofBengal-Cyclone-Mocha-May-23',\n",
       " 'Emilia-Romagna-Italy-flooding-may23',\n",
       " 'Gambia-flooding-8-11-2022',\n",
       " 'Hurricane-Fiona-9-19-2022',\n",
       " 'Hurricane-Ian-9-26-2022']"
      ]
     },
     "execution_count": 2,
     "metadata": {},
     "output_type": "execute_result"
    }
   ],
   "source": [
    "parent_collections = leafmap.maxar_collections()\n",
    "parent_collections[:5]"
   ]
  },
  {
   "cell_type": "code",
   "execution_count": 3,
   "metadata": {},
   "outputs": [
    {
     "name": "stdout",
     "output_type": "stream",
     "text": [
      "The number of child collections: 5\n",
      "The first child collection: 10300100E6747500\n"
     ]
    }
   ],
   "source": [
    "collection_id = \"BayofBengal-Cyclone-Mocha-May-23\"\n",
    "BayofBengal_collection = leafmap.maxar_child_collections(collection_id)\n",
    "print(f\"The number of child collections: {len(BayofBengal_collection)}\")\n",
    "print(f\"The first child collection: {BayofBengal_collection[0]}\")"
   ]
  },
  {
   "cell_type": "code",
   "execution_count": 21,
   "metadata": {},
   "outputs": [
    {
     "data": {
      "text/plain": [
       "['10300100E6747500',\n",
       " '10300110E84B5A00',\n",
       " '104001007EBB7C00',\n",
       " '104001008216D000',\n",
       " '1040010082988200']"
      ]
     },
     "execution_count": 21,
     "metadata": {},
     "output_type": "execute_result"
    }
   ],
   "source": [
    "BayofBengal_collection"
   ]
  },
  {
   "cell_type": "code",
   "execution_count": 5,
   "metadata": {},
   "outputs": [
    {
     "data": {
      "text/plain": [
       "36"
      ]
     },
     "execution_count": 5,
     "metadata": {},
     "output_type": "execute_result"
    }
   ],
   "source": [
    "gdf = leafmap.maxar_items(\n",
    "    collection_id = collection_id,\n",
    "    child_id=BayofBengal_collection[0],\n",
    "    return_gdf=True,\n",
    "    assets=['visual'],\n",
    ")\n",
    "len(gdf)"
   ]
  },
  {
   "cell_type": "code",
   "execution_count": 12,
   "metadata": {},
   "outputs": [
    {
     "data": {
      "application/vnd.jupyter.widget-view+json": {
       "model_id": "5cd7a75a45f6449db6b657cfa31bdb8d",
       "version_major": 2,
       "version_minor": 0
      },
      "text/plain": [
       "Map(center=[20, 0], controls=(ZoomControl(options=['position', 'zoom_in_text', 'zoom_in_title', 'zoom_out_text…"
      ]
     },
     "execution_count": 12,
     "metadata": {},
     "output_type": "execute_result"
    }
   ],
   "source": [
    "m = leafmap.Map()\n",
    "m.add_gdf(gdf, layer_name=\"Footprints\")\n",
    "m"
   ]
  },
  {
   "cell_type": "code",
   "execution_count": 9,
   "metadata": {},
   "outputs": [
    {
     "data": {
      "text/plain": [
       "['https://maxar-opendata.s3.amazonaws.com/events/BayofBengal-Cyclone-Mocha-May-23/ard/46/033111330333/2023-05-22/10300100E6747500-visual.tif',\n",
       " 'https://maxar-opendata.s3.amazonaws.com/events/BayofBengal-Cyclone-Mocha-May-23/ard/46/033111331222/2023-05-22/10300100E6747500-visual.tif',\n",
       " 'https://maxar-opendata.s3.amazonaws.com/events/BayofBengal-Cyclone-Mocha-May-23/ard/46/033111331223/2023-05-22/10300100E6747500-visual.tif',\n",
       " 'https://maxar-opendata.s3.amazonaws.com/events/BayofBengal-Cyclone-Mocha-May-23/ard/46/033111331232/2023-05-22/10300100E6747500-visual.tif',\n",
       " 'https://maxar-opendata.s3.amazonaws.com/events/BayofBengal-Cyclone-Mocha-May-23/ard/46/033111332111/2023-05-22/10300100E6747500-visual.tif']"
      ]
     },
     "execution_count": 9,
     "metadata": {},
     "output_type": "execute_result"
    }
   ],
   "source": [
    "images = gdf['visual'].tolist()\n",
    "images[:5]"
   ]
  },
  {
   "cell_type": "code",
   "execution_count": 20,
   "metadata": {},
   "outputs": [
    {
     "name": "stdout",
     "output_type": "stream",
     "text": [
      "Downloading 1 out of 5: 10300100E6747500/033111330333.tif\n"
     ]
    },
    {
     "name": "stderr",
     "output_type": "stream",
     "text": [
      "Downloading...\n",
      "From: https://maxar-opendata.s3.amazonaws.com/events/BayofBengal-Cyclone-Mocha-May-23/ard/46/033111330333/2023-05-22/10300100E6747500-visual.tif\n",
      "To: /home/vaschetti/maxarTest/10300100E6747500/033111330333.tif\n",
      "100%|██████████| 15.8M/15.8M [00:02<00:00, 7.81MB/s]\n"
     ]
    },
    {
     "name": "stdout",
     "output_type": "stream",
     "text": [
      "Downloading 2 out of 5: 10300100E6747500/033111331222.tif\n"
     ]
    },
    {
     "name": "stderr",
     "output_type": "stream",
     "text": [
      "Downloading...\n",
      "From: https://maxar-opendata.s3.amazonaws.com/events/BayofBengal-Cyclone-Mocha-May-23/ard/46/033111331222/2023-05-22/10300100E6747500-visual.tif\n",
      "To: /home/vaschetti/maxarTest/10300100E6747500/033111331222.tif\n",
      "100%|██████████| 16.0M/16.0M [00:02<00:00, 7.53MB/s]\n"
     ]
    },
    {
     "name": "stdout",
     "output_type": "stream",
     "text": [
      "Downloading 3 out of 5: 10300100E6747500/033111331223.tif\n"
     ]
    },
    {
     "name": "stderr",
     "output_type": "stream",
     "text": [
      "Downloading...\n",
      "From: https://maxar-opendata.s3.amazonaws.com/events/BayofBengal-Cyclone-Mocha-May-23/ard/46/033111331223/2023-05-22/10300100E6747500-visual.tif\n",
      "To: /home/vaschetti/maxarTest/10300100E6747500/033111331223.tif\n",
      "100%|██████████| 15.2M/15.2M [00:02<00:00, 7.54MB/s]\n"
     ]
    },
    {
     "name": "stdout",
     "output_type": "stream",
     "text": [
      "Downloading 4 out of 5: 10300100E6747500/033111331232.tif\n"
     ]
    },
    {
     "name": "stderr",
     "output_type": "stream",
     "text": [
      "Downloading...\n",
      "From: https://maxar-opendata.s3.amazonaws.com/events/BayofBengal-Cyclone-Mocha-May-23/ard/46/033111331232/2023-05-22/10300100E6747500-visual.tif\n",
      "To: /home/vaschetti/maxarTest/10300100E6747500/033111331232.tif\n",
      "100%|██████████| 10.8M/10.8M [00:02<00:00, 5.35MB/s]\n"
     ]
    },
    {
     "name": "stdout",
     "output_type": "stream",
     "text": [
      "Downloading 5 out of 5: 10300100E6747500/033111332111.tif\n"
     ]
    },
    {
     "name": "stderr",
     "output_type": "stream",
     "text": [
      "Downloading...\n",
      "From: https://maxar-opendata.s3.amazonaws.com/events/BayofBengal-Cyclone-Mocha-May-23/ard/46/033111332111/2023-05-22/10300100E6747500-visual.tif\n",
      "To: /home/vaschetti/maxarTest/10300100E6747500/033111332111.tif\n",
      "100%|██████████| 58.1M/58.1M [00:04<00:00, 12.6MB/s]\n"
     ]
    }
   ],
   "source": [
    "leafmap.maxar_download(images[:5])"
   ]
  },
  {
   "cell_type": "code",
   "execution_count": 11,
   "metadata": {},
   "outputs": [
    {
     "data": {
      "application/vnd.jupyter.widget-view+json": {
       "model_id": "a6fdd4ec38ef43ca84315c0695c4fec9",
       "version_major": 2,
       "version_minor": 0
      },
      "text/plain": [
       "Map(center=[20, 0], controls=(ZoomControl(options=['position', 'zoom_in_text', 'zoom_in_title', 'zoom_out_text…"
      ]
     },
     "execution_count": 11,
     "metadata": {},
     "output_type": "execute_result"
    }
   ],
   "source": [
    "m = leafmap.Map()\n",
    "url = 'https://geospatial.glitch.me/1050050044DE7E00.json'\n",
    "m.add_stac_layer(url, name=\"Mosaic\")\n",
    "m.add_gdf(gdf, layer_name=\"Footprints\")\n",
    "m"
   ]
  }
 ],
 "metadata": {
  "kernelspec": {
   "display_name": ".venv",
   "language": "python",
   "name": "python3"
  },
  "language_info": {
   "codemirror_mode": {
    "name": "ipython",
    "version": 3
   },
   "file_extension": ".py",
   "mimetype": "text/x-python",
   "name": "python",
   "nbconvert_exporter": "python",
   "pygments_lexer": "ipython3",
   "version": "3.10.13"
  }
 },
 "nbformat": 4,
 "nbformat_minor": 2
}

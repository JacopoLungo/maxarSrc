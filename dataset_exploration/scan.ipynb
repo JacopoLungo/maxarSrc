{
 "cells": [
  {
   "cell_type": "markdown",
   "metadata": {},
   "source": [
    "Cella che conta il numero di immagini nel pre, nel post e totali"
   ]
  },
  {
   "cell_type": "code",
   "execution_count": 5,
   "metadata": {},
   "outputs": [
    {
     "name": "stdout",
     "output_type": "stream",
     "text": [
      "Pre:  654\n",
      "Post:  23\n",
      "Total:  677\n"
     ]
    }
   ],
   "source": [
    "import os\n",
    "tot_img_event_pre = 0\n",
    "tot_img_event_post = 0\n",
    "root = '/mnt/data2/vaschetti_data/maxar/'\n",
    "event = 'Hurricane-Idalia-Florida-Aug23'\n",
    "for when in ['pre', 'post']:\n",
    "    try:\n",
    "        for child in os.listdir(os.path.join(root, event, when)):\n",
    "            if when == 'pre':\n",
    "                tot_img_event_pre += len(os.listdir(os.path.join(root, event, when, child)))\n",
    "            else:\n",
    "                tot_img_event_post += len(os.listdir(os.path.join(root, event, when, child)))\n",
    "    except:\n",
    "        print('No such directory: ', os.path.join(event, when))\n",
    "print(\"Pre: \", tot_img_event_pre)\n",
    "print(\"Post: \", tot_img_event_post)\n",
    "print(\"Total: \", tot_img_event_pre + tot_img_event_post)\n",
    "\n",
    "#len(os.listdir(os.path.join('BayofBengal-Cyclone-Mocha-May-23', when)))"
   ]
  }
 ],
 "metadata": {
  "kernelspec": {
   "display_name": "maxarSrc",
   "language": "python",
   "name": "maxarsrc"
  },
  "language_info": {
   "codemirror_mode": {
    "name": "ipython",
    "version": 3
   },
   "file_extension": ".py",
   "mimetype": "text/x-python",
   "name": "python",
   "nbconvert_exporter": "python",
   "pygments_lexer": "ipython3",
   "version": "3.10.13"
  }
 },
 "nbformat": 4,
 "nbformat_minor": 2
}

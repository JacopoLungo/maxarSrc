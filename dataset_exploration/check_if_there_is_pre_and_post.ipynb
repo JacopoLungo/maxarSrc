{
 "cells": [
  {
   "cell_type": "markdown",
   "metadata": {},
   "source": [
    "Notebook per verificare se ci sono immagini pre e post di un evento"
   ]
  },
  {
   "cell_type": "code",
   "execution_count": 3,
   "metadata": {},
   "outputs": [
    {
     "name": "stdout",
     "output_type": "stream",
     "text": [
      "pre True - post True\n"
     ]
    }
   ],
   "source": [
    "import leafmap\n",
    "import os\n",
    "\n",
    "# Check if there are pre and post images\n",
    "root = '/mnt/data2/vaschetti_data/maxar'    \n",
    "event = 'cyclone-emnati22'\n",
    "#event = 'BayofBengal-Cyclone-Mocha-May-23'\n",
    "bool_pre = os.path.exists(os.path.join(root, event, 'pre'))\n",
    "if bool_pre:\n",
    "    if not len(os.listdir(os.path.join(root, event, 'pre'))) > 0:\n",
    "        bool_pre = False\n",
    "\n",
    "bool_post = os.path.exists(os.path.join(root, event, 'post'))\n",
    "if bool_post:\n",
    "    if not len(os.listdir(os.path.join(root, event, 'post'))) > 0:\n",
    "        bool_post = False\n",
    "print('pre', bool_pre, '- post', bool_post)"
   ]
  }
 ],
 "metadata": {
  "kernelspec": {
   "display_name": "maxarSrc",
   "language": "python",
   "name": "maxarsrc"
  },
  "language_info": {
   "codemirror_mode": {
    "name": "ipython",
    "version": 3
   },
   "file_extension": ".py",
   "mimetype": "text/x-python",
   "name": "python",
   "nbconvert_exporter": "python",
   "pygments_lexer": "ipython3",
   "version": "3.10.13"
  }
 },
 "nbformat": 4,
 "nbformat_minor": 2
}

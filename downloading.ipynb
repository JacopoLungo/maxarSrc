{
 "cells": [
  {
   "cell_type": "code",
   "execution_count": 1,
   "metadata": {},
   "outputs": [],
   "source": [
    "import leafmap\n",
    "from tqdm import tqdm\n",
    "import datetime\n",
    "import geopandas as gpd\n",
    "import pandas as pd\n",
    "import os"
   ]
  },
  {
   "cell_type": "code",
   "execution_count": 2,
   "metadata": {},
   "outputs": [
    {
     "data": {
      "text/html": [
       "<div>\n",
       "<style scoped>\n",
       "    .dataframe tbody tr th:only-of-type {\n",
       "        vertical-align: middle;\n",
       "    }\n",
       "\n",
       "    .dataframe tbody tr th {\n",
       "        vertical-align: top;\n",
       "    }\n",
       "\n",
       "    .dataframe thead th {\n",
       "        text-align: right;\n",
       "    }\n",
       "</style>\n",
       "<table border=\"1\" class=\"dataframe\">\n",
       "  <thead>\n",
       "    <tr style=\"text-align: right;\">\n",
       "      <th></th>\n",
       "      <th>Event</th>\n",
       "      <th>Aligned name</th>\n",
       "      <th>date</th>\n",
       "      <th>month</th>\n",
       "      <th>day</th>\n",
       "      <th>year</th>\n",
       "      <th>date2</th>\n",
       "    </tr>\n",
       "  </thead>\n",
       "  <tbody>\n",
       "    <tr>\n",
       "      <th>0</th>\n",
       "      <td>Afghanistan Earthquake</td>\n",
       "      <td>afghanistan-earthquake22</td>\n",
       "      <td>2022-06-21</td>\n",
       "      <td>6</td>\n",
       "      <td>21</td>\n",
       "      <td>2022</td>\n",
       "      <td>June 21, 2022</td>\n",
       "    </tr>\n",
       "    <tr>\n",
       "      <th>1</th>\n",
       "      <td>Bay of Bengal Cyclone Mocha 2023</td>\n",
       "      <td>BayofBengal-Cyclone-Mocha-May-23</td>\n",
       "      <td>2023-05-23</td>\n",
       "      <td>5</td>\n",
       "      <td>23</td>\n",
       "      <td>2023</td>\n",
       "      <td>May 23, 2023</td>\n",
       "    </tr>\n",
       "  </tbody>\n",
       "</table>\n",
       "</div>"
      ],
      "text/plain": [
       "                              Event                      Aligned name  \\\n",
       "0            Afghanistan Earthquake          afghanistan-earthquake22   \n",
       "1  Bay of Bengal Cyclone Mocha 2023  BayofBengal-Cyclone-Mocha-May-23   \n",
       "\n",
       "         date  month  day  year          date2  \n",
       "0  2022-06-21      6   21  2022  June 21, 2022  \n",
       "1  2023-05-23      5   23  2023   May 23, 2023  "
      ]
     },
     "execution_count": 2,
     "metadata": {},
     "output_type": "execute_result"
    }
   ],
   "source": [
    "events_df = pd.read_csv('dateEventi.csv', sep=';')\n",
    "events_df.head(2)"
   ]
  },
  {
   "cell_type": "code",
   "execution_count": 3,
   "metadata": {},
   "outputs": [],
   "source": [
    "# Create a dictionary with the event name as key and the date as value\n",
    "\n",
    "event2date = events_df.set_index('Aligned name')['date'].to_dict()\n",
    "#dict_df"
   ]
  },
  {
   "cell_type": "code",
   "execution_count": 6,
   "metadata": {},
   "outputs": [
    {
     "data": {
      "text/plain": [
       "['BayofBengal-Cyclone-Mocha-May-23',\n",
       " 'Emilia-Romagna-Italy-flooding-may23',\n",
       " 'Gambia-flooding-8-11-2022',\n",
       " 'Hurricane-Fiona-9-19-2022',\n",
       " 'Hurricane-Ian-9-26-2022',\n",
       " 'Hurricane-Idalia-Florida-Aug23',\n",
       " 'India-Floods-Oct-2023',\n",
       " 'Indonesia-Earthquake22',\n",
       " 'Kahramanmaras-turkey-earthquake-23',\n",
       " 'Kalehe-DRC-Flooding-5-8-23',\n",
       " 'Libya-Floods-Sept-2023',\n",
       " 'Marshall-Fire-21-Update',\n",
       " 'Maui-Hawaii-fires-Aug-23',\n",
       " 'McDougallCreekWildfire-BC-Canada-Aug-23',\n",
       " 'Morocco-Earthquake-Sept-2023',\n",
       " 'NWT-Canada-Aug-23',\n",
       " 'New-Zealand-Flooding22',\n",
       " 'New-Zealand-Flooding23',\n",
       " 'Sudan-flooding-8-22-2022',\n",
       " 'afghanistan-earthquake22',\n",
       " 'cyclone-emnati22',\n",
       " 'ghana-explosion22',\n",
       " 'kentucky-flooding-7-29-2022',\n",
       " 'pakistan-flooding22',\n",
       " 'shovi-georgia-landslide-8Aug23',\n",
       " 'southafrica-flooding22',\n",
       " 'tonga-volcano21',\n",
       " 'volcano-indonesia21',\n",
       " 'yellowstone-flooding22']"
      ]
     },
     "execution_count": 6,
     "metadata": {},
     "output_type": "execute_result"
    }
   ],
   "source": [
    "all_collections = leafmap.maxar_collections()\n",
    "all_collections"
   ]
  },
  {
   "cell_type": "code",
   "execution_count": 7,
   "metadata": {},
   "outputs": [],
   "source": [
    "def get_pre_post_gdf(collection_id, event2date = event2date):\n",
    "    #Create the geodataframe\n",
    "    gdf = gpd.GeoDataFrame()\n",
    "    for child_id in tqdm(leafmap.maxar_child_collections(collection_id)):\n",
    "        current_gdf = leafmap.maxar_items(\n",
    "            collection_id = collection_id,\n",
    "            child_id = child_id,\n",
    "            return_gdf=True,\n",
    "            assets=['visual'],\n",
    "        )\n",
    "        gdf = pd.concat([gdf, current_gdf])\n",
    "\n",
    "    #Retrieve the event date and split the geodataframe\n",
    "    event_date = event2date[collection_id] #'2023-10-04'\n",
    "    pre_gdf = gdf[gdf['datetime'] < event_date]\n",
    "    post_gdf = gdf[gdf['datetime'] >= event_date]\n",
    "\n",
    "    print('Collection_id:',collection_id,'\\nEvent date:', event_date)\n",
    "\n",
    "    if pre_gdf.shape[0] + post_gdf.shape[0] == gdf.shape[0]:\n",
    "        print(\"OK: All items are accounted for\\n\")\n",
    "    else:\n",
    "        print(\"ERROR: Some items are missing!!!\\n\")\n",
    "\n",
    "    print(\"pre_gdf\", pre_gdf.shape)\n",
    "    print(\"post_gdf\", post_gdf.shape)\n",
    "\n",
    "    return pre_gdf, post_gdf\n",
    "\n",
    "def download_event(collection_id):\n",
    "    pre_gdf, post_gdf = get_pre_post_gdf(collection_id)\n",
    "\n",
    "    out_dir_root = \"/mnt/data2/vaschetti_data/maxar/\"\n",
    "    leafmap.maxar_download(pre_gdf['visual'].to_list(), out_dir = os.path.join(out_dir_root, collection_id, 'pre', \"\"))\n",
    "    leafmap.maxar_download(post_gdf['visual'].to_list(), out_dir = os.path.join(out_dir_root, collection_id, 'post', \"\"))\n",
    "\n",
    "def reorganize(collection_id):\n",
    "    pre_gdf, post_gdf = get_pre_post_gdf(collection_id)\n",
    "\n",
    "    pre_childs = pre_gdf['catalog_id'].unique()\n",
    "    post_childs = post_gdf['catalog_id'].unique()\n",
    "\n",
    "    print('Pre-event images:', pre_childs, '\\nPost-event images:', post_childs)"
   ]
  },
  {
   "cell_type": "code",
   "execution_count": null,
   "metadata": {},
   "outputs": [],
   "source": [
    "download_event('Emilia-Romagna-Italy-flooding-may23')"
   ]
  },
  {
   "cell_type": "code",
   "execution_count": 11,
   "metadata": {},
   "outputs": [
    {
     "name": "stdout",
     "output_type": "stream",
     "text": [
      "Already downloaded:  BayofBengal-Cyclone-Mocha-May-23\n",
      "Already downloaded:  Emilia-Romagna-Italy-flooding-may23\n",
      "Already downloaded:  Gambia-flooding-8-11-2022\n",
      "Already downloaded:  Hurricane-Fiona-9-19-2022\n"
     ]
    },
    {
     "name": "stderr",
     "output_type": "stream",
     "text": [
      " 42%|████▏     | 37/89 [34:43<48:48, 56.31s/it]  \n"
     ]
    },
    {
     "name": "stdout",
     "output_type": "stream",
     "text": [
      "ERROR:  Hurricane-Ian-9-26-2022\n"
     ]
    },
    {
     "name": "stderr",
     "output_type": "stream",
     "text": [
      "  0%|          | 0/14 [00:00<?, ?it/s]"
     ]
    }
   ],
   "source": [
    "out_dir_root = \"/mnt/data2/vaschetti_data/maxar/\"\n",
    "for collection_id in all_collections[:10]:\n",
    "    if os.path.exists(os.path.join(out_dir_root, collection_id)):\n",
    "        print('Already downloaded: ', collection_id)\n",
    "    else:\n",
    "        try:\n",
    "            download_event(collection_id)\n",
    "        except:\n",
    "            print('ERROR: ', collection_id)"
   ]
  },
  {
   "cell_type": "code",
   "execution_count": null,
   "metadata": {},
   "outputs": [],
   "source": []
  },
  {
   "cell_type": "code",
   "execution_count": null,
   "metadata": {},
   "outputs": [],
   "source": []
  },
  {
   "cell_type": "code",
   "execution_count": null,
   "metadata": {},
   "outputs": [],
   "source": []
  },
  {
   "cell_type": "code",
   "execution_count": null,
   "metadata": {},
   "outputs": [],
   "source": []
  },
  {
   "cell_type": "code",
   "execution_count": null,
   "metadata": {},
   "outputs": [],
   "source": [
    "#To reorganize already existing events\n",
    "\n",
    "#select the event\n",
    "collection_id = 'Hurricane-Fiona-9-19-2022'\n",
    "\n",
    "#Create the geodataframe\n",
    "gdf = gpd.GeoDataFrame()\n",
    "for child_id in tqdm(leafmap.maxar_child_collections(collection_id)):\n",
    "    current_gdf = leafmap.maxar_items(\n",
    "        collection_id = collection_id,\n",
    "        child_id = child_id,\n",
    "        return_gdf=True,\n",
    "        assets=['visual'],\n",
    "    )\n",
    "    gdf = pd.concat([gdf, current_gdf])\n",
    "\n",
    "event_date = event2date[collection_id]\n",
    "pre_gdf = gdf[gdf['datetime'] < event_date]\n",
    "post_gdf = gdf[gdf['datetime'] >= event_date]\n",
    "\n",
    "print('Collection_id:',collection_id,'\\nEvent date:', event_date)\n",
    "\n",
    "if pre_gdf.shape[0] + post_gdf.shape[0] == gdf.shape[0]:\n",
    "    print(\"OK: All items are accounted for\\n\")\n",
    "else:\n",
    "    print(\"ERROR: Some items are missing!!!\\n\")\n",
    "\n",
    "print(\"pre_gdf\", pre_gdf.shape)\n",
    "print(\"post_gdf\", post_gdf.shape)\n",
    "\n",
    "\n",
    "pre_childs = pre_gdf['catalog_id'].unique()\n",
    "post_childs = post_gdf['catalog_id'].unique()\n",
    "print('Pre-event images:', pre_childs, '\\nPost-event images:', post_childs)\n"
   ]
  },
  {
   "cell_type": "code",
   "execution_count": 63,
   "metadata": {},
   "outputs": [
    {
     "name": "stderr",
     "output_type": "stream",
     "text": [
      "100%|██████████| 11/11 [01:02<00:00,  5.64s/it]"
     ]
    },
    {
     "name": "stdout",
     "output_type": "stream",
     "text": [
      "Collection_id: Emilia-Romagna-Italy-flooding-may23 \n",
      "Event date: 2023-05-23\n",
      "OK: All items are accounted for\n",
      "\n",
      "pre_gdf (125, 21)\n",
      "post_gdf (120, 21)\n"
     ]
    },
    {
     "name": "stderr",
     "output_type": "stream",
     "text": [
      "\n"
     ]
    }
   ],
   "source": [
    "# Create pre and post gdf for a single event\n",
    "\n",
    "collection_id = 'Emilia-Romagna-Italy-flooding-may23'\n",
    "\n",
    "#Create the geodataframe\n",
    "gdf = gpd.GeoDataFrame()\n",
    "for child_id in tqdm(leafmap.maxar_child_collections(collection_id)):\n",
    "    current_gdf = leafmap.maxar_items(\n",
    "        collection_id = collection_id,\n",
    "        child_id = child_id,\n",
    "        return_gdf=True,\n",
    "        assets=['visual'],\n",
    "    )\n",
    "    gdf = pd.concat([gdf, current_gdf])\n",
    "\n",
    "#Retrieve the event date and split the geodataframe\n",
    "event_date = event2date[collection_id] #'2023-10-04'\n",
    "pre_gdf = gdf[gdf['datetime'] < event_date]\n",
    "post_gdf = gdf[gdf['datetime'] >= event_date]\n",
    "\n",
    "print('Collection_id:',collection_id,'\\nEvent date:', event_date)\n",
    "\n",
    "if pre_gdf.shape[0] + post_gdf.shape[0] == gdf.shape[0]:\n",
    "    print(\"OK: All items are accounted for\\n\")\n",
    "else:\n",
    "    print(\"ERROR: Some items are missing!!!\\n\")\n",
    "\n",
    "print(\"pre_gdf\", pre_gdf.shape)\n",
    "print(\"post_gdf\", post_gdf.shape)"
   ]
  },
  {
   "cell_type": "code",
   "execution_count": 10,
   "metadata": {},
   "outputs": [
    {
     "name": "stdout",
     "output_type": "stream",
     "text": [
      "/mnt/data2/vaschetti_data/maxar/10300100E6747500/033111330333.tif already exists. Skipping...\n",
      "/mnt/data2/vaschetti_data/maxar/10300100E6747500/033111331222.tif already exists. Skipping...\n",
      "/mnt/data2/vaschetti_data/maxar/10300100E6747500/033111331223.tif already exists. Skipping...\n",
      "/mnt/data2/vaschetti_data/maxar/10300100E6747500/033111331232.tif already exists. Skipping...\n",
      "/mnt/data2/vaschetti_data/maxar/10300100E6747500/033111332111.tif already exists. Skipping...\n",
      "Downloading 06 out of 10: 10300100E6747500/033111332112.tif\n"
     ]
    },
    {
     "name": "stderr",
     "output_type": "stream",
     "text": [
      "Downloading...\n",
      "From: https://maxar-opendata.s3.amazonaws.com/events/BayofBengal-Cyclone-Mocha-May-23/ard/46/033111332112/2023-05-22/10300100E6747500-visual.tif\n",
      "To: /mnt/data2/vaschetti_data/maxar/10300100E6747500/033111332112.tif\n",
      "100%|██████████| 4.65M/4.65M [00:01<00:00, 3.61MB/s]\n"
     ]
    },
    {
     "name": "stdout",
     "output_type": "stream",
     "text": [
      "Downloading 07 out of 10: 10300100E6747500/033111332113.tif\n"
     ]
    },
    {
     "name": "stderr",
     "output_type": "stream",
     "text": [
      "Downloading...\n",
      "From: https://maxar-opendata.s3.amazonaws.com/events/BayofBengal-Cyclone-Mocha-May-23/ard/46/033111332113/2023-05-22/10300100E6747500-visual.tif\n",
      "To: /mnt/data2/vaschetti_data/maxar/10300100E6747500/033111332113.tif\n",
      "100%|██████████| 59.0M/59.0M [00:05<00:00, 10.8MB/s]\n"
     ]
    },
    {
     "name": "stdout",
     "output_type": "stream",
     "text": [
      "Downloading 08 out of 10: 10300100E6747500/033111332130.tif\n"
     ]
    },
    {
     "name": "stderr",
     "output_type": "stream",
     "text": [
      "Downloading...\n",
      "From: https://maxar-opendata.s3.amazonaws.com/events/BayofBengal-Cyclone-Mocha-May-23/ard/46/033111332130/2023-05-22/10300100E6747500-visual.tif\n",
      "To: /mnt/data2/vaschetti_data/maxar/10300100E6747500/033111332130.tif\n",
      "100%|██████████| 4.14M/4.14M [00:01<00:00, 3.17MB/s]\n"
     ]
    },
    {
     "name": "stdout",
     "output_type": "stream",
     "text": [
      "Downloading 09 out of 10: 10300100E6747500/033111332131.tif\n"
     ]
    },
    {
     "name": "stderr",
     "output_type": "stream",
     "text": [
      "Downloading...\n",
      "From: https://maxar-opendata.s3.amazonaws.com/events/BayofBengal-Cyclone-Mocha-May-23/ard/46/033111332131/2023-05-22/10300100E6747500-visual.tif\n",
      "To: /mnt/data2/vaschetti_data/maxar/10300100E6747500/033111332131.tif\n",
      "100%|██████████| 53.2M/53.2M [00:04<00:00, 12.0MB/s]\n"
     ]
    },
    {
     "name": "stdout",
     "output_type": "stream",
     "text": [
      "Downloading 10 out of 10: 10300100E6747500/033111332133.tif\n"
     ]
    },
    {
     "name": "stderr",
     "output_type": "stream",
     "text": [
      "Downloading...\n",
      "From: https://maxar-opendata.s3.amazonaws.com/events/BayofBengal-Cyclone-Mocha-May-23/ard/46/033111332133/2023-05-22/10300100E6747500-visual.tif\n",
      "To: /mnt/data2/vaschetti_data/maxar/10300100E6747500/033111332133.tif\n",
      "100%|██████████| 29.5M/29.5M [00:03<00:00, 9.13MB/s]\n"
     ]
    }
   ],
   "source": [
    "leafmap.maxar_download(gdf['visual'].to_list()[:10], out_dir=\"/mnt/data2/vaschetti_data/maxar\")"
   ]
  },
  {
   "cell_type": "code",
   "execution_count": null,
   "metadata": {},
   "outputs": [],
   "source": []
  },
  {
   "cell_type": "code",
   "execution_count": null,
   "metadata": {},
   "outputs": [],
   "source": []
  },
  {
   "cell_type": "code",
   "execution_count": 24,
   "metadata": {},
   "outputs": [
    {
     "data": {
      "text/plain": [
       "'https://raw.githubusercontent.com/giswqs/maxar-open-data/master/datasets/Emilia-Romagna-Italy-flooding-may23.geojson'"
      ]
     },
     "execution_count": 24,
     "metadata": {},
     "output_type": "execute_result"
    }
   ],
   "source": [
    "leafmap.maxar_collection_url(\"Emilia-Romagna-Italy-flooding-may23\")"
   ]
  },
  {
   "cell_type": "code",
   "execution_count": 20,
   "metadata": {},
   "outputs": [
    {
     "name": "stdout",
     "output_type": "stream",
     "text": [
      "Processing (01 out of 11): 10300100BF164000 ...\n",
      "Processing (02 out of 11): 10300100C48E0A00 ...\n"
     ]
    },
    {
     "ename": "AttributeError",
     "evalue": "'GeoDataFrame' object has no attribute 'append'",
     "output_type": "error",
     "traceback": [
      "\u001b[0;31m---------------------------------------------------------------------------\u001b[0m",
      "\u001b[0;31mAttributeError\u001b[0m                            Traceback (most recent call last)",
      "\u001b[0;32m/tmp/ipykernel_31643/2020084189.py\u001b[0m in \u001b[0;36m?\u001b[0;34m()\u001b[0m\n\u001b[0;32m----> 1\u001b[0;31m \u001b[0mgdf\u001b[0m \u001b[0;34m=\u001b[0m \u001b[0mleafmap\u001b[0m\u001b[0;34m.\u001b[0m\u001b[0mmaxar_all_items\u001b[0m\u001b[0;34m(\u001b[0m\u001b[0;34m\"Emilia-Romagna-Italy-flooding-may23\"\u001b[0m\u001b[0;34m,\u001b[0m \u001b[0mreturn_gdf\u001b[0m\u001b[0;34m=\u001b[0m\u001b[0;32mTrue\u001b[0m\u001b[0;34m)\u001b[0m\u001b[0;34m\u001b[0m\u001b[0;34m\u001b[0m\u001b[0m\n\u001b[0m",
      "\u001b[0;32m~/maxarTest/.venv/lib/python3.10/site-packages/leafmap/stac.py\u001b[0m in \u001b[0;36m?\u001b[0;34m(collection_id, return_gdf, assets, verbose, **kwargs)\u001b[0m\n\u001b[1;32m   1768\u001b[0m         \u001b[0;32mif\u001b[0m \u001b[0mreturn_gdf\u001b[0m\u001b[0;34m:\u001b[0m\u001b[0;34m\u001b[0m\u001b[0;34m\u001b[0m\u001b[0m\n\u001b[1;32m   1769\u001b[0m             \u001b[0;32mif\u001b[0m \u001b[0mchild_id\u001b[0m \u001b[0;34m==\u001b[0m \u001b[0mchild_ids\u001b[0m\u001b[0;34m[\u001b[0m\u001b[0;36m0\u001b[0m\u001b[0;34m]\u001b[0m\u001b[0;34m:\u001b[0m\u001b[0;34m\u001b[0m\u001b[0;34m\u001b[0m\u001b[0m\n\u001b[1;32m   1770\u001b[0m                 \u001b[0mgdf\u001b[0m \u001b[0;34m=\u001b[0m \u001b[0mitems\u001b[0m\u001b[0;34m\u001b[0m\u001b[0;34m\u001b[0m\u001b[0m\n\u001b[1;32m   1771\u001b[0m             \u001b[0;32melse\u001b[0m\u001b[0;34m:\u001b[0m\u001b[0;34m\u001b[0m\u001b[0;34m\u001b[0m\u001b[0m\n\u001b[0;32m-> 1772\u001b[0;31m                 \u001b[0mgdf\u001b[0m \u001b[0;34m=\u001b[0m \u001b[0mgdf\u001b[0m\u001b[0;34m.\u001b[0m\u001b[0mappend\u001b[0m\u001b[0;34m(\u001b[0m\u001b[0mitems\u001b[0m\u001b[0;34m)\u001b[0m\u001b[0;34m\u001b[0m\u001b[0;34m\u001b[0m\u001b[0m\n\u001b[0m\u001b[1;32m   1773\u001b[0m         \u001b[0;32melse\u001b[0m\u001b[0;34m:\u001b[0m\u001b[0;34m\u001b[0m\u001b[0;34m\u001b[0m\u001b[0m\n\u001b[1;32m   1774\u001b[0m             \u001b[0;32mif\u001b[0m \u001b[0mchild_id\u001b[0m \u001b[0;34m==\u001b[0m \u001b[0mchild_ids\u001b[0m\u001b[0;34m[\u001b[0m\u001b[0;36m0\u001b[0m\u001b[0;34m]\u001b[0m\u001b[0;34m:\u001b[0m\u001b[0;34m\u001b[0m\u001b[0;34m\u001b[0m\u001b[0m\n\u001b[1;32m   1775\u001b[0m                 \u001b[0mitems_all\u001b[0m \u001b[0;34m=\u001b[0m \u001b[0mitems\u001b[0m\u001b[0;34m\u001b[0m\u001b[0;34m\u001b[0m\u001b[0m\n",
      "\u001b[0;32m~/maxarTest/.venv/lib/python3.10/site-packages/pandas/core/generic.py\u001b[0m in \u001b[0;36m?\u001b[0;34m(self, name)\u001b[0m\n\u001b[1;32m   6200\u001b[0m             \u001b[0;32mand\u001b[0m \u001b[0mname\u001b[0m \u001b[0;32mnot\u001b[0m \u001b[0;32min\u001b[0m \u001b[0mself\u001b[0m\u001b[0;34m.\u001b[0m\u001b[0m_accessors\u001b[0m\u001b[0;34m\u001b[0m\u001b[0;34m\u001b[0m\u001b[0m\n\u001b[1;32m   6201\u001b[0m             \u001b[0;32mand\u001b[0m \u001b[0mself\u001b[0m\u001b[0;34m.\u001b[0m\u001b[0m_info_axis\u001b[0m\u001b[0;34m.\u001b[0m\u001b[0m_can_hold_identifiers_and_holds_name\u001b[0m\u001b[0;34m(\u001b[0m\u001b[0mname\u001b[0m\u001b[0;34m)\u001b[0m\u001b[0;34m\u001b[0m\u001b[0;34m\u001b[0m\u001b[0m\n\u001b[1;32m   6202\u001b[0m         ):\n\u001b[1;32m   6203\u001b[0m             \u001b[0;32mreturn\u001b[0m \u001b[0mself\u001b[0m\u001b[0;34m[\u001b[0m\u001b[0mname\u001b[0m\u001b[0;34m]\u001b[0m\u001b[0;34m\u001b[0m\u001b[0;34m\u001b[0m\u001b[0m\n\u001b[0;32m-> 6204\u001b[0;31m         \u001b[0;32mreturn\u001b[0m \u001b[0mobject\u001b[0m\u001b[0;34m.\u001b[0m\u001b[0m__getattribute__\u001b[0m\u001b[0;34m(\u001b[0m\u001b[0mself\u001b[0m\u001b[0;34m,\u001b[0m \u001b[0mname\u001b[0m\u001b[0;34m)\u001b[0m\u001b[0;34m\u001b[0m\u001b[0;34m\u001b[0m\u001b[0m\n\u001b[0m",
      "\u001b[0;31mAttributeError\u001b[0m: 'GeoDataFrame' object has no attribute 'append'"
     ]
    }
   ],
   "source": [
    "gdf = leafmap.maxar_all_items(\"Emilia-Romagna-Italy-flooding-may23\", return_gdf=True)"
   ]
  },
  {
   "cell_type": "code",
   "execution_count": null,
   "metadata": {},
   "outputs": [],
   "source": [
    "leafmap.maxar_download(images[:5], out_dir=\"/mnt/data2/vaschetti_data/maxar\")"
   ]
  }
 ],
 "metadata": {
  "kernelspec": {
   "display_name": "Maxar Kernel",
   "language": "python",
   "name": "venv"
  },
  "language_info": {
   "codemirror_mode": {
    "name": "ipython",
    "version": 3
   },
   "file_extension": ".py",
   "mimetype": "text/x-python",
   "name": "python",
   "nbconvert_exporter": "python",
   "pygments_lexer": "ipython3",
   "version": "3.10.13"
  }
 },
 "nbformat": 4,
 "nbformat_minor": 2
}

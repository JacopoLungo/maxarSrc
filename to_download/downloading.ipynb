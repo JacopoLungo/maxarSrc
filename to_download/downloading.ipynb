{
 "cells": [
  {
   "cell_type": "code",
   "execution_count": 19,
   "metadata": {},
   "outputs": [],
   "source": [
    "import leafmap\n",
    "from tqdm import tqdm\n",
    "import datetime\n",
    "import geopandas as gpd\n",
    "import pandas as pd\n",
    "import os"
   ]
  },
  {
   "cell_type": "code",
   "execution_count": 20,
   "metadata": {},
   "outputs": [],
   "source": [
    "#Read the csv file\n",
    "events_df = pd.read_csv('dateEventi.csv', sep=';')\n",
    "#events_df.head(2)\n",
    "\n",
    "# Create a dictionary with the event name as key and the date as value\n",
    "event2date = events_df.set_index('Aligned name')['date'].to_dict()\n",
    "#event2date"
   ]
  },
  {
   "cell_type": "code",
   "execution_count": 21,
   "metadata": {},
   "outputs": [
    {
     "data": {
      "text/plain": [
       "['BayofBengal-Cyclone-Mocha-May-23',\n",
       " 'Emilia-Romagna-Italy-flooding-may23',\n",
       " 'Gambia-flooding-8-11-2022',\n",
       " 'Hurricane-Fiona-9-19-2022',\n",
       " 'Hurricane-Ian-9-26-2022',\n",
       " 'Hurricane-Idalia-Florida-Aug23',\n",
       " 'India-Floods-Oct-2023',\n",
       " 'Indonesia-Earthquake22',\n",
       " 'Kahramanmaras-turkey-earthquake-23',\n",
       " 'Kalehe-DRC-Flooding-5-8-23',\n",
       " 'Libya-Floods-Sept-2023',\n",
       " 'Marshall-Fire-21-Update',\n",
       " 'Maui-Hawaii-fires-Aug-23',\n",
       " 'McDougallCreekWildfire-BC-Canada-Aug-23',\n",
       " 'Morocco-Earthquake-Sept-2023',\n",
       " 'NWT-Canada-Aug-23',\n",
       " 'New-Zealand-Flooding22',\n",
       " 'New-Zealand-Flooding23',\n",
       " 'Sudan-flooding-8-22-2022',\n",
       " 'afghanistan-earthquake22',\n",
       " 'cyclone-emnati22',\n",
       " 'ghana-explosion22',\n",
       " 'kentucky-flooding-7-29-2022',\n",
       " 'pakistan-flooding22',\n",
       " 'shovi-georgia-landslide-8Aug23',\n",
       " 'southafrica-flooding22',\n",
       " 'tonga-volcano21',\n",
       " 'volcano-indonesia21',\n",
       " 'yellowstone-flooding22']"
      ]
     },
     "execution_count": 21,
     "metadata": {},
     "output_type": "execute_result"
    }
   ],
   "source": [
    "all_collections = leafmap.maxar_collections()\n",
    "all_collections"
   ]
  },
  {
   "cell_type": "markdown",
   "metadata": {},
   "source": [
    "### Funzioni per controllare se le cartelle sono full"
   ]
  },
  {
   "cell_type": "code",
   "execution_count": 22,
   "metadata": {},
   "outputs": [],
   "source": [
    "def get_true_img_set(collection_id, child_id):\n",
    "    gdf = gpd.read_file(os.path.join('from_github_maxar_metadata/datasets/', collection_id + '.geojson'))\n",
    "    gdf = gdf[gdf['catalog_id'] == child_id]\n",
    "    return set(gdf['quadkey'].values)"
   ]
  },
  {
   "cell_type": "markdown",
   "metadata": {},
   "source": [
    "### Funzioni per downloadare eventi"
   ]
  },
  {
   "cell_type": "code",
   "execution_count": 17,
   "metadata": {},
   "outputs": [],
   "source": [
    "def get_pre_post_gdf_local(collection_id, event2date = event2date, local_gdf = True):\n",
    "    \n",
    "    #Retrieve the event date\n",
    "    try:\n",
    "        event_date = event2date[collection_id] #'2023-10-04'\n",
    "    except:\n",
    "        print(\"ERROR: Event date not found!!!\")\n",
    "        return None, None\n",
    "\n",
    "    #Create the geodataframe\n",
    "    if local_gdf:\n",
    "        gdf = gpd.read_file(os.path.join('from_github_maxar_metadata/datasets/', collection_id + '.geojson'))\n",
    "    else:\n",
    "        gdf = gpd.GeoDataFrame()\n",
    "        for child_id in tqdm(leafmap.maxar_child_collections(collection_id)):\n",
    "            current_gdf = leafmap.maxar_items(\n",
    "                collection_id = collection_id,\n",
    "                child_id = child_id,\n",
    "                return_gdf=True,\n",
    "                assets=['visual'],\n",
    "            )\n",
    "        gdf = pd.concat([gdf, current_gdf])\n",
    "        \n",
    "    \n",
    "    #Split the geodataframe\n",
    "    pre_gdf = gdf[gdf['datetime'] < event_date]\n",
    "    post_gdf = gdf[gdf['datetime'] >= event_date]\n",
    "\n",
    "    print('Collection_id:',collection_id,'\\nEvent date:', event_date)\n",
    "\n",
    "    if pre_gdf.shape[0] + post_gdf.shape[0] == gdf.shape[0]:\n",
    "        print(\"OK: All items are accounted for\\n\")\n",
    "    else:\n",
    "        print(\"ERROR: Some items are missing!!!\\n\")\n",
    "\n",
    "    print(\"pre_gdf\", pre_gdf.shape)\n",
    "    print(\"post_gdf\", post_gdf.shape)\n",
    "\n",
    "    return pre_gdf, post_gdf\n",
    "\n",
    "def download_event(collection_id, out_dir_root = \"/mnt/data2/vaschetti_data/maxar/\"):\n",
    "    \n",
    "    pre_gdf, post_gdf = get_pre_post_gdf_local(collection_id)\n",
    "    if pre_gdf is None or post_gdf is None:\n",
    "        return\n",
    "\n",
    "    leafmap.maxar_download(pre_gdf['visual'].to_list(), out_dir = os.path.join(out_dir_root, collection_id, 'pre', \"\"))\n",
    "    leafmap.maxar_download(post_gdf['visual'].to_list(), out_dir = os.path.join(out_dir_root, collection_id, 'post', \"\"))\n",
    "    \n"
   ]
  },
  {
   "cell_type": "code",
   "execution_count": 23,
   "metadata": {},
   "outputs": [
    {
     "data": {
      "text/plain": [
       "{'afghanistan-earthquake22': '2022-06-21',\n",
       " 'BayofBengal-Cyclone-Mocha-May-23': '2023-05-23',\n",
       " 'cyclone-emnati22': '2022-02-22',\n",
       " 'Emilia-Romagna-Italy-flooding-may23': '2023-05-23',\n",
       " 'Gambia-flooding-8-11-2022': '2022-08-09',\n",
       " 'Hurricane-Fiona-9-19-2022': '2022-09-19',\n",
       " 'Hurricane-Ian-9-26-2022': '2022-09-26',\n",
       " 'Hurricane-Idalia-Florida-Aug23': '2023-08-29',\n",
       " 'India-Floods-Oct-2023': '2023-10-04',\n",
       " 'Indonesia-Earthquake22': '2022-11-21',\n",
       " 'Kahramanmaras-turkey-earthquake-23': '2023-02-06',\n",
       " 'Kalehe-DRC-Flooding-5-8-23': '2023-05-08',\n",
       " 'kentucky-flooding-7-29-2022': '2022-07-29',\n",
       " 'Libya-Floods-Sept-2023': '2023-09-12',\n",
       " 'Marshall-Fire-21-Update': '2022-01-01',\n",
       " 'Maui-Hawaii-fires-Aug-23': '2023-08-08',\n",
       " 'Morocco-Earthquake-Sept-2023': '2023-09-09',\n",
       " 'New-Zealand-Flooding23': '2023-01-27',\n",
       " 'NWT-Canada-Aug-23': '2023-08-16',\n",
       " 'pakistan-flooding22': '2022-07-26',\n",
       " 'shovi-georgia-landslide-8Aug23': '2023-08-05',\n",
       " 'southafrica-flooding22': '2022-04-13',\n",
       " 'Sudan-flooding-8-22-2022': '2022-08-22',\n",
       " 'tonga-volcano21': '2022-01-15',\n",
       " 'yellowstone-flooding22': '2022-06-15',\n",
       " nan: '2021-02-08'}"
      ]
     },
     "execution_count": 23,
     "metadata": {},
     "output_type": "execute_result"
    }
   ],
   "source": [
    "event2date"
   ]
  },
  {
   "cell_type": "code",
   "execution_count": null,
   "metadata": {},
   "outputs": [],
   "source": [
    "download_event('southafrica-flooding22')"
   ]
  },
  {
   "cell_type": "markdown",
   "metadata": {},
   "source": [
    "### Funzioni non utilizzate downoladare evenetCella con tutte le funzioni per download"
   ]
  },
  {
   "cell_type": "code",
   "execution_count": 35,
   "metadata": {},
   "outputs": [],
   "source": [
    "def isChildCorrectlyDownloaded_(collection_id, child_id, out_dir_root = \"/mnt/data2/vaschetti_data/maxar/\"):\n",
    "    pre_gdf, post_gdf = get_pre_post_gdf(collection_id)\n",
    "    if pre_gdf is None or post_gdf is None:\n",
    "        return\n",
    "    \n",
    "    pre_childs = pre_gdf['catalog_id'].unique()\n",
    "    post_childs = post_gdf['catalog_id'].unique()\n",
    "\n",
    "    if child_id in pre_childs and child_id in post_childs:\n",
    "        print('Child correctly downloaded')\n",
    "        return True\n",
    "    else:\n",
    "        print('Child not correctly downloaded')\n",
    "        return False\n",
    "\n",
    "def get_pre_post_gdf_for_n_children_(collection_id, n = 1, event2date = event2date):\n",
    "    \n",
    "    out_dir_root = \"/mnt/data2/vaschetti_data/maxar/\"\n",
    "\n",
    "    #Retrieve the event date\n",
    "    try:\n",
    "        event_date = event2date[collection_id] #'2023-10-04'\n",
    "    except:\n",
    "        print(\"ERROR: Event date not found!!!\")\n",
    "        return None, None\n",
    "\n",
    "    #Create the geodataframe\n",
    "    gdf = gpd.GeoDataFrame()\n",
    "    counter = 0\n",
    "    for child_id in tqdm(leafmap.maxar_child_collections(collection_id)):\n",
    "        if counter == n:\n",
    "            break\n",
    "        #check if the child is entirely downloaded\n",
    "        if \n",
    "        current_gdf = leafmap.maxar_items(\n",
    "            collection_id = collection_id,\n",
    "            child_id = child_id,\n",
    "            return_gdf=True,\n",
    "            assets=['visual'],\n",
    "        )\n",
    "        gdf = pd.concat([gdf, current_gdf])\n",
    "        counter += 1\n",
    "\n",
    "def download_event_(collection_id):\n",
    "    out_dir_root = \"/mnt/data2/vaschetti_data/maxar/\"\n",
    "    #if os.path.exists(os.path.join(out_dir_root, collection_id)):\n",
    "    #    print('Already downloaded: ', collection_id)\n",
    "    #    return\n",
    "\n",
    "    pre_gdf, post_gdf = get_pre_post_gdf(collection_id)\n",
    "    if pre_gdf is None or post_gdf is None:\n",
    "        return\n",
    "    \n",
    "    leafmap.maxar_download(pre_gdf['visual'].to_list(), out_dir = os.path.join(out_dir_root, collection_id, 'pre', \"\"))\n",
    "    leafmap.maxar_download(post_gdf['visual'].to_list(), out_dir = os.path.join(out_dir_root, collection_id, 'post', \"\"))\n",
    "\n",
    "def reorganize_(collection_id):\n",
    "    pre_gdf, post_gdf = get_pre_post_gdf(collection_id)\n",
    "\n",
    "    pre_childs = pre_gdf['catalog_id'].unique()\n",
    "    post_childs = post_gdf['catalog_id'].unique()\n",
    "\n",
    "    print('Pre-event images:', pre_childs, '\\nPost-event images:', post_childs)"
   ]
  }
 ],
 "metadata": {
  "kernelspec": {
   "display_name": ".venv",
   "language": "python",
   "name": "python3"
  },
  "language_info": {
   "codemirror_mode": {
    "name": "ipython",
    "version": 3
   },
   "file_extension": ".py",
   "mimetype": "text/x-python",
   "name": "python",
   "nbconvert_exporter": "python",
   "pygments_lexer": "ipython3",
   "version": "3.10.13"
  }
 },
 "nbformat": 4,
 "nbformat_minor": 2
}

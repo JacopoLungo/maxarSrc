{
 "cells": [
  {
   "cell_type": "code",
   "execution_count": 1,
   "metadata": {},
   "outputs": [],
   "source": [
    "import glob\n",
    "import rasterio\n",
    "from pathlib import Path\n",
    "import os\n",
    "import reverse_geocoder as rg\n",
    "import pyproj\n",
    "import geopandas as gpd\n",
    "import sys\n",
    "\n",
    "if Path.cwd().name != 'src':\n",
    "    os.chdir('/home/vaschetti/maxarSrc/src')"
   ]
  },
  {
   "cell_type": "markdown",
   "metadata": {},
   "source": [
    "Print all the events' name"
   ]
  },
  {
   "cell_type": "code",
   "execution_count": 2,
   "metadata": {},
   "outputs": [
    {
     "name": "stdout",
     "output_type": "stream",
     "text": [
      "0 southafrica-flooding22\n",
      "1 Kalehe-DRC-Flooding-5-8-23\n",
      "2 shovi-georgia-landslide-8Aug23\n",
      "3 Emilia-Romagna-Italy-flooding-may23\n",
      "4 NWT-Canada-Aug-23\n",
      "5 Libya-Floods-Sept-2023\n",
      "6 Gambia-flooding-8-11-2022\n",
      "7 New-Zealand-Flooding23\n",
      "8 Hurricane-Fiona-9-19-2022\n",
      "9 Hurricane-Idalia-Florida-Aug23\n",
      "10 Hurricane-Ian-9-26-2022\n",
      "11 yellowstone-flooding22\n",
      "12 pakistan-flooding22\n",
      "13 Morocco-Earthquake-Sept-2023\n",
      "14 Indonesia-Earthquake22\n",
      "15 cyclone-emnati22\n",
      "16 Kahramanmaras-turkey-earthquake-23\n",
      "17 Marshall-Fire-21-Update\n",
      "18 India-Floods-Oct-2023\n",
      "19 Maui-Hawaii-fires-Aug-23\n",
      "20 tonga-volcano21\n",
      "21 BayofBengal-Cyclone-Mocha-May-23\n",
      "22 Sudan-flooding-8-22-2022\n"
     ]
    }
   ],
   "source": [
    "from my_functions.assemble import names\n",
    "events_names = names.get_all_events()\n",
    "for i, e_n in enumerate(events_names):\n",
    "    print(i, e_n)"
   ]
  },
  {
   "cell_type": "markdown",
   "metadata": {},
   "source": [
    "**Set some parameters** used in the segmentation phase, such as batch size and device. </br>\n",
    "Also it instantiate both the **GroundingDino** model and the **Efficent SAM** model  "
   ]
  },
  {
   "cell_type": "code",
   "execution_count": 3,
   "metadata": {},
   "outputs": [
    {
     "name": "stderr",
     "output_type": "stream",
     "text": [
      "/home/vaschetti/.pyenv/versions/3.10.13/lib/python3.10/site-packages/torch/functional.py:504: UserWarning: torch.meshgrid: in an upcoming release, it will be required to pass the indexing argument. (Triggered internally at ../aten/src/ATen/native/TensorShape.cpp:3526.)\n",
      "  return _VF.meshgrid(tensors, **kwargs)  # type: ignore[attr-defined]\n"
     ]
    },
    {
     "name": "stdout",
     "output_type": "stream",
     "text": [
      "final text_encoder_type: bert-base-uncased\n",
      "- GD model device: cuda:0\n",
      "- Efficient SAM device: cuda:0\n"
     ]
    }
   ],
   "source": [
    "from my_functions.configs import SegmentConfig\n",
    "batch_size = 2\n",
    "config = SegmentConfig(batch_size = batch_size, device='cuda')"
   ]
  },
  {
   "cell_type": "markdown",
   "metadata": {},
   "source": [
    "Build an Event (e.g. 'Gambia-flooding-8-11-2022')</br>\n",
    "Print its region and the names of its mosaics</br>\n",
    "Print the number of tiles contained in the first mosaic\n"
   ]
  },
  {
   "cell_type": "code",
   "execution_count": 4,
   "metadata": {},
   "outputs": [
    {
     "name": "stdout",
     "output_type": "stream",
     "text": [
      "AfricaWest-Full\n",
      "['10300100CFC9A500', '105001002BD68F00', '1040010073D77D00']\n",
      "Number of tiles: 18\n"
     ]
    }
   ],
   "source": [
    "from my_functions.assemble import holders\n",
    "\n",
    "evento = holders.Event(events_names[6], seg_config = config, when='pre')\n",
    "print(evento.region_name)\n",
    "\n",
    "all_mosaics_names = evento.all_mosaics_names\n",
    "print(all_mosaics_names)\n",
    "\n",
    "m0 = evento.mosaics[all_mosaics_names[0]]\n",
    "print(f'Number of tiles: {m0.tiles_num}')\n"
   ]
  },
  {
   "cell_type": "markdown",
   "metadata": {},
   "source": [
    "Set the geodataframe of the **building** of the first mosaic"
   ]
  },
  {
   "cell_type": "code",
   "execution_count": 5,
   "metadata": {},
   "outputs": [
    {
     "name": "stdout",
     "output_type": "stream",
     "text": [
      "Found 3 links matching: [33303200, 3330320, 333032]\n"
     ]
    }
   ],
   "source": [
    "m0.set_build_gdf()"
   ]
  },
  {
   "cell_type": "markdown",
   "metadata": {},
   "source": [
    "Create the geodataframe of the **roads** of the first mosaic..."
   ]
  },
  {
   "cell_type": "code",
   "execution_count": 6,
   "metadata": {},
   "outputs": [
    {
     "name": "stdout",
     "output_type": "stream",
     "text": [
      "not USA. Region name: AfricaWest-Full.tsv\n"
     ]
    }
   ],
   "source": [
    "m0.set_road_gdf()"
   ]
  },
  {
   "cell_type": "markdown",
   "metadata": {},
   "source": [
    "...and project it in the right coord system"
   ]
  },
  {
   "cell_type": "code",
   "execution_count": 7,
   "metadata": {},
   "outputs": [
    {
     "data": {
      "text/html": [
       "<div>\n",
       "<style scoped>\n",
       "    .dataframe tbody tr th:only-of-type {\n",
       "        vertical-align: middle;\n",
       "    }\n",
       "\n",
       "    .dataframe tbody tr th {\n",
       "        vertical-align: top;\n",
       "    }\n",
       "\n",
       "    .dataframe thead th {\n",
       "        text-align: right;\n",
       "    }\n",
       "</style>\n",
       "<table border=\"1\" class=\"dataframe\">\n",
       "  <thead>\n",
       "    <tr style=\"text-align: right;\">\n",
       "      <th></th>\n",
       "      <th>country</th>\n",
       "      <th>geometry</th>\n",
       "    </tr>\n",
       "  </thead>\n",
       "  <tbody>\n",
       "    <tr>\n",
       "      <th>158659</th>\n",
       "      <td>GMB</td>\n",
       "      <td>LINESTRING (317880.927 1483236.891, 317881.884...</td>\n",
       "    </tr>\n",
       "    <tr>\n",
       "      <th>158664</th>\n",
       "      <td>GMB</td>\n",
       "      <td>LINESTRING (317732.453 1489568.084, 317792.204...</td>\n",
       "    </tr>\n",
       "    <tr>\n",
       "      <th>158669</th>\n",
       "      <td>GMB</td>\n",
       "      <td>LINESTRING (316249.801 1478543.584, 316213.663...</td>\n",
       "    </tr>\n",
       "    <tr>\n",
       "      <th>158689</th>\n",
       "      <td>GMB</td>\n",
       "      <td>LINESTRING (317326.052 1486717.098, 317338.950...</td>\n",
       "    </tr>\n",
       "    <tr>\n",
       "      <th>158694</th>\n",
       "      <td>GMB</td>\n",
       "      <td>LINESTRING (317846.778 1481976.223, 317849.189...</td>\n",
       "    </tr>\n",
       "    <tr>\n",
       "      <th>...</th>\n",
       "      <td>...</td>\n",
       "      <td>...</td>\n",
       "    </tr>\n",
       "    <tr>\n",
       "      <th>504425</th>\n",
       "      <td>GMB</td>\n",
       "      <td>LINESTRING (316329.842 1477672.263, 316261.217...</td>\n",
       "    </tr>\n",
       "    <tr>\n",
       "      <th>504460</th>\n",
       "      <td>GMB</td>\n",
       "      <td>LINESTRING (316419.470 1482442.080, 316398.261...</td>\n",
       "    </tr>\n",
       "    <tr>\n",
       "      <th>504480</th>\n",
       "      <td>GMB</td>\n",
       "      <td>LINESTRING (320392.218 1489136.742, 320505.915...</td>\n",
       "    </tr>\n",
       "    <tr>\n",
       "      <th>504485</th>\n",
       "      <td>GMB</td>\n",
       "      <td>LINESTRING (316436.428 1478302.096, 316568.703...</td>\n",
       "    </tr>\n",
       "    <tr>\n",
       "      <th>504495</th>\n",
       "      <td>GMB</td>\n",
       "      <td>LINESTRING (315294.778 1483308.900, 315297.682...</td>\n",
       "    </tr>\n",
       "  </tbody>\n",
       "</table>\n",
       "<p>18325 rows × 2 columns</p>\n",
       "</div>"
      ],
      "text/plain": [
       "       country                                           geometry\n",
       "158659     GMB  LINESTRING (317880.927 1483236.891, 317881.884...\n",
       "158664     GMB  LINESTRING (317732.453 1489568.084, 317792.204...\n",
       "158669     GMB  LINESTRING (316249.801 1478543.584, 316213.663...\n",
       "158689     GMB  LINESTRING (317326.052 1486717.098, 317338.950...\n",
       "158694     GMB  LINESTRING (317846.778 1481976.223, 317849.189...\n",
       "...        ...                                                ...\n",
       "504425     GMB  LINESTRING (316329.842 1477672.263, 316261.217...\n",
       "504460     GMB  LINESTRING (316419.470 1482442.080, 316398.261...\n",
       "504480     GMB  LINESTRING (320392.218 1489136.742, 320505.915...\n",
       "504485     GMB  LINESTRING (316436.428 1478302.096, 316568.703...\n",
       "504495     GMB  LINESTRING (315294.778 1483308.900, 315297.682...\n",
       "\n",
       "[18325 rows x 2 columns]"
      ]
     },
     "execution_count": 7,
     "metadata": {},
     "output_type": "execute_result"
    }
   ],
   "source": [
    "m0.proj_road_gdf"
   ]
  },
  {
   "cell_type": "code",
   "execution_count": 8,
   "metadata": {},
   "outputs": [
    {
     "data": {
      "text/plain": [
       "PosixPath('/mnt/data2/vaschetti_data/maxar/Gambia-flooding-8-11-2022/pre/10300100CFC9A500/033133031233.tif')"
      ]
     },
     "execution_count": 8,
     "metadata": {},
     "output_type": "execute_result"
    }
   ],
   "source": [
    "m0.tiles_paths[17]"
   ]
  },
  {
   "cell_type": "code",
   "execution_count": 9,
   "metadata": {},
   "outputs": [],
   "source": [
    "from torchgeo.datasets import stack_samples, unbind_samples\n",
    "from torch.utils.data import DataLoader\n",
    "from rasterio.windows import Window\n",
    "import matplotlib.pyplot as plt\n",
    "from tqdm import tqdm\n",
    "import numpy as np\n",
    "from time import time\n",
    "import warnings\n",
    "import rasterio\n",
    "import torch\n",
    "\n",
    "from my_functions.samplers import samplers, samplers_utils\n",
    "from my_functions.geo_datasets import geoDatasets\n",
    "from my_functions.ESAM_segment import segment, segment_utils\n",
    "from my_functions.detect import detect\n",
    "\n",
    "\n",
    "# Ignore all warnings\n",
    "warnings.filterwarnings('ignore')"
   ]
  },
  {
   "cell_type": "code",
   "execution_count": null,
   "metadata": {},
   "outputs": [
    {
     "name": "stderr",
     "output_type": "stream",
     "text": [
      "  0%|          | 0/1682 [00:00<?, ?it/s]"
     ]
    },
    {
     "name": "stdout",
     "output_type": "stream",
     "text": [
      "In sampler\n",
      "tile_polygon:  POLYGON ((315427.24609375 1485156.25, 320156.25 1485156.25, 320156.25 1479843.75, 315394.8974609375 1479843.75, 315427.24609375 1485156.25))\n",
      "\n",
      "__________________________\n",
      "Batch number:  1\n",
      "Num detections in batch: [ 51 102]\n"
     ]
    },
    {
     "name": "stderr",
     "output_type": "stream",
     "text": [
      "  0%|          | 1/1682 [00:06<3:04:08,  6.57s/it]"
     ]
    },
    {
     "name": "stdout",
     "output_type": "stream",
     "text": [
      "\n",
      "__________________________\n",
      "Batch number:  2\n",
      "Num detections in batch: [78 45]\n"
     ]
    },
    {
     "name": "stderr",
     "output_type": "stream",
     "text": [
      "  0%|          | 1/1682 [00:08<3:54:54,  8.38s/it]\n"
     ]
    }
   ],
   "source": [
    "#Top, working\n",
    "\n",
    "self = m0\n",
    "tile_path = m0.tiles_paths[17]\n",
    "\n",
    "seg_config = self.event.seg_config\n",
    "dataset = geoDatasets.Maxar(str(tile_path))\n",
    "sampler = samplers.MyBatchGridGeoSampler(dataset, batch_size=seg_config.batch_size, size=seg_config.size, stride=seg_config.stride)\n",
    "dataloader = DataLoader(dataset , batch_sampler=sampler, collate_fn=stack_samples)\n",
    "\n",
    "canvas = np.zeros((seg_config.size, seg_config.size, 3), dtype=np.uint8)\n",
    "i = 0\n",
    "f_i = 2\n",
    "for batch in tqdm(dataloader):\n",
    "    i+=1\n",
    "    \"\"\"if i != f_i:\n",
    "        i+=1\n",
    "        continue\"\"\"\n",
    "    original_img_tsr = batch['image']\n",
    "    img_b = batch['image'].permute(0,2,3,1).numpy().astype('uint8') #TODO: l'immagine viene convertita in numpy ma magari è meglio lasciarla in tensor\n",
    "    \n",
    "    #get the tree boxes in batches and the number of trees for each image\n",
    "    tree_boxes_b, num_trees4img = detect.get_GD_boxes(img_b, seg_config.GD_model,\n",
    "                                        seg_config.TEXT_PROMPT,\n",
    "                                        seg_config.BOX_THRESHOLD,\n",
    "                                        seg_config.TEXT_THRESHOLD,\n",
    "                                        dataset.res,\n",
    "                                        device = seg_config.device,\n",
    "                                        max_area_mt2 = seg_config.max_area_GD_boxes_mt2)\n",
    "    \n",
    "    #get the building boxes in batches and the number of buildings for each image\n",
    "    building_boxes_b, num_build4img = detect.get_batch_buildings_boxes(batch['bbox'],\n",
    "                                                                proj_buildings_gdf = self.proj_build_gdf,\n",
    "                                                                dataset_res = dataset.res,\n",
    "                                                                ext_mt = 10)\n",
    "    max_detect = max(num_trees4img + num_build4img)\n",
    "    print(\"\\n__________________________\")\n",
    "    print(\"Batch number: \", i)\n",
    "    print(f'Num detections in batch: {num_trees4img + num_build4img}')\n",
    "    \n",
    "    #obtain the right input for the ESAM model (trees + buildings)\n",
    "    input_points, input_labels = segment_utils.get_input_pts_and_lbs(tree_boxes_b, building_boxes_b, max_detect)\n",
    "    \n",
    "    # segment the image and get for each image as many masks as the number of boxes,\n",
    "    # for GPU constraint use num_parall_queries\n",
    "    all_masks_b = segment.ESAM_from_inputs(original_img_tsr,\n",
    "                                            torch.from_numpy(input_points),\n",
    "                                            torch.from_numpy(input_labels),\n",
    "                                            efficient_sam = seg_config.efficient_sam,\n",
    "                                            device = seg_config.device,\n",
    "                                            num_parall_queries = 5)\n",
    "    \n",
    "    #for each image, discern the masks in trees, buildings and padding\n",
    "    tree_mask_b, building_mask_b, pad_mask_b = segment_utils.discern(all_masks_b, num_trees4img, num_build4img)\n",
    "    \n",
    "    if i == f_i:\n",
    "        break"
   ]
  },
  {
   "cell_type": "code",
   "execution_count": null,
   "metadata": {},
   "outputs": [],
   "source": [
    "from my_functions import plotting_utils as plu\n",
    "\n",
    "ix = 1\n",
    "plu.plot_comparison(img_b[ix], np.stack((tree_mask_b[ix], building_mask_b[ix])))"
   ]
  },
  {
   "cell_type": "code",
   "execution_count": 12,
   "metadata": {},
   "outputs": [],
   "source": [
    "def write_canvas(canvas: np.array,\n",
    "                 patch_masks_b: np.array,\n",
    "                 img_ixs: np.array,\n",
    "                 stride: int,\n",
    "                 total_cols: int):\n",
    "    \"\"\"\n",
    "    Write the patmasks in the canvas\n",
    "    Inputs:\n",
    "        canvas: np.array of shape (channel, h_tile, w_tile)\n",
    "        patch_masks_b: np.array of shape (b, channel, h_patch, w_patch)\n",
    "        img_ixs: np.array of shape (b,)\n",
    "    \"\"\"\n",
    "    size = patch_masks_b.shape[-1]\n",
    "    #print(\"img_ixs\", img_ixs)\n",
    "    for img_ix, patch_mask in zip(img_ixs, patch_masks_b):\n",
    "        rows_changed = img_ix // total_cols\n",
    "        cols_changed = img_ix % total_cols\n",
    "        inv_base = (canvas.shape[1] - 1 - size) - (stride * rows_changed)\n",
    "        base = (stride * cols_changed)\n",
    "        canva_writable_space = canvas[:, inv_base: inv_base + size, base: base + size].shape[1:] #useful when reached the border of the canva\n",
    "        print('\\nparte di canva', canvas[:, inv_base: inv_base + size, base: base + size].shape)\n",
    "        print('patch', patch_mask[:, :canva_writable_space[0], :canva_writable_space[1]].shape)\n",
    "        canvas[:, inv_base: inv_base + size, base: base + size] = patch_mask[:, :canva_writable_space[0], :canva_writable_space[1]]\n",
    "\n",
    "    return canvas"
   ]
  },
  {
   "cell_type": "code",
   "execution_count": 13,
   "metadata": {},
   "outputs": [
    {
     "name": "stderr",
     "output_type": "stream",
     "text": [
      "  0%|          | 0/1682 [00:00<?, ?it/s]"
     ]
    },
    {
     "name": "stdout",
     "output_type": "stream",
     "text": [
      "In sampler\n",
      "tile_polygon:  POLYGON ((315427.24609375 1485156.25, 320156.25 1485156.25, 320156.25 1479843.75, 315394.8974609375 1479843.75, 315427.24609375 1485156.25))\n"
     ]
    },
    {
     "name": "stderr",
     "output_type": "stream",
     "text": [
      "  0%|          | 1/1682 [00:00<15:44,  1.78it/s]"
     ]
    },
    {
     "name": "stdout",
     "output_type": "stream",
     "text": [
      "GD_time:  0.5186784267425537\n",
      "\n",
      "__________________________\n",
      "Batch number:  1\n",
      "Num detections in batch per img: [0 0]\n",
      "\n",
      "parte di canva (3, 600, 600)\n",
      "patch (3, 600, 600)\n",
      "\n",
      "parte di canva (3, 600, 600)\n",
      "patch (3, 600, 600)\n"
     ]
    },
    {
     "name": "stderr",
     "output_type": "stream",
     "text": [
      "  0%|          | 2/1682 [00:01<16:28,  1.70it/s]"
     ]
    },
    {
     "name": "stdout",
     "output_type": "stream",
     "text": [
      "GD_time:  0.5701959133148193\n",
      "\n",
      "__________________________\n",
      "Batch number:  2\n",
      "Num detections in batch per img: [0 0]\n",
      "\n",
      "parte di canva (3, 600, 600)\n",
      "patch (3, 600, 600)\n",
      "\n",
      "parte di canva (3, 600, 600)\n",
      "patch (3, 600, 600)\n",
      "GD_time:  0.5595622062683105\n",
      "\n",
      "__________________________\n",
      "Batch number:  3\n",
      "Num detections in batch per img: [ 6 51]\n"
     ]
    },
    {
     "name": "stderr",
     "output_type": "stream",
     "text": [
      "  0%|          | 3/1682 [00:02<28:01,  1.00s/it]"
     ]
    },
    {
     "name": "stdout",
     "output_type": "stream",
     "text": [
      "\n",
      "parte di canva (3, 600, 600)\n",
      "patch (3, 600, 600)\n",
      "\n",
      "parte di canva (3, 600, 600)\n",
      "patch (3, 600, 600)\n",
      "GD_time:  0.488964319229126\n",
      "\n",
      "__________________________\n",
      "Batch number:  4\n",
      "Num detections in batch per img: [102  78]\n"
     ]
    },
    {
     "name": "stderr",
     "output_type": "stream",
     "text": [
      "  0%|          | 4/1682 [00:05<44:16,  1.58s/it]"
     ]
    },
    {
     "name": "stdout",
     "output_type": "stream",
     "text": [
      "\n",
      "parte di canva (3, 600, 600)\n",
      "patch (3, 600, 600)\n",
      "\n",
      "parte di canva (3, 600, 600)\n",
      "patch (3, 600, 600)\n",
      "GD_time:  0.4842491149902344\n",
      "\n",
      "__________________________\n",
      "Batch number:  5\n",
      "Num detections in batch per img: [45 29]\n"
     ]
    },
    {
     "name": "stderr",
     "output_type": "stream",
     "text": [
      "  0%|          | 5/1682 [00:06<41:15,  1.48s/it]"
     ]
    },
    {
     "name": "stdout",
     "output_type": "stream",
     "text": [
      "\n",
      "parte di canva (3, 600, 600)\n",
      "patch (3, 600, 600)\n",
      "\n",
      "parte di canva (3, 600, 600)\n",
      "patch (3, 600, 600)\n",
      "GD_time:  0.48392653465270996\n",
      "\n",
      "__________________________\n",
      "Batch number:  6\n",
      "Num detections in batch per img: [54 78]\n"
     ]
    },
    {
     "name": "stderr",
     "output_type": "stream",
     "text": [
      "  0%|          | 6/1682 [00:08<44:48,  1.60s/it]"
     ]
    },
    {
     "name": "stdout",
     "output_type": "stream",
     "text": [
      "\n",
      "parte di canva (3, 600, 600)\n",
      "patch (3, 600, 600)\n",
      "\n",
      "parte di canva (3, 600, 600)\n",
      "patch (3, 600, 600)\n",
      "GD_time:  0.48981475830078125\n",
      "\n",
      "__________________________\n",
      "Batch number:  7\n",
      "Num detections in batch per img: [90 83]\n"
     ]
    },
    {
     "name": "stderr",
     "output_type": "stream",
     "text": [
      "  0%|          | 7/1682 [00:10<51:08,  1.83s/it]"
     ]
    },
    {
     "name": "stdout",
     "output_type": "stream",
     "text": [
      "\n",
      "parte di canva (3, 600, 600)\n",
      "patch (3, 600, 600)\n",
      "\n",
      "parte di canva (3, 600, 600)\n",
      "patch (3, 600, 600)\n",
      "GD_time:  0.4922783374786377\n",
      "\n",
      "__________________________\n",
      "Batch number:  8\n",
      "Num detections in batch per img: [78 73]\n"
     ]
    },
    {
     "name": "stderr",
     "output_type": "stream",
     "text": [
      "  0%|          | 8/1682 [00:12<51:26,  1.84s/it]"
     ]
    },
    {
     "name": "stdout",
     "output_type": "stream",
     "text": [
      "\n",
      "parte di canva (3, 600, 600)\n",
      "patch (3, 600, 600)\n",
      "\n",
      "parte di canva (3, 600, 600)\n",
      "patch (3, 600, 600)\n",
      "GD_time:  0.48270153999328613\n",
      "\n",
      "__________________________\n",
      "Batch number:  9\n",
      "Num detections in batch per img: [81 67]\n"
     ]
    },
    {
     "name": "stderr",
     "output_type": "stream",
     "text": [
      "  1%|          | 9/1682 [00:14<54:23,  1.95s/it]"
     ]
    },
    {
     "name": "stdout",
     "output_type": "stream",
     "text": [
      "\n",
      "parte di canva (3, 600, 600)\n",
      "patch (3, 600, 600)\n",
      "\n",
      "parte di canva (3, 600, 600)\n",
      "patch (3, 600, 600)\n",
      "GD_time:  0.5176615715026855\n",
      "\n",
      "__________________________\n",
      "Batch number:  10\n",
      "Num detections in batch per img: [32 22]\n"
     ]
    },
    {
     "name": "stderr",
     "output_type": "stream",
     "text": [
      "  1%|          | 10/1682 [00:15<47:07,  1.69s/it]"
     ]
    },
    {
     "name": "stdout",
     "output_type": "stream",
     "text": [
      "\n",
      "parte di canva (3, 600, 600)\n",
      "patch (3, 600, 600)\n",
      "\n",
      "parte di canva (3, 600, 600)\n",
      "patch (3, 600, 600)\n",
      "GD_time:  0.4971582889556885\n",
      "\n",
      "__________________________\n",
      "Batch number:  11\n",
      "Num detections in batch per img: [37 60]\n"
     ]
    },
    {
     "name": "stderr",
     "output_type": "stream",
     "text": [
      "  1%|          | 11/1682 [00:17<45:37,  1.64s/it]"
     ]
    },
    {
     "name": "stdout",
     "output_type": "stream",
     "text": [
      "\n",
      "parte di canva (3, 600, 600)\n",
      "patch (3, 600, 600)\n",
      "\n",
      "parte di canva (3, 600, 600)\n",
      "patch (3, 600, 600)\n",
      "GD_time:  0.48652124404907227\n",
      "\n",
      "__________________________\n",
      "Batch number:  12\n",
      "Num detections in batch per img: [64 76]\n"
     ]
    },
    {
     "name": "stderr",
     "output_type": "stream",
     "text": [
      "  1%|          | 12/1682 [00:19<48:38,  1.75s/it]"
     ]
    },
    {
     "name": "stdout",
     "output_type": "stream",
     "text": [
      "\n",
      "parte di canva (3, 600, 600)\n",
      "patch (3, 600, 600)\n",
      "\n",
      "parte di canva (3, 600, 600)\n",
      "patch (3, 600, 600)\n",
      "GD_time:  0.48552989959716797\n",
      "\n",
      "__________________________\n",
      "Batch number:  13\n",
      "Num detections in batch per img: [ 97 119]\n"
     ]
    },
    {
     "name": "stderr",
     "output_type": "stream",
     "text": [
      "  1%|          | 13/1682 [00:22<58:37,  2.11s/it]"
     ]
    },
    {
     "name": "stdout",
     "output_type": "stream",
     "text": [
      "\n",
      "parte di canva (3, 600, 600)\n",
      "patch (3, 600, 600)\n",
      "\n",
      "parte di canva (3, 600, 600)\n",
      "patch (3, 600, 600)\n",
      "GD_time:  0.4897136688232422\n",
      "\n",
      "__________________________\n",
      "Batch number:  14\n",
      "Num detections in batch per img: [111 104]\n"
     ]
    },
    {
     "name": "stderr",
     "output_type": "stream",
     "text": [
      "  1%|          | 14/1682 [00:24<1:04:15,  2.31s/it]"
     ]
    },
    {
     "name": "stdout",
     "output_type": "stream",
     "text": [
      "\n",
      "parte di canva (3, 600, 600)\n",
      "patch (3, 600, 600)\n",
      "\n",
      "parte di canva (3, 600, 600)\n",
      "patch (3, 600, 600)\n",
      "GD_time:  0.48824167251586914\n",
      "\n",
      "__________________________\n",
      "Batch number:  15\n",
      "Num detections in batch per img: [119 144]\n"
     ]
    },
    {
     "name": "stderr",
     "output_type": "stream",
     "text": [
      "  1%|          | 15/1682 [00:28<1:16:12,  2.74s/it]"
     ]
    },
    {
     "name": "stdout",
     "output_type": "stream",
     "text": [
      "\n",
      "parte di canva (3, 600, 600)\n",
      "patch (3, 600, 600)\n",
      "\n",
      "parte di canva (3, 600, 600)\n",
      "patch (3, 600, 600)\n",
      "GD_time:  0.48972296714782715\n",
      "\n",
      "__________________________\n",
      "Batch number:  16\n",
      "Num detections in batch per img: [146 152]\n"
     ]
    },
    {
     "name": "stderr",
     "output_type": "stream",
     "text": [
      "  1%|          | 16/1682 [00:32<1:27:39,  3.16s/it]"
     ]
    },
    {
     "name": "stdout",
     "output_type": "stream",
     "text": [
      "\n",
      "parte di canva (3, 600, 600)\n",
      "patch (3, 600, 600)\n",
      "\n",
      "parte di canva (3, 600, 600)\n",
      "patch (3, 600, 600)\n",
      "GD_time:  0.490833044052124\n",
      "\n",
      "__________________________\n",
      "Batch number:  17\n",
      "Num detections in batch per img: [162 132]\n"
     ]
    },
    {
     "name": "stderr",
     "output_type": "stream",
     "text": [
      "  1%|          | 17/1682 [00:37<1:39:07,  3.57s/it]"
     ]
    },
    {
     "name": "stdout",
     "output_type": "stream",
     "text": [
      "\n",
      "parte di canva (3, 600, 600)\n",
      "patch (3, 600, 600)\n",
      "\n",
      "parte di canva (3, 600, 600)\n",
      "patch (3, 600, 600)\n",
      "GD_time:  0.4985954761505127\n",
      "\n",
      "__________________________\n",
      "Batch number:  18\n",
      "Num detections in batch per img: [126 168]\n"
     ]
    },
    {
     "name": "stderr",
     "output_type": "stream",
     "text": [
      "  1%|          | 18/1682 [00:42<1:48:18,  3.91s/it]"
     ]
    },
    {
     "name": "stdout",
     "output_type": "stream",
     "text": [
      "\n",
      "parte di canva (3, 600, 600)\n",
      "patch (3, 600, 600)\n",
      "\n",
      "parte di canva (3, 600, 600)\n",
      "patch (3, 600, 600)\n",
      "GD_time:  0.4842205047607422\n",
      "\n",
      "__________________________\n",
      "Batch number:  19\n",
      "Num detections in batch per img: [177 134]\n"
     ]
    },
    {
     "name": "stderr",
     "output_type": "stream",
     "text": [
      "  1%|          | 19/1682 [00:46<1:56:51,  4.22s/it]"
     ]
    },
    {
     "name": "stdout",
     "output_type": "stream",
     "text": [
      "\n",
      "parte di canva (3, 600, 600)\n",
      "patch (3, 600, 600)\n",
      "\n",
      "parte di canva (3, 600, 600)\n",
      "patch (3, 600, 600)\n",
      "GD_time:  0.48509645462036133\n",
      "\n",
      "__________________________\n",
      "Batch number:  20\n",
      "Num detections in batch per img: [141 113]\n"
     ]
    },
    {
     "name": "stderr",
     "output_type": "stream",
     "text": [
      "  1%|          | 20/1682 [00:50<1:53:32,  4.10s/it]"
     ]
    },
    {
     "name": "stdout",
     "output_type": "stream",
     "text": [
      "\n",
      "parte di canva (3, 600, 600)\n",
      "patch (3, 600, 600)\n",
      "\n",
      "parte di canva (3, 600, 600)\n",
      "patch (3, 600, 600)\n",
      "GD_time:  0.4893667697906494\n",
      "\n",
      "__________________________\n",
      "Batch number:  21\n",
      "Num detections in batch per img: [121 130]\n"
     ]
    },
    {
     "name": "stderr",
     "output_type": "stream",
     "text": [
      "  1%|          | 21/1682 [00:54<1:47:15,  3.87s/it]"
     ]
    },
    {
     "name": "stdout",
     "output_type": "stream",
     "text": [
      "\n",
      "parte di canva (3, 600, 600)\n",
      "patch (3, 600, 600)\n",
      "\n",
      "parte di canva (3, 600, 600)\n",
      "patch (3, 600, 600)\n",
      "GD_time:  0.49751949310302734\n",
      "\n",
      "__________________________\n",
      "Batch number:  22\n",
      "Num detections in batch per img: [105  77]\n"
     ]
    },
    {
     "name": "stderr",
     "output_type": "stream",
     "text": [
      "  1%|▏         | 22/1682 [00:56<1:36:54,  3.50s/it]"
     ]
    },
    {
     "name": "stdout",
     "output_type": "stream",
     "text": [
      "\n",
      "parte di canva (3, 600, 600)\n",
      "patch (3, 600, 600)\n",
      "\n",
      "parte di canva (3, 600, 600)\n",
      "patch (3, 600, 600)\n",
      "GD_time:  0.48704004287719727\n",
      "\n",
      "__________________________\n",
      "Batch number:  23\n",
      "Num detections in batch per img: [83 60]\n"
     ]
    },
    {
     "name": "stderr",
     "output_type": "stream",
     "text": [
      "  1%|▏         | 23/1682 [00:58<1:24:53,  3.07s/it]"
     ]
    },
    {
     "name": "stdout",
     "output_type": "stream",
     "text": [
      "\n",
      "parte di canva (3, 600, 600)\n",
      "patch (3, 600, 600)\n",
      "\n",
      "parte di canva (3, 600, 600)\n",
      "patch (3, 600, 600)\n",
      "GD_time:  0.4972820281982422\n",
      "\n",
      "__________________________\n",
      "Batch number:  24\n",
      "Num detections in batch per img: [48 72]\n"
     ]
    },
    {
     "name": "stderr",
     "output_type": "stream",
     "text": [
      "  1%|▏         | 24/1682 [01:00<1:14:36,  2.70s/it]"
     ]
    },
    {
     "name": "stdout",
     "output_type": "stream",
     "text": [
      "\n",
      "parte di canva (3, 600, 600)\n",
      "patch (3, 600, 600)\n",
      "\n",
      "parte di canva (3, 600, 600)\n",
      "patch (3, 600, 600)\n",
      "GD_time:  0.5061535835266113\n",
      "\n",
      "__________________________\n",
      "Batch number:  25\n",
      "Num detections in batch per img: [112 127]\n"
     ]
    },
    {
     "name": "stderr",
     "output_type": "stream",
     "text": [
      "  1%|▏         | 25/1682 [01:04<1:19:58,  2.90s/it]"
     ]
    },
    {
     "name": "stdout",
     "output_type": "stream",
     "text": [
      "\n",
      "parte di canva (3, 600, 600)\n",
      "patch (3, 600, 600)\n",
      "\n",
      "parte di canva (3, 600, 600)\n",
      "patch (3, 600, 600)\n",
      "GD_time:  0.4856555461883545\n",
      "\n",
      "__________________________\n",
      "Batch number:  26\n",
      "Num detections in batch per img: [145 169]\n"
     ]
    },
    {
     "name": "stderr",
     "output_type": "stream",
     "text": [
      "  2%|▏         | 26/1682 [01:08<1:35:14,  3.45s/it]"
     ]
    },
    {
     "name": "stdout",
     "output_type": "stream",
     "text": [
      "\n",
      "parte di canva (3, 600, 600)\n",
      "patch (3, 600, 600)\n",
      "\n",
      "parte di canva (3, 600, 600)\n",
      "patch (3, 600, 600)\n",
      "GD_time:  0.48273801803588867\n",
      "\n",
      "__________________________\n",
      "Batch number:  27\n",
      "Num detections in batch per img: [152 156]\n"
     ]
    },
    {
     "name": "stderr",
     "output_type": "stream",
     "text": [
      "  2%|▏         | 27/1682 [01:13<1:41:42,  3.69s/it]"
     ]
    },
    {
     "name": "stdout",
     "output_type": "stream",
     "text": [
      "\n",
      "parte di canva (3, 600, 600)\n",
      "patch (3, 600, 600)\n",
      "\n",
      "parte di canva (3, 600, 600)\n",
      "patch (3, 600, 600)\n",
      "GD_time:  0.481931209564209\n",
      "\n",
      "__________________________\n",
      "Batch number:  28\n",
      "Num detections in batch per img: [142 119]\n"
     ]
    },
    {
     "name": "stderr",
     "output_type": "stream",
     "text": [
      "  2%|▏         | 28/1682 [01:16<1:42:26,  3.72s/it]"
     ]
    },
    {
     "name": "stdout",
     "output_type": "stream",
     "text": [
      "\n",
      "parte di canva (3, 600, 600)\n",
      "patch (3, 600, 600)\n",
      "\n",
      "parte di canva (3, 600, 600)\n",
      "patch (3, 600, 600)\n",
      "GD_time:  0.5005137920379639\n",
      "\n",
      "__________________________\n",
      "Batch number:  29\n",
      "Num detections in batch per img: [100  55]\n"
     ]
    },
    {
     "name": "stderr",
     "output_type": "stream",
     "text": [
      "  2%|▏         | 29/1682 [01:19<1:32:11,  3.35s/it]"
     ]
    },
    {
     "name": "stdout",
     "output_type": "stream",
     "text": [
      "\n",
      "parte di canva (3, 600, 600)\n",
      "patch (3, 600, 600)\n",
      "\n",
      "parte di canva (3, 600, 308)\n",
      "patch (3, 600, 308)\n"
     ]
    },
    {
     "name": "stderr",
     "output_type": "stream",
     "text": [
      "  2%|▏         | 30/1682 [01:19<1:08:46,  2.50s/it]"
     ]
    },
    {
     "name": "stdout",
     "output_type": "stream",
     "text": [
      "GD_time:  0.49041032791137695\n",
      "\n",
      "__________________________\n",
      "Batch number:  30\n",
      "Num detections in batch per img: [0 0]\n",
      "\n",
      "parte di canva (3, 600, 600)\n",
      "patch (3, 600, 600)\n",
      "\n",
      "parte di canva (3, 600, 600)\n",
      "patch (3, 600, 600)\n"
     ]
    },
    {
     "name": "stderr",
     "output_type": "stream",
     "text": [
      "  2%|▏         | 31/1682 [01:20<53:07,  1.93s/it]  "
     ]
    },
    {
     "name": "stdout",
     "output_type": "stream",
     "text": [
      "GD_time:  0.5890471935272217\n",
      "\n",
      "__________________________\n",
      "Batch number:  31\n",
      "Num detections in batch per img: [0 0]\n",
      "\n",
      "parte di canva (3, 600, 600)\n",
      "patch (3, 600, 600)\n",
      "\n",
      "parte di canva (3, 600, 600)\n",
      "patch (3, 600, 600)\n",
      "GD_time:  0.5934374332427979\n",
      "\n",
      "__________________________\n",
      "Batch number:  32\n",
      "Num detections in batch per img: [ 6 43]\n"
     ]
    },
    {
     "name": "stderr",
     "output_type": "stream",
     "text": [
      "  2%|▏         | 32/1682 [01:21<48:03,  1.75s/it]"
     ]
    },
    {
     "name": "stdout",
     "output_type": "stream",
     "text": [
      "\n",
      "parte di canva (3, 600, 600)\n",
      "patch (3, 600, 600)\n",
      "\n",
      "parte di canva (3, 600, 600)\n",
      "patch (3, 600, 600)\n",
      "GD_time:  0.4880220890045166\n",
      "\n",
      "__________________________\n",
      "Batch number:  33\n",
      "Num detections in batch per img: [86 80]\n"
     ]
    },
    {
     "name": "stderr",
     "output_type": "stream",
     "text": [
      "  2%|▏         | 33/1682 [01:23<51:57,  1.89s/it]"
     ]
    },
    {
     "name": "stdout",
     "output_type": "stream",
     "text": [
      "\n",
      "parte di canva (3, 600, 600)\n",
      "patch (3, 600, 600)\n",
      "\n",
      "parte di canva (3, 600, 600)\n",
      "patch (3, 600, 600)\n",
      "GD_time:  0.48785996437072754\n",
      "\n",
      "__________________________\n",
      "Batch number:  34\n",
      "Num detections in batch per img: [52 45]\n"
     ]
    },
    {
     "name": "stderr",
     "output_type": "stream",
     "text": [
      "  2%|▏         | 34/1682 [01:25<47:49,  1.74s/it]"
     ]
    },
    {
     "name": "stdout",
     "output_type": "stream",
     "text": [
      "\n",
      "parte di canva (3, 600, 600)\n",
      "patch (3, 600, 600)\n",
      "\n",
      "parte di canva (3, 600, 600)\n",
      "patch (3, 600, 600)\n",
      "GD_time:  0.48991918563842773\n",
      "\n",
      "__________________________\n",
      "Batch number:  35\n",
      "Num detections in batch per img: [70 88]\n"
     ]
    },
    {
     "name": "stderr",
     "output_type": "stream",
     "text": [
      "  2%|▏         | 35/1682 [01:27<51:32,  1.88s/it]"
     ]
    },
    {
     "name": "stdout",
     "output_type": "stream",
     "text": [
      "\n",
      "parte di canva (3, 600, 600)\n",
      "patch (3, 600, 600)\n",
      "\n",
      "parte di canva (3, 600, 600)\n",
      "patch (3, 600, 600)\n",
      "GD_time:  0.5104312896728516\n",
      "\n",
      "__________________________\n",
      "Batch number:  36\n",
      "Num detections in batch per img: [84 63]\n"
     ]
    },
    {
     "name": "stderr",
     "output_type": "stream",
     "text": [
      "  2%|▏         | 36/1682 [01:29<53:14,  1.94s/it]"
     ]
    },
    {
     "name": "stdout",
     "output_type": "stream",
     "text": [
      "\n",
      "parte di canva (3, 600, 600)\n",
      "patch (3, 600, 600)\n",
      "\n",
      "parte di canva (3, 600, 600)\n",
      "patch (3, 600, 600)\n",
      "GD_time:  0.4903564453125\n",
      "\n",
      "__________________________\n",
      "Batch number:  37\n",
      "Num detections in batch per img: [54 58]\n"
     ]
    },
    {
     "name": "stderr",
     "output_type": "stream",
     "text": [
      "  2%|▏         | 37/1682 [01:31<49:39,  1.81s/it]"
     ]
    },
    {
     "name": "stdout",
     "output_type": "stream",
     "text": [
      "\n",
      "parte di canva (3, 600, 600)\n",
      "patch (3, 600, 600)\n",
      "\n",
      "parte di canva (3, 600, 600)\n",
      "patch (3, 600, 600)\n",
      "GD_time:  0.4880964756011963\n",
      "\n",
      "__________________________\n",
      "Batch number:  38\n",
      "Num detections in batch per img: [66 63]\n"
     ]
    },
    {
     "name": "stderr",
     "output_type": "stream",
     "text": [
      "  2%|▏         | 38/1682 [01:32<48:46,  1.78s/it]"
     ]
    },
    {
     "name": "stdout",
     "output_type": "stream",
     "text": [
      "\n",
      "parte di canva (3, 600, 600)\n",
      "patch (3, 600, 600)\n",
      "\n",
      "parte di canva (3, 600, 600)\n",
      "patch (3, 600, 600)\n",
      "GD_time:  0.49414515495300293\n",
      "\n",
      "__________________________\n",
      "Batch number:  39\n",
      "Num detections in batch per img: [20  1]\n"
     ]
    },
    {
     "name": "stderr",
     "output_type": "stream",
     "text": [
      "  2%|▏         | 39/1682 [01:33<41:41,  1.52s/it]"
     ]
    },
    {
     "name": "stdout",
     "output_type": "stream",
     "text": [
      "\n",
      "parte di canva (3, 600, 600)\n",
      "patch (3, 600, 600)\n",
      "\n",
      "parte di canva (3, 600, 600)\n",
      "patch (3, 600, 600)\n",
      "GD_time:  0.5052666664123535\n",
      "\n",
      "__________________________\n",
      "Batch number:  40\n",
      "Num detections in batch per img: [15 58]\n"
     ]
    },
    {
     "name": "stderr",
     "output_type": "stream",
     "text": [
      "  2%|▏         | 40/1682 [01:35<42:10,  1.54s/it]"
     ]
    },
    {
     "name": "stdout",
     "output_type": "stream",
     "text": [
      "\n",
      "parte di canva (3, 600, 600)\n",
      "patch (3, 600, 600)\n",
      "\n",
      "parte di canva (3, 600, 600)\n",
      "patch (3, 600, 600)\n",
      "GD_time:  0.4941251277923584\n",
      "\n",
      "__________________________\n",
      "Batch number:  41\n",
      "Num detections in batch per img: [69 57]\n"
     ]
    },
    {
     "name": "stderr",
     "output_type": "stream",
     "text": [
      "  2%|▏         | 41/1682 [01:37<43:33,  1.59s/it]"
     ]
    },
    {
     "name": "stdout",
     "output_type": "stream",
     "text": [
      "\n",
      "parte di canva (3, 600, 600)\n",
      "patch (3, 600, 600)\n",
      "\n",
      "parte di canva (3, 600, 600)\n",
      "patch (3, 600, 600)\n",
      "GD_time:  0.4863715171813965\n",
      "\n",
      "__________________________\n",
      "Batch number:  42\n",
      "Num detections in batch per img: [ 73 108]\n"
     ]
    },
    {
     "name": "stderr",
     "output_type": "stream",
     "text": [
      "  2%|▏         | 42/1682 [01:39<52:45,  1.93s/it]"
     ]
    },
    {
     "name": "stdout",
     "output_type": "stream",
     "text": [
      "\n",
      "parte di canva (3, 600, 600)\n",
      "patch (3, 600, 600)\n",
      "\n",
      "parte di canva (3, 600, 600)\n",
      "patch (3, 600, 600)\n",
      "GD_time:  0.4922828674316406\n",
      "\n",
      "__________________________\n",
      "Batch number:  43\n",
      "Num detections in batch per img: [98 84]\n"
     ]
    },
    {
     "name": "stderr",
     "output_type": "stream",
     "text": [
      "  3%|▎         | 43/1682 [01:42<56:49,  2.08s/it]"
     ]
    },
    {
     "name": "stdout",
     "output_type": "stream",
     "text": [
      "\n",
      "parte di canva (3, 600, 600)\n",
      "patch (3, 600, 600)\n",
      "\n",
      "parte di canva (3, 600, 600)\n",
      "patch (3, 600, 600)\n",
      "GD_time:  0.5114972591400146\n",
      "\n",
      "__________________________\n",
      "Batch number:  44\n",
      "Num detections in batch per img: [97 96]\n"
     ]
    },
    {
     "name": "stderr",
     "output_type": "stream",
     "text": [
      "  3%|▎         | 44/1682 [01:44<59:51,  2.19s/it]"
     ]
    },
    {
     "name": "stdout",
     "output_type": "stream",
     "text": [
      "\n",
      "parte di canva (3, 600, 600)\n",
      "patch (3, 600, 600)\n",
      "\n",
      "parte di canva (3, 600, 600)\n",
      "patch (3, 600, 600)\n",
      "GD_time:  0.4983181953430176\n",
      "\n",
      "__________________________\n",
      "Batch number:  45\n",
      "Num detections in batch per img: [105 127]\n"
     ]
    },
    {
     "name": "stderr",
     "output_type": "stream",
     "text": [
      "  3%|▎         | 45/1682 [01:47<1:08:52,  2.52s/it]"
     ]
    },
    {
     "name": "stdout",
     "output_type": "stream",
     "text": [
      "\n",
      "parte di canva (3, 600, 600)\n",
      "patch (3, 600, 600)\n",
      "\n",
      "parte di canva (3, 600, 600)\n",
      "patch (3, 600, 600)\n",
      "GD_time:  0.5000081062316895\n",
      "\n",
      "__________________________\n",
      "Batch number:  46\n",
      "Num detections in batch per img: [139 143]\n"
     ]
    },
    {
     "name": "stderr",
     "output_type": "stream",
     "text": [
      "  3%|▎         | 46/1682 [01:51<1:19:19,  2.91s/it]"
     ]
    },
    {
     "name": "stdout",
     "output_type": "stream",
     "text": [
      "\n",
      "parte di canva (3, 600, 600)\n",
      "patch (3, 600, 600)\n",
      "\n",
      "parte di canva (3, 600, 600)\n",
      "patch (3, 600, 600)\n",
      "GD_time:  0.5055358409881592\n",
      "\n",
      "__________________________\n",
      "Batch number:  47\n",
      "Num detections in batch per img: [133 139]\n"
     ]
    },
    {
     "name": "stderr",
     "output_type": "stream",
     "text": [
      "  3%|▎         | 47/1682 [01:55<1:24:52,  3.11s/it]"
     ]
    },
    {
     "name": "stdout",
     "output_type": "stream",
     "text": [
      "\n",
      "parte di canva (3, 600, 600)\n",
      "patch (3, 600, 600)\n",
      "\n",
      "parte di canva (3, 600, 600)\n",
      "patch (3, 600, 600)\n",
      "GD_time:  0.48621392250061035\n",
      "\n",
      "__________________________\n",
      "Batch number:  48\n",
      "Num detections in batch per img: [131 130]\n"
     ]
    },
    {
     "name": "stderr",
     "output_type": "stream",
     "text": [
      "  3%|▎         | 48/1682 [01:58<1:27:25,  3.21s/it]"
     ]
    },
    {
     "name": "stdout",
     "output_type": "stream",
     "text": [
      "\n",
      "parte di canva (3, 600, 600)\n",
      "patch (3, 600, 600)\n",
      "\n",
      "parte di canva (3, 600, 600)\n",
      "patch (3, 600, 600)\n",
      "GD_time:  0.4966580867767334\n",
      "\n",
      "__________________________\n",
      "Batch number:  49\n",
      "Num detections in batch per img: [140 120]\n"
     ]
    },
    {
     "name": "stderr",
     "output_type": "stream",
     "text": [
      "  3%|▎         | 49/1682 [02:02<1:30:39,  3.33s/it]"
     ]
    },
    {
     "name": "stdout",
     "output_type": "stream",
     "text": [
      "\n",
      "parte di canva (3, 600, 600)\n",
      "patch (3, 600, 600)\n",
      "\n",
      "parte di canva (3, 600, 600)\n",
      "patch (3, 600, 600)\n",
      "GD_time:  0.4962198734283447\n",
      "\n",
      "__________________________\n",
      "Batch number:  50\n",
      "Num detections in batch per img: [140 142]\n"
     ]
    },
    {
     "name": "stderr",
     "output_type": "stream",
     "text": [
      "  3%|▎         | 49/1682 [02:06<1:10:06,  2.58s/it]"
     ]
    },
    {
     "name": "stdout",
     "output_type": "stream",
     "text": [
      "\n",
      "parte di canva (3, 600, 600)\n",
      "patch (3, 600, 600)\n",
      "\n",
      "parte di canva (3, 600, 600)\n",
      "patch (3, 600, 600)\n",
      "\n",
      "Total Time for 100 images:  126.22936868667603\n"
     ]
    },
    {
     "name": "stderr",
     "output_type": "stream",
     "text": [
      "\n"
     ]
    }
   ],
   "source": [
    "def segment_tile(self, tile_path):\n",
    "    seg_config = self.event.seg_config\n",
    "\n",
    "    dataset = geoDatasets.MxrSingleTile(str(tile_path))\n",
    "    sampler = samplers.WholeTifGridGeoSampler(dataset, batch_size=seg_config.batch_size, size=seg_config.size, stride=seg_config.stride)\n",
    "    dataloader = DataLoader(dataset , batch_sampler=sampler, collate_fn=stack_samples)\n",
    "\n",
    "    canvas = np.zeros((3,) + samplers_utils.tile_sizes(dataset), dtype=np.uint8) #dim (3, h_tile, w_tile). The first dim is tree, build, pad\n",
    "    \n",
    "    all_batches_img_ixs = np.arange(len(sampler)).reshape((-1, batch_size))\n",
    "    _, total_cols = sampler.get_num_rows_cols()\n",
    "    \n",
    "    i = 0\n",
    "    f_i = 50\n",
    "    start_time_all = time()\n",
    "    for batch_ix, batch in tqdm(enumerate(dataloader), total = len(dataloader)):\n",
    "        i+=1\n",
    "        original_img_tsr = batch['image']\n",
    "        img_b = batch['image'].permute(0,2,3,1).numpy().astype('uint8') #TODO: l'immagine viene convertita in numpy ma magari è meglio lasciarla in tensor\n",
    "\n",
    "        #trees\n",
    "        GD_t_0 = time()\n",
    "        \n",
    "        #get the tree boxes in batches and the number of trees for each image\n",
    "        tree_boxes_b, num_trees4img = detect.get_GD_boxes(img_b,\n",
    "                                            seg_config.GD_model,\n",
    "                                            seg_config.TEXT_PROMPT,\n",
    "                                            seg_config.BOX_THRESHOLD,\n",
    "                                            seg_config.TEXT_THRESHOLD,\n",
    "                                            dataset.res,\n",
    "                                            device = seg_config.device,\n",
    "                                            max_area_mt2 = seg_config.max_area_GD_boxes_mt2)\n",
    "        #tree_boxes_b è una lista con degli array di shape (n, 4) dove n è il numero di tree boxes\n",
    "        \n",
    "        #print('GD_time: ', time() - GD_t_0)\n",
    "\n",
    "        #get the building boxes in batches and the number of buildings for each image\n",
    "        building_boxes_b, num_build4img = detect.get_batch_buildings_boxes(batch['bbox'],\n",
    "                                                                    proj_buildings_gdf = self.proj_build_gdf,\n",
    "                                                                    dataset_res = dataset.res,\n",
    "                                                                    ext_mt = 10)\n",
    "        \n",
    "        #building_boxes_b è una lista con degli array di shape (n, 4) dove n è il numero di building boxes\n",
    "        \n",
    "        max_detect = max(num_trees4img + num_build4img)\n",
    "        \n",
    "        #print(\"\\n__________________________\")\n",
    "        #print(\"Batch number: \", i)\n",
    "        #print(f'Num detections in batch per img: {num_trees4img + num_build4img}')\n",
    "        \n",
    "        #obtain the right input for the ESAM model (trees + buildings)\n",
    "        input_points, input_labels = segment_utils.get_input_pts_and_lbs(tree_boxes_b, building_boxes_b, max_detect)\n",
    "        \n",
    "        # segment the image and get for each image as many masks as the number of boxes,\n",
    "        # for GPU constraint use num_parall_queries\n",
    "        all_masks_b = segment.ESAM_from_inputs(original_img_tsr,\n",
    "                                                torch.from_numpy(input_points),\n",
    "                                                torch.from_numpy(input_labels),\n",
    "                                                efficient_sam = seg_config.efficient_sam,\n",
    "                                                device = seg_config.device,\n",
    "                                                num_parall_queries = 5)\n",
    "        \n",
    "        \n",
    "        #for each image, discern the masks in trees, buildings and padding\n",
    "        patch_masks_b = segment_utils.discern_mode(all_masks_b, num_trees4img, num_build4img, mode = 'bchw')\n",
    "        \n",
    "        canvas = write_canvas(canvas = canvas,\n",
    "                                            patch_masks_b =  patch_masks_b,\n",
    "                                            img_ixs = all_batches_img_ixs[batch_ix],\n",
    "                                            stride = seg_config.stride,\n",
    "                                            total_cols = total_cols)\n",
    "        \n",
    "        if i == f_i:\n",
    "            break\n",
    "        \n",
    "    #print(f'\\nTotal Time for {seg_config.batch_size * i} images: ', time() - start_time_all)\n",
    "    return canvas\n",
    "\n",
    "canvas = segment_tile(m0, m0.tiles_paths[17])\n",
    "#img_b, original_img, tree_boxes_b, building_boxes_b, all_masks_b, tree_mask_b, building_mask_b, pad_mask_b = segment_tile(m0, m0.tiles_paths[17])"
   ]
  },
  {
   "cell_type": "code",
   "execution_count": 14,
   "metadata": {},
   "outputs": [
    {
     "data": {
      "text/plain": [
       "array([0, 1], dtype=uint8)"
      ]
     },
     "execution_count": 14,
     "metadata": {},
     "output_type": "execute_result"
    }
   ],
   "source": [
    "np.unique(canvas)"
   ]
  },
  {
   "cell_type": "code",
   "execution_count": 19,
   "metadata": {},
   "outputs": [
    {
     "data": {
      "image/png": "[encoded data removed]",
      "text/plain": [
       "<Figure size 640x480 with 1 Axes>"
      ]
     },
     "metadata": {},
     "output_type": "display_data"
    }
   ],
   "source": [
    "import matplotlib.pyplot as plt\n",
    "\n",
    "# Visualize the array\n",
    "plt.imshow(canvas[1], cmap='gray')\n",
    "plt.show()"
   ]
  },
  {
   "cell_type": "code",
   "execution_count": null,
   "metadata": {},
   "outputs": [
    {
     "data": {
      "text/plain": [
       "array([[-1., -1., -1.],\n",
       "       [-1., -1., -1.]])"
      ]
     },
     "execution_count": 14,
     "metadata": {},
     "output_type": "execute_result"
    }
   ],
   "source": [
    "-np.ones((2,3))"
   ]
  },
  {
   "cell_type": "markdown",
   "metadata": {},
   "source": [
    "Trying a new geodataset"
   ]
  },
  {
   "cell_type": "code",
   "execution_count": null,
   "metadata": {},
   "outputs": [],
   "source": [
    "from pathlib import Path\n",
    "import matplotlib.pyplot as plt\n",
    "tile_path = Path('/mnt/data2/vaschetti_data/maxar/Gambia-flooding-8-11-2022/pre/10300100CFC9A500/033133031233.tif')"
   ]
  },
  {
   "cell_type": "code",
   "execution_count": null,
   "metadata": {},
   "outputs": [],
   "source": [
    "dataset = geoDatasets.MxrSingleTile(str(tile_path))\n",
    "sampler = samplers.WholeTifGridGeoSampler(dataset, batch_size=1, size= 1000, stride=1000)\n",
    "dataloader = DataLoader(dataset , batch_sampler=sampler, collate_fn=stack_samples)"
   ]
  },
  {
   "cell_type": "code",
   "execution_count": null,
   "metadata": {},
   "outputs": [
    {
     "data": {
      "text/plain": [
       "(17408, 17408)"
      ]
     },
     "execution_count": 9,
     "metadata": {},
     "output_type": "execute_result"
    }
   ],
   "source": [
    "samplers_utils.tile_sizes(dataset)"
   ]
  },
  {
   "cell_type": "code",
   "execution_count": null,
   "metadata": {},
   "outputs": [
    {
     "data": {
      "text/plain": [
       "(18, 18)"
      ]
     },
     "execution_count": 7,
     "metadata": {},
     "output_type": "execute_result"
    }
   ],
   "source": [
    "sampler.get_rows_cols()"
   ]
  },
  {
   "cell_type": "code",
   "execution_count": null,
   "metadata": {},
   "outputs": [],
   "source": [
    "canvas = np.zeros(samplers_utils.tile_sizes(dataset) +  (3,) , dtype=np.uint8)"
   ]
  },
  {
   "cell_type": "code",
   "execution_count": null,
   "metadata": {},
   "outputs": [
    {
     "data": {
      "text/plain": [
       "(17408, 17408, 3)"
      ]
     },
     "execution_count": 21,
     "metadata": {},
     "output_type": "execute_result"
    }
   ],
   "source": [
    "canvas.shape"
   ]
  },
  {
   "cell_type": "code",
   "execution_count": null,
   "metadata": {},
   "outputs": [],
   "source": [
    "batch_size=4\n",
    "np.arange(len(sampler)).reshape((-1, batch_size))"
   ]
  },
  {
   "cell_type": "code",
   "execution_count": null,
   "metadata": {},
   "outputs": [
    {
     "data": {
      "text/plain": [
       "array([24, 25, 26])"
      ]
     },
     "execution_count": 34,
     "metadata": {},
     "output_type": "execute_result"
    }
   ],
   "source": [
    "batch_size=3\n",
    "batch_ix = 8\n",
    "img_ixs = np.arange(len(sampler)).reshape((-1, batch_size))[batch_ix]\n",
    "img_ixs"
   ]
  },
  {
   "cell_type": "code",
   "execution_count": null,
   "metadata": {},
   "outputs": [],
   "source": []
  },
  {
   "cell_type": "code",
   "execution_count": null,
   "metadata": {},
   "outputs": [
    {
     "data": {
      "text/plain": [
       "(1, 2)"
      ]
     },
     "execution_count": 62,
     "metadata": {},
     "output_type": "execute_result"
    }
   ],
   "source": [
    "rows, cols = sampler.get_rows_cols()\n",
    "img_ix = 20\n",
    "rows_changed = img_ix // cols\n",
    "cols_changed = img_ix % cols\n",
    "rows_changed, cols_changed"
   ]
  },
  {
   "cell_type": "code",
   "execution_count": null,
   "metadata": {},
   "outputs": [
    {
     "name": "stdout",
     "output_type": "stream",
     "text": [
      "img_ix = 18\n",
      "row, cols changed (1, 0)\n",
      "base = 0\n",
      "2000\n",
      "(15407, 16407) (0, 1000)\n"
     ]
    }
   ],
   "source": [
    "size = 1000\n",
    "stride = 1000\n",
    "batch_size = 4\n",
    "rows, cols = sampler.get_rows_cols()\n",
    "\n",
    "canvas = np.zeros(samplers_utils.tile_sizes(dataset) +  (2,) , dtype=np.uint8)\n",
    "\n",
    "inv_base = (canvas.shape[0] - 1) - size #dim 0, top left corner of the first patch\n",
    "base = 0 #dim 1, top left corner of the first patch\n",
    "\n",
    "batch_ix = 0\n",
    "img_ixs = np.arange(len(sampler)).reshape((-1, batch_size))[batch_ix]\n",
    "#img_ix = img_ixs[0]\n",
    "img_ix = 18\n",
    "print(f'{img_ix = }')\n",
    "\n",
    "rows_changed = img_ix // cols\n",
    "cols_changed = img_ix % cols\n",
    "print(f'row, cols changed {rows_changed, cols_changed}')\n",
    "\n",
    "base = (stride * cols_changed)\n",
    "print(f'{base = }')\n",
    "\n",
    "inv_base = (canvas.shape[0] - 1 - size) - (stride * rows_changed)\n",
    "print(f'{(canvas.shape[0]-1)-inv_base}')\n",
    "\n",
    "print((inv_base, inv_base + size) , (base, base + size))\n"
   ]
  },
  {
   "cell_type": "code",
   "execution_count": null,
   "metadata": {},
   "outputs": [
    {
     "data": {
      "text/plain": [
       "array([[[1, 1, 1, 1, 1],\n",
       "        [1, 1, 1, 1, 1],\n",
       "        [1, 1, 1, 1, 1],\n",
       "        [1, 1, 7, 1, 1],\n",
       "        [1, 1, 1, 1, 1]],\n",
       "\n",
       "       [[1, 1, 1, 1, 1],\n",
       "        [1, 1, 1, 1, 1],\n",
       "        [1, 1, 1, 1, 1],\n",
       "        [1, 1, 7, 1, 1],\n",
       "        [1, 1, 1, 1, 1]]], dtype=uint8)"
      ]
     },
     "execution_count": 106,
     "metadata": {},
     "output_type": "execute_result"
    }
   ],
   "source": [
    "res = np.ones((2, 5, 5), dtype=np.uint8)\n",
    "res[:, 3,2] = 7\n",
    "res"
   ]
  },
  {
   "cell_type": "code",
   "execution_count": null,
   "metadata": {},
   "outputs": [
    {
     "data": {
      "text/plain": [
       "array([[0, 0, 0, ..., 0, 0, 0],\n",
       "       [0, 0, 0, ..., 0, 0, 0],\n",
       "       [0, 0, 0, ..., 0, 0, 0],\n",
       "       ...,\n",
       "       [0, 0, 0, ..., 0, 0, 0],\n",
       "       [0, 0, 0, ..., 0, 0, 0],\n",
       "       [0, 0, 0, ..., 0, 0, 0]], dtype=uint8)"
      ]
     },
     "execution_count": 26,
     "metadata": {},
     "output_type": "execute_result"
    }
   ],
   "source": [
    "inv_base = canvas.shape[0]-1\n",
    "base = 0 \n",
    "size= 1000\n",
    "#deve tutto basarsi sull'indice di batch e batch size\n",
    "batch_size=4\n",
    "batch_ix = 0\n",
    "img_ixs = np.arange(len(sampler)).reshape((-1, batch_size))[batch_ix]\n",
    "#ora tutto deve basarsi su img_ixs\n",
    "\n",
    "\n",
    "#cambia \n",
    "#cambia riga ogni volta che aumente il numero\n",
    "\n",
    "#ogni volta che cambia riga inv_base -=  size\n",
    "#ogni volta che cambia colonna base += size, quando arrivo a fine riga deve resettarsi\n",
    "canvas[inv_base-size : inv_base,\n",
    "       base: base+size,\n",
    "       0]"
   ]
  },
  {
   "cell_type": "code",
   "execution_count": null,
   "metadata": {},
   "outputs": [],
   "source": [
    "patch_counter = 0\n",
    "x_ = 0\n",
    "y_pxl = 0\n",
    "\n",
    "for i, batch in enumerate(dataloader):\n",
    "    if i%18 == 0:\n",
    "        x_pxl = 0\n",
    "        y_pxl += 1000\n",
    "    \n",
    "    x_pxl += 1000\n",
    "    print(i)\n",
    "    i+=1"
   ]
  },
  {
   "cell_type": "code",
   "execution_count": null,
   "metadata": {},
   "outputs": [],
   "source": [
    "for i, batch in enumerate(dataloader):\n",
    "    if i%30 != 0:\n",
    "        continue\n",
    "    image_tensor = batch['image'][0]\n",
    "    image = image_tensor.permute(1, 2, 0).numpy().astype('uint8')\n",
    "    \n",
    "    plt.imshow(image)\n",
    "    plt.show()\n",
    "    "
   ]
  },
  {
   "cell_type": "code",
   "execution_count": null,
   "metadata": {},
   "outputs": [],
   "source": [
    "dataset = geoDatasets.MxrSingleTile(str(tile_path))\n",
    "sampler = samplers.MyBatchGridGeoSampler(dataset, batch_size=1, size= 1000, stride=1000)\n",
    "dataloader = DataLoader(dataset , batch_sampler=sampler, collate_fn=stack_samples)"
   ]
  },
  {
   "cell_type": "code",
   "execution_count": null,
   "metadata": {},
   "outputs": [],
   "source": [
    "i=0\n",
    "for i, batch in enumerate(dataloader):\n",
    "    if i%30 != 0:\n",
    "        continue\n",
    "    image_tensor = batch['image'][0]\n",
    "    image = image_tensor.permute(1, 2, 0).numpy().astype('uint8')\n",
    "    \n",
    "    plt.imshow(image)\n",
    "    plt.show()"
   ]
  },
  {
   "cell_type": "code",
   "execution_count": null,
   "metadata": {},
   "outputs": [],
   "source": [
    "len(sampler)"
   ]
  },
  {
   "cell_type": "code",
   "execution_count": null,
   "metadata": {},
   "outputs": [],
   "source": [
    "element = next(iter(dataloader))"
   ]
  },
  {
   "cell_type": "code",
   "execution_count": null,
   "metadata": {},
   "outputs": [],
   "source": [
    "image_tensor = element['image'][15]\n",
    "image = image_tensor.permute(1, 2, 0).numpy().astype('uint8')\n",
    "\n",
    "plt.imshow(image)\n",
    "plt.show()"
   ]
  },
  {
   "cell_type": "markdown",
   "metadata": {},
   "source": [
    "# End of useful code"
   ]
  },
  {
   "cell_type": "code",
   "execution_count": null,
   "metadata": {},
   "outputs": [],
   "source": [
    "np_final_mask = np.greater_equal(all_masks_b, 0).any(axis=1)\n",
    "np_final_mask.shape"
   ]
  },
  {
   "cell_type": "code",
   "execution_count": null,
   "metadata": {},
   "outputs": [],
   "source": [
    "from my_functions.plotting_utils import show_mask\n",
    "import matplotlib.patches as patches\n",
    "    \n",
    "def plot_w_wo_masks_ESAM(img, masks, building_boxes = None, rgb_colors = [[117, 255, 61], [164, 99, 214], [80, 137, 199]] , random_color = False):\n",
    "    fig = plt.figure(figsize=(15, 15))\n",
    "    ax1 = fig.add_subplot(1, 2, 1)\n",
    "    ax1.imshow(img)\n",
    "\n",
    "    ax2 = fig.add_subplot(1, 2, 2, sharex=ax1, sharey=ax1)\n",
    "    ax2.imshow(img)\n",
    "    if masks.ndim == 2:\n",
    "        masks = masks[np.newaxis, ...]\n",
    "    for i, mask in enumerate(masks):\n",
    "        show_mask(mask, ax2, rgb_color=rgb_colors[i] , random_color = random_color)\n",
    "    if building_boxes is not None:\n",
    "        for box in building_boxes:\n",
    "            x0, y0 = box[0], box[1]\n",
    "            w, h = box[2] - box[0], box[3] - box[1]\n",
    "            rect = patches.Rectangle((x0, y0), w, h, linewidth=1, edgecolor='r', facecolor='none')            \n",
    "            ax2.add_patch(rect)\n",
    "    \n",
    "    ax2.set_xlim([0, img.shape[1]])\n",
    "    ax2.set_ylim([img.shape[0], 0])\n",
    "\n",
    "    ax1.axis('off')\n",
    "    ax2.axis('off')"
   ]
  },
  {
   "cell_type": "code",
   "execution_count": null,
   "metadata": {},
   "outputs": [],
   "source": [
    "ix = 3\n",
    "plot_w_wo_masks_ESAM(img_b[ix], pad_mask_b[ix])"
   ]
  },
  {
   "cell_type": "code",
   "execution_count": null,
   "metadata": {},
   "outputs": [],
   "source": [
    "ix = 3\n",
    "plot_w_wo_masks_ESAM(img_b[ix], building_mask_b[ix])"
   ]
  },
  {
   "cell_type": "code",
   "execution_count": null,
   "metadata": {},
   "outputs": [],
   "source": [
    "ix = 9\n",
    "all_mask_no_overlap = segment.rmv_mask_overlap(np.stack((tree_mask_b[ix], building_mask_b[ix])))\n",
    "plot_w_wo_masks_ESAM(img_b[ix], all_mask_no_overlap)"
   ]
  },
  {
   "cell_type": "code",
   "execution_count": null,
   "metadata": {},
   "outputs": [],
   "source": [
    "mask_b_no_overlap = segment.rmv_mask_b_overlap(np.stack((tree_mask_b, building_mask_b), axis=1))"
   ]
  },
  {
   "cell_type": "code",
   "execution_count": null,
   "metadata": {},
   "outputs": [],
   "source": [
    "ix = 9\n",
    "plot_w_wo_masks_ESAM(img_b[ix], mask_b_no_overlap[ix])"
   ]
  },
  {
   "cell_type": "code",
   "execution_count": null,
   "metadata": {},
   "outputs": [],
   "source": [
    "ix = 1\n",
    "plot_w_wo_masks_ESAM(img_b[ix], np.stack((tree_mask_b[ix], building_mask_b[ix])), random_color=True)"
   ]
  },
  {
   "cell_type": "code",
   "execution_count": null,
   "metadata": {},
   "outputs": [],
   "source": [
    "def rmv_mask_overlap(overlapping_masks: np.array):\n",
    "    disjoined_masks = np.copy(overlapping_masks)\n",
    "    for i in range(overlapping_masks.shape[0] - 1):\n",
    "        sum_mask = np.sum(overlapping_masks[i:], axis=0)\n",
    "        disjoined_masks[i] = np.where(sum_mask > 1, False, overlapping_masks[i])\n",
    "\n",
    "    return disjoined_masks\n",
    "\n",
    "rmv_mask_overlap(all)"
   ]
  },
  {
   "cell_type": "code",
   "execution_count": null,
   "metadata": {},
   "outputs": [],
   "source": [
    "def rmv_mask_overlap(overlapping_masks: np.array):\n",
    "    for i in range(overlapping_masks.shape[0] - 1, 0, -1):\n",
    "        sum_mask = overlapping_masks[i-1] + overlapping_masks[i]\n",
    "        overlapping_masks[i]\n",
    "\n",
    "        print(i)\n",
    "\n",
    "    #return disjoined_masks\n",
    "\n",
    "rmv_mask_overlap(all)"
   ]
  },
  {
   "cell_type": "code",
   "execution_count": null,
   "metadata": {},
   "outputs": [],
   "source": [
    "original_img.shape"
   ]
  },
  {
   "cell_type": "code",
   "execution_count": null,
   "metadata": {},
   "outputs": [],
   "source": [
    "from torchvision import transforms\n",
    "single_img_np = img_b[0]\n",
    "print(single_img_np.shape)\n",
    "a  = transforms.ToTensor()(single_img_np)\n",
    "single_img_tsr = original_img[0]\n",
    "b = single_img_tsr.div(255)\n",
    "torch.equal(a, b)"
   ]
  },
  {
   "cell_type": "code",
   "execution_count": null,
   "metadata": {},
   "outputs": [],
   "source": [
    "torch.equal(original_img.div(255)[0], b)"
   ]
  },
  {
   "cell_type": "code",
   "execution_count": null,
   "metadata": {},
   "outputs": [],
   "source": [
    "single_img_np.shape"
   ]
  },
  {
   "cell_type": "code",
   "execution_count": null,
   "metadata": {},
   "outputs": [],
   "source": [
    "single_img_tsr = original_img[0]\n",
    "single_img_tsr.div(255)"
   ]
  },
  {
   "cell_type": "code",
   "execution_count": null,
   "metadata": {},
   "outputs": [],
   "source": [
    "import torch\n",
    "torch.from_numpy(single_img_np.transpose((2, 0, 1))).contiguous()\n"
   ]
  },
  {
   "cell_type": "code",
   "execution_count": null,
   "metadata": {},
   "outputs": [],
   "source": [
    "from torchvision import transforms\n",
    "transforms.ToTensor()(original_img)"
   ]
  },
  {
   "cell_type": "code",
   "execution_count": null,
   "metadata": {},
   "outputs": [],
   "source": [
    "import rasterio\n",
    "\n",
    "with rasterio.open('/mnt/data2/vaschetti_data/maxar/Indonesia-Earthquake22/post/10300100DD6AE200/300020121231.tif') as src:\n",
    "    print(src.profile)\n",
    "    print(src.transform * (0,0))\n",
    "    print(type(src.read()))"
   ]
  },
  {
   "cell_type": "code",
   "execution_count": null,
   "metadata": {},
   "outputs": [],
   "source": [
    "import torch\n",
    "torch.tensor([torch.tensor([1,23]), torch.tensor([1,23])])"
   ]
  },
  {
   "cell_type": "code",
   "execution_count": null,
   "metadata": {},
   "outputs": [],
   "source": [
    "a = np.array([[2,3,5,6]]*5)\n",
    "print('a', a.shape)\n",
    "b = np.expand_dims(a, 0)\n",
    "print('b', b.shape)\n",
    "b.reshape(-1,2,2).shape\n",
    "lbs = np.array([[2,3]]*a.shape[0]) #(query_img_x, 2)\n",
    "print('lbs', lbs.shape)\n",
    "\n",
    "lbs_pad_value = 0\n",
    "pad_len = 3\n",
    "pad_width = ((0,pad_len),(0, 0))\n",
    "padded_lbs = np.pad(lbs, pad_width, constant_values = lbs_pad_value)\n",
    "print('padded_lbs', padded_lbs.shape)\n",
    "\n",
    "#\n",
    "\n",
    "#np.expand_dims(np.array([[2,3]]*89), 0).reshape(-1,2,2).shape"
   ]
  },
  {
   "cell_type": "code",
   "execution_count": null,
   "metadata": {},
   "outputs": [],
   "source": []
  },
  {
   "cell_type": "code",
   "execution_count": null,
   "metadata": {},
   "outputs": [],
   "source": [
    "max_detect = 0\n",
    "for tree_detec, build_detec in zip(tree_boxes_b, building_boxes_b):\n",
    "    tree_build_detect = np.concatenate((tree_detec, build_detec))\n",
    "    print(tree_build_detect.shape)\n",
    "    if tree_build_detect.shape[0] > max_detect:\n",
    "        max_detect = tree_build_detect.shape[0]\n",
    "print(max_detect)"
   ]
  },
  {
   "cell_type": "code",
   "execution_count": null,
   "metadata": {},
   "outputs": [],
   "source": [
    "tree_build_detect[-2:]"
   ]
  },
  {
   "cell_type": "code",
   "execution_count": null,
   "metadata": {},
   "outputs": [],
   "source": [
    "boxes4FSam[9][-2:]"
   ]
  },
  {
   "cell_type": "code",
   "execution_count": null,
   "metadata": {},
   "outputs": [],
   "source": [
    "tree_boxes_b.shape"
   ]
  },
  {
   "cell_type": "code",
   "execution_count": null,
   "metadata": {},
   "outputs": [],
   "source": [
    "building_boxes_b[0]"
   ]
  },
  {
   "cell_type": "code",
   "execution_count": null,
   "metadata": {},
   "outputs": [],
   "source": [
    "\n",
    "#pad_len = max_detect - building_boxes_b[0].shape[0]\n",
    "pad_len = 4\n",
    "pad_width = ((0,pad_len),(0, 0))\n",
    "np.pad(building_boxes_b[0], pad_width, constant_values=0)"
   ]
  },
  {
   "cell_type": "code",
   "execution_count": null,
   "metadata": {},
   "outputs": [],
   "source": [
    "a = np.array([[1,2,3],[4,5,6]])\n",
    "b = [a]\n",
    "np.array(b)"
   ]
  },
  {
   "cell_type": "code",
   "execution_count": null,
   "metadata": {},
   "outputs": [],
   "source": [
    "pad_width = ((0,1),(0, 0))\n",
    "pad_width = (1,1)\n",
    "pad_value = (1,2)\n",
    "np.pad(a, pad_width, constant_values = pad_value)"
   ]
  },
  {
   "cell_type": "code",
   "execution_count": null,
   "metadata": {},
   "outputs": [],
   "source": [
    "pad_width = (0, 2)\n",
    "pad_value = [0,0,0,0]\n",
    "np.pad(building_boxes_b[0], pad_width, constant_values=pad_value)"
   ]
  },
  {
   "cell_type": "code",
   "execution_count": null,
   "metadata": {},
   "outputs": [],
   "source": [
    "a = np.array([1,2,3])\n",
    "b = np.array([4,5,6])\n",
    "np.concatenate((a,b))\n",
    "a+b"
   ]
  },
  {
   "cell_type": "code",
   "execution_count": null,
   "metadata": {},
   "outputs": [],
   "source": [
    "tree_boxes_b[0]"
   ]
  },
  {
   "cell_type": "code",
   "execution_count": null,
   "metadata": {},
   "outputs": [],
   "source": [
    "building_boxes_b[0]"
   ]
  },
  {
   "cell_type": "code",
   "execution_count": null,
   "metadata": {},
   "outputs": [],
   "source": [
    "from my_functions.plotting_utils import show_mask, show_Linestrings, show_points, show_box, plot_comparison\n",
    "fig, ax = plt.subplots(1, 1, figsize=(7, 7))\n",
    "ix = 8\n",
    "ax.imshow(img_b[ix])\n",
    "#show_box(tree_boxes_b[ix].tolist(), ax, color='b')\n",
    "show_box(building_boxes_b[ix], ax, color='r')\n",
    "plt.show()"
   ]
  },
  {
   "cell_type": "code",
   "execution_count": null,
   "metadata": {},
   "outputs": [],
   "source": [
    "from my_functions.plotting_utils import show_mask, show_Linestrings, show_points, show_box, plot_comparison\n",
    "fig, ax = plt.subplots(1, 1, figsize=(7, 7))\n",
    "ix = 9\n",
    "ax.imshow(img_b[ix])\n",
    "show_box(tree_boxes_b[ix].tolist(), ax, color='b')"
   ]
  },
  {
   "cell_type": "code",
   "execution_count": null,
   "metadata": {},
   "outputs": [],
   "source": [
    "import rasterio\n",
    "from rasterio.windows import Window\n",
    "from my_functions import geoDatasets\n",
    "from my_functions.samplers import MyGridGeoSampler, MyBatchGridGeoSampler\n",
    "from torch.utils.data import DataLoader\n",
    "from torchgeo.datasets import stack_samples, unbind_samples\n",
    "import matplotlib.pyplot as plt\n",
    "from tqdm import tqdm\n",
    "\n",
    "def segment_tile(self, tile_path):\n",
    "    batch_size = 4\n",
    "    dataset = geoDatasets.Maxar(str(tile_path))\n",
    "    sampler = MyBatchGridGeoSampler(dataset, batch_size=batch_size, size=100, stride=100)\n",
    "    print(len(sampler))\n",
    "    dataloader = DataLoader(dataset , batch_sampler=sampler, collate_fn=stack_samples)\n",
    "    print(len(dataloader))\n",
    "    print(dataset.res)\n",
    "    for batch in tqdm(dataloader):\n",
    "        #print(batch.keys())\n",
    "        #samples_list = unbind_samples(batch)\n",
    "        #print(samples_list)\n",
    "        #img_batch = batch['image']\n",
    "        #print(type(img_batch))\n",
    "        \n",
    "        #Le immagini sono già RGB\n",
    "        img_b = batch['image'].permute(0,2,3,1).numpy().astype('uint8')\n",
    "        #fig, axs = plt.subplots(1, batch_size, figsize=(30, 30))\n",
    "        #for i in range(batch_size):\n",
    "        #    axs[i].imshow(img_b[i])\n",
    "        #print(img_b.shape)\n",
    "        break\n",
    "    return img_b\n",
    "\n",
    "img_b = segment_tile(evento, m0.tiles_paths[0])"
   ]
  },
  {
   "cell_type": "code",
   "execution_count": null,
   "metadata": {},
   "outputs": [],
   "source": [
    "m0.dataset_res"
   ]
  },
  {
   "cell_type": "code",
   "execution_count": null,
   "metadata": {},
   "outputs": [],
   "source": [
    "img_b.shape"
   ]
  },
  {
   "cell_type": "code",
   "execution_count": null,
   "metadata": {},
   "outputs": [],
   "source": [
    "import numpy as np\n",
    "from my_functions import segment\n",
    "from groundingdino.util.inference import predict as GD_predict\n",
    "from groundingdino.util.inference import load_model as GD_load_model\n",
    "\n",
    "def get_gdino_boxes(img_batch: np.array,\n",
    "                    GDINO_model,\n",
    "                    TEXT_PROMPT,\n",
    "                    BOX_TRESHOLD,\n",
    "                    TEXT_TRESHOLD,\n",
    "                    dataset_res,\n",
    "                    max_area_mt2 =3000):\n",
    "    all_tree_boxes4Sam = []\n",
    "    for img in img_batch:\n",
    "        image_transformed = segment.dino_img_load(img)\n",
    "        tree_boxes, logits, phrases = GD_predict(GDINO_model, image_transformed, TEXT_PROMPT, BOX_TRESHOLD, TEXT_TRESHOLD)\n",
    "        tree_boxes4Sam = []\n",
    "        if len(tree_boxes) != 0:\n",
    "            sample_size = image_transformed.shape[-1]\n",
    "            keep_ix_tree_boxes = segment.filter_on_box_area_mt2(tree_boxes, sample_size, dataset_res, max_area_mt2 = max_area_mt2)\n",
    "            tree_boxes4Sam = segment.GDboxes2SamBoxes(tree_boxes[keep_ix_tree_boxes], sample_size)\n",
    "            all_tree_boxes4Sam.append(tree_boxes4Sam)\n",
    "    return all_tree_boxes4Sam"
   ]
  },
  {
   "cell_type": "code",
   "execution_count": null,
   "metadata": {},
   "outputs": [],
   "source": [
    "GDINO_root =\"/home/vaschetti/maxarSrc/models/GDINO\"\n",
    "CONFIG_PATH = os.path.join(GDINO_root, \"GroundingDINO_SwinT_OGC.py\")\n",
    "WEIGHTS_PATH = os.path.join(GDINO_root, \"groundingdino_swint_ogc.pth\")\n",
    "GDINO_model = GD_load_model(CONFIG_PATH, WEIGHTS_PATH, device = 'cuda')\n",
    "TEXT_PROMPT = 'green tree' #'house' or 'tree' or 'green tree'\n",
    "BOX_TRESHOLD = 0.15\n",
    "TEXT_TRESHOLD = 0.30"
   ]
  },
  {
   "cell_type": "code",
   "execution_count": null,
   "metadata": {},
   "outputs": [],
   "source": [
    "dataset_res = 0.30517578125\n",
    "get_gdino_boxes(img_b, GDINO_model, TEXT_PROMPT, BOX_TRESHOLD, TEXT_TRESHOLD, dataset_res)"
   ]
  },
  {
   "cell_type": "code",
   "execution_count": null,
   "metadata": {},
   "outputs": [],
   "source": []
  },
  {
   "cell_type": "code",
   "execution_count": null,
   "metadata": {},
   "outputs": [],
   "source": [
    "import groundingdino.datasets.transforms as T\n",
    "import numpy as np\n",
    "import torch\n",
    "from PIL import Image\n",
    "\n",
    "def batch_GD_img_load(batch_np_img_rgb: np.array)-> torch.Tensor:\n",
    "    \"\"\"\n",
    "    Transform the image from np.array to torch.Tensor and normalize it.\n",
    "    \"\"\"\n",
    "    transform = T.Compose(\n",
    "        [\n",
    "            T.RandomResize([800], max_size=1333),\n",
    "            T.ToTensor(),\n",
    "            T.Normalize([0.485, 0.456, 0.406], [0.229, 0.224, 0.225]),\n",
    "        ]\n",
    "    )\n",
    "    for i, np_img_rgb in enumerate(batch_np_img_rgb):\n",
    "        image_pillow = Image.fromarray(np_img_rgb)\n",
    "        image_transformed, _ = transform(image_pillow, None)\n",
    "        if i == 0:\n",
    "            batch_images_transformed = image_transformed.unsqueeze(0)\n",
    "        else:\n",
    "            batch_images_transformed = torch.cat((batch_images_transformed, image_transformed.unsqueeze(0)), dim=0)\n",
    "    return batch_images_transformed\n",
    "\n",
    "def dino_img_load(np_img_rgb: np.array)-> torch.Tensor:\n",
    "    \"\"\"\n",
    "    Transform the image from np.array to torch.Tensor and normalize it.\n",
    "    \"\"\"\n",
    "    transform = T.Compose(\n",
    "        [\n",
    "            T.RandomResize([800], max_size=1333),\n",
    "            T.ToTensor(),\n",
    "            T.Normalize([0.485, 0.456, 0.406], [0.229, 0.224, 0.225]),\n",
    "        ]\n",
    "    )\n",
    "    image_pillow = Image.fromarray(np_img_rgb)\n",
    "    image_transformed, _ = transform(image_pillow, None)\n",
    "    return image_transformed\n",
    "\n",
    "def load_image(image_path):\n",
    "    # load image\n",
    "    image_pil = Image.open(image_path).convert(\"RGB\")  # load image\n",
    "    print(image_pil.getbands())\n",
    "\n",
    "    transform = T.Compose(\n",
    "        [\n",
    "            T.RandomResize([800], max_size=1333),\n",
    "            T.ToTensor(),\n",
    "            T.Normalize([0.485, 0.456, 0.406], [0.229, 0.224, 0.225]),\n",
    "        ]\n",
    "    )\n",
    "    image, _ = transform(image_pil, None)  # 3, h, w\n",
    "    return image_pil, image"
   ]
  },
  {
   "cell_type": "code",
   "execution_count": null,
   "metadata": {},
   "outputs": [],
   "source": [
    "image, image_transformed = load_image('/home/vaschetti/maxarSrc/exampleData/10300100C2D81700-visual_small.tif')"
   ]
  },
  {
   "cell_type": "code",
   "execution_count": null,
   "metadata": {},
   "outputs": [],
   "source": [
    "img_path = '/home/vaschetti/maxarSrc/exampleData/10300100C2D81700-visual.tif'\n",
    "image_pil, image = load_image(img_path)"
   ]
  },
  {
   "cell_type": "code",
   "execution_count": null,
   "metadata": {},
   "outputs": [],
   "source": [
    "image_pil.getbands()"
   ]
  },
  {
   "cell_type": "code",
   "execution_count": null,
   "metadata": {},
   "outputs": [],
   "source": [
    "type(Image.open(img_path).convert(\"RGB\"))"
   ]
  },
  {
   "cell_type": "code",
   "execution_count": null,
   "metadata": {},
   "outputs": [],
   "source": [
    "image"
   ]
  },
  {
   "cell_type": "code",
   "execution_count": null,
   "metadata": {},
   "outputs": [],
   "source": [
    "plt.imshow(image.permute(1,2,0).numpy().astype('uint8'))"
   ]
  },
  {
   "cell_type": "code",
   "execution_count": null,
   "metadata": {},
   "outputs": [],
   "source": []
  }
 ],
 "metadata": {
  "kernelspec": {
   "display_name": "maxarSrc",
   "language": "python",
   "name": "maxarsrc"
  },
  "language_info": {
   "codemirror_mode": {
    "name": "ipython",
    "version": 3
   },
   "file_extension": ".py",
   "mimetype": "text/x-python",
   "name": "python",
   "nbconvert_exporter": "python",
   "pygments_lexer": "ipython3",
   "version": "3.10.13"
  }
 },
 "nbformat": 4,
 "nbformat_minor": 2
}

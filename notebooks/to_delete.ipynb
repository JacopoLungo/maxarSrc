{
 "cells": [
  {
   "cell_type": "code",
   "execution_count": 1,
   "metadata": {},
   "outputs": [],
   "source": [
    "import glob\n",
    "import rasterio\n",
    "from pathlib import Path\n",
    "import os\n",
    "import reverse_geocoder as rg\n",
    "import pyproj\n",
    "import geopandas as gpd\n",
    "import sys"
   ]
  },
  {
   "cell_type": "code",
   "execution_count": 2,
   "metadata": {},
   "outputs": [],
   "source": [
    "if Path.cwd().name != 'src':\n",
    "    os.chdir('./src')\n",
    "from maxarseg import build"
   ]
  },
  {
   "cell_type": "code",
   "execution_count": 3,
   "metadata": {},
   "outputs": [
    {
     "name": "stdout",
     "output_type": "stream",
     "text": [
      "0 southafrica-flooding22\n",
      "1 Kalehe-DRC-Flooding-5-8-23\n",
      "2 shovi-georgia-landslide-8Aug23\n",
      "3 Emilia-Romagna-Italy-flooding-may23\n",
      "4 src\n",
      "5 NWT-Canada-Aug-23\n",
      "6 Libya-Floods-Sept-2023\n",
      "7 Gambia-flooding-8-11-2022\n",
      "8 New-Zealand-Flooding23\n",
      "9 Hurricane-Fiona-9-19-2022\n",
      "10 Hurricane-Idalia-Florida-Aug23\n",
      "11 Hurricane-Ian-9-26-2022\n",
      "12 yellowstone-flooding22\n",
      "13 pakistan-flooding22\n",
      "14 Morocco-Earthquake-Sept-2023\n",
      "15 Indonesia-Earthquake22\n",
      "16 cyclone-emnati22\n",
      "17 Kahramanmaras-turkey-earthquake-23\n",
      "18 test_folder\n",
      "19 Marshall-Fire-21-Update\n",
      "20 metadata\n",
      "21 India-Floods-Oct-2023\n",
      "22 Maui-Hawaii-fires-Aug-23\n",
      "23 tonga-volcano21\n",
      "24 BayofBengal-Cyclone-Mocha-May-23\n",
      "25 Sudan-flooding-8-22-2022\n"
     ]
    }
   ],
   "source": [
    "from maxarseg import build\n",
    "events_names = build.get_all_events()\n",
    "for i, e_n in enumerate(events_names):\n",
    "    print(i, e_n)"
   ]
  },
  {
   "cell_type": "code",
   "execution_count": 4,
   "metadata": {},
   "outputs": [
    {
     "name": "stderr",
     "output_type": "stream",
     "text": [
      "/home/vaschetti/.pyenv/versions/3.10.13/lib/python3.10/site-packages/torch/functional.py:504: UserWarning: torch.meshgrid: in an upcoming release, it will be required to pass the indexing argument. (Triggered internally at ../aten/src/ATen/native/TensorShape.cpp:3526.)\n",
      "  return _VF.meshgrid(tensors, **kwargs)  # type: ignore[attr-defined]\n"
     ]
    },
    {
     "name": "stdout",
     "output_type": "stream",
     "text": [
      "final text_encoder_type: bert-base-uncased\n",
      "- GD model device: cuda:0\n",
      "- Efficient SAM device: cuda:0\n"
     ]
    }
   ],
   "source": [
    "bs = 2\n",
    "config = build.SegmentConfig(batch_size = bs, device='cuda')"
   ]
  },
  {
   "cell_type": "code",
   "execution_count": 5,
   "metadata": {},
   "outputs": [
    {
     "name": "stdout",
     "output_type": "stream",
     "text": [
      "AfricaWest-Full\n",
      "['10300100CFC9A500', '105001002BD68F00', '1040010073D77D00']\n",
      "Number of tiles: 18\n"
     ]
    }
   ],
   "source": [
    "evento = build.Event(events_names[7], seg_config = config, when='pre')\n",
    "print(evento.region_name)\n",
    "all_mosaics_names = evento.all_mosaics_names\n",
    "print(all_mosaics_names)\n",
    "m0 = evento.mosaics[all_mosaics_names[0]]\n",
    "print(f'Number of tiles: {m0.tiles_num}')"
   ]
  },
  {
   "cell_type": "code",
   "execution_count": 6,
   "metadata": {},
   "outputs": [
    {
     "name": "stdout",
     "output_type": "stream",
     "text": [
      "Found 3 links matching: [33303200, 333032, 3330320]\n"
     ]
    }
   ],
   "source": [
    "m0.set_build_gdf()"
   ]
  },
  {
   "cell_type": "code",
   "execution_count": 7,
   "metadata": {},
   "outputs": [],
   "source": [
    "m0.proj_road_gdf"
   ]
  },
  {
   "cell_type": "code",
   "execution_count": 8,
   "metadata": {},
   "outputs": [
    {
     "data": {
      "text/plain": [
       "PosixPath('/mnt/data2/vaschetti_data/maxar/Gambia-flooding-8-11-2022/pre/10300100CFC9A500/033133031231.tif')"
      ]
     },
     "execution_count": 8,
     "metadata": {},
     "output_type": "execute_result"
    }
   ],
   "source": [
    "m0.tiles_paths[0]"
   ]
  },
  {
   "cell_type": "code",
   "execution_count": 9,
   "metadata": {},
   "outputs": [
    {
     "name": "stdout",
     "output_type": "stream",
     "text": [
      "not USA:  AfricaWest-Full.tsv\n"
     ]
    }
   ],
   "source": [
    "m0.set_road_gdf()"
   ]
  },
  {
   "cell_type": "code",
   "execution_count": 14,
   "metadata": {},
   "outputs": [
    {
     "data": {
      "text/plain": [
       "array([0, 1], dtype=uint8)"
      ]
     },
     "execution_count": 14,
     "metadata": {},
     "output_type": "execute_result"
    }
   ],
   "source": [
    "road_mask = m0.get_tile_road_mask_np(m0.tiles_paths[0])"
   ]
  },
  {
   "cell_type": "code",
   "execution_count": 16,
   "metadata": {},
   "outputs": [],
   "source": [
    "import rasterio\n",
    "from rasterio.windows import Window\n",
    "from maxarseg import geoDatasets\n",
    "from maxarseg import samplers\n",
    "from maxarseg import segment\n",
    "from torch.utils.data import DataLoader\n",
    "from torchgeo.datasets import stack_samples, unbind_samples\n",
    "import matplotlib.pyplot as plt\n",
    "from tqdm import tqdm\n",
    "import numpy as np\n",
    "from maxarseg import samplers_utils\n",
    "import torch\n",
    "from time import time\n",
    "\n",
    "import warnings\n",
    "\n",
    "# Ignore all warnings\n",
    "warnings.filterwarnings('ignore')"
   ]
  },
  {
   "cell_type": "code",
   "execution_count": 17,
   "metadata": {},
   "outputs": [
    {
     "name": "stderr",
     "output_type": "stream",
     "text": [
      "  0%|          | 0/1682 [00:00<?, ?it/s]"
     ]
    },
    {
     "name": "stderr",
     "output_type": "stream",
     "text": [
      "  0%|          | 2/1682 [00:00<01:35, 17.58it/s]"
     ]
    },
    {
     "name": "stdout",
     "output_type": "stream",
     "text": [
      "In sampler\n",
      "tile_polygon:  POLYGON ((315427.24609375 1485156.25, 320156.25 1485156.25, 320156.25 1479843.75, 315394.8974609375 1479843.75, 315427.24609375 1485156.25))\n"
     ]
    },
    {
     "name": "stderr",
     "output_type": "stream",
     "text": [
      "  0%|          | 4/1682 [00:04<33:06,  1.18s/it]"
     ]
    },
    {
     "name": "stdout",
     "output_type": "stream",
     "text": [
      "GD_time:  4.442540645599365\n",
      "- GD model device: cuda:0\n",
      "[BoundingBox(minx=316033.935546875, maxx=316217.041015625, miny=1479843.75, maxy=1480026.85546875, mint=0.0, maxt=9.223372036854776e+18), BoundingBox(minx=316125.48828125, maxx=316308.59375, miny=1479843.75, maxy=1480026.85546875, mint=0.0, maxt=9.223372036854776e+18)]\n",
      "max_detect: 83\n",
      "-1\n"
     ]
    },
    {
     "name": "stderr",
     "output_type": "stream",
     "text": [
      "\n"
     ]
    },
    {
     "ename": "ValueError",
     "evalue": "index can't contain negative values",
     "output_type": "error",
     "traceback": [
      "\u001b[0;31m---------------------------------------------------------------------------\u001b[0m",
      "\u001b[0;31mValueError\u001b[0m                                Traceback (most recent call last)",
      "Cell \u001b[0;32mIn[17], line 69\u001b[0m\n\u001b[1;32m     66\u001b[0m     \u001b[38;5;28mprint\u001b[39m(\u001b[38;5;124mf\u001b[39m\u001b[38;5;124m'\u001b[39m\u001b[38;5;130;01m\\n\u001b[39;00m\u001b[38;5;124mTotal Time for \u001b[39m\u001b[38;5;132;01m{\u001b[39;00mseg_config\u001b[38;5;241m.\u001b[39mbatch_size\u001b[38;5;250m \u001b[39m\u001b[38;5;241m*\u001b[39m\u001b[38;5;250m \u001b[39mi\u001b[38;5;132;01m}\u001b[39;00m\u001b[38;5;124m images: \u001b[39m\u001b[38;5;124m'\u001b[39m, time() \u001b[38;5;241m-\u001b[39m start_time_all)\n\u001b[1;32m     67\u001b[0m     \u001b[38;5;28;01mreturn\u001b[39;00m img_b, original_img_tsr\u001b[38;5;66;03m#, tree_boxes_b, building_boxes_b, all_masks_b, tree_mask_b, building_mask_b, pad_mask_b\u001b[39;00m\n\u001b[0;32m---> 69\u001b[0m _, _ \u001b[38;5;241m=\u001b[39m \u001b[43msegment_tile\u001b[49m\u001b[43m(\u001b[49m\u001b[43mm0\u001b[49m\u001b[43m,\u001b[49m\u001b[43m \u001b[49m\u001b[43mm0\u001b[49m\u001b[38;5;241;43m.\u001b[39;49m\u001b[43mtiles_paths\u001b[49m\u001b[43m[\u001b[49m\u001b[38;5;241;43m17\u001b[39;49m\u001b[43m]\u001b[49m\u001b[43m)\u001b[49m\n\u001b[1;32m     70\u001b[0m \u001b[38;5;66;03m#img_b, original_img, tree_boxes_b, building_boxes_b, all_masks_b, tree_mask_b, building_mask_b, pad_mask_b = segment_tile(m0, m0.tiles_paths[17])\u001b[39;00m\n",
      "Cell \u001b[0;32mIn[17], line 41\u001b[0m, in \u001b[0;36msegment_tile\u001b[0;34m(self, tile_path)\u001b[0m\n\u001b[1;32m     39\u001b[0m max_detect \u001b[38;5;241m=\u001b[39m \u001b[38;5;28mmax\u001b[39m(num_trees4img \u001b[38;5;241m+\u001b[39m num_build4img)\n\u001b[1;32m     40\u001b[0m \u001b[38;5;28mprint\u001b[39m(\u001b[38;5;124mf\u001b[39m\u001b[38;5;124m'\u001b[39m\u001b[38;5;124mmax_detect: \u001b[39m\u001b[38;5;132;01m{\u001b[39;00mmax_detect\u001b[38;5;132;01m}\u001b[39;00m\u001b[38;5;124m'\u001b[39m)\n\u001b[0;32m---> 41\u001b[0m input_points, input_labels \u001b[38;5;241m=\u001b[39m \u001b[43mbuild\u001b[49m\u001b[38;5;241;43m.\u001b[39;49m\u001b[43mget_input_pts_and_lbs\u001b[49m\u001b[43m(\u001b[49m\u001b[43mtree_boxes_b\u001b[49m\u001b[43m,\u001b[49m\u001b[43m \u001b[49m\u001b[43mbuilding_boxes_b\u001b[49m\u001b[43m,\u001b[49m\u001b[43m \u001b[49m\u001b[43mmax_detect\u001b[49m\u001b[43m)\u001b[49m\n\u001b[1;32m     43\u001b[0m \u001b[38;5;66;03m#boxes4FSam = build.get_boxes4FSam(tree_boxes_b, building_boxes_b, max_detect)\u001b[39;00m\n\u001b[1;32m     44\u001b[0m \u001b[38;5;66;03m#print('tree_b shape: ', building_boxes_b[0].shape)\u001b[39;00m\n\u001b[1;32m     45\u001b[0m \u001b[38;5;66;03m#print('input_points shape: ', input_points.shape)\u001b[39;00m\n\u001b[1;32m     46\u001b[0m \u001b[38;5;66;03m#print('input_labels shape: ', input_labels.shape)\u001b[39;00m\n\u001b[1;32m     48\u001b[0m all_masks_b \u001b[38;5;241m=\u001b[39m segment\u001b[38;5;241m.\u001b[39mESAM_from_inputs(original_img_tsr,\n\u001b[1;32m     49\u001b[0m                                         torch\u001b[38;5;241m.\u001b[39mfrom_numpy(input_points),\n\u001b[1;32m     50\u001b[0m                                         torch\u001b[38;5;241m.\u001b[39mfrom_numpy(input_labels),\n\u001b[1;32m     51\u001b[0m                                         efficient_sam \u001b[38;5;241m=\u001b[39m seg_config\u001b[38;5;241m.\u001b[39mefficient_sam,\n\u001b[1;32m     52\u001b[0m                                         device \u001b[38;5;241m=\u001b[39m seg_config\u001b[38;5;241m.\u001b[39mdevice,\n\u001b[1;32m     53\u001b[0m                                         num_parall_queries \u001b[38;5;241m=\u001b[39m \u001b[38;5;241m17\u001b[39m)\n",
      "File \u001b[0;32m~/maxarSrc/src/maxarseg/build.py:329\u001b[0m, in \u001b[0;36mget_input_pts_and_lbs\u001b[0;34m(tree_boxes_b, building_boxes_b, max_detect)\u001b[0m\n\u001b[1;32m    327\u001b[0m \u001b[38;5;28mprint\u001b[39m(pad_len)\n\u001b[1;32m    328\u001b[0m pad_width \u001b[38;5;241m=\u001b[39m ((\u001b[38;5;241m0\u001b[39m,pad_len),(\u001b[38;5;241m0\u001b[39m, \u001b[38;5;241m0\u001b[39m))\n\u001b[0;32m--> 329\u001b[0m padded_tree_build_detect \u001b[38;5;241m=\u001b[39m \u001b[43mnp\u001b[49m\u001b[38;5;241;43m.\u001b[39;49m\u001b[43mpad\u001b[49m\u001b[43m(\u001b[49m\u001b[43mtree_build_detect\u001b[49m\u001b[43m,\u001b[49m\u001b[43m \u001b[49m\u001b[43mpad_width\u001b[49m\u001b[43m,\u001b[49m\u001b[43m \u001b[49m\u001b[43mconstant_values\u001b[49m\u001b[38;5;241;43m=\u001b[39;49m\u001b[43mpts_pad_value\u001b[49m\u001b[43m)\u001b[49m\n\u001b[1;32m    330\u001b[0m img_input_pts \u001b[38;5;241m=\u001b[39m np\u001b[38;5;241m.\u001b[39mexpand_dims(padded_tree_build_detect, axis \u001b[38;5;241m=\u001b[39m \u001b[38;5;241m0\u001b[39m)\u001b[38;5;241m.\u001b[39mreshape(\u001b[38;5;241m-\u001b[39m\u001b[38;5;241m1\u001b[39m,\u001b[38;5;241m2\u001b[39m,\u001b[38;5;241m2\u001b[39m) \u001b[38;5;66;03m# (max_queries, 2, 2)\u001b[39;00m\n\u001b[1;32m    331\u001b[0m input_pts\u001b[38;5;241m.\u001b[39mappend(img_input_pts)\n",
      "File \u001b[0;32m<__array_function__ internals>:180\u001b[0m, in \u001b[0;36mpad\u001b[0;34m(*args, **kwargs)\u001b[0m\n",
      "File \u001b[0;32m~/.pyenv/versions/3.10.13/lib/python3.10/site-packages/numpy/lib/arraypad.py:743\u001b[0m, in \u001b[0;36mpad\u001b[0;34m(array, pad_width, mode, **kwargs)\u001b[0m\n\u001b[1;32m    740\u001b[0m     \u001b[38;5;28;01mraise\u001b[39;00m \u001b[38;5;167;01mTypeError\u001b[39;00m(\u001b[38;5;124m'\u001b[39m\u001b[38;5;124m`pad_width` must be of integral type.\u001b[39m\u001b[38;5;124m'\u001b[39m)\n\u001b[1;32m    742\u001b[0m \u001b[38;5;66;03m# Broadcast to shape (array.ndim, 2)\u001b[39;00m\n\u001b[0;32m--> 743\u001b[0m pad_width \u001b[38;5;241m=\u001b[39m \u001b[43m_as_pairs\u001b[49m\u001b[43m(\u001b[49m\u001b[43mpad_width\u001b[49m\u001b[43m,\u001b[49m\u001b[43m \u001b[49m\u001b[43marray\u001b[49m\u001b[38;5;241;43m.\u001b[39;49m\u001b[43mndim\u001b[49m\u001b[43m,\u001b[49m\u001b[43m \u001b[49m\u001b[43mas_index\u001b[49m\u001b[38;5;241;43m=\u001b[39;49m\u001b[38;5;28;43;01mTrue\u001b[39;49;00m\u001b[43m)\u001b[49m\n\u001b[1;32m    745\u001b[0m \u001b[38;5;28;01mif\u001b[39;00m \u001b[38;5;28mcallable\u001b[39m(mode):\n\u001b[1;32m    746\u001b[0m     \u001b[38;5;66;03m# Old behavior: Use user-supplied function with np.apply_along_axis\u001b[39;00m\n\u001b[1;32m    747\u001b[0m     function \u001b[38;5;241m=\u001b[39m mode\n",
      "File \u001b[0;32m~/.pyenv/versions/3.10.13/lib/python3.10/site-packages/numpy/lib/arraypad.py:514\u001b[0m, in \u001b[0;36m_as_pairs\u001b[0;34m(x, ndim, as_index)\u001b[0m\n\u001b[1;32m    511\u001b[0m         \u001b[38;5;28;01mreturn\u001b[39;00m ((x[\u001b[38;5;241m0\u001b[39m], x[\u001b[38;5;241m1\u001b[39m]),) \u001b[38;5;241m*\u001b[39m ndim\n\u001b[1;32m    513\u001b[0m \u001b[38;5;28;01mif\u001b[39;00m as_index \u001b[38;5;129;01mand\u001b[39;00m x\u001b[38;5;241m.\u001b[39mmin() \u001b[38;5;241m<\u001b[39m \u001b[38;5;241m0\u001b[39m:\n\u001b[0;32m--> 514\u001b[0m     \u001b[38;5;28;01mraise\u001b[39;00m \u001b[38;5;167;01mValueError\u001b[39;00m(\u001b[38;5;124m\"\u001b[39m\u001b[38;5;124mindex can\u001b[39m\u001b[38;5;124m'\u001b[39m\u001b[38;5;124mt contain negative values\u001b[39m\u001b[38;5;124m\"\u001b[39m)\n\u001b[1;32m    516\u001b[0m \u001b[38;5;66;03m# Converting the array with `tolist` seems to improve performance\u001b[39;00m\n\u001b[1;32m    517\u001b[0m \u001b[38;5;66;03m# when iterating and indexing the result (see usage in `pad`)\u001b[39;00m\n\u001b[1;32m    518\u001b[0m \u001b[38;5;28;01mreturn\u001b[39;00m np\u001b[38;5;241m.\u001b[39mbroadcast_to(x, (ndim, \u001b[38;5;241m2\u001b[39m))\u001b[38;5;241m.\u001b[39mtolist()\n",
      "\u001b[0;31mValueError\u001b[0m: index can't contain negative values"
     ]
    }
   ],
   "source": [
    "def segment_tile(self, tile_path):\n",
    "    seg_config = self.event.seg_config\n",
    "\n",
    "    dataset = geoDatasets.Maxar(str(tile_path))\n",
    "    sampler = samplers.MyBatchGridGeoSampler(dataset, batch_size=seg_config.batch_size, size=seg_config.size, stride=seg_config.stride)\n",
    "    dataloader = DataLoader(dataset , batch_sampler=sampler, collate_fn=stack_samples)\n",
    "\n",
    "    canvas = np.zeros((seg_config.size, seg_config.size, 3), dtype=np.uint8)\n",
    "\n",
    "    i = 0\n",
    "    start_time_all = time()\n",
    "    for batch in tqdm(dataloader):\n",
    "        if i == 5:\n",
    "            break\n",
    "        if i != 4:\n",
    "            i+=1\n",
    "            continue\n",
    "        original_img_tsr = batch['image']\n",
    "        img_b = batch['image'].permute(0,2,3,1).numpy().astype('uint8') #TODO: l'immagine viene convertita in numpy ma magari è meglio lasciarla in tensor\n",
    "\n",
    "        #trees\n",
    "        GD_t_0 = time()\n",
    "        tree_boxes_b, num_trees4img = segment.get_GD_boxes(img_b, seg_config.GD_model,\n",
    "                                            seg_config.TEXT_PROMPT,\n",
    "                                            seg_config.BOX_TRESHOLD,\n",
    "                                            seg_config.TEXT_TRESHOLD,\n",
    "                                            dataset.res,\n",
    "                                            device = seg_config.device,\n",
    "                                            max_area_mt2 = seg_config.max_area_GD_boxes_mt2)\n",
    "        print('GD_time: ', time() - GD_t_0)\n",
    "        print('- GD model device:', next(seg_config.GD_model.parameters()).device)\n",
    "        \n",
    "        #building            \n",
    "        print(batch['bbox'])            \n",
    "        building_boxes_b, num_build4img = segment.get_batch_buildings_boxes(batch['bbox'],\n",
    "                                                                    proj_buildings_gdf = self.proj_build_gdf,\n",
    "                                                                    dataset_res = dataset.res,\n",
    "                                                                    ext_mt = 10)\n",
    "        max_detect = max(num_trees4img + num_build4img)\n",
    "        print(f'max_detect: {max_detect}')\n",
    "        input_points, input_labels = build.get_input_pts_and_lbs(tree_boxes_b, building_boxes_b, max_detect)\n",
    "        \n",
    "        #boxes4FSam = build.get_boxes4FSam(tree_boxes_b, building_boxes_b, max_detect)\n",
    "        #print('tree_b shape: ', building_boxes_b[0].shape)\n",
    "        #print('input_points shape: ', input_points.shape)\n",
    "        #print('input_labels shape: ', input_labels.shape)\n",
    "\n",
    "        all_masks_b = segment.ESAM_from_inputs(original_img_tsr,\n",
    "                                                torch.from_numpy(input_points),\n",
    "                                                torch.from_numpy(input_labels),\n",
    "                                                efficient_sam = seg_config.efficient_sam,\n",
    "                                                device = seg_config.device,\n",
    "                                                num_parall_queries = 17)\n",
    "        \n",
    "        tree_mask_b, building_mask_b, pad_mask_b = segment.discern(all_masks_b, num_trees4img, num_build4img)\n",
    "\n",
    "        #roads\n",
    "        \"\"\"get_road_masks_b(batch['bbox'],\n",
    "                         self.proj_road_gdf,\n",
    "                         seg_config.size,\n",
    "                         dataset.res,\n",
    "                         ext_mt = 10)\"\"\"\n",
    "        \n",
    "        #road_mask_b = segment.get_road_mask(img_b,)\n",
    "        i += 1\n",
    "    print(f'\\nTotal Time for {seg_config.batch_size * i} images: ', time() - start_time_all)\n",
    "    return img_b, original_img_tsr#, tree_boxes_b, building_boxes_b, all_masks_b, tree_mask_b, building_mask_b, pad_mask_b\n",
    "\n",
    "_, _ = segment_tile(m0, m0.tiles_paths[17])\n",
    "#img_b, original_img, tree_boxes_b, building_boxes_b, all_masks_b, tree_mask_b, building_mask_b, pad_mask_b = segment_tile(m0, m0.tiles_paths[17])"
   ]
  },
  {
   "cell_type": "code",
   "execution_count": null,
   "metadata": {},
   "outputs": [],
   "source": [
    "m0.segment_tile()"
   ]
  }
 ],
 "metadata": {
  "kernelspec": {
   "display_name": "maxarSrc",
   "language": "python",
   "name": "maxarsrc"
  },
  "language_info": {
   "codemirror_mode": {
    "name": "ipython",
    "version": 3
   },
   "file_extension": ".py",
   "mimetype": "text/x-python",
   "name": "python",
   "nbconvert_exporter": "python",
   "pygments_lexer": "ipython3",
   "version": "3.10.13"
  }
 },
 "nbformat": 4,
 "nbformat_minor": 2
}

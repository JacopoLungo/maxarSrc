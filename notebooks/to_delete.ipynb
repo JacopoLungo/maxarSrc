{
 "cells": [
  {
   "cell_type": "code",
   "execution_count": 1,
   "metadata": {},
   "outputs": [],
   "source": [
    "import os\n",
    "os.chdir('/nfs/home/vaschetti/maxarSrc/')"
   ]
  },
  {
   "cell_type": "code",
   "execution_count": 2,
   "metadata": {},
   "outputs": [],
   "source": [
    "import argparse\n",
    "import torch\n",
    "\n",
    "from maxarseg.assemble import names\n",
    "from maxarseg.assemble import holders\n",
    "from maxarseg.configs import Config\n",
    "from maxarseg.samplers import samplers_utils"
   ]
  },
  {
   "cell_type": "code",
   "execution_count": 3,
   "metadata": {},
   "outputs": [],
   "source": [
    "from maxarseg.configs import Config\n",
    "import yaml\n",
    "cfg = Config('./configs/custom_cfg.yaml', './configs/default_cfg.yaml')\n",
    "if not torch.cuda.is_available():\n",
    "    cfg.set('models/gd/device', 'cpu')\n",
    "    cfg.set('models/df/device', 'cpu')\n",
    "    cfg.set('models/esam/device', 'cpu')"
   ]
  },
  {
   "cell_type": "code",
   "execution_count": 4,
   "metadata": {},
   "outputs": [
    {
     "name": "stdout",
     "output_type": "stream",
     "text": [
      "Evento su bordo\n",
      "Creating event: BayofBengal-Cyclone-Mocha-May-23\n",
      "Region: AsiaSouthEast-Full\n",
      "Mosaics: ['104001008216D000', '10300110E84B5A00', '104001007EBB7C00', '1040010082988200', '10300100E6747500']\n"
     ]
    }
   ],
   "source": [
    "event = holders.Event(names.get_all_events()[cfg.get('event/ix')], cfg = cfg)"
   ]
  },
  {
   "cell_type": "code",
   "execution_count": 5,
   "metadata": {},
   "outputs": [],
   "source": [
    "all_mosaics_names = event.all_mosaics_names\n",
    "m0 = event.mosaics[all_mosaics_names[0]]"
   ]
  },
  {
   "cell_type": "code",
   "execution_count": 8,
   "metadata": {},
   "outputs": [
    {
     "name": "stdout",
     "output_type": "stream",
     "text": [
      "0 /nfs/projects/overwatch/maxar-segmentation/maxar-open-data/BayofBengal-Cyclone-Mocha-May-23/pre/104001008216D000/033113111131.tif\n",
      "1 /nfs/projects/overwatch/maxar-segmentation/maxar-open-data/BayofBengal-Cyclone-Mocha-May-23/pre/104001008216D000/033111333302.tif\n",
      "2 /nfs/projects/overwatch/maxar-segmentation/maxar-open-data/BayofBengal-Cyclone-Mocha-May-23/pre/104001008216D000/033113111123.tif\n",
      "3 /nfs/projects/overwatch/maxar-segmentation/maxar-open-data/BayofBengal-Cyclone-Mocha-May-23/pre/104001008216D000/033113111312.tif\n",
      "4 /nfs/projects/overwatch/maxar-segmentation/maxar-open-data/BayofBengal-Cyclone-Mocha-May-23/pre/104001008216D000/033111333321.tif\n",
      "5 /nfs/projects/overwatch/maxar-segmentation/maxar-open-data/BayofBengal-Cyclone-Mocha-May-23/pre/104001008216D000/033111333122.tif\n",
      "6 /nfs/projects/overwatch/maxar-segmentation/maxar-open-data/BayofBengal-Cyclone-Mocha-May-23/pre/104001008216D000/033111333320.tif\n",
      "7 /nfs/projects/overwatch/maxar-segmentation/maxar-open-data/BayofBengal-Cyclone-Mocha-May-23/pre/104001008216D000/033111333332.tif\n",
      "8 /nfs/projects/overwatch/maxar-segmentation/maxar-open-data/BayofBengal-Cyclone-Mocha-May-23/pre/104001008216D000/033111333130.tif\n",
      "9 /nfs/projects/overwatch/maxar-segmentation/maxar-open-data/BayofBengal-Cyclone-Mocha-May-23/pre/104001008216D000/033113111331.tif\n",
      "10 /nfs/projects/overwatch/maxar-segmentation/maxar-open-data/BayofBengal-Cyclone-Mocha-May-23/pre/104001008216D000/033111333301.tif\n",
      "11 /nfs/projects/overwatch/maxar-segmentation/maxar-open-data/BayofBengal-Cyclone-Mocha-May-23/pre/104001008216D000/033113111300.tif\n",
      "12 /nfs/projects/overwatch/maxar-segmentation/maxar-open-data/BayofBengal-Cyclone-Mocha-May-23/pre/104001008216D000/033113111311.tif\n",
      "13 /nfs/projects/overwatch/maxar-segmentation/maxar-open-data/BayofBengal-Cyclone-Mocha-May-23/pre/104001008216D000/033113111310.tif\n",
      "14 /nfs/projects/overwatch/maxar-segmentation/maxar-open-data/BayofBengal-Cyclone-Mocha-May-23/pre/104001008216D000/033113111110.tif\n",
      "15 /nfs/projects/overwatch/maxar-segmentation/maxar-open-data/BayofBengal-Cyclone-Mocha-May-23/pre/104001008216D000/033111333303.tif\n",
      "16 /nfs/projects/overwatch/maxar-segmentation/maxar-open-data/BayofBengal-Cyclone-Mocha-May-23/pre/104001008216D000/033113111120.tif\n",
      "17 /nfs/projects/overwatch/maxar-segmentation/maxar-open-data/BayofBengal-Cyclone-Mocha-May-23/pre/104001008216D000/033111333313.tif\n",
      "18 /nfs/projects/overwatch/maxar-segmentation/maxar-open-data/BayofBengal-Cyclone-Mocha-May-23/pre/104001008216D000/033111333333.tif\n",
      "19 /nfs/projects/overwatch/maxar-segmentation/maxar-open-data/BayofBengal-Cyclone-Mocha-May-23/pre/104001008216D000/033111333121.tif\n",
      "20 /nfs/projects/overwatch/maxar-segmentation/maxar-open-data/BayofBengal-Cyclone-Mocha-May-23/pre/104001008216D000/033111333323.tif\n",
      "21 /nfs/projects/overwatch/maxar-segmentation/maxar-open-data/BayofBengal-Cyclone-Mocha-May-23/pre/104001008216D000/033113111133.tif\n",
      "22 /nfs/projects/overwatch/maxar-segmentation/maxar-open-data/BayofBengal-Cyclone-Mocha-May-23/pre/104001008216D000/033113111101.tif\n",
      "23 /nfs/projects/overwatch/maxar-segmentation/maxar-open-data/BayofBengal-Cyclone-Mocha-May-23/pre/104001008216D000/033113111100.tif\n",
      "24 /nfs/projects/overwatch/maxar-segmentation/maxar-open-data/BayofBengal-Cyclone-Mocha-May-23/pre/104001008216D000/033111333123.tif\n",
      "25 /nfs/projects/overwatch/maxar-segmentation/maxar-open-data/BayofBengal-Cyclone-Mocha-May-23/pre/104001008216D000/033113111313.tif\n",
      "26 /nfs/projects/overwatch/maxar-segmentation/maxar-open-data/BayofBengal-Cyclone-Mocha-May-23/pre/104001008216D000/033111333300.tif\n",
      "27 /nfs/projects/overwatch/maxar-segmentation/maxar-open-data/BayofBengal-Cyclone-Mocha-May-23/pre/104001008216D000/033111333330.tif\n",
      "28 /nfs/projects/overwatch/maxar-segmentation/maxar-open-data/BayofBengal-Cyclone-Mocha-May-23/pre/104001008216D000/033113111302.tif\n",
      "29 /nfs/projects/overwatch/maxar-segmentation/maxar-open-data/BayofBengal-Cyclone-Mocha-May-23/pre/104001008216D000/033111333322.tif\n",
      "30 /nfs/projects/overwatch/maxar-segmentation/maxar-open-data/BayofBengal-Cyclone-Mocha-May-23/pre/104001008216D000/033113111122.tif\n",
      "31 /nfs/projects/overwatch/maxar-segmentation/maxar-open-data/BayofBengal-Cyclone-Mocha-May-23/pre/104001008216D000/033113111132.tif\n",
      "32 /nfs/projects/overwatch/maxar-segmentation/maxar-open-data/BayofBengal-Cyclone-Mocha-May-23/pre/104001008216D000/033111333311.tif\n",
      "33 /nfs/projects/overwatch/maxar-segmentation/maxar-open-data/BayofBengal-Cyclone-Mocha-May-23/pre/104001008216D000/033111333312.tif\n",
      "34 /nfs/projects/overwatch/maxar-segmentation/maxar-open-data/BayofBengal-Cyclone-Mocha-May-23/pre/104001008216D000/033111333132.tif\n",
      "35 /nfs/projects/overwatch/maxar-segmentation/maxar-open-data/BayofBengal-Cyclone-Mocha-May-23/pre/104001008216D000/033113111330.tif\n",
      "36 /nfs/projects/overwatch/maxar-segmentation/maxar-open-data/BayofBengal-Cyclone-Mocha-May-23/pre/104001008216D000/033113111112.tif\n",
      "37 /nfs/projects/overwatch/maxar-segmentation/maxar-open-data/BayofBengal-Cyclone-Mocha-May-23/pre/104001008216D000/033111333120.tif\n",
      "38 /nfs/projects/overwatch/maxar-segmentation/maxar-open-data/BayofBengal-Cyclone-Mocha-May-23/pre/104001008216D000/033113111130.tif\n",
      "39 /nfs/projects/overwatch/maxar-segmentation/maxar-open-data/BayofBengal-Cyclone-Mocha-May-23/pre/104001008216D000/033113111303.tif\n",
      "40 /nfs/projects/overwatch/maxar-segmentation/maxar-open-data/BayofBengal-Cyclone-Mocha-May-23/pre/104001008216D000/033111333131.tif\n",
      "41 /nfs/projects/overwatch/maxar-segmentation/maxar-open-data/BayofBengal-Cyclone-Mocha-May-23/pre/104001008216D000/033113111301.tif\n",
      "42 /nfs/projects/overwatch/maxar-segmentation/maxar-open-data/BayofBengal-Cyclone-Mocha-May-23/pre/104001008216D000/033113111121.tif\n",
      "43 /nfs/projects/overwatch/maxar-segmentation/maxar-open-data/BayofBengal-Cyclone-Mocha-May-23/pre/104001008216D000/033111333133.tif\n",
      "44 /nfs/projects/overwatch/maxar-segmentation/maxar-open-data/BayofBengal-Cyclone-Mocha-May-23/pre/104001008216D000/033113111103.tif\n",
      "45 /nfs/projects/overwatch/maxar-segmentation/maxar-open-data/BayofBengal-Cyclone-Mocha-May-23/pre/104001008216D000/033113111111.tif\n",
      "46 /nfs/projects/overwatch/maxar-segmentation/maxar-open-data/BayofBengal-Cyclone-Mocha-May-23/pre/104001008216D000/033111333331.tif\n",
      "47 /nfs/projects/overwatch/maxar-segmentation/maxar-open-data/BayofBengal-Cyclone-Mocha-May-23/pre/104001008216D000/033113111113.tif\n",
      "48 /nfs/projects/overwatch/maxar-segmentation/maxar-open-data/BayofBengal-Cyclone-Mocha-May-23/pre/104001008216D000/033113111102.tif\n",
      "49 /nfs/projects/overwatch/maxar-segmentation/maxar-open-data/BayofBengal-Cyclone-Mocha-May-23/pre/104001008216D000/033111333310.tif\n"
     ]
    }
   ],
   "source": [
    "for i, pa in enumerate (m0.tiles_paths):\n",
    "    print(i, pa)"
   ]
  },
  {
   "cell_type": "code",
   "execution_count": 6,
   "metadata": {},
   "outputs": [],
   "source": [
    "tile_building_gdf = m0.proj_build_gdf.iloc[m0.sindex_proj_build_gdf.query(samplers_utils.path_2_tile_aoi('/nfs/projects/overwatch/maxar-segmentation/maxar-open-data/Hurricane-Idalia-Florida-Aug23/pre/1040010081581C00/031313231033.tif'))]\n"
   ]
  },
  {
   "cell_type": "code",
   "execution_count": 8,
   "metadata": {},
   "outputs": [],
   "source": [
    "tile_building_gdf.to_file(\"reduced_mos_Idalia_81C00_build.gpkg\", driver=\"GPKG\")"
   ]
  },
  {
   "cell_type": "code",
   "execution_count": 23,
   "metadata": {},
   "outputs": [
    {
     "data": {
      "text/plain": [
       "PosixPath('/nfs/projects/overwatch/maxar-segmentation/maxar-open-data/Hurricane-Idalia-Florida-Aug23/pre/1040010081581C00/031313231033.tif')"
      ]
     },
     "execution_count": 23,
     "metadata": {},
     "output_type": "execute_result"
    }
   ],
   "source": [
    "m0.tiles_paths[24]"
   ]
  },
  {
   "cell_type": "code",
   "execution_count": 16,
   "metadata": {},
   "outputs": [],
   "source": [
    "str_path = [str(p) for p in m0.tiles_paths]"
   ]
  },
  {
   "cell_type": "code",
   "execution_count": 22,
   "metadata": {},
   "outputs": [
    {
     "data": {
      "text/plain": [
       "[(24,\n",
       "  '/nfs/projects/overwatch/maxar-segmentation/maxar-open-data/Hurricane-Idalia-Florida-Aug23/pre/1040010081581C00/031313231033.tif')]"
      ]
     },
     "execution_count": 22,
     "metadata": {},
     "output_type": "execute_result"
    }
   ],
   "source": [
    "[(i, s) for i, s in enumerate (str_path) if s.endswith(\"1033.tif\")]"
   ]
  },
  {
   "cell_type": "code",
   "execution_count": 8,
   "metadata": {},
   "outputs": [],
   "source": [
    "m0.proj_build_gdf.to_file(\"mos_Idalia_81C00_build.gpkg\", driver=\"GPKG\")"
   ]
  },
  {
   "cell_type": "code",
   "execution_count": 6,
   "metadata": {},
   "outputs": [
    {
     "name": "stdout",
     "output_type": "stream",
     "text": [
      "Selected Mosaic:  1050410012C31100\n",
      "Selected Tile:  /nfs/projects/overwatch/maxar-segmentation/maxar-open-data/Emilia-Romagna-Italy-flooding-may23/pre/1050410012C31100/031111212212.tif\n"
     ]
    }
   ],
   "source": [
    "all_mosaics_names = event.all_mosaics_names\n",
    "m0 = event.mosaics[all_mosaics_names[1]]\n",
    "print(\"Selected Mosaic: \", all_mosaics_names[1])\n",
    "\n",
    "tile_path = m0.tiles_paths[-1]\n",
    "print(\"Selected Tile: \", tile_path)"
   ]
  },
  {
   "cell_type": "code",
   "execution_count": 7,
   "metadata": {},
   "outputs": [
    {
     "name": "stdout",
     "output_type": "stream",
     "text": [
      "\n",
      "Buildings: found 3 links matching: [33303200, 333032, 3330320]\n"
     ]
    }
   ],
   "source": [
    "m0.set_build_gdf()"
   ]
  },
  {
   "cell_type": "code",
   "execution_count": 9,
   "metadata": {},
   "outputs": [],
   "source": [
    "m0.proj_build_gdf.to_file(\"1233_build.gpkg\", driver=\"GPKG\")"
   ]
  },
  {
   "cell_type": "code",
   "execution_count": 15,
   "metadata": {},
   "outputs": [],
   "source": [
    "proj_gdf = m0.proj_build_gdf"
   ]
  },
  {
   "cell_type": "code",
   "execution_count": 17,
   "metadata": {},
   "outputs": [],
   "source": [
    "import shapely\n",
    "minx, miny, maxx, maxy = 317173.68, 1481684.13, 317397.86, 1481818.29\n",
    "vertices = [(minx, miny), (maxx, miny), (maxx, maxy), (minx, maxy), (minx, miny)]\n",
    "query_patch_poly = shapely.geometry.Polygon(vertices)"
   ]
  },
  {
   "cell_type": "code",
   "execution_count": 18,
   "metadata": {},
   "outputs": [],
   "source": [
    "gdf_index = proj_gdf.sindex"
   ]
  },
  {
   "cell_type": "code",
   "execution_count": 19,
   "metadata": {},
   "outputs": [],
   "source": [
    "hits = gdf_index.query(query_patch_poly)"
   ]
  },
  {
   "cell_type": "code",
   "execution_count": 1,
   "metadata": {},
   "outputs": [],
   "source": [
    "import geopandas as gpd\n",
    "import matplotlib.pyplot as plt\n",
    "import shapely\n",
    "from maxarseg.samplers import samplers_utils\n",
    "import numpy as np"
   ]
  },
  {
   "cell_type": "code",
   "execution_count": 9,
   "metadata": {},
   "outputs": [
    {
     "data": {
      "image/png": "[encoded data removed]",
      "text/plain": [
       "<Figure size 640x480 with 1 Axes>"
      ]
     },
     "metadata": {},
     "output_type": "display_data"
    }
   ],
   "source": [
    "# Create two polygons\n",
    "polygon1 = shapely.geometry.Polygon([(5, 5), (10, 5), (10, 10), (5, 10)])\n",
    "polygon2 = shapely.geometry.Polygon([(0, 0), (4, 0), (3, 3), (1,4), (0, 2)])\n",
    "\n",
    "polygon3= shapely.geometry.Polygon([(0, 8), (0, 11), (11, 11), (10, 0)])\n",
    "# Create a GeoDataFrame\n",
    "gdf = gpd.GeoDataFrame({'geometry': [polygon1,polygon2]}, crs=\"EPSG:4326\")\n",
    "\n",
    "# Plot the GeoDataFrame\n",
    "gdf.plot(color=[\"blue\", \"green\", 'yellow'])\n",
    "plt.show()\n"
   ]
  },
  {
   "cell_type": "code",
   "execution_count": 7,
   "metadata": {},
   "outputs": [
    {
     "data": {
      "text/plain": [
       "array([1, 0])"
      ]
     },
     "execution_count": 7,
     "metadata": {},
     "output_type": "execute_result"
    }
   ],
   "source": [
    "gdf.sindex.query(polygon3)"
   ]
  },
  {
   "cell_type": "code",
   "execution_count": 16,
   "metadata": {},
   "outputs": [],
   "source": [
    "intersec_geom = gdf.intersection(polygon3)"
   ]
  },
  {
   "cell_type": "code",
   "execution_count": 17,
   "metadata": {},
   "outputs": [],
   "source": [
    "valid_gdf = intersec_geom[~intersec_geom.is_empty]\n",
    "num_boxes4img = [len(valid_gdf)]"
   ]
  },
  {
   "cell_type": "code",
   "execution_count": 20,
   "metadata": {},
   "outputs": [
    {
     "data": {
      "text/plain": [
       "<Axes: >"
      ]
     },
     "execution_count": 20,
     "metadata": {},
     "output_type": "execute_result"
    },
    {
     "data": {
      "image/png": "[encoded data removed]",
      "text/plain": [
       "<Figure size 640x480 with 1 Axes>"
      ]
     },
     "metadata": {},
     "output_type": "display_data"
    }
   ],
   "source": [
    "valid_gdf.plot()"
   ]
  },
  {
   "cell_type": "code",
   "execution_count": 18,
   "metadata": {},
   "outputs": [],
   "source": [
    "if len(valid_gdf) > 0:\n",
    "    boxes = samplers_utils.rel_bbox_coords(geodf = valid_gdf,\n",
    "                                            ref_coords = polygon3.bounds,\n",
    "                                            res = 1,\n",
    "                                            ext_mt = 0)\n",
    "else:\n",
    "    boxes = np.empty((0,4))"
   ]
  },
  {
   "cell_type": "code",
   "execution_count": 19,
   "metadata": {},
   "outputs": [
    {
     "data": {
      "text/plain": [
       "[[2.5, 1.0, 7.5, 6.0], [0.0, 6.8, 1.7000000000000002, 8.5]]"
      ]
     },
     "execution_count": 19,
     "metadata": {},
     "output_type": "execute_result"
    }
   ],
   "source": [
    "boxes"
   ]
  },
  {
   "cell_type": "code",
   "execution_count": 34,
   "metadata": {},
   "outputs": [],
   "source": [
    "hits = gdf.sindex.query(polygon3)"
   ]
  },
  {
   "cell_type": "code",
   "execution_count": 35,
   "metadata": {},
   "outputs": [
    {
     "data": {
      "text/html": [
       "<div>\n",
       "<style scoped>\n",
       "    .dataframe tbody tr th:only-of-type {\n",
       "        vertical-align: middle;\n",
       "    }\n",
       "\n",
       "    .dataframe tbody tr th {\n",
       "        vertical-align: top;\n",
       "    }\n",
       "\n",
       "    .dataframe thead th {\n",
       "        text-align: right;\n",
       "    }\n",
       "</style>\n",
       "<table border=\"1\" class=\"dataframe\">\n",
       "  <thead>\n",
       "    <tr style=\"text-align: right;\">\n",
       "      <th></th>\n",
       "      <th>geometry</th>\n",
       "    </tr>\n",
       "  </thead>\n",
       "  <tbody>\n",
       "    <tr>\n",
       "      <th>1</th>\n",
       "      <td>POLYGON ((0.00000 0.00000, 4.00000 0.00000, 2....</td>\n",
       "    </tr>\n",
       "    <tr>\n",
       "      <th>0</th>\n",
       "      <td>POLYGON ((5.00000 5.00000, 10.00000 5.00000, 1...</td>\n",
       "    </tr>\n",
       "  </tbody>\n",
       "</table>\n",
       "</div>"
      ],
      "text/plain": [
       "                                            geometry\n",
       "1  POLYGON ((0.00000 0.00000, 4.00000 0.00000, 2....\n",
       "0  POLYGON ((5.00000 5.00000, 10.00000 5.00000, 1..."
      ]
     },
     "execution_count": 35,
     "metadata": {},
     "output_type": "execute_result"
    }
   ],
   "source": [
    "gdf.iloc[hits]"
   ]
  },
  {
   "cell_type": "code",
   "execution_count": 7,
   "metadata": {},
   "outputs": [
    {
     "name": "stdout",
     "output_type": "stream",
     "text": [
      "32\n",
      "cuda\n"
     ]
    }
   ],
   "source": [
    "import argparse\n",
    "\n",
    "# Create the parser and add arguments\n",
    "parser = argparse.ArgumentParser(description='Segment Maxar Tiles')\n",
    "parser.add_argument('--batch-size', type=int, help='Batch size for processing')\n",
    "parser.add_argument('--device', type=str, help='Device to use for computation')\n",
    "\n",
    "# Define the arguments list as you would pass them in the command line\n",
    "args_list = ['--batch-size', '32', '--device', 'cuda']\n",
    "\n",
    "# Parse the arguments from the list\n",
    "args = parser.parse_args(args_list)\n",
    "\n",
    "# Now args contains the arguments\n",
    "print(args.batch_size)  # Output: 32\n",
    "print(args.device)      # Output: 'cuda'"
   ]
  },
  {
   "cell_type": "code",
   "execution_count": 8,
   "metadata": {},
   "outputs": [
    {
     "name": "stdout",
     "output_type": "stream",
     "text": [
      "batch_size: 32\n",
      "device: cuda\n"
     ]
    }
   ],
   "source": [
    "for arg in vars(args):\n",
    "    print(f\"{arg}: {getattr(args, arg)}\")\n"
   ]
  },
  {
   "cell_type": "code",
   "execution_count": 4,
   "metadata": {},
   "outputs": [
    {
     "name": "stderr",
     "output_type": "stream",
     "text": [
      "usage: ipykernel_launcher.py [-h]\n",
      "ipykernel_launcher.py: error: unrecognized arguments: --f=/nfs/home/vaschetti/.local/share/jupyter/runtime/kernel-v2-1775473AqqbHxL4H1Ol.json\n"
     ]
    },
    {
     "ename": "SystemExit",
     "evalue": "2",
     "output_type": "error",
     "traceback": [
      "An exception has occurred, use %tb to see the full traceback.\n",
      "\u001b[0;31mSystemExit\u001b[0m\u001b[0;31m:\u001b[0m 2\n"
     ]
    },
    {
     "name": "stderr",
     "output_type": "stream",
     "text": [
      "/nfs/home/vaschetti/maxarSrc/.venv/lib/python3.10/site-packages/IPython/core/interactiveshell.py:3516: UserWarning: To exit: use 'exit', 'quit', or Ctrl-D.\n",
      "  warn(\"To exit: use 'exit', 'quit', or Ctrl-D.\", stacklevel=1)\n"
     ]
    }
   ],
   "source": [
    "import argparse\n",
    "parser = argparse.ArgumentParser(description='Segment Maxar Tiles')\n",
    "args = parser.parse_args()"
   ]
  },
  {
   "cell_type": "code",
   "execution_count": 3,
   "metadata": {},
   "outputs": [],
   "source": [
    "import numpy as np\n",
    "import time\n",
    "\n",
    "# Create large arrays for testing\n",
    "canvas = np.random.rand(2, 1700, 1700)  # 2 rows, 1 million columns each\n",
    "weights = np.random.rand(1700, 1700)    # 1 million elements"
   ]
  },
  {
   "cell_type": "code",
   "execution_count": 19,
   "metadata": {},
   "outputs": [
    {
     "name": "stdout",
     "output_type": "stream",
     "text": [
      "Time taken by individual processing: 0.601446 seconds\n"
     ]
    }
   ],
   "source": [
    "# Method 1: Process each index separately\n",
    "start_time = time.time()\n",
    "canvas_0 = np.divide(canvas[0], weights, out=np.zeros_like(canvas[0]), where=weights!=0)\n",
    "canvas_1 = np.divide(canvas[1], weights, out=np.zeros_like(canvas[1]), where=weights!=0)\n",
    "canvas_separate = np.stack((canvas_0, canvas_1), axis = 0)\n",
    "end_time = time.time()\n",
    "time_individual = end_time - start_time\n",
    "print(\"Time taken by individual processing: {:.6f} seconds\".format(time_individual))"
   ]
  },
  {
   "cell_type": "code",
   "execution_count": 20,
   "metadata": {},
   "outputs": [
    {
     "name": "stdout",
     "output_type": "stream",
     "text": [
      "Time taken by vectorized processing: 1.761179 seconds\n"
     ]
    }
   ],
   "source": [
    "# Method 2: Vectorized approach\n",
    "start_time = time.time()\n",
    "canvas_optimized = np.divide(canvas, weights, out=np.zeros_like(canvas), where=weights!=0)\n",
    "end_time = time.time()\n",
    "time_vectorized = end_time - start_time\n",
    "print(\"Time taken by vectorized processing: {:.6f} seconds\".format(time_vectorized))"
   ]
  },
  {
   "cell_type": "code",
   "execution_count": 21,
   "metadata": {},
   "outputs": [
    {
     "name": "stdout",
     "output_type": "stream",
     "text": [
      "Results are the same: True\n"
     ]
    }
   ],
   "source": [
    "# Check if the results are the same\n",
    "print(\"Results are the same:\", np.array_equal(canvas_optimized, canvas_separate))"
   ]
  },
  {
   "cell_type": "code",
   "execution_count": 1,
   "metadata": {},
   "outputs": [],
   "source": [
    "import glob\n",
    "import rasterio\n",
    "from pathlib import Path\n",
    "import os\n",
    "import reverse_geocoder as rg\n",
    "import pyproj\n",
    "import geopandas as gpd\n",
    "import sys"
   ]
  },
  {
   "cell_type": "code",
   "execution_count": 2,
   "metadata": {},
   "outputs": [],
   "source": [
    "if Path.cwd().name != 'src':\n",
    "    os.chdir('./src')\n",
    "from maxarseg import build"
   ]
  },
  {
   "cell_type": "code",
   "execution_count": 5,
   "metadata": {},
   "outputs": [
    {
     "data": {
      "text/plain": [
       "['BayofBengal-Cyclone-Mocha-May-23',\n",
       " 'Emilia-Romagna-Italy-flooding-may23',\n",
       " 'Gambia-flooding-8-11-2022',\n",
       " 'Hurricane-Fiona-9-19-2022',\n",
       " 'Hurricane-Ian-9-26-2022',\n",
       " 'Hurricane-Idalia-Florida-Aug23',\n",
       " 'India-Floods-Oct-2023',\n",
       " 'Indonesia-Earthquake22',\n",
       " 'Kahramanmaras-turkey-earthquake-23',\n",
       " 'Kalehe-DRC-Flooding-5-8-23',\n",
       " 'Libya-Floods-Sept-2023',\n",
       " 'Marshall-Fire-21-Update',\n",
       " 'Maui-Hawaii-fires-Aug-23',\n",
       " 'Morocco-Earthquake-Sept-2023',\n",
       " 'NWT-Canada-Aug-23',\n",
       " 'New-Zealand-Flooding23',\n",
       " 'Sudan-flooding-8-22-2022',\n",
       " 'afghanistan-earthquake22',\n",
       " 'cyclone-emnati22',\n",
       " 'kentucky-flooding-7-29-2022',\n",
       " 'pakistan-flooding22',\n",
       " 'shovi-georgia-landslide-8Aug23',\n",
       " 'southafrica-flooding22',\n",
       " 'tonga-volcano21',\n",
       " 'yellowstone-flooding22']"
      ]
     },
     "execution_count": 5,
     "metadata": {},
     "output_type": "execute_result"
    }
   ],
   "source": [
    "from maxarseg.assemble import names\n",
    "names.get_all_events()"
   ]
  },
  {
   "cell_type": "code",
   "execution_count": 4,
   "metadata": {},
   "outputs": [
    {
     "name": "stderr",
     "output_type": "stream",
     "text": [
      "/home/vaschetti/.pyenv/versions/3.10.13/lib/python3.10/site-packages/torch/functional.py:504: UserWarning: torch.meshgrid: in an upcoming release, it will be required to pass the indexing argument. (Triggered internally at ../aten/src/ATen/native/TensorShape.cpp:3526.)\n",
      "  return _VF.meshgrid(tensors, **kwargs)  # type: ignore[attr-defined]\n"
     ]
    },
    {
     "name": "stdout",
     "output_type": "stream",
     "text": [
      "final text_encoder_type: bert-base-uncased\n",
      "- GD model device: cuda:0\n",
      "- Efficient SAM device: cuda:0\n"
     ]
    }
   ],
   "source": [
    "bs = 2\n",
    "config = build.SegmentConfig(batch_size = bs, device='cuda')"
   ]
  },
  {
   "cell_type": "code",
   "execution_count": 5,
   "metadata": {},
   "outputs": [
    {
     "name": "stdout",
     "output_type": "stream",
     "text": [
      "AfricaWest-Full\n",
      "['10300100CFC9A500', '105001002BD68F00', '1040010073D77D00']\n",
      "Number of tiles: 18\n"
     ]
    }
   ],
   "source": [
    "evento = build.Event(events_names[7], seg_config = config, when='pre')\n",
    "print(evento.region_name)\n",
    "all_mosaics_names = evento.all_mosaics_names\n",
    "print(all_mosaics_names)\n",
    "m0 = evento.mosaics[all_mosaics_names[0]]\n",
    "print(f'Number of tiles: {m0.tiles_num}')"
   ]
  },
  {
   "cell_type": "code",
   "execution_count": 6,
   "metadata": {},
   "outputs": [
    {
     "name": "stdout",
     "output_type": "stream",
     "text": [
      "Found 3 links matching: [33303200, 333032, 3330320]\n"
     ]
    }
   ],
   "source": [
    "m0.set_build_gdf()"
   ]
  },
  {
   "cell_type": "code",
   "execution_count": 7,
   "metadata": {},
   "outputs": [],
   "source": [
    "m0.proj_road_gdf"
   ]
  },
  {
   "cell_type": "code",
   "execution_count": 8,
   "metadata": {},
   "outputs": [
    {
     "data": {
      "text/plain": [
       "PosixPath('/nfs/projects/overwatch/maxar-segmentation/maxar-open-data/Gambia-flooding-8-11-2022/pre/10300100CFC9A500/033133031231.tif')"
      ]
     },
     "execution_count": 8,
     "metadata": {},
     "output_type": "execute_result"
    }
   ],
   "source": [
    "m0.tiles_paths[0]"
   ]
  },
  {
   "cell_type": "code",
   "execution_count": 9,
   "metadata": {},
   "outputs": [
    {
     "name": "stdout",
     "output_type": "stream",
     "text": [
      "not USA:  AfricaWest-Full.tsv\n"
     ]
    }
   ],
   "source": [
    "m0.set_road_gdf()"
   ]
  },
  {
   "cell_type": "code",
   "execution_count": 14,
   "metadata": {},
   "outputs": [
    {
     "data": {
      "text/plain": [
       "array([0, 1], dtype=uint8)"
      ]
     },
     "execution_count": 14,
     "metadata": {},
     "output_type": "execute_result"
    }
   ],
   "source": [
    "road_mask = m0.get_tile_road_mask_np(m0.tiles_paths[0])"
   ]
  },
  {
   "cell_type": "code",
   "execution_count": 16,
   "metadata": {},
   "outputs": [],
   "source": [
    "import rasterio\n",
    "from rasterio.windows import Window\n",
    "from maxarseg import geoDatasets\n",
    "from maxarseg import samplers\n",
    "from maxarseg import segment\n",
    "from torch.utils.data import DataLoader\n",
    "from torchgeo.datasets import stack_samples, unbind_samples\n",
    "import matplotlib.pyplot as plt\n",
    "from tqdm import tqdm\n",
    "import numpy as np\n",
    "from maxarseg import samplers_utils\n",
    "import torch\n",
    "from time import time\n",
    "\n",
    "import warnings\n",
    "\n",
    "# Ignore all warnings\n",
    "warnings.filterwarnings('ignore')"
   ]
  },
  {
   "cell_type": "code",
   "execution_count": 17,
   "metadata": {},
   "outputs": [
    {
     "name": "stderr",
     "output_type": "stream",
     "text": [
      "  0%|          | 0/1682 [00:00<?, ?it/s]"
     ]
    },
    {
     "name": "stderr",
     "output_type": "stream",
     "text": [
      "  0%|          | 2/1682 [00:00<01:35, 17.58it/s]"
     ]
    },
    {
     "name": "stdout",
     "output_type": "stream",
     "text": [
      "In sampler\n",
      "tile_polygon:  POLYGON ((315427.24609375 1485156.25, 320156.25 1485156.25, 320156.25 1479843.75, 315394.8974609375 1479843.75, 315427.24609375 1485156.25))\n"
     ]
    },
    {
     "name": "stderr",
     "output_type": "stream",
     "text": [
      "  0%|          | 4/1682 [00:04<33:06,  1.18s/it]"
     ]
    },
    {
     "name": "stdout",
     "output_type": "stream",
     "text": [
      "GD_time:  4.442540645599365\n",
      "- GD model device: cuda:0\n",
      "[BoundingBox(minx=316033.935546875, maxx=316217.041015625, miny=1479843.75, maxy=1480026.85546875, mint=0.0, maxt=9.223372036854776e+18), BoundingBox(minx=316125.48828125, maxx=316308.59375, miny=1479843.75, maxy=1480026.85546875, mint=0.0, maxt=9.223372036854776e+18)]\n",
      "max_detect: 83\n",
      "-1\n"
     ]
    },
    {
     "name": "stderr",
     "output_type": "stream",
     "text": [
      "\n"
     ]
    },
    {
     "ename": "ValueError",
     "evalue": "index can't contain negative values",
     "output_type": "error",
     "traceback": [
      "\u001b[0;31m---------------------------------------------------------------------------\u001b[0m",
      "\u001b[0;31mValueError\u001b[0m                                Traceback (most recent call last)",
      "Cell \u001b[0;32mIn[17], line 69\u001b[0m\n\u001b[1;32m     66\u001b[0m     \u001b[38;5;28mprint\u001b[39m(\u001b[38;5;124mf\u001b[39m\u001b[38;5;124m'\u001b[39m\u001b[38;5;130;01m\\n\u001b[39;00m\u001b[38;5;124mTotal Time for \u001b[39m\u001b[38;5;132;01m{\u001b[39;00mseg_config\u001b[38;5;241m.\u001b[39mbatch_size\u001b[38;5;250m \u001b[39m\u001b[38;5;241m*\u001b[39m\u001b[38;5;250m \u001b[39mi\u001b[38;5;132;01m}\u001b[39;00m\u001b[38;5;124m images: \u001b[39m\u001b[38;5;124m'\u001b[39m, time() \u001b[38;5;241m-\u001b[39m start_time_all)\n\u001b[1;32m     67\u001b[0m     \u001b[38;5;28;01mreturn\u001b[39;00m img_b, original_img_tsr\u001b[38;5;66;03m#, tree_boxes_b, building_boxes_b, all_masks_b, tree_mask_b, building_mask_b, pad_mask_b\u001b[39;00m\n\u001b[0;32m---> 69\u001b[0m _, _ \u001b[38;5;241m=\u001b[39m \u001b[43msegment_tile\u001b[49m\u001b[43m(\u001b[49m\u001b[43mm0\u001b[49m\u001b[43m,\u001b[49m\u001b[43m \u001b[49m\u001b[43mm0\u001b[49m\u001b[38;5;241;43m.\u001b[39;49m\u001b[43mtiles_paths\u001b[49m\u001b[43m[\u001b[49m\u001b[38;5;241;43m17\u001b[39;49m\u001b[43m]\u001b[49m\u001b[43m)\u001b[49m\n\u001b[1;32m     70\u001b[0m \u001b[38;5;66;03m#img_b, original_img, tree_boxes_b, building_boxes_b, all_masks_b, tree_mask_b, building_mask_b, pad_mask_b = segment_tile(m0, m0.tiles_paths[17])\u001b[39;00m\n",
      "Cell \u001b[0;32mIn[17], line 41\u001b[0m, in \u001b[0;36msegment_tile\u001b[0;34m(self, tile_path)\u001b[0m\n\u001b[1;32m     39\u001b[0m max_detect \u001b[38;5;241m=\u001b[39m \u001b[38;5;28mmax\u001b[39m(num_trees4img \u001b[38;5;241m+\u001b[39m num_build4img)\n\u001b[1;32m     40\u001b[0m \u001b[38;5;28mprint\u001b[39m(\u001b[38;5;124mf\u001b[39m\u001b[38;5;124m'\u001b[39m\u001b[38;5;124mmax_detect: \u001b[39m\u001b[38;5;132;01m{\u001b[39;00mmax_detect\u001b[38;5;132;01m}\u001b[39;00m\u001b[38;5;124m'\u001b[39m)\n\u001b[0;32m---> 41\u001b[0m input_points, input_labels \u001b[38;5;241m=\u001b[39m \u001b[43mbuild\u001b[49m\u001b[38;5;241;43m.\u001b[39;49m\u001b[43mget_input_pts_and_lbs\u001b[49m\u001b[43m(\u001b[49m\u001b[43mtree_boxes_b\u001b[49m\u001b[43m,\u001b[49m\u001b[43m \u001b[49m\u001b[43mbuilding_boxes_b\u001b[49m\u001b[43m,\u001b[49m\u001b[43m \u001b[49m\u001b[43mmax_detect\u001b[49m\u001b[43m)\u001b[49m\n\u001b[1;32m     43\u001b[0m \u001b[38;5;66;03m#boxes4FSam = build.get_boxes4FSam(tree_boxes_b, building_boxes_b, max_detect)\u001b[39;00m\n\u001b[1;32m     44\u001b[0m \u001b[38;5;66;03m#print('tree_b shape: ', building_boxes_b[0].shape)\u001b[39;00m\n\u001b[1;32m     45\u001b[0m \u001b[38;5;66;03m#print('input_points shape: ', input_points.shape)\u001b[39;00m\n\u001b[1;32m     46\u001b[0m \u001b[38;5;66;03m#print('input_labels shape: ', input_labels.shape)\u001b[39;00m\n\u001b[1;32m     48\u001b[0m all_masks_b \u001b[38;5;241m=\u001b[39m segment\u001b[38;5;241m.\u001b[39mESAM_from_inputs(original_img_tsr,\n\u001b[1;32m     49\u001b[0m                                         torch\u001b[38;5;241m.\u001b[39mfrom_numpy(input_points),\n\u001b[1;32m     50\u001b[0m                                         torch\u001b[38;5;241m.\u001b[39mfrom_numpy(input_labels),\n\u001b[1;32m     51\u001b[0m                                         efficient_sam \u001b[38;5;241m=\u001b[39m seg_config\u001b[38;5;241m.\u001b[39mefficient_sam,\n\u001b[1;32m     52\u001b[0m                                         device \u001b[38;5;241m=\u001b[39m seg_config\u001b[38;5;241m.\u001b[39mdevice,\n\u001b[1;32m     53\u001b[0m                                         num_parall_queries \u001b[38;5;241m=\u001b[39m \u001b[38;5;241m17\u001b[39m)\n",
      "File \u001b[0;32m~/maxarSrc/src/maxarseg/build.py:329\u001b[0m, in \u001b[0;36mget_input_pts_and_lbs\u001b[0;34m(tree_boxes_b, building_boxes_b, max_detect)\u001b[0m\n\u001b[1;32m    327\u001b[0m \u001b[38;5;28mprint\u001b[39m(pad_len)\n\u001b[1;32m    328\u001b[0m pad_width \u001b[38;5;241m=\u001b[39m ((\u001b[38;5;241m0\u001b[39m,pad_len),(\u001b[38;5;241m0\u001b[39m, \u001b[38;5;241m0\u001b[39m))\n\u001b[0;32m--> 329\u001b[0m padded_tree_build_detect \u001b[38;5;241m=\u001b[39m \u001b[43mnp\u001b[49m\u001b[38;5;241;43m.\u001b[39;49m\u001b[43mpad\u001b[49m\u001b[43m(\u001b[49m\u001b[43mtree_build_detect\u001b[49m\u001b[43m,\u001b[49m\u001b[43m \u001b[49m\u001b[43mpad_width\u001b[49m\u001b[43m,\u001b[49m\u001b[43m \u001b[49m\u001b[43mconstant_values\u001b[49m\u001b[38;5;241;43m=\u001b[39;49m\u001b[43mpts_pad_value\u001b[49m\u001b[43m)\u001b[49m\n\u001b[1;32m    330\u001b[0m img_input_pts \u001b[38;5;241m=\u001b[39m np\u001b[38;5;241m.\u001b[39mexpand_dims(padded_tree_build_detect, axis \u001b[38;5;241m=\u001b[39m \u001b[38;5;241m0\u001b[39m)\u001b[38;5;241m.\u001b[39mreshape(\u001b[38;5;241m-\u001b[39m\u001b[38;5;241m1\u001b[39m,\u001b[38;5;241m2\u001b[39m,\u001b[38;5;241m2\u001b[39m) \u001b[38;5;66;03m# (max_queries, 2, 2)\u001b[39;00m\n\u001b[1;32m    331\u001b[0m input_pts\u001b[38;5;241m.\u001b[39mappend(img_input_pts)\n",
      "File \u001b[0;32m<__array_function__ internals>:180\u001b[0m, in \u001b[0;36mpad\u001b[0;34m(*args, **kwargs)\u001b[0m\n",
      "File \u001b[0;32m~/.pyenv/versions/3.10.13/lib/python3.10/site-packages/numpy/lib/arraypad.py:743\u001b[0m, in \u001b[0;36mpad\u001b[0;34m(array, pad_width, mode, **kwargs)\u001b[0m\n\u001b[1;32m    740\u001b[0m     \u001b[38;5;28;01mraise\u001b[39;00m \u001b[38;5;167;01mTypeError\u001b[39;00m(\u001b[38;5;124m'\u001b[39m\u001b[38;5;124m`pad_width` must be of integral type.\u001b[39m\u001b[38;5;124m'\u001b[39m)\n\u001b[1;32m    742\u001b[0m \u001b[38;5;66;03m# Broadcast to shape (array.ndim, 2)\u001b[39;00m\n\u001b[0;32m--> 743\u001b[0m pad_width \u001b[38;5;241m=\u001b[39m \u001b[43m_as_pairs\u001b[49m\u001b[43m(\u001b[49m\u001b[43mpad_width\u001b[49m\u001b[43m,\u001b[49m\u001b[43m \u001b[49m\u001b[43marray\u001b[49m\u001b[38;5;241;43m.\u001b[39;49m\u001b[43mndim\u001b[49m\u001b[43m,\u001b[49m\u001b[43m \u001b[49m\u001b[43mas_index\u001b[49m\u001b[38;5;241;43m=\u001b[39;49m\u001b[38;5;28;43;01mTrue\u001b[39;49;00m\u001b[43m)\u001b[49m\n\u001b[1;32m    745\u001b[0m \u001b[38;5;28;01mif\u001b[39;00m \u001b[38;5;28mcallable\u001b[39m(mode):\n\u001b[1;32m    746\u001b[0m     \u001b[38;5;66;03m# Old behavior: Use user-supplied function with np.apply_along_axis\u001b[39;00m\n\u001b[1;32m    747\u001b[0m     function \u001b[38;5;241m=\u001b[39m mode\n",
      "File \u001b[0;32m~/.pyenv/versions/3.10.13/lib/python3.10/site-packages/numpy/lib/arraypad.py:514\u001b[0m, in \u001b[0;36m_as_pairs\u001b[0;34m(x, ndim, as_index)\u001b[0m\n\u001b[1;32m    511\u001b[0m         \u001b[38;5;28;01mreturn\u001b[39;00m ((x[\u001b[38;5;241m0\u001b[39m], x[\u001b[38;5;241m1\u001b[39m]),) \u001b[38;5;241m*\u001b[39m ndim\n\u001b[1;32m    513\u001b[0m \u001b[38;5;28;01mif\u001b[39;00m as_index \u001b[38;5;129;01mand\u001b[39;00m x\u001b[38;5;241m.\u001b[39mmin() \u001b[38;5;241m<\u001b[39m \u001b[38;5;241m0\u001b[39m:\n\u001b[0;32m--> 514\u001b[0m     \u001b[38;5;28;01mraise\u001b[39;00m \u001b[38;5;167;01mValueError\u001b[39;00m(\u001b[38;5;124m\"\u001b[39m\u001b[38;5;124mindex can\u001b[39m\u001b[38;5;124m'\u001b[39m\u001b[38;5;124mt contain negative values\u001b[39m\u001b[38;5;124m\"\u001b[39m)\n\u001b[1;32m    516\u001b[0m \u001b[38;5;66;03m# Converting the array with `tolist` seems to improve performance\u001b[39;00m\n\u001b[1;32m    517\u001b[0m \u001b[38;5;66;03m# when iterating and indexing the result (see usage in `pad`)\u001b[39;00m\n\u001b[1;32m    518\u001b[0m \u001b[38;5;28;01mreturn\u001b[39;00m np\u001b[38;5;241m.\u001b[39mbroadcast_to(x, (ndim, \u001b[38;5;241m2\u001b[39m))\u001b[38;5;241m.\u001b[39mtolist()\n",
      "\u001b[0;31mValueError\u001b[0m: index can't contain negative values"
     ]
    }
   ],
   "source": [
    "def segment_tile(self, tile_path):\n",
    "    seg_config = self.event.seg_config\n",
    "\n",
    "    dataset = geoDatasets.Maxar(str(tile_path))\n",
    "    sampler = samplers.MyBatchGridGeoSampler(dataset, batch_size=seg_config.batch_size, size=seg_config.size, stride=seg_config.stride)\n",
    "    dataloader = DataLoader(dataset , batch_sampler=sampler, collate_fn=stack_samples)\n",
    "\n",
    "    canvas = np.zeros((seg_config.size, seg_config.size, 3), dtype=np.uint8)\n",
    "\n",
    "    i = 0\n",
    "    start_time_all = time()\n",
    "    for batch in tqdm(dataloader):\n",
    "        if i == 5:\n",
    "            break\n",
    "        if i != 4:\n",
    "            i+=1\n",
    "            continue\n",
    "        original_img_tsr = batch['image']\n",
    "        img_b = batch['image'].permute(0,2,3,1).numpy().astype('uint8') #TODO: l'immagine viene convertita in numpy ma magari è meglio lasciarla in tensor\n",
    "\n",
    "        #trees\n",
    "        GD_t_0 = time()\n",
    "        tree_boxes_b, num_trees4img = segment.get_GD_boxes(img_b, seg_config.GD_model,\n",
    "                                            seg_config.TEXT_PROMPT,\n",
    "                                            seg_config.BOX_TRESHOLD,\n",
    "                                            seg_config.TEXT_TRESHOLD,\n",
    "                                            dataset.res,\n",
    "                                            device = seg_config.device,\n",
    "                                            max_area_mt2 = seg_config.max_area_GD_boxes_mt2)\n",
    "        print('GD_time: ', time() - GD_t_0)\n",
    "        print('- GD model device:', next(seg_config.GD_model.parameters()).device)\n",
    "        \n",
    "        #building            \n",
    "        print(batch['bbox'])            \n",
    "        building_boxes_b, num_build4img = segment.get_batch_buildings_boxes(batch['bbox'],\n",
    "                                                                    proj_buildings_gdf = self.proj_build_gdf,\n",
    "                                                                    dataset_res = dataset.res,\n",
    "                                                                    ext_mt = 10)\n",
    "        max_detect = max(num_trees4img + num_build4img)\n",
    "        print(f'max_detect: {max_detect}')\n",
    "        input_points, input_labels = build.get_input_pts_and_lbs(tree_boxes_b, building_boxes_b, max_detect)\n",
    "        \n",
    "        #boxes4FSam = build.get_boxes4FSam(tree_boxes_b, building_boxes_b, max_detect)\n",
    "        #print('tree_b shape: ', building_boxes_b[0].shape)\n",
    "        #print('input_points shape: ', input_points.shape)\n",
    "        #print('input_labels shape: ', input_labels.shape)\n",
    "\n",
    "        all_masks_b = segment.ESAM_from_inputs(original_img_tsr,\n",
    "                                                torch.from_numpy(input_points),\n",
    "                                                torch.from_numpy(input_labels),\n",
    "                                                efficient_sam = seg_config.efficient_sam,\n",
    "                                                device = seg_config.device,\n",
    "                                                num_parall_queries = 17)\n",
    "        \n",
    "        tree_mask_b, building_mask_b, pad_mask_b = segment.discern(all_masks_b, num_trees4img, num_build4img)\n",
    "\n",
    "        #roads\n",
    "        \"\"\"get_road_masks_b(batch['bbox'],\n",
    "                         self.proj_road_gdf,\n",
    "                         seg_config.size,\n",
    "                         dataset.res,\n",
    "                         ext_mt = 10)\"\"\"\n",
    "        \n",
    "        #road_mask_b = segment.get_road_mask(img_b,)\n",
    "        i += 1\n",
    "    print(f'\\nTotal Time for {seg_config.batch_size * i} images: ', time() - start_time_all)\n",
    "    return img_b, original_img_tsr#, tree_boxes_b, building_boxes_b, all_masks_b, tree_mask_b, building_mask_b, pad_mask_b\n",
    "\n",
    "_, _ = segment_tile(m0, m0.tiles_paths[17])\n",
    "#img_b, original_img, tree_boxes_b, building_boxes_b, all_masks_b, tree_mask_b, building_mask_b, pad_mask_b = segment_tile(m0, m0.tiles_paths[17])"
   ]
  },
  {
   "cell_type": "code",
   "execution_count": null,
   "metadata": {},
   "outputs": [],
   "source": [
    "m0.segment_tile()"
   ]
  }
 ],
 "metadata": {
  "kernelspec": {
   "display_name": ".venv",
   "language": "python",
   "name": "python3"
  },
  "language_info": {
   "codemirror_mode": {
    "name": "ipython",
    "version": 3
   },
   "file_extension": ".py",
   "mimetype": "text/x-python",
   "name": "python",
   "nbconvert_exporter": "python",
   "pygments_lexer": "ipython3",
   "version": "3.10.14"
  }
 },
 "nbformat": 4,
 "nbformat_minor": 2
}

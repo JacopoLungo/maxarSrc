{
 "cells": [
  {
   "cell_type": "code",
   "execution_count": 1,
   "metadata": {},
   "outputs": [],
   "source": [
    "from pathlib import Path\n",
    "import os"
   ]
  },
  {
   "cell_type": "code",
   "execution_count": 1,
   "metadata": {},
   "outputs": [],
   "source": [
    "from pathlib import Path\n",
    "import os\n",
    "\n",
    "if Path.cwd().name != 'src':\n",
    "    os.chdir('/nfs/home/vaschetti/maxarSrc/')"
   ]
  },
  {
   "cell_type": "code",
   "execution_count": 3,
   "metadata": {},
   "outputs": [],
   "source": [
    "nomi = ['New-Zealand-Flooding23',\n",
    "'Libya-Floods-Sept-2023',\n",
    "'Sudan-flooding-8-22-2022',\n",
    "'Marshall-Fire-21-Update',\n",
    "'tonga-volcano21',\n",
    "'Hurricane-Ian-9-26-2022',\n",
    "'Kahramanmaras-turkey-earthquake-23']"
   ]
  },
  {
   "cell_type": "code",
   "execution_count": 3,
   "metadata": {},
   "outputs": [
    {
     "ename": "NameError",
     "evalue": "name 'nomi' is not defined",
     "output_type": "error",
     "traceback": [
      "\u001b[0;31m---------------------------------------------------------------------------\u001b[0m",
      "\u001b[0;31mNameError\u001b[0m                                 Traceback (most recent call last)",
      "Cell \u001b[0;32mIn[3], line 2\u001b[0m\n\u001b[1;32m      1\u001b[0m indexes \u001b[38;5;241m=\u001b[39m [\u001b[38;5;241m15\u001b[39m, \u001b[38;5;241m10\u001b[39m, \u001b[38;5;241m16\u001b[39m, \u001b[38;5;241m11\u001b[39m, \u001b[38;5;241m23\u001b[39m, \u001b[38;5;241m4\u001b[39m, \u001b[38;5;241m8\u001b[39m]\n\u001b[0;32m----> 2\u001b[0m \u001b[38;5;28;01mfor\u001b[39;00m nome \u001b[38;5;129;01min\u001b[39;00m \u001b[43mnomi\u001b[49m:\n\u001b[1;32m      3\u001b[0m     \u001b[38;5;28mprint\u001b[39m(events_names\u001b[38;5;241m.\u001b[39mindex(nome), nome)\n",
      "\u001b[0;31mNameError\u001b[0m: name 'nomi' is not defined"
     ]
    }
   ],
   "source": [
    "indexes = [15, 10, 16, 11, 23, 4, 8]\n",
    "for nome in nomi:\n",
    "    print(events_names.index(nome), nome)"
   ]
  },
  {
   "cell_type": "code",
   "execution_count": 2,
   "metadata": {},
   "outputs": [
    {
     "ename": "NameError",
     "evalue": "name 'names' is not defined",
     "output_type": "error",
     "traceback": [
      "\u001b[0;31m---------------------------------------------------------------------------\u001b[0m",
      "\u001b[0;31mNameError\u001b[0m                                 Traceback (most recent call last)",
      "Cell \u001b[0;32mIn[2], line 1\u001b[0m\n\u001b[0;32m----> 1\u001b[0m events_names \u001b[38;5;241m=\u001b[39m \u001b[43mnames\u001b[49m\u001b[38;5;241m.\u001b[39mget_all_events()\n\u001b[1;32m      2\u001b[0m \u001b[38;5;28;01mfor\u001b[39;00m i, events_names \u001b[38;5;129;01min\u001b[39;00m \u001b[38;5;28menumerate\u001b[39m(events_names):\n\u001b[1;32m      3\u001b[0m     \u001b[38;5;28mprint\u001b[39m(i, events_names)\n",
      "\u001b[0;31mNameError\u001b[0m: name 'names' is not defined"
     ]
    }
   ],
   "source": [
    "events_names = names.get_all_events()\n",
    "for i, events_names in enumerate(events_names):\n",
    "    print(i, events_names)"
   ]
  },
  {
   "cell_type": "code",
   "execution_count": 35,
   "metadata": {},
   "outputs": [
    {
     "name": "stdout",
     "output_type": "stream",
     "text": [
      "Creating event: New-Zealand-Flooding23\n",
      "Region: Oceania-Full\n",
      "Mosaics: ['104001007C86B200', '10300100DE4D9300']\n",
      "15 New-Zealand-Flooding23\n",
      "POLYGON ((174.58402641621146 -36.79981931230382, 174.78049481431765 -36.79981931230382, 174.78049481431765 -36.691067491830886, 174.58402641621146 -36.691067491830886, 174.58402641621146 -36.79981931230382)) \n",
      "\n",
      "Creating event: Libya-Floods-Sept-2023\n",
      "Region: AfricaNorth-Full\n",
      "Mosaics: ['10300500D8F96700', '1050050058DEA900', '1040010087AB7E00', '1050050064DEAB00', '1050050059DEBF00', '105005005ADE7C00', '10300100EC0F0E00']\n",
      "10 Libya-Floods-Sept-2023\n",
      "POLYGON ((19.487420326595956 30.381940423617085, 22.734483386934752 30.381940423617085, 22.734483386934752 32.90791677129816, 19.487420326595956 32.90791677129816, 19.487420326595956 30.381940423617085)) \n",
      "\n",
      "Creating event: Sudan-flooding-8-22-2022\n",
      "Region: AfricaEast-Full\n",
      "Mosaics: ['104001007487BA00', '105001002A97E200', '104001007ABC4D00']\n",
      "16 Sudan-flooding-8-22-2022\n",
      "POLYGON ((23.259028158328938 10.480625522271387, 36.43128470200393 10.480625522271387, 36.43128470200393 15.510558361889887, 23.259028158328938 15.510558361889887, 23.259028158328938 10.480625522271387)) \n",
      "\n",
      "Creating event: Marshall-Fire-21-Update\n",
      "Region: USA\n",
      "Mosaics: ['10200100BCB1A500']\n",
      "11 Marshall-Fire-21-Update\n",
      "POLYGON ((-105.31674884755896 39.91626103226608, -105.08353812092402 39.91626103226608, -105.08353812092402 40.01541403883705, -105.31674884755896 40.01541403883705, -105.31674884755896 39.91626103226608)) \n",
      "\n",
      "Creating event: tonga-volcano21\n",
      "Region: Oceania-Full\n",
      "Mosaics: ['10300100CCD4E100', '10300100BC131900']\n",
      "23 tonga-volcano21\n",
      "POLYGON ((-175.4889598100907 -21.82291042167439, -174.72737736158908 -21.82291042167439, -174.72737736158908 -20.372513323349022, -175.4889598100907 -20.372513323349022, -175.4889598100907 -21.82291042167439)) \n",
      "\n",
      "Creating event: Hurricane-Ian-9-26-2022\n",
      "Region: USA\n",
      "Mosaics: ['105001002D0A8100', '10300100CCC6CD00', '105001002A491800', '10300100CCA6AB00', '10300100CE603100', '1040010074CCEA00', '10300100D8A7A100', '10200100CA0ED900', '10300100D8235300', '104001007D777200', '1040010076599E00', '10300100D93A5E00', '105001002D8BCC00', '10300100D026E700', '1050010028AE6C00', '10300100D122D300', '104001007A5E4D00', '105001002D409800', '1040010072528400', '10300100D1466F00', '10200100CA8D0500', '1040010076AFB000', '1040010074035100', '104001007BC29000', '10200100C66ACB00', '10200100C844A500', '10300100D1553D00', '105001002591D500', '105001002C9F5C00', '1040010075B43400', '10300100D6CFC000', '10200100B0214600', '10300100D0383500', '1050010029A68300', '10300100CD936D00', '1040010075302700', '10200100BC21AC00', '1040010078184300', '10200100C64F3000', '10200100C0DA0700', '105001002908EA00', '104001007A83F800', '10300100D01AC700', '10300100D0636800', '10200100B0344500', '10400100757D1800', '10200100B5D89900', '1050010028B99200', '105001002A0D5C00', '10300100D010FF00', '10300100CB5B9E00', '10500100274A7C00', '10300100D665FE00', '10300100CBCC2400', '105001002757D500', '10300100D0965E00', '10200100C8D7A600', '105001002A491900', '10200100B01E7400', '1040010075635E00', '10400100703E5500', '10200100C208EE00']\n",
      "4 Hurricane-Ian-9-26-2022\n",
      "POLYGON ((-83.8993045444558 22.173767305032644, -78.7549240662501 22.173767305032644, -78.7549240662501 33.97112424789773, -83.8993045444558 33.97112424789773, -83.8993045444558 22.173767305032644)) \n",
      "\n",
      "Creating event: Kahramanmaras-turkey-earthquake-23\n",
      "Region: MiddleEast-Full\n",
      "Mosaics: ['10300100DFA9DD00', '10300100DF069700', '104001007DAE2D00', '104001008058CD00', '104001007E564300', '10300100D76F1300', '10300100DF1DB000', '10300500BFF95000', '10300100E18A1000', '10300500BFF94800', '10300100D6740900', '10300100E0287700', '10200100B5C3A800', '10500500F0DD9700', '1040010067C49900', '10300100DB913300', '10300100DF6BFE00', '10300500D8F90C00', '10300100E1700300', '10300500BFF94C00', '104001006D138700', '10300100DC08C900', '1040010077137900', '10300100D797E100', '10300100DD62DB00', '10300100D6789800']\n",
      "8 Kahramanmaras-turkey-earthquake-23\n",
      "POLYGON ((30.044560299701732 35.55850328879987, 40.32733330601399 35.55850328879987, 40.32733330601399 38.473681468963335, 30.044560299701732 38.473681468963335, 30.044560299701732 35.55850328879987)) \n",
      "\n"
     ]
    }
   ],
   "source": [
    "events_names = names.get_all_events()\n",
    "for index in indexes:\n",
    "    event = holders.Event(events_names[index], when='pre')\n",
    "    print(index, event.name)\n",
    "    print(event.get_roi_polygon(wkt = True),'\\n')\n",
    "    "
   ]
  },
  {
   "cell_type": "code",
   "execution_count": 4,
   "metadata": {},
   "outputs": [
    {
     "name": "stdout",
     "output_type": "stream",
     "text": [
      "Creating event: Hurricane-Ian-9-26-2022\n",
      "Region: USA\n",
      "Mosaics: ['105001002D0A8100', '10300100CCC6CD00', '105001002A491800', '10300100CCA6AB00', '10300100CE603100', '1040010074CCEA00', '10300100D8A7A100', '10200100CA0ED900', '10300100D8235300', '104001007D777200', '1040010076599E00', '10300100D93A5E00', '105001002D8BCC00', '10300100D026E700', '1050010028AE6C00', '10300100D122D300', '104001007A5E4D00', '105001002D409800', '1040010072528400', '10300100D1466F00', '10200100CA8D0500', '1040010076AFB000', '1040010074035100', '104001007BC29000', '10200100C66ACB00', '10200100C844A500', '10300100D1553D00', '105001002591D500', '105001002C9F5C00', '1040010075B43400', '10300100D6CFC000', '10200100B0214600', '10300100D0383500', '1050010029A68300', '10300100CD936D00', '1040010075302700', '10200100BC21AC00', '1040010078184300', '10200100C64F3000', '10200100C0DA0700', '105001002908EA00', '104001007A83F800', '10300100D01AC700', '10300100D0636800', '10200100B0344500', '10400100757D1800', '10200100B5D89900', '1050010028B99200', '105001002A0D5C00', '10300100D010FF00', '10300100CB5B9E00', '10500100274A7C00', '10300100D665FE00', '10300100CBCC2400', '105001002757D500', '10300100D0965E00', '10200100C8D7A600', '105001002A491900', '10200100B01E7400', '1040010075635E00', '10400100703E5500', '10200100C208EE00']\n",
      "Number of tiles: 58\n"
     ]
    }
   ],
   "source": [
    "from maxarseg.assemble import holders, names\n",
    "\n",
    "events_names = names.get_all_events()\n",
    "\n",
    "event = holders.Event(events_names[4],\n",
    "                    #seg_config = seg_config,\n",
    "                    #det_config = det_config,\n",
    "                    when='pre')\n",
    "\n",
    "all_mosaics_names = event.all_mosaics_names\n",
    "\n",
    "m0 = event.mosaics[all_mosaics_names[0]]\n",
    "print(f'Number of tiles: {m0.tiles_num}')"
   ]
  },
  {
   "cell_type": "code",
   "execution_count": 12,
   "metadata": {},
   "outputs": [
    {
     "name": "stdout",
     "output_type": "stream",
     "text": [
      "\n",
      "Buildings: found 2 links matching: [32021233, 32023011, 320230, 3202123, 320212, 3202301]\n"
     ]
    }
   ],
   "source": [
    "m0.set_build_gdf()"
   ]
  },
  {
   "cell_type": "code",
   "execution_count": 5,
   "metadata": {},
   "outputs": [
    {
     "name": "stdout",
     "output_type": "stream",
     "text": [
      "105001002D0A8100\n",
      "\n",
      "Buildings: found 2 links matching: [32021233, 32023011, 3202123, 3202301, 320212, 320230]\n",
      "10300100CCC6CD00\n",
      "\n",
      "Buildings: found 5 links matching: [32023221, 32023223, 32023220, 32023222, 3202322, 320232]\n",
      "105001002A491800\n",
      "\n",
      "Buildings: found 2 links matching: [32021232, 32023010, 3202123, 3202301, 320212, 320230]\n",
      "10300100CCA6AB00\n",
      "\n",
      "Buildings: found 2 links matching: [32021302, 32021320, 3202132, 320213, 3202130]\n",
      "10300100CE603100\n",
      "\n",
      "Buildings: found 2 links matching: [32003330, 320033, 3200333]\n",
      "1040010074CCEA00\n",
      "\n",
      "Buildings: found 5 links matching: [32003311, 32003313, 32003331, 3200331, 320033, 3200333]\n",
      "10300100D8A7A100\n",
      "\n",
      "Buildings: found 2 links matching: [32021231, 32021230, 3202123, 320212]\n",
      "10200100CA0ED900\n",
      "\n",
      "Buildings: found 5 links matching: [32023221, 32023223, 32023220, 32023222, 3202322, 320232]\n",
      "10300100D8235300\n",
      "\n",
      "Buildings: found 1 links matching: [32023011, 320230, 3202301]\n",
      "104001007D777200\n",
      "\n",
      "Buildings: found 1 links matching: [32021230, 3202123, 320212]\n",
      "1040010076599E00\n",
      "\n",
      "Buildings: found 6 links matching: [32021231, 32021233, 32023011, 32021230, 32021232, 32023010, 3202123, 3202301, 320212, 320230]\n",
      "10300100D93A5E00\n",
      "\n",
      "Buildings: found 2 links matching: [32021232, 32023010, 3202123, 3202301, 320212, 320230]\n",
      "105001002D8BCC00\n",
      "\n",
      "Buildings: found 4 links matching: [32021231, 32021233, 32021230, 32021232, 3202123, 320212]\n",
      "10300100D026E700\n",
      "\n",
      "Buildings: found 6 links matching: [32021231, 32021233, 32023011, 32021230, 32021232, 32023010, 3202123, 3202301, 320212, 320230]\n",
      "1050010028AE6C00\n",
      "\n",
      "Buildings: found 1 links matching: [32021302, 320213, 3202130]\n",
      "10300100D122D300\n",
      "\n",
      "Buildings: found 1 links matching: [32021230, 3202123, 320212]\n",
      "104001007A5E4D00\n",
      "\n",
      "Buildings: found 3 links matching: [32021230, 32021232, 32023010, 3202123, 3202301, 320212, 320230]\n",
      "105001002D409800\n",
      "\n",
      "Buildings: found 4 links matching: [32021233, 32023011, 32021232, 32023010, 3202123, 3202301, 320212, 320230]\n",
      "1040010072528400\n",
      "\n",
      "Buildings: found 6 links matching: [32021231, 32021233, 32023011, 32021230, 32021232, 32023010, 3202123, 3202301, 320212, 320230]\n",
      "10300100D1466F00\n",
      "\n",
      "Buildings: found 2 links matching: [32021230, 32021232, 3202123, 320212]\n",
      "10200100CA8D0500\n",
      "\n",
      "Buildings: found 1 links matching: [32023222, 3202322, 320232]\n",
      "1040010076AFB000\n",
      "\n",
      "Buildings: found 2 links matching: [32021233, 32023011, 3202123, 3202301, 320212, 320230]\n",
      "1040010074035100\n",
      "\n",
      "Buildings: found 4 links matching: [32003311, 32003313, 3200331, 320033]\n",
      "104001007BC29000\n",
      "\n",
      "Buildings: found 1 links matching: [32003312, 3200331, 320033]\n",
      "10200100C66ACB00\n",
      "\n",
      "Buildings: found 1 links matching: [32023011, 320230, 3202301]\n",
      "10200100C844A500\n",
      "\n",
      "Buildings: found 1 links matching: [32023223, 3202322, 320232]\n",
      "10300100D1553D00\n",
      "\n",
      "Buildings: found 2 links matching: [32021230, 32021232, 3202123, 320212]\n",
      "105001002591D500\n",
      "\n",
      "Buildings: found 1 links matching: [32023011, 320230, 3202301]\n",
      "105001002C9F5C00\n",
      "\n",
      "Buildings: found 2 links matching: [32003313, 3200331, 320033]\n",
      "1040010075B43400\n",
      "\n",
      "Buildings: found 2 links matching: [32003330, 320033, 3200333]\n",
      "10300100D6CFC000\n",
      "\n",
      "Buildings: found 1 links matching: [32021230, 3202123, 320212]\n",
      "10200100B0214600\n",
      "\n",
      "Buildings: found 2 links matching: [32023011, 32023013, 320230, 3202301]\n",
      "10300100D0383500\n",
      "\n",
      "Buildings: found 1 links matching: [32021230, 3202123, 320212]\n",
      "1050010029A68300\n",
      "\n",
      "Buildings: found 2 links matching: [32021233, 32023011, 3202123, 3202301, 320212, 320230]\n",
      "10300100CD936D00\n",
      "\n",
      "Buildings: found 3 links matching: [32003330, 32003321, 320033, 3200332, 3200333]\n",
      "1040010075302700\n",
      "\n",
      "Buildings: found 4 links matching: [32003311, 32003313, 3200331, 320033]\n",
      "10200100BC21AC00\n",
      "\n",
      "Buildings: found 2 links matching: [32023011, 32023013, 320230, 3202301]\n",
      "1040010078184300\n",
      "\n",
      "Buildings: found 3 links matching: [32003313, 32003312, 3200331, 320033]\n",
      "10200100C64F3000\n",
      "\n",
      "Buildings: found 3 links matching: [32021230, 32021232, 32023010, 3202123, 3202301, 320212, 320230]\n",
      "10200100C0DA0700\n",
      "\n",
      "Buildings: found 3 links matching: [32023011, 32023013, 32023010, 32023012, 320230, 3202301]\n",
      "105001002908EA00\n",
      "\n",
      "Buildings: found 2 links matching: [32023100, 32023102, 3202310, 320231]\n",
      "104001007A83F800\n",
      "\n",
      "Buildings: found 2 links matching: [32003313, 3200331, 320033]\n",
      "10300100D01AC700\n",
      "\n",
      "Buildings: found 1 links matching: [32021230, 3202123, 320212]\n",
      "10300100D0636800\n",
      "\n",
      "Buildings: found 3 links matching: [32003330, 32003321, 320033, 3200332, 3200333]\n",
      "10200100B0344500\n",
      "\n",
      "Buildings: found 4 links matching: [32023100, 32023102, 32023011, 32023013, 320230, 3202310, 3202301, 320231]\n",
      "10400100757D1800\n",
      "\n",
      "Buildings: found 2 links matching: [32003330, 320033, 3200333]\n",
      "10200100B5D89900\n",
      "\n",
      "Buildings: found 2 links matching: [32023011, 32023013, 320230, 3202301]\n",
      "1050010028B99200\n",
      "\n",
      "Buildings: found 2 links matching: [32021302, 32021320, 3202132, 320213, 3202130]\n",
      "105001002A0D5C00\n",
      "\n",
      "Buildings: found 3 links matching: [32003313, 32003312, 3200331, 320033]\n",
      "10300100D010FF00\n",
      "\n",
      "Buildings: found 2 links matching: [32003330, 320033, 3200333]\n",
      "10300100CB5B9E00\n",
      "\n",
      "Buildings: found 2 links matching: [32023011, 32023013, 320230, 3202301]\n",
      "10500100274A7C00\n",
      "\n",
      "Buildings: found 4 links matching: [32023100, 32023102, 32023011, 32023013, 320230, 3202310, 3202301, 320231]\n",
      "10300100D665FE00\n",
      "\n",
      "Buildings: found 1 links matching: [32021230, 3202123, 320212]\n",
      "10300100CBCC2400\n",
      "\n",
      "Buildings: found 4 links matching: [32003311, 32003313, 3200331, 320033]\n",
      "105001002757D500\n",
      "\n",
      "Buildings: found 4 links matching: [32023100, 32023102, 32023011, 32023013, 320230, 3202310, 3202301, 320231]\n",
      "10300100D0965E00\n",
      "\n",
      "Buildings: found 3 links matching: [32021230, 32021232, 32023010, 3202123, 3202301, 320212, 320230]\n",
      "10200100C8D7A600\n",
      "\n",
      "Buildings: found 2 links matching: [32021122, 32021300, 3202112, 320213, 320211, 3202130]\n",
      "105001002A491900\n",
      "\n",
      "Buildings: found 4 links matching: [32021233, 32023011, 32021232, 32023010, 3202123, 3202301, 320212, 320230]\n",
      "10200100B01E7400\n",
      "\n",
      "Buildings: found 1 links matching: [32023011, 320230, 3202301]\n",
      "1040010075635E00\n",
      "\n",
      "Buildings: found 4 links matching: [32003311, 32003313, 3200331, 320033]\n",
      "10400100703E5500\n",
      "\n",
      "Buildings: found 2 links matching: [32023011, 32023013, 320230, 3202301]\n",
      "10200100C208EE00\n",
      "\n",
      "Buildings: found 1 links matching: [32023013, 320230, 3202301]\n"
     ]
    }
   ],
   "source": [
    "for m_name in all_mosaics_names:\n",
    "    print(m_name)\n",
    "    event.mosaics[m_name].set_build_gdf()"
   ]
  },
  {
   "cell_type": "code",
   "execution_count": 6,
   "metadata": {},
   "outputs": [
    {
     "data": {
      "text/plain": [
       "'New-Zealand-Flooding23'"
      ]
     },
     "execution_count": 6,
     "metadata": {},
     "output_type": "execute_result"
    }
   ],
   "source": [
    "event.name"
   ]
  },
  {
   "cell_type": "code",
   "execution_count": 5,
   "metadata": {},
   "outputs": [
    {
     "ename": "FileNotFoundError",
     "evalue": "[Errno 2] No such file or directory: 'path/to/your/file.csv.gz'",
     "output_type": "error",
     "traceback": [
      "\u001b[0;31m---------------------------------------------------------------------------\u001b[0m",
      "\u001b[0;31mFileNotFoundError\u001b[0m                         Traceback (most recent call last)",
      "Cell \u001b[0;32mIn[5], line 7\u001b[0m\n\u001b[1;32m      4\u001b[0m file_path \u001b[38;5;241m=\u001b[39m \u001b[38;5;124m'\u001b[39m\u001b[38;5;124mpath/to/your/file.csv.gz\u001b[39m\u001b[38;5;124m'\u001b[39m\n\u001b[1;32m      6\u001b[0m \u001b[38;5;66;03m# Load the compressed CSV file into a pandas DataFrame\u001b[39;00m\n\u001b[0;32m----> 7\u001b[0m df \u001b[38;5;241m=\u001b[39m \u001b[43mpd\u001b[49m\u001b[38;5;241;43m.\u001b[39;49m\u001b[43mread_csv\u001b[49m\u001b[43m(\u001b[49m\u001b[43mfile_path\u001b[49m\u001b[43m,\u001b[49m\u001b[43m \u001b[49m\u001b[43mcompression\u001b[49m\u001b[38;5;241;43m=\u001b[39;49m\u001b[38;5;124;43m'\u001b[39;49m\u001b[38;5;124;43mgzip\u001b[39;49m\u001b[38;5;124;43m'\u001b[39;49m\u001b[43m)\u001b[49m\n\u001b[1;32m      9\u001b[0m \u001b[38;5;66;03m# Display the first few rows of the DataFrame\u001b[39;00m\n\u001b[1;32m     10\u001b[0m \u001b[38;5;28mprint\u001b[39m(df\u001b[38;5;241m.\u001b[39mhead())\n",
      "File \u001b[0;32m~/maxarSrc/.venv/lib/python3.10/site-packages/pandas/io/parsers/readers.py:948\u001b[0m, in \u001b[0;36mread_csv\u001b[0;34m(filepath_or_buffer, sep, delimiter, header, names, index_col, usecols, dtype, engine, converters, true_values, false_values, skipinitialspace, skiprows, skipfooter, nrows, na_values, keep_default_na, na_filter, verbose, skip_blank_lines, parse_dates, infer_datetime_format, keep_date_col, date_parser, date_format, dayfirst, cache_dates, iterator, chunksize, compression, thousands, decimal, lineterminator, quotechar, quoting, doublequote, escapechar, comment, encoding, encoding_errors, dialect, on_bad_lines, delim_whitespace, low_memory, memory_map, float_precision, storage_options, dtype_backend)\u001b[0m\n\u001b[1;32m    935\u001b[0m kwds_defaults \u001b[38;5;241m=\u001b[39m _refine_defaults_read(\n\u001b[1;32m    936\u001b[0m     dialect,\n\u001b[1;32m    937\u001b[0m     delimiter,\n\u001b[0;32m   (...)\u001b[0m\n\u001b[1;32m    944\u001b[0m     dtype_backend\u001b[38;5;241m=\u001b[39mdtype_backend,\n\u001b[1;32m    945\u001b[0m )\n\u001b[1;32m    946\u001b[0m kwds\u001b[38;5;241m.\u001b[39mupdate(kwds_defaults)\n\u001b[0;32m--> 948\u001b[0m \u001b[38;5;28;01mreturn\u001b[39;00m \u001b[43m_read\u001b[49m\u001b[43m(\u001b[49m\u001b[43mfilepath_or_buffer\u001b[49m\u001b[43m,\u001b[49m\u001b[43m \u001b[49m\u001b[43mkwds\u001b[49m\u001b[43m)\u001b[49m\n",
      "File \u001b[0;32m~/maxarSrc/.venv/lib/python3.10/site-packages/pandas/io/parsers/readers.py:611\u001b[0m, in \u001b[0;36m_read\u001b[0;34m(filepath_or_buffer, kwds)\u001b[0m\n\u001b[1;32m    608\u001b[0m _validate_names(kwds\u001b[38;5;241m.\u001b[39mget(\u001b[38;5;124m\"\u001b[39m\u001b[38;5;124mnames\u001b[39m\u001b[38;5;124m\"\u001b[39m, \u001b[38;5;28;01mNone\u001b[39;00m))\n\u001b[1;32m    610\u001b[0m \u001b[38;5;66;03m# Create the parser.\u001b[39;00m\n\u001b[0;32m--> 611\u001b[0m parser \u001b[38;5;241m=\u001b[39m \u001b[43mTextFileReader\u001b[49m\u001b[43m(\u001b[49m\u001b[43mfilepath_or_buffer\u001b[49m\u001b[43m,\u001b[49m\u001b[43m \u001b[49m\u001b[38;5;241;43m*\u001b[39;49m\u001b[38;5;241;43m*\u001b[39;49m\u001b[43mkwds\u001b[49m\u001b[43m)\u001b[49m\n\u001b[1;32m    613\u001b[0m \u001b[38;5;28;01mif\u001b[39;00m chunksize \u001b[38;5;129;01mor\u001b[39;00m iterator:\n\u001b[1;32m    614\u001b[0m     \u001b[38;5;28;01mreturn\u001b[39;00m parser\n",
      "File \u001b[0;32m~/maxarSrc/.venv/lib/python3.10/site-packages/pandas/io/parsers/readers.py:1448\u001b[0m, in \u001b[0;36mTextFileReader.__init__\u001b[0;34m(self, f, engine, **kwds)\u001b[0m\n\u001b[1;32m   1445\u001b[0m     \u001b[38;5;28mself\u001b[39m\u001b[38;5;241m.\u001b[39moptions[\u001b[38;5;124m\"\u001b[39m\u001b[38;5;124mhas_index_names\u001b[39m\u001b[38;5;124m\"\u001b[39m] \u001b[38;5;241m=\u001b[39m kwds[\u001b[38;5;124m\"\u001b[39m\u001b[38;5;124mhas_index_names\u001b[39m\u001b[38;5;124m\"\u001b[39m]\n\u001b[1;32m   1447\u001b[0m \u001b[38;5;28mself\u001b[39m\u001b[38;5;241m.\u001b[39mhandles: IOHandles \u001b[38;5;241m|\u001b[39m \u001b[38;5;28;01mNone\u001b[39;00m \u001b[38;5;241m=\u001b[39m \u001b[38;5;28;01mNone\u001b[39;00m\n\u001b[0;32m-> 1448\u001b[0m \u001b[38;5;28mself\u001b[39m\u001b[38;5;241m.\u001b[39m_engine \u001b[38;5;241m=\u001b[39m \u001b[38;5;28;43mself\u001b[39;49m\u001b[38;5;241;43m.\u001b[39;49m\u001b[43m_make_engine\u001b[49m\u001b[43m(\u001b[49m\u001b[43mf\u001b[49m\u001b[43m,\u001b[49m\u001b[43m \u001b[49m\u001b[38;5;28;43mself\u001b[39;49m\u001b[38;5;241;43m.\u001b[39;49m\u001b[43mengine\u001b[49m\u001b[43m)\u001b[49m\n",
      "File \u001b[0;32m~/maxarSrc/.venv/lib/python3.10/site-packages/pandas/io/parsers/readers.py:1705\u001b[0m, in \u001b[0;36mTextFileReader._make_engine\u001b[0;34m(self, f, engine)\u001b[0m\n\u001b[1;32m   1703\u001b[0m     \u001b[38;5;28;01mif\u001b[39;00m \u001b[38;5;124m\"\u001b[39m\u001b[38;5;124mb\u001b[39m\u001b[38;5;124m\"\u001b[39m \u001b[38;5;129;01mnot\u001b[39;00m \u001b[38;5;129;01min\u001b[39;00m mode:\n\u001b[1;32m   1704\u001b[0m         mode \u001b[38;5;241m+\u001b[39m\u001b[38;5;241m=\u001b[39m \u001b[38;5;124m\"\u001b[39m\u001b[38;5;124mb\u001b[39m\u001b[38;5;124m\"\u001b[39m\n\u001b[0;32m-> 1705\u001b[0m \u001b[38;5;28mself\u001b[39m\u001b[38;5;241m.\u001b[39mhandles \u001b[38;5;241m=\u001b[39m \u001b[43mget_handle\u001b[49m\u001b[43m(\u001b[49m\n\u001b[1;32m   1706\u001b[0m \u001b[43m    \u001b[49m\u001b[43mf\u001b[49m\u001b[43m,\u001b[49m\n\u001b[1;32m   1707\u001b[0m \u001b[43m    \u001b[49m\u001b[43mmode\u001b[49m\u001b[43m,\u001b[49m\n\u001b[1;32m   1708\u001b[0m \u001b[43m    \u001b[49m\u001b[43mencoding\u001b[49m\u001b[38;5;241;43m=\u001b[39;49m\u001b[38;5;28;43mself\u001b[39;49m\u001b[38;5;241;43m.\u001b[39;49m\u001b[43moptions\u001b[49m\u001b[38;5;241;43m.\u001b[39;49m\u001b[43mget\u001b[49m\u001b[43m(\u001b[49m\u001b[38;5;124;43m\"\u001b[39;49m\u001b[38;5;124;43mencoding\u001b[39;49m\u001b[38;5;124;43m\"\u001b[39;49m\u001b[43m,\u001b[49m\u001b[43m \u001b[49m\u001b[38;5;28;43;01mNone\u001b[39;49;00m\u001b[43m)\u001b[49m\u001b[43m,\u001b[49m\n\u001b[1;32m   1709\u001b[0m \u001b[43m    \u001b[49m\u001b[43mcompression\u001b[49m\u001b[38;5;241;43m=\u001b[39;49m\u001b[38;5;28;43mself\u001b[39;49m\u001b[38;5;241;43m.\u001b[39;49m\u001b[43moptions\u001b[49m\u001b[38;5;241;43m.\u001b[39;49m\u001b[43mget\u001b[49m\u001b[43m(\u001b[49m\u001b[38;5;124;43m\"\u001b[39;49m\u001b[38;5;124;43mcompression\u001b[39;49m\u001b[38;5;124;43m\"\u001b[39;49m\u001b[43m,\u001b[49m\u001b[43m \u001b[49m\u001b[38;5;28;43;01mNone\u001b[39;49;00m\u001b[43m)\u001b[49m\u001b[43m,\u001b[49m\n\u001b[1;32m   1710\u001b[0m \u001b[43m    \u001b[49m\u001b[43mmemory_map\u001b[49m\u001b[38;5;241;43m=\u001b[39;49m\u001b[38;5;28;43mself\u001b[39;49m\u001b[38;5;241;43m.\u001b[39;49m\u001b[43moptions\u001b[49m\u001b[38;5;241;43m.\u001b[39;49m\u001b[43mget\u001b[49m\u001b[43m(\u001b[49m\u001b[38;5;124;43m\"\u001b[39;49m\u001b[38;5;124;43mmemory_map\u001b[39;49m\u001b[38;5;124;43m\"\u001b[39;49m\u001b[43m,\u001b[49m\u001b[43m \u001b[49m\u001b[38;5;28;43;01mFalse\u001b[39;49;00m\u001b[43m)\u001b[49m\u001b[43m,\u001b[49m\n\u001b[1;32m   1711\u001b[0m \u001b[43m    \u001b[49m\u001b[43mis_text\u001b[49m\u001b[38;5;241;43m=\u001b[39;49m\u001b[43mis_text\u001b[49m\u001b[43m,\u001b[49m\n\u001b[1;32m   1712\u001b[0m \u001b[43m    \u001b[49m\u001b[43merrors\u001b[49m\u001b[38;5;241;43m=\u001b[39;49m\u001b[38;5;28;43mself\u001b[39;49m\u001b[38;5;241;43m.\u001b[39;49m\u001b[43moptions\u001b[49m\u001b[38;5;241;43m.\u001b[39;49m\u001b[43mget\u001b[49m\u001b[43m(\u001b[49m\u001b[38;5;124;43m\"\u001b[39;49m\u001b[38;5;124;43mencoding_errors\u001b[39;49m\u001b[38;5;124;43m\"\u001b[39;49m\u001b[43m,\u001b[49m\u001b[43m \u001b[49m\u001b[38;5;124;43m\"\u001b[39;49m\u001b[38;5;124;43mstrict\u001b[39;49m\u001b[38;5;124;43m\"\u001b[39;49m\u001b[43m)\u001b[49m\u001b[43m,\u001b[49m\n\u001b[1;32m   1713\u001b[0m \u001b[43m    \u001b[49m\u001b[43mstorage_options\u001b[49m\u001b[38;5;241;43m=\u001b[39;49m\u001b[38;5;28;43mself\u001b[39;49m\u001b[38;5;241;43m.\u001b[39;49m\u001b[43moptions\u001b[49m\u001b[38;5;241;43m.\u001b[39;49m\u001b[43mget\u001b[49m\u001b[43m(\u001b[49m\u001b[38;5;124;43m\"\u001b[39;49m\u001b[38;5;124;43mstorage_options\u001b[39;49m\u001b[38;5;124;43m\"\u001b[39;49m\u001b[43m,\u001b[49m\u001b[43m \u001b[49m\u001b[38;5;28;43;01mNone\u001b[39;49;00m\u001b[43m)\u001b[49m\u001b[43m,\u001b[49m\n\u001b[1;32m   1714\u001b[0m \u001b[43m\u001b[49m\u001b[43m)\u001b[49m\n\u001b[1;32m   1715\u001b[0m \u001b[38;5;28;01massert\u001b[39;00m \u001b[38;5;28mself\u001b[39m\u001b[38;5;241m.\u001b[39mhandles \u001b[38;5;129;01mis\u001b[39;00m \u001b[38;5;129;01mnot\u001b[39;00m \u001b[38;5;28;01mNone\u001b[39;00m\n\u001b[1;32m   1716\u001b[0m f \u001b[38;5;241m=\u001b[39m \u001b[38;5;28mself\u001b[39m\u001b[38;5;241m.\u001b[39mhandles\u001b[38;5;241m.\u001b[39mhandle\n",
      "File \u001b[0;32m~/maxarSrc/.venv/lib/python3.10/site-packages/pandas/io/common.py:755\u001b[0m, in \u001b[0;36mget_handle\u001b[0;34m(path_or_buf, mode, encoding, compression, memory_map, is_text, errors, storage_options)\u001b[0m\n\u001b[1;32m    751\u001b[0m \u001b[38;5;28;01mif\u001b[39;00m compression \u001b[38;5;241m==\u001b[39m \u001b[38;5;124m\"\u001b[39m\u001b[38;5;124mgzip\u001b[39m\u001b[38;5;124m\"\u001b[39m:\n\u001b[1;32m    752\u001b[0m     \u001b[38;5;28;01mif\u001b[39;00m \u001b[38;5;28misinstance\u001b[39m(handle, \u001b[38;5;28mstr\u001b[39m):\n\u001b[1;32m    753\u001b[0m         \u001b[38;5;66;03m# error: Incompatible types in assignment (expression has type\u001b[39;00m\n\u001b[1;32m    754\u001b[0m         \u001b[38;5;66;03m# \"GzipFile\", variable has type \"Union[str, BaseBuffer]\")\u001b[39;00m\n\u001b[0;32m--> 755\u001b[0m         handle \u001b[38;5;241m=\u001b[39m \u001b[43mgzip\u001b[49m\u001b[38;5;241;43m.\u001b[39;49m\u001b[43mGzipFile\u001b[49m\u001b[43m(\u001b[49m\u001b[43m  \u001b[49m\u001b[38;5;66;43;03m# type: ignore[assignment]\u001b[39;49;00m\n\u001b[1;32m    756\u001b[0m \u001b[43m            \u001b[49m\u001b[43mfilename\u001b[49m\u001b[38;5;241;43m=\u001b[39;49m\u001b[43mhandle\u001b[49m\u001b[43m,\u001b[49m\n\u001b[1;32m    757\u001b[0m \u001b[43m            \u001b[49m\u001b[43mmode\u001b[49m\u001b[38;5;241;43m=\u001b[39;49m\u001b[43mioargs\u001b[49m\u001b[38;5;241;43m.\u001b[39;49m\u001b[43mmode\u001b[49m\u001b[43m,\u001b[49m\n\u001b[1;32m    758\u001b[0m \u001b[43m            \u001b[49m\u001b[38;5;241;43m*\u001b[39;49m\u001b[38;5;241;43m*\u001b[39;49m\u001b[43mcompression_args\u001b[49m\u001b[43m,\u001b[49m\n\u001b[1;32m    759\u001b[0m \u001b[43m        \u001b[49m\u001b[43m)\u001b[49m\n\u001b[1;32m    760\u001b[0m     \u001b[38;5;28;01melse\u001b[39;00m:\n\u001b[1;32m    761\u001b[0m         handle \u001b[38;5;241m=\u001b[39m gzip\u001b[38;5;241m.\u001b[39mGzipFile(\n\u001b[1;32m    762\u001b[0m             \u001b[38;5;66;03m# No overload variant of \"GzipFile\" matches argument types\u001b[39;00m\n\u001b[1;32m    763\u001b[0m             \u001b[38;5;66;03m# \"Union[str, BaseBuffer]\", \"str\", \"Dict[str, Any]\"\u001b[39;00m\n\u001b[0;32m   (...)\u001b[0m\n\u001b[1;32m    766\u001b[0m             \u001b[38;5;241m*\u001b[39m\u001b[38;5;241m*\u001b[39mcompression_args,\n\u001b[1;32m    767\u001b[0m         )\n",
      "File \u001b[0;32m~/.pyenv/versions/3.10.13/lib/python3.10/gzip.py:174\u001b[0m, in \u001b[0;36mGzipFile.__init__\u001b[0;34m(self, filename, mode, compresslevel, fileobj, mtime)\u001b[0m\n\u001b[1;32m    172\u001b[0m     mode \u001b[38;5;241m+\u001b[39m\u001b[38;5;241m=\u001b[39m \u001b[38;5;124m'\u001b[39m\u001b[38;5;124mb\u001b[39m\u001b[38;5;124m'\u001b[39m\n\u001b[1;32m    173\u001b[0m \u001b[38;5;28;01mif\u001b[39;00m fileobj \u001b[38;5;129;01mis\u001b[39;00m \u001b[38;5;28;01mNone\u001b[39;00m:\n\u001b[0;32m--> 174\u001b[0m     fileobj \u001b[38;5;241m=\u001b[39m \u001b[38;5;28mself\u001b[39m\u001b[38;5;241m.\u001b[39mmyfileobj \u001b[38;5;241m=\u001b[39m \u001b[43mbuiltins\u001b[49m\u001b[38;5;241;43m.\u001b[39;49m\u001b[43mopen\u001b[49m\u001b[43m(\u001b[49m\u001b[43mfilename\u001b[49m\u001b[43m,\u001b[49m\u001b[43m \u001b[49m\u001b[43mmode\u001b[49m\u001b[43m \u001b[49m\u001b[38;5;129;43;01mor\u001b[39;49;00m\u001b[43m \u001b[49m\u001b[38;5;124;43m'\u001b[39;49m\u001b[38;5;124;43mrb\u001b[39;49m\u001b[38;5;124;43m'\u001b[39;49m\u001b[43m)\u001b[49m\n\u001b[1;32m    175\u001b[0m \u001b[38;5;28;01mif\u001b[39;00m filename \u001b[38;5;129;01mis\u001b[39;00m \u001b[38;5;28;01mNone\u001b[39;00m:\n\u001b[1;32m    176\u001b[0m     filename \u001b[38;5;241m=\u001b[39m \u001b[38;5;28mgetattr\u001b[39m(fileobj, \u001b[38;5;124m'\u001b[39m\u001b[38;5;124mname\u001b[39m\u001b[38;5;124m'\u001b[39m, \u001b[38;5;124m'\u001b[39m\u001b[38;5;124m'\u001b[39m)\n",
      "\u001b[0;31mFileNotFoundError\u001b[0m: [Errno 2] No such file or directory: 'path/to/your/file.csv.gz'"
     ]
    }
   ],
   "source": [
    "import pandas as pd\n",
    "\n",
    "# Specify the path to your .csv.gz file\n",
    "file_path = 'path/to/your/file.csv.gz'\n",
    "\n",
    "# Load the compressed CSV file into a pandas DataFrame\n",
    "df = pd.read_csv(file_path, compression='gzip')\n",
    "\n",
    "# Display the first few rows of the DataFrame\n",
    "print(df.head())\n"
   ]
  }
 ],
 "metadata": {
  "kernelspec": {
   "display_name": ".venv",
   "language": "python",
   "name": "python3"
  },
  "language_info": {
   "codemirror_mode": {
    "name": "ipython",
    "version": 3
   },
   "file_extension": ".py",
   "mimetype": "text/x-python",
   "name": "python",
   "nbconvert_exporter": "python",
   "pygments_lexer": "ipython3",
   "version": "3.10.14"
  }
 },
 "nbformat": 4,
 "nbformat_minor": 2
}

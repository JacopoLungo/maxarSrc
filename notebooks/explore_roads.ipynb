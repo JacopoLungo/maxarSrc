{
 "cells": [
  {
   "cell_type": "code",
   "execution_count": 1,
   "metadata": {},
   "outputs": [],
   "source": [
    "import pandas as pd\n",
    "from pathlib import Path\n",
    "import glob\n",
    "import json\n",
    "import geopandas as gpd\n",
    "from shapely import geometry\n",
    "import os"
   ]
  },
  {
   "cell_type": "code",
   "execution_count": 2,
   "metadata": {},
   "outputs": [],
   "source": [
    "if Path.cwd().name != 'src':\n",
    "    os.chdir('./src')\n",
    "from maxarseg import build"
   ]
  },
  {
   "cell_type": "code",
   "execution_count": 3,
   "metadata": {},
   "outputs": [
    {
     "name": "stdout",
     "output_type": "stream",
     "text": [
      "0 Europe-Full.tsv\n",
      "1 SouthAmerica-Full.tsv\n",
      "2 AsiaNorth-Full.tsv\n",
      "3 Canada-Full.tsv\n",
      "4 AfricaSouth-Full.tsv\n",
      "5 AsiaSouthEast-Full.tsv\n",
      "6 Japan-Full.tsv\n",
      "7 AfricaEast-Full.tsv\n",
      "8 USA.tsv\n",
      "9 MiddleEast-Full.tsv\n",
      "10 AfricaWest-Full.tsv\n",
      "11 AsiaCenter-Full.tsv\n",
      "12 CaribbeanIslands-Full.tsv\n",
      "13 AsiaSouth-Full.tsv\n",
      "14 Oceania-Full.tsv\n",
      "15 AfricaCenter-Full.tsv\n",
      "16 AmericaCenter-Full.tsv\n",
      "17 AfricaNorth-Full.tsv\n"
     ]
    }
   ],
   "source": [
    "root = Path('/nfs/projects/overwatch/maxar-segmentation/microsoft-roads')\n",
    "all_regions = [path.split('/')[-1] for path in glob.glob(str(root/'*'))]\n",
    "for i, reg in enumerate(all_regions):\n",
    "    print(i, reg)"
   ]
  },
  {
   "cell_type": "code",
   "execution_count": 4,
   "metadata": {},
   "outputs": [
    {
     "data": {
      "text/plain": [
       "['southafrica-flooding22',\n",
       " 'Kalehe-DRC-Flooding-5-8-23',\n",
       " 'shovi-georgia-landslide-8Aug23',\n",
       " 'Emilia-Romagna-Italy-flooding-may23',\n",
       " 'src',\n",
       " 'NWT-Canada-Aug-23',\n",
       " 'Libya-Floods-Sept-2023',\n",
       " 'Gambia-flooding-8-11-2022',\n",
       " 'New-Zealand-Flooding23',\n",
       " 'Hurricane-Fiona-9-19-2022',\n",
       " 'Hurricane-Idalia-Florida-Aug23',\n",
       " 'Hurricane-Ian-9-26-2022',\n",
       " 'yellowstone-flooding22',\n",
       " 'pakistan-flooding22',\n",
       " 'Morocco-Earthquake-Sept-2023',\n",
       " 'Indonesia-Earthquake22',\n",
       " 'cyclone-emnati22',\n",
       " 'Kahramanmaras-turkey-earthquake-23',\n",
       " 'test_folder',\n",
       " 'Marshall-Fire-21-Update',\n",
       " 'metadata',\n",
       " 'India-Floods-Oct-2023',\n",
       " 'Maui-Hawaii-fires-Aug-23',\n",
       " 'tonga-volcano21',\n",
       " 'BayofBengal-Cyclone-Mocha-May-23',\n",
       " 'Sudan-flooding-8-22-2022']"
      ]
     },
     "execution_count": 4,
     "metadata": {},
     "output_type": "execute_result"
    }
   ],
   "source": [
    "build.get_all_events()"
   ]
  },
  {
   "cell_type": "code",
   "execution_count": 5,
   "metadata": {},
   "outputs": [],
   "source": [
    "def look_for_country(region_name, country):\n",
    "\n",
    "    roads_root = '/nfs/projects/overwatch/maxar-segmentation/microsoft-roads'\n",
    "\n",
    "    if region_name[-4:] != '.tsv':\n",
    "        region_name = region_name + '.tsv'\n",
    "\n",
    "    roads_root = Path(roads_root)\n",
    "    region_road_df = pd.read_csv(roads_root/region_name, names =['country', 'geometry'], sep='\\t')\n",
    "    if country in region_road_df.country.unique():\n",
    "        return True\n",
    "    else:\n",
    "        return False"
   ]
  },
  {
   "cell_type": "code",
   "execution_count": 36,
   "metadata": {},
   "outputs": [
    {
     "name": "stdout",
     "output_type": "stream",
     "text": [
      "AfricaEast-Full.tsv False\n",
      "AfricaWest-Full.tsv False\n",
      "AfricaCenter-Full.tsv False\n",
      "AfricaNorth-Full.tsv True\n",
      "AfricaSouth-Full.tsv False\n"
     ]
    }
   ],
   "source": [
    "region = 'AfricaWest-Full.tsv'\n",
    "country = 'MAR'\n",
    "regions = ['AfricaEast-Full.tsv', 'AfricaWest-Full.tsv', 'AfricaCenter-Full.tsv', 'AfricaNorth-Full.tsv', 'AfricaSouth-Full.tsv']\n",
    "for reg in regions:\n",
    "    print(reg, look_for_country(reg, country))"
   ]
  },
  {
   "cell_type": "code",
   "execution_count": 42,
   "metadata": {},
   "outputs": [],
   "source": [
    "data = {'region_name': [], 'counties': []}\n",
    "region_name = 'AfricaWest-Full.tsv'\n",
    "roads_root = '/nfs/projects/overwatch/maxar-segmentation/microsoft-roads'\n",
    "if region_name[-4:] != '.tsv':\n",
    "    region_name = region_name + '.tsv'\n",
    "\n",
    "roads_root = Path(roads_root)\n",
    "region_road_df = pd.read_csv(roads_root/region_name, names =['country', 'geometry'], sep='\\t')\n",
    "\n",
    "res = region_road_df.country.unique()\n",
    "data['counties'].append(region_road_df.country.unique().tolist())\n",
    "data['region_name'].append(region_name)\n"
   ]
  },
  {
   "cell_type": "code",
   "execution_count": 43,
   "metadata": {},
   "outputs": [
    {
     "data": {
      "text/plain": [
       "{'region_name': ['AfricaWest-Full.tsv'],\n",
       " 'counties': [['BEN',\n",
       "   'BFA',\n",
       "   'CPV',\n",
       "   'GMB',\n",
       "   'GHA',\n",
       "   'GIN',\n",
       "   'CIV',\n",
       "   'LBR',\n",
       "   'GNB',\n",
       "   'MLI',\n",
       "   'NER',\n",
       "   'NGA',\n",
       "   'SEN',\n",
       "   'SLE',\n",
       "   'TGO']]}"
      ]
     },
     "execution_count": 43,
     "metadata": {},
     "output_type": "execute_result"
    }
   ],
   "source": [
    "data"
   ]
  },
  {
   "cell_type": "code",
   "execution_count": 6,
   "metadata": {},
   "outputs": [
    {
     "name": "stderr",
     "output_type": "stream",
     "text": [
      "  0%|          | 0/18 [00:00<?, ?it/s]"
     ]
    },
    {
     "name": "stderr",
     "output_type": "stream",
     "text": [
      "100%|██████████| 18/18 [09:47<00:00, 32.64s/it]\n"
     ]
    }
   ],
   "source": [
    "from tqdm import tqdm\n",
    "data = {'region_name': [], 'counties': []}\n",
    "for region_name in tqdm(all_regions):\n",
    "    roads_root = '/nfs/projects/overwatch/maxar-segmentation/microsoft-roads'\n",
    "    if region_name[-4:] != '.tsv':\n",
    "        region_name = region_name + '.tsv'\n",
    "    \n",
    "    roads_root = Path(roads_root)\n",
    "    try:\n",
    "        region_road_df = pd.read_csv(roads_root/region_name, names =['country', 'geometry'], sep='\\t')\n",
    "    except:\n",
    "        print(region_name)\n",
    "        continue\n",
    "\n",
    "    data['countries'].append(region_road_df.country.unique().tolist())\n",
    "    data['region_name'].append(region_name)"
   ]
  },
  {
   "cell_type": "code",
   "execution_count": 14,
   "metadata": {},
   "outputs": [
    {
     "data": {
      "text/plain": [
       "'USA.tsv'"
      ]
     },
     "execution_count": 14,
     "metadata": {},
     "output_type": "execute_result"
    }
   ],
   "source": [
    "ix = 8\n",
    "data['region_name'][ix]\n",
    "data['counties'][ix]"
   ]
  },
  {
   "cell_type": "code",
   "execution_count": 15,
   "metadata": {},
   "outputs": [],
   "source": [
    "new_data = {'region_name': [], 'countries': []} \n",
    "for region_name, country in zip(data['region_name'], data['counties']):\n",
    "    if region_name != 'USA.tsv':\n",
    "        new_data['region_name'].append(region_name)\n",
    "        new_data['countries'].append(country)"
   ]
  },
  {
   "cell_type": "code",
   "execution_count": 16,
   "metadata": {},
   "outputs": [],
   "source": [
    "df = pd.DataFrame(new_data)"
   ]
  },
  {
   "cell_type": "code",
   "execution_count": 18,
   "metadata": {},
   "outputs": [],
   "source": [
    "df.to_csv('./output/my_data.csv', index=False)"
   ]
  },
  {
   "cell_type": "code",
   "execution_count": null,
   "metadata": {},
   "outputs": [],
   "source": [
    "df = pd.DataFrame(data)\n",
    "df.to_csv('./output/my_data.csv', index=False)"
   ]
  },
  {
   "cell_type": "code",
   "execution_count": null,
   "metadata": {},
   "outputs": [],
   "source": []
  },
  {
   "cell_type": "code",
   "execution_count": 30,
   "metadata": {},
   "outputs": [
    {
     "data": {
      "text/plain": [
       "False"
      ]
     },
     "execution_count": 30,
     "metadata": {},
     "output_type": "execute_result"
    }
   ],
   "source": [
    "look_for_country(region, country)"
   ]
  },
  {
   "cell_type": "code",
   "execution_count": 18,
   "metadata": {},
   "outputs": [],
   "source": [
    "ev = build.Event('southafrica-flooding22', region= region)"
   ]
  },
  {
   "cell_type": "code",
   "execution_count": 19,
   "metadata": {},
   "outputs": [
    {
     "data": {
      "text/plain": [
       "'AfricaEast-Full'"
      ]
     },
     "execution_count": 19,
     "metadata": {},
     "output_type": "execute_result"
    }
   ],
   "source": [
    "print(ev.region_name)\n",
    "ev.set_road_gdf()"
   ]
  },
  {
   "cell_type": "code",
   "execution_count": 22,
   "metadata": {},
   "outputs": [
    {
     "data": {
      "text/html": [
       "<div>\n",
       "<style scoped>\n",
       "    .dataframe tbody tr th:only-of-type {\n",
       "        vertical-align: middle;\n",
       "    }\n",
       "\n",
       "    .dataframe tbody tr th {\n",
       "        vertical-align: top;\n",
       "    }\n",
       "\n",
       "    .dataframe thead th {\n",
       "        text-align: right;\n",
       "    }\n",
       "</style>\n",
       "<table border=\"1\" class=\"dataframe\">\n",
       "  <thead>\n",
       "    <tr style=\"text-align: right;\">\n",
       "      <th></th>\n",
       "      <th>country</th>\n",
       "      <th>geometry</th>\n",
       "    </tr>\n",
       "  </thead>\n",
       "  <tbody>\n",
       "  </tbody>\n",
       "</table>\n",
       "</div>"
      ],
      "text/plain": [
       "Empty GeoDataFrame\n",
       "Columns: [country, geometry]\n",
       "Index: []"
      ]
     },
     "execution_count": 22,
     "metadata": {},
     "output_type": "execute_result"
    }
   ],
   "source": [
    "ev.road_gdf#.country.unique()"
   ]
  },
  {
   "cell_type": "code",
   "execution_count": null,
   "metadata": {},
   "outputs": [],
   "source": [
    "#152838 roads"
   ]
  },
  {
   "cell_type": "code",
   "execution_count": 4,
   "metadata": {},
   "outputs": [],
   "source": [
    "from maxarseg import build\n",
    "event_box = build.get_event_bbox('Gambia-flooding-8-11-2022', extra_mt= 1000, when='pre')\n",
    "mosaic_box = build.get_mosaic_bbox('Gambia-flooding-8-11-2022', '10300100CFC9A500', extra_mt= 1000)"
   ]
  },
  {
   "cell_type": "code",
   "execution_count": 5,
   "metadata": {},
   "outputs": [
    {
     "data": {
      "text/plain": [
       "((-16.746887135940117, 13.323166602248829),\n",
       " (-16.564347963612807, 13.498971692504577))"
      ]
     },
     "execution_count": 5,
     "metadata": {},
     "output_type": "execute_result"
    }
   ],
   "source": [
    "event_box\n"
   ]
  },
  {
   "cell_type": "code",
   "execution_count": 7,
   "metadata": {},
   "outputs": [
    {
     "data": {
      "text/plain": [
       "((-16.70926555697382, 13.323422751465731),\n",
       " (-16.564347201396977, 13.498854689055355))"
      ]
     },
     "execution_count": 7,
     "metadata": {},
     "output_type": "execute_result"
    }
   ],
   "source": [
    "mosaic_box"
   ]
  },
  {
   "cell_type": "code",
   "execution_count": 6,
   "metadata": {},
   "outputs": [
    {
     "data": {
      "text/html": [
       "<div>\n",
       "<style scoped>\n",
       "    .dataframe tbody tr th:only-of-type {\n",
       "        vertical-align: middle;\n",
       "    }\n",
       "\n",
       "    .dataframe tbody tr th {\n",
       "        vertical-align: top;\n",
       "    }\n",
       "\n",
       "    .dataframe thead th {\n",
       "        text-align: right;\n",
       "    }\n",
       "</style>\n",
       "<table border=\"1\" class=\"dataframe\">\n",
       "  <thead>\n",
       "    <tr style=\"text-align: right;\">\n",
       "      <th></th>\n",
       "      <th>country</th>\n",
       "      <th>geometry</th>\n",
       "    </tr>\n",
       "  </thead>\n",
       "  <tbody>\n",
       "    <tr>\n",
       "      <th>158659</th>\n",
       "      <td>GMB</td>\n",
       "      <td>LINESTRING (-16.68202 13.41127, -16.68201 13.4...</td>\n",
       "    </tr>\n",
       "    <tr>\n",
       "      <th>158664</th>\n",
       "      <td>GMB</td>\n",
       "      <td>LINESTRING (-16.68379 13.46848, -16.68323 13.4...</td>\n",
       "    </tr>\n",
       "    <tr>\n",
       "      <th>158669</th>\n",
       "      <td>GMB</td>\n",
       "      <td>LINESTRING (-16.69678 13.36874, -16.69712 13.3...</td>\n",
       "    </tr>\n",
       "    <tr>\n",
       "      <th>158689</th>\n",
       "      <td>GMB</td>\n",
       "      <td>LINESTRING (-16.68736 13.44269, -16.68723 13.4...</td>\n",
       "    </tr>\n",
       "    <tr>\n",
       "      <th>158694</th>\n",
       "      <td>GMB</td>\n",
       "      <td>LINESTRING (-16.68226 13.39987, -16.68224 13.3...</td>\n",
       "    </tr>\n",
       "    <tr>\n",
       "      <th>...</th>\n",
       "      <td>...</td>\n",
       "      <td>...</td>\n",
       "    </tr>\n",
       "    <tr>\n",
       "      <th>504460</th>\n",
       "      <td>GMB</td>\n",
       "      <td>LINESTRING (-16.69546 13.40399, -16.69566 13.4...</td>\n",
       "    </tr>\n",
       "    <tr>\n",
       "      <th>504475</th>\n",
       "      <td>GMB</td>\n",
       "      <td>LINESTRING (-16.73466 13.41199, -16.73617 13.4...</td>\n",
       "    </tr>\n",
       "    <tr>\n",
       "      <th>504480</th>\n",
       "      <td>GMB</td>\n",
       "      <td>LINESTRING (-16.65920 13.46475, -16.65815 13.4...</td>\n",
       "    </tr>\n",
       "    <tr>\n",
       "      <th>504485</th>\n",
       "      <td>GMB</td>\n",
       "      <td>LINESTRING (-16.69505 13.36657, -16.69382 13.3...</td>\n",
       "    </tr>\n",
       "    <tr>\n",
       "      <th>504495</th>\n",
       "      <td>GMB</td>\n",
       "      <td>LINESTRING (-16.70590 13.41176, -16.70587 13.4...</td>\n",
       "    </tr>\n",
       "  </tbody>\n",
       "</table>\n",
       "<p>22403 rows × 2 columns</p>\n",
       "</div>"
      ],
      "text/plain": [
       "       country                                           geometry\n",
       "158659     GMB  LINESTRING (-16.68202 13.41127, -16.68201 13.4...\n",
       "158664     GMB  LINESTRING (-16.68379 13.46848, -16.68323 13.4...\n",
       "158669     GMB  LINESTRING (-16.69678 13.36874, -16.69712 13.3...\n",
       "158689     GMB  LINESTRING (-16.68736 13.44269, -16.68723 13.4...\n",
       "158694     GMB  LINESTRING (-16.68226 13.39987, -16.68224 13.3...\n",
       "...        ...                                                ...\n",
       "504460     GMB  LINESTRING (-16.69546 13.40399, -16.69566 13.4...\n",
       "504475     GMB  LINESTRING (-16.73466 13.41199, -16.73617 13.4...\n",
       "504480     GMB  LINESTRING (-16.65920 13.46475, -16.65815 13.4...\n",
       "504485     GMB  LINESTRING (-16.69505 13.36657, -16.69382 13.3...\n",
       "504495     GMB  LINESTRING (-16.70590 13.41176, -16.70587 13.4...\n",
       "\n",
       "[22403 rows x 2 columns]"
      ]
     },
     "execution_count": 6,
     "metadata": {},
     "output_type": "execute_result"
    }
   ],
   "source": [
    "build.get_mosaic_roads(event_box, all_regions[10])"
   ]
  },
  {
   "cell_type": "code",
   "execution_count": 41,
   "metadata": {},
   "outputs": [
    {
     "data": {
      "text/html": [
       "<div>\n",
       "<style scoped>\n",
       "    .dataframe tbody tr th:only-of-type {\n",
       "        vertical-align: middle;\n",
       "    }\n",
       "\n",
       "    .dataframe tbody tr th {\n",
       "        vertical-align: top;\n",
       "    }\n",
       "\n",
       "    .dataframe thead th {\n",
       "        text-align: right;\n",
       "    }\n",
       "</style>\n",
       "<table border=\"1\" class=\"dataframe\">\n",
       "  <thead>\n",
       "    <tr style=\"text-align: right;\">\n",
       "      <th></th>\n",
       "      <th>country</th>\n",
       "      <th>geometry</th>\n",
       "    </tr>\n",
       "  </thead>\n",
       "  <tbody>\n",
       "    <tr>\n",
       "      <th>0</th>\n",
       "      <td>BEN</td>\n",
       "      <td>{\"type\":\"Feature\",\"geometry\":{\"type\":\"LineStri...</td>\n",
       "    </tr>\n",
       "    <tr>\n",
       "      <th>1</th>\n",
       "      <td>BEN</td>\n",
       "      <td>{\"type\":\"Feature\",\"geometry\":{\"type\":\"LineStri...</td>\n",
       "    </tr>\n",
       "    <tr>\n",
       "      <th>2</th>\n",
       "      <td>BEN</td>\n",
       "      <td>{\"type\":\"Feature\",\"geometry\":{\"type\":\"LineStri...</td>\n",
       "    </tr>\n",
       "    <tr>\n",
       "      <th>3</th>\n",
       "      <td>BEN</td>\n",
       "      <td>{\"type\":\"Feature\",\"geometry\":{\"type\":\"LineStri...</td>\n",
       "    </tr>\n",
       "    <tr>\n",
       "      <th>4</th>\n",
       "      <td>BEN</td>\n",
       "      <td>{\"type\":\"Feature\",\"geometry\":{\"type\":\"LineStri...</td>\n",
       "    </tr>\n",
       "  </tbody>\n",
       "</table>\n",
       "</div>"
      ],
      "text/plain": [
       "  country                                           geometry\n",
       "0     BEN  {\"type\":\"Feature\",\"geometry\":{\"type\":\"LineStri...\n",
       "1     BEN  {\"type\":\"Feature\",\"geometry\":{\"type\":\"LineStri...\n",
       "2     BEN  {\"type\":\"Feature\",\"geometry\":{\"type\":\"LineStri...\n",
       "3     BEN  {\"type\":\"Feature\",\"geometry\":{\"type\":\"LineStri...\n",
       "4     BEN  {\"type\":\"Feature\",\"geometry\":{\"type\":\"LineStri..."
      ]
     },
     "execution_count": 41,
     "metadata": {},
     "output_type": "execute_result"
    }
   ],
   "source": [
    "road_df = pd.read_csv(root/all_regions[10], names =['country', 'geometry'], sep='\\t')\n",
    "road_df.head()"
   ]
  },
  {
   "cell_type": "code",
   "execution_count": 42,
   "metadata": {},
   "outputs": [
    {
     "data": {
      "text/html": [
       "<div>\n",
       "<style scoped>\n",
       "    .dataframe tbody tr th:only-of-type {\n",
       "        vertical-align: middle;\n",
       "    }\n",
       "\n",
       "    .dataframe tbody tr th {\n",
       "        vertical-align: top;\n",
       "    }\n",
       "\n",
       "    .dataframe thead th {\n",
       "        text-align: right;\n",
       "    }\n",
       "</style>\n",
       "<table border=\"1\" class=\"dataframe\">\n",
       "  <thead>\n",
       "    <tr style=\"text-align: right;\">\n",
       "      <th></th>\n",
       "      <th>country</th>\n",
       "      <th>geometry</th>\n",
       "    </tr>\n",
       "  </thead>\n",
       "  <tbody>\n",
       "    <tr>\n",
       "      <th>158654</th>\n",
       "      <td>GMB</td>\n",
       "      <td>{\"type\":\"Feature\",\"geometry\":{\"type\":\"LineStri...</td>\n",
       "    </tr>\n",
       "    <tr>\n",
       "      <th>158659</th>\n",
       "      <td>GMB</td>\n",
       "      <td>{\"type\":\"Feature\",\"geometry\":{\"type\":\"LineStri...</td>\n",
       "    </tr>\n",
       "    <tr>\n",
       "      <th>158664</th>\n",
       "      <td>GMB</td>\n",
       "      <td>{\"type\":\"Feature\",\"geometry\":{\"type\":\"LineStri...</td>\n",
       "    </tr>\n",
       "    <tr>\n",
       "      <th>158669</th>\n",
       "      <td>GMB</td>\n",
       "      <td>{\"type\":\"Feature\",\"geometry\":{\"type\":\"LineStri...</td>\n",
       "    </tr>\n",
       "    <tr>\n",
       "      <th>158674</th>\n",
       "      <td>GMB</td>\n",
       "      <td>{\"type\":\"Feature\",\"geometry\":{\"type\":\"LineStri...</td>\n",
       "    </tr>\n",
       "    <tr>\n",
       "      <th>...</th>\n",
       "      <td>...</td>\n",
       "      <td>...</td>\n",
       "    </tr>\n",
       "    <tr>\n",
       "      <th>504480</th>\n",
       "      <td>GMB</td>\n",
       "      <td>{\"type\":\"Feature\",\"geometry\":{\"type\":\"LineStri...</td>\n",
       "    </tr>\n",
       "    <tr>\n",
       "      <th>504485</th>\n",
       "      <td>GMB</td>\n",
       "      <td>{\"type\":\"Feature\",\"geometry\":{\"type\":\"LineStri...</td>\n",
       "    </tr>\n",
       "    <tr>\n",
       "      <th>504490</th>\n",
       "      <td>GMB</td>\n",
       "      <td>{\"type\":\"Feature\",\"geometry\":{\"type\":\"LineStri...</td>\n",
       "    </tr>\n",
       "    <tr>\n",
       "      <th>504495</th>\n",
       "      <td>GMB</td>\n",
       "      <td>{\"type\":\"Feature\",\"geometry\":{\"type\":\"LineStri...</td>\n",
       "    </tr>\n",
       "    <tr>\n",
       "      <th>504500</th>\n",
       "      <td>GMB</td>\n",
       "      <td>{\"type\":\"Feature\",\"geometry\":{\"type\":\"LineStri...</td>\n",
       "    </tr>\n",
       "  </tbody>\n",
       "</table>\n",
       "<p>47489 rows × 2 columns</p>\n",
       "</div>"
      ],
      "text/plain": [
       "       country                                           geometry\n",
       "158654     GMB  {\"type\":\"Feature\",\"geometry\":{\"type\":\"LineStri...\n",
       "158659     GMB  {\"type\":\"Feature\",\"geometry\":{\"type\":\"LineStri...\n",
       "158664     GMB  {\"type\":\"Feature\",\"geometry\":{\"type\":\"LineStri...\n",
       "158669     GMB  {\"type\":\"Feature\",\"geometry\":{\"type\":\"LineStri...\n",
       "158674     GMB  {\"type\":\"Feature\",\"geometry\":{\"type\":\"LineStri...\n",
       "...        ...                                                ...\n",
       "504480     GMB  {\"type\":\"Feature\",\"geometry\":{\"type\":\"LineStri...\n",
       "504485     GMB  {\"type\":\"Feature\",\"geometry\":{\"type\":\"LineStri...\n",
       "504490     GMB  {\"type\":\"Feature\",\"geometry\":{\"type\":\"LineStri...\n",
       "504495     GMB  {\"type\":\"Feature\",\"geometry\":{\"type\":\"LineStri...\n",
       "504500     GMB  {\"type\":\"Feature\",\"geometry\":{\"type\":\"LineStri...\n",
       "\n",
       "[47489 rows x 2 columns]"
      ]
     },
     "execution_count": 42,
     "metadata": {},
     "output_type": "execute_result"
    }
   ],
   "source": [
    "road_df[road_df['country'] == 'GMB']"
   ]
  },
  {
   "cell_type": "code",
   "execution_count": 30,
   "metadata": {},
   "outputs": [],
   "source": [
    "road_df['geometry'] = road_df['geometry'].apply(json.loads).apply(lambda d: geometry.shape(d.get('geometry')))\n",
    "road_gdf = gpd.GeoDataFrame(road_df, crs=4326)"
   ]
  },
  {
   "cell_type": "code",
   "execution_count": 31,
   "metadata": {},
   "outputs": [
    {
     "data": {
      "text/html": [
       "<div>\n",
       "<style scoped>\n",
       "    .dataframe tbody tr th:only-of-type {\n",
       "        vertical-align: middle;\n",
       "    }\n",
       "\n",
       "    .dataframe tbody tr th {\n",
       "        vertical-align: top;\n",
       "    }\n",
       "\n",
       "    .dataframe thead th {\n",
       "        text-align: right;\n",
       "    }\n",
       "</style>\n",
       "<table border=\"1\" class=\"dataframe\">\n",
       "  <thead>\n",
       "    <tr style=\"text-align: right;\">\n",
       "      <th></th>\n",
       "      <th>country</th>\n",
       "      <th>geometry</th>\n",
       "    </tr>\n",
       "  </thead>\n",
       "  <tbody>\n",
       "    <tr>\n",
       "      <th>0</th>\n",
       "      <td>BEN</td>\n",
       "      <td>LINESTRING (1.68090 9.06202, 1.68090 9.06191, ...</td>\n",
       "    </tr>\n",
       "    <tr>\n",
       "      <th>1</th>\n",
       "      <td>BEN</td>\n",
       "      <td>LINESTRING (1.88149 6.39620, 1.88133 6.39589, ...</td>\n",
       "    </tr>\n",
       "    <tr>\n",
       "      <th>2</th>\n",
       "      <td>BEN</td>\n",
       "      <td>LINESTRING (2.61702 9.40357, 2.61760 9.40361)</td>\n",
       "    </tr>\n",
       "    <tr>\n",
       "      <th>3</th>\n",
       "      <td>BEN</td>\n",
       "      <td>LINESTRING (2.25124 6.36816, 2.25142 6.36778, ...</td>\n",
       "    </tr>\n",
       "    <tr>\n",
       "      <th>4</th>\n",
       "      <td>BEN</td>\n",
       "      <td>LINESTRING (2.17730 8.31150, 2.17824 8.31205, ...</td>\n",
       "    </tr>\n",
       "  </tbody>\n",
       "</table>\n",
       "</div>"
      ],
      "text/plain": [
       "  country                                           geometry\n",
       "0     BEN  LINESTRING (1.68090 9.06202, 1.68090 9.06191, ...\n",
       "1     BEN  LINESTRING (1.88149 6.39620, 1.88133 6.39589, ...\n",
       "2     BEN      LINESTRING (2.61702 9.40357, 2.61760 9.40361)\n",
       "3     BEN  LINESTRING (2.25124 6.36816, 2.25142 6.36778, ...\n",
       "4     BEN  LINESTRING (2.17730 8.31150, 2.17824 8.31205, ..."
      ]
     },
     "execution_count": 31,
     "metadata": {},
     "output_type": "execute_result"
    }
   ],
   "source": [
    "road_gdf.head()"
   ]
  },
  {
   "cell_type": "code",
   "execution_count": 52,
   "metadata": {},
   "outputs": [],
   "source": [
    "from maxarseg import build\n",
    "(minx, miny), (maxx, maxy) = build.get_mosaic_bbox('Gambia-flooding-8-11-2022', '10300100CFC9A500')"
   ]
  },
  {
   "cell_type": "code",
   "execution_count": 53,
   "metadata": {},
   "outputs": [
    {
     "data": {
      "text/plain": [
       "(-16.704682434855425, 13.32797301852551)"
      ]
     },
     "execution_count": 53,
     "metadata": {},
     "output_type": "execute_result"
    }
   ],
   "source": [
    "(minx, miny)"
   ]
  },
  {
   "cell_type": "code",
   "execution_count": 51,
   "metadata": {},
   "outputs": [
    {
     "ename": "ValueError",
     "evalue": "not enough values to unpack (expected 4, got 2)",
     "output_type": "error",
     "traceback": [
      "\u001b[0;31m---------------------------------------------------------------------------\u001b[0m",
      "\u001b[0;31mValueError\u001b[0m                                Traceback (most recent call last)",
      "Cell \u001b[0;32mIn[51], line 1\u001b[0m\n\u001b[0;32m----> 1\u001b[0m a,c,d,b \u001b[38;5;241m=\u001b[39m ((\u001b[38;5;241m1\u001b[39m,\u001b[38;5;241m2\u001b[39m), (\u001b[38;5;241m3\u001b[39m,\u001b[38;5;241m5\u001b[39m))\n",
      "\u001b[0;31mValueError\u001b[0m: not enough values to unpack (expected 4, got 2)"
     ]
    }
   ],
   "source": [
    "a,c,d,b = ((1,2), (3,5))"
   ]
  },
  {
   "cell_type": "code",
   "execution_count": 50,
   "metadata": {},
   "outputs": [
    {
     "data": {
      "text/plain": [
       "1"
      ]
     },
     "execution_count": 50,
     "metadata": {},
     "output_type": "execute_result"
    }
   ],
   "source": [
    "a"
   ]
  },
  {
   "cell_type": "code",
   "execution_count": 39,
   "metadata": {},
   "outputs": [],
   "source": [
    "from maxarseg import build\n",
    "build.get_mosaic_bbox('Gambia-flooding-8-11-2022', '10300100CFC9A500')\n",
    "vertices = [(minx, miny), (maxx, miny), (maxx, maxy), (minx, maxy), (minx, miny)] #lon lat\n",
    "query_bbox_poly = geometry.Polygon(vertices)\n",
    "hits = road_gdf.geometry.intersects(query_bbox_poly)"
   ]
  },
  {
   "cell_type": "code",
   "execution_count": 40,
   "metadata": {},
   "outputs": [
    {
     "data": {
      "text/html": [
       "<div>\n",
       "<style scoped>\n",
       "    .dataframe tbody tr th:only-of-type {\n",
       "        vertical-align: middle;\n",
       "    }\n",
       "\n",
       "    .dataframe tbody tr th {\n",
       "        vertical-align: top;\n",
       "    }\n",
       "\n",
       "    .dataframe thead th {\n",
       "        text-align: right;\n",
       "    }\n",
       "</style>\n",
       "<table border=\"1\" class=\"dataframe\">\n",
       "  <thead>\n",
       "    <tr style=\"text-align: right;\">\n",
       "      <th></th>\n",
       "      <th>country</th>\n",
       "      <th>geometry</th>\n",
       "    </tr>\n",
       "  </thead>\n",
       "  <tbody>\n",
       "    <tr>\n",
       "      <th>158659</th>\n",
       "      <td>GMB</td>\n",
       "      <td>LINESTRING (-16.68202 13.41127, -16.68201 13.4...</td>\n",
       "    </tr>\n",
       "    <tr>\n",
       "      <th>158664</th>\n",
       "      <td>GMB</td>\n",
       "      <td>LINESTRING (-16.68379 13.46848, -16.68323 13.4...</td>\n",
       "    </tr>\n",
       "    <tr>\n",
       "      <th>158669</th>\n",
       "      <td>GMB</td>\n",
       "      <td>LINESTRING (-16.69678 13.36874, -16.69712 13.3...</td>\n",
       "    </tr>\n",
       "    <tr>\n",
       "      <th>158689</th>\n",
       "      <td>GMB</td>\n",
       "      <td>LINESTRING (-16.68736 13.44269, -16.68723 13.4...</td>\n",
       "    </tr>\n",
       "    <tr>\n",
       "      <th>158694</th>\n",
       "      <td>GMB</td>\n",
       "      <td>LINESTRING (-16.68226 13.39987, -16.68224 13.3...</td>\n",
       "    </tr>\n",
       "    <tr>\n",
       "      <th>...</th>\n",
       "      <td>...</td>\n",
       "      <td>...</td>\n",
       "    </tr>\n",
       "    <tr>\n",
       "      <th>504420</th>\n",
       "      <td>GMB</td>\n",
       "      <td>LINESTRING (-16.68127 13.34565, -16.68074 13.3...</td>\n",
       "    </tr>\n",
       "    <tr>\n",
       "      <th>504425</th>\n",
       "      <td>GMB</td>\n",
       "      <td>LINESTRING (-16.69599 13.36087, -16.69662 13.3...</td>\n",
       "    </tr>\n",
       "    <tr>\n",
       "      <th>504460</th>\n",
       "      <td>GMB</td>\n",
       "      <td>LINESTRING (-16.69546 13.40399, -16.69566 13.4...</td>\n",
       "    </tr>\n",
       "    <tr>\n",
       "      <th>504480</th>\n",
       "      <td>GMB</td>\n",
       "      <td>LINESTRING (-16.65920 13.46475, -16.65815 13.4...</td>\n",
       "    </tr>\n",
       "    <tr>\n",
       "      <th>504485</th>\n",
       "      <td>GMB</td>\n",
       "      <td>LINESTRING (-16.69505 13.36657, -16.69382 13.3...</td>\n",
       "    </tr>\n",
       "  </tbody>\n",
       "</table>\n",
       "<p>16964 rows × 2 columns</p>\n",
       "</div>"
      ],
      "text/plain": [
       "       country                                           geometry\n",
       "158659     GMB  LINESTRING (-16.68202 13.41127, -16.68201 13.4...\n",
       "158664     GMB  LINESTRING (-16.68379 13.46848, -16.68323 13.4...\n",
       "158669     GMB  LINESTRING (-16.69678 13.36874, -16.69712 13.3...\n",
       "158689     GMB  LINESTRING (-16.68736 13.44269, -16.68723 13.4...\n",
       "158694     GMB  LINESTRING (-16.68226 13.39987, -16.68224 13.3...\n",
       "...        ...                                                ...\n",
       "504420     GMB  LINESTRING (-16.68127 13.34565, -16.68074 13.3...\n",
       "504425     GMB  LINESTRING (-16.69599 13.36087, -16.69662 13.3...\n",
       "504460     GMB  LINESTRING (-16.69546 13.40399, -16.69566 13.4...\n",
       "504480     GMB  LINESTRING (-16.65920 13.46475, -16.65815 13.4...\n",
       "504485     GMB  LINESTRING (-16.69505 13.36657, -16.69382 13.3...\n",
       "\n",
       "[16964 rows x 2 columns]"
      ]
     },
     "execution_count": 40,
     "metadata": {},
     "output_type": "execute_result"
    }
   ],
   "source": [
    "road_gdf[hits]"
   ]
  }
 ],
 "metadata": {
  "kernelspec": {
   "display_name": "maxarSrc",
   "language": "python",
   "name": "maxarsrc"
  },
  "language_info": {
   "codemirror_mode": {
    "name": "ipython",
    "version": 3
   },
   "file_extension": ".py",
   "mimetype": "text/x-python",
   "name": "python",
   "nbconvert_exporter": "python",
   "pygments_lexer": "ipython3",
   "version": "3.10.13"
  }
 },
 "nbformat": 4,
 "nbformat_minor": 2
}

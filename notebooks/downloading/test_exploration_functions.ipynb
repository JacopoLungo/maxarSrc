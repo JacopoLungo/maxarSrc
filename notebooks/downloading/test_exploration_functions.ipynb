{
 "cells": [
  {
   "cell_type": "markdown",
   "metadata": {},
   "source": [
    "## Dimostrazione di alcune funzioni di esplorazione del dataset"
   ]
  },
  {
   "cell_type": "markdown",
   "metadata": {},
   "source": [
    "Conta il numero di immagini nel pre, nel post e totali"
   ]
  },
  {
   "cell_type": "code",
   "execution_count": 2,
   "metadata": {},
   "outputs": [
    {
     "name": "stdout",
     "output_type": "stream",
     "text": [
      "Pre:  654\n",
      "Post:  23\n",
      "Total:  677\n"
     ]
    }
   ],
   "source": [
    "import os\n",
    "tot_img_event_pre = 0\n",
    "tot_img_event_post = 0\n",
    "root = '/mnt/data2/vaschetti_data/maxar/'\n",
    "event = 'Hurricane-Idalia-Florida-Aug23'\n",
    "for when in ['pre', 'post']:\n",
    "    try:\n",
    "        for child in os.listdir(os.path.join(root, event, when)):\n",
    "            if when == 'pre':\n",
    "                tot_img_event_pre += len(os.listdir(os.path.join(root, event, when, child)))\n",
    "            else:\n",
    "                tot_img_event_post += len(os.listdir(os.path.join(root, event, when, child)))\n",
    "    except:\n",
    "        print('No such directory: ', os.path.join(event, when))\n",
    "print(\"Pre: \", tot_img_event_pre)\n",
    "print(\"Post: \", tot_img_event_post)\n",
    "print(\"Total: \", tot_img_event_pre + tot_img_event_post)\n",
    "\n",
    "#len(os.listdir(os.path.join('BayofBengal-Cyclone-Mocha-May-23', when)))"
   ]
  },
  {
   "cell_type": "markdown",
   "metadata": {},
   "source": [
    "Ritorna la percentuale di **sovrapposizione** tra immagini nel **pre** e nel **post**.\n",
    "\n",
    "Viene considerata sovrapposizione tra due immagini se hanno lo stesso quadkey (n.b. non è detto che lo stesso quadkey indichi una perfetta sovrapposizione)"
   ]
  },
  {
   "cell_type": "code",
   "execution_count": 1,
   "metadata": {},
   "outputs": [
    {
     "name": "stdout",
     "output_type": "stream",
     "text": [
      "Pre\n",
      "- 10300100C5C14E00 #img: 5\n",
      "- 1050010032B2A600 #img: 20\n",
      "- 104005003ADC5C00 #img: 14\n",
      "- 10300500CCF8B300 #img: 17\n",
      "- 103005009DF96A00 #img: 14\n",
      "- 1040010030544E00 #img: 4\n",
      "- 1050410012C31100 #img: 14\n",
      "- 10300100BF164000 #img: 10\n",
      "- 10300100C48E0A00 #img: 15\n",
      "- 10300500DDF89E00 #img: 12\n",
      "\n",
      "Post\n",
      "- 1050010033C95B00 #img: 120\n",
      "\n",
      "Matching: 126 images. 51.43%\n",
      "\n",
      "Non matching: 119 images. 48.57%\n"
     ]
    }
   ],
   "source": [
    "from utils_folder_exploration import compute_stats_on_event\n",
    "event_id = 'Emilia-Romagna-Italy-flooding-may23'\n",
    "compute_stats_on_event(event_id)\n"
   ]
  }
 ],
 "metadata": {
  "kernelspec": {
   "display_name": "maxarSrc",
   "language": "python",
   "name": "maxarsrc"
  },
  "language_info": {
   "codemirror_mode": {
    "name": "ipython",
    "version": 3
   },
   "file_extension": ".py",
   "mimetype": "text/x-python",
   "name": "python",
   "nbconvert_exporter": "python",
   "pygments_lexer": "ipython3",
   "version": "3.10.13"
  }
 },
 "nbformat": 4,
 "nbformat_minor": 2
}

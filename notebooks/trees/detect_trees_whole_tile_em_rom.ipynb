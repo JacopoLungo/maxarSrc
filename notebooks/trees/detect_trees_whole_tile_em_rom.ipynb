{
 "cells": [
  {
   "cell_type": "code",
   "execution_count": 1,
   "metadata": {},
   "outputs": [],
   "source": [
    "import os\n",
    "os.chdir('/nfs/home/vaschetti/maxarSrc')\n",
    "from pathlib import Path\n",
    "from maxarseg.assemble import names, holders\n",
    "from maxarseg.configs import Config\n",
    "from deepforest import main\n",
    "import torch\n",
    "import rasterio\n",
    "import numpy as np\n",
    "from maxarseg.detect import detect, detect_utils\n",
    "import geopandas as gpd\n",
    "from maxarseg.samplers import samplers, samplers_utils"
   ]
  },
  {
   "cell_type": "markdown",
   "metadata": {},
   "source": [
    "### Deep Forest"
   ]
  },
  {
   "cell_type": "code",
   "execution_count": null,
   "metadata": {},
   "outputs": [],
   "source": [
    "torch.set_float32_matmul_precision('medium')\n",
    "cfg = Config(config_path = Path('./configs/trees_cfg.yaml'))\n",
    "tile_path = Path('/nfs/projects/overwatch/maxar-segmentation/maxar-open-data/Emilia-Romagna-Italy-flooding-may23/pre/10300100BF164000/120000301332.tif')\n",
    "\n",
    "DF_model = main.deepforest(config_args = { 'devices' : cfg.get('models/df/device'),\n",
    "                                        'retinanet': {'score_thresh': cfg.get('models/df/box_threshold')},\n",
    "                                        'accelerator': 'cuda',\n",
    "                                        'batch_size': cfg.get('models/df/bs')})\n",
    "DF_model.use_release()\n",
    "\n",
    "with rasterio.open(tile_path) as src:\n",
    "    to_xy = src.xy\n",
    "    crs = src.crs\n",
    "    \n",
    "for size in range(1000, 199, -100):\n",
    "    cfg.set('models/df/size', size)\n",
    "    print(cfg.get('models/df'))\n",
    "    print(cfg.get('detection/trees/min_ratio_GD_boxes_edges'))\n",
    "    boxes_df = DF_model.predict_tile(tile_path,\n",
    "                                    return_plot = False,\n",
    "                                    patch_size = cfg.get('models/df/size'),\n",
    "                                    patch_overlap = cfg.get('models/df/patch_overlap'))\n",
    "    boxes = boxes_df.iloc[:, :4].values\n",
    "    score = boxes_df['score'].values\n",
    "    \n",
    "    glb_tile_tree_boxes = boxes\n",
    "    glb_tile_tree_scores = score\n",
    "    \n",
    "    keep_ix_box_ratio = detect_utils.filter_on_box_ratio(glb_tile_tree_boxes,\n",
    "                                                             min_edges_ratio = cfg.get('detection/trees/min_ratio_GD_boxes_edges'),\n",
    "                                                             box_format = 'xyxy')\n",
    "    glb_tile_tree_boxes = glb_tile_tree_boxes[keep_ix_box_ratio]\n",
    "    glb_tile_tree_scores = glb_tile_tree_scores[keep_ix_box_ratio]\n",
    "    print('box edge ratio filtering:', len(keep_ix_box_ratio) - np.sum(keep_ix_box_ratio), 'boxes removed')\n",
    "\n",
    "    \n",
    "    if len(glb_tile_tree_boxes.shape) == 1:\n",
    "        glb_tile_tree_boxes = np.expand_dims(glb_tile_tree_boxes, axis = 0)\n",
    "    if glb_tile_tree_scores.size == 1:\n",
    "        glb_tile_tree_scores = np.expand_dims(glb_tile_tree_scores, axis = 0)\n",
    "    \n",
    "    for i, box in enumerate(glb_tile_tree_boxes):\n",
    "        #need to invert x and y to go from col row to row col index\n",
    "        try:\n",
    "            glb_tile_tree_boxes[i] = np.array(to_xy(box[1], box[0]) + to_xy(box[3], box[2]))\n",
    "        # catch and print \n",
    "        except Exception as e:\n",
    "            print(f'Error in box {i}: {e}')                \n",
    "    cols = {'score': list(glb_tile_tree_scores),\n",
    "            'geometry': [samplers_utils.xyxyBox2Polygon(box) for box in glb_tile_tree_boxes]}\n",
    "\n",
    "    gdf = gpd.GeoDataFrame(cols, crs = crs)\n",
    "    gdf.to_file(tile_path.parts[-1][:-4]+'_tree' + str(size) +'_edg_ratio'+ str(cfg.get('detection/trees/min_ratio_GD_boxes_edges')) + '.gpkg', driver=\"GPKG\")\n",
    "    "
   ]
  },
  {
   "cell_type": "markdown",
   "metadata": {},
   "source": [
    "## Dino"
   ]
  },
  {
   "cell_type": "code",
   "execution_count": 2,
   "metadata": {},
   "outputs": [
    {
     "name": "stdout",
     "output_type": "stream",
     "text": [
      "{'bs': 1, 'size': 600, 'stride': 400, 'device': 'cuda:0', 'root_path': './models/GDINO', 'config_file_path': './models/GDINO/configs/GroundingDINO_SwinT_OGC.py', 'weight_path': './models/GDINO/weights/groundingdino_swint_ogc.pth', 'text_prompt': 'bush', 'box_threshold': 0.12, 'text_threshold': 0.3}\n"
     ]
    }
   ],
   "source": [
    "cfg = Config(config_path = Path('./configs/trees_cfg.yaml'))\n",
    "print(cfg.get('models/gd'))"
   ]
  },
  {
   "cell_type": "code",
   "execution_count": 3,
   "metadata": {},
   "outputs": [
    {
     "name": "stdout",
     "output_type": "stream",
     "text": [
      "Evento su bordo\n",
      "Creating event: Emilia-Romagna-Italy-flooding-may23\n",
      "Region: Europe-Full\n",
      "Mosaics: ['1040010030544E00', '1050410012C31100', '103005009DF96A00', '10300100C5C14E00', '104005003ADC5C00', '10300100C48E0A00', '10300500DDF89E00', '10300500CCF8B300', '10300100BF164000', '1050010032B2A600']\n"
     ]
    }
   ],
   "source": [
    "events_names = names.get_all_events() \n",
    "event = holders.Event(events_names[1], cfg = cfg)"
   ]
  },
  {
   "cell_type": "code",
   "execution_count": 4,
   "metadata": {},
   "outputs": [
    {
     "name": "stdout",
     "output_type": "stream",
     "text": [
      "final text_encoder_type: bert-base-uncased\n",
      "\n",
      "- GD model device: cuda:0\n",
      "Completely contained in land. No mod to tile_aoi\n"
     ]
    },
    {
     "name": "stderr",
     "output_type": "stream",
     "text": [
      "Detecting Trees with GDino:  95%|█████████▌| 275/289 [02:22<00:06,  2.01it/s]"
     ]
    },
    {
     "name": "stdout",
     "output_type": "stream",
     "text": [
      "Discarded empty chips:  6\n",
      "True num of batch:  283.0\n"
     ]
    },
    {
     "name": "stderr",
     "output_type": "stream",
     "text": [
      "Detecting Trees with GDino:  98%|█████████▊| 283/289 [02:26<00:03,  1.93it/s]\n"
     ]
    }
   ],
   "source": [
    "#GroundingDino\n",
    "from groundingdino.util.inference import load_model as GD_load_model\n",
    "from groundingdino.util.inference import predict as GD_predict\n",
    "from groundingdino.util.inference import fast_predict as GD_fast_predict\n",
    "from maxarseg.samplers import samplers, samplers_utils\n",
    "from maxarseg.geo_datasets import geoDatasets\n",
    "from torch.utils.data import DataLoader\n",
    "from tqdm import tqdm\n",
    "from rasterio.features import rasterize\n",
    "from torchgeo.datasets import stack_samples\n",
    "\n",
    "import os\n",
    "os.environ[\"TOKENIZERS_PARALLELISM\"] = \"true\"\n",
    "\n",
    "tile_path = Path('/nfs/projects/overwatch/maxar-segmentation/maxar-open-data/Emilia-Romagna-Italy-flooding-may23/pre/10300100BF164000/120000301332.tif')\n",
    "\n",
    "with rasterio.open(tile_path) as src:\n",
    "    transform = src.transform\n",
    "    tile_shape = (src.height, src.width)\n",
    "    to_xy = src.xy\n",
    "    crs = src.crs\n",
    "gd_size = 1024\n",
    "model = GD_load_model(cfg.get('models/gd/config_file_path'), cfg.get('models/gd/weight_path')).to(cfg.get('models/gd/device'))\n",
    "print('\\n- GD model device:', next(model.parameters()).device)\n",
    "\n",
    "tile_aoi_gdf = samplers_utils.path_2_tile_aoi_no_water(tile_path, event.filtered_wlb_gdf)\n",
    "aoi_mask = rasterize(tile_aoi_gdf.geometry, out_shape = tile_shape, fill=False, default_value=True, transform = transform)\n",
    "\n",
    "dataset = geoDatasets.MxrSingleTileNoEmpty(str(tile_path), tile_aoi_gdf, aoi_mask=aoi_mask)\n",
    "sampler = samplers.BatchGridGeoSampler(dataset, batch_size=cfg.get('models/gd/bs'), size=gd_size, stride=gd_size)\n",
    "dataloader = DataLoader(dataset , batch_sampler=sampler, collate_fn=stack_samples, num_workers=4)\n",
    "\n",
    "glb_tile_tree_boxes = torch.empty(0, 4)\n",
    "all_logits = torch.empty(0)\n",
    "model = model.to(\"cuda\")\n",
    "for batch in tqdm(dataloader, total = len(dataloader), desc=\"Detecting Trees with GDino\"):\n",
    "    img_b = batch['image'].permute(0,2,3,1).numpy().astype('uint8')\n",
    "    \n",
    "    for img, img_top_left_index in zip(img_b, batch['top_lft_index']):\n",
    "        image_transformed = detect_utils.GD_img_load(img)\n",
    "        tree_boxes, logits = GD_fast_predict(model,\n",
    "                                            image_transformed,\n",
    "                                            cfg.get('models/gd/text_prompt'),\n",
    "                                            cfg.get('models/gd/box_threshold'),\n",
    "                                            cfg.get('models/gd/text_threshold'),\n",
    "                                            device = cfg.get('models/gd/device'))\n",
    "        \n",
    "        \n",
    "        \n",
    "        \"\"\"rel_xyxy_tree_boxes = detect_utils.GDboxes2SamBoxes(tree_boxes, img_shape = gd_size)\n",
    "        top_left_xy = np.array([img_top_left_index[1], #from an index to xyxy\n",
    "                                img_top_left_index[0],\n",
    "                                img_top_left_index[1],\n",
    "                                img_top_left_index[0]])\n",
    "        \n",
    "        #turn boxes from patch xyxy coords to global xyxy coords\n",
    "        glb_xyxy_tree_boxes = rel_xyxy_tree_boxes + top_left_xy\n",
    "        \n",
    "        glb_tile_tree_boxes = np.concatenate((glb_tile_tree_boxes, glb_xyxy_tree_boxes))\n",
    "        all_logits = np.concatenate((all_logits, logits))\"\"\""
   ]
  },
  {
   "cell_type": "code",
   "execution_count": 8,
   "metadata": {},
   "outputs": [],
   "source": [
    "glb_tile_tree_scores = all_logits\n",
    "copy_glb_tile_tree_boxes = glb_tile_tree_boxes.copy()\n",
    "copy_glb_tile_tree_scores = glb_tile_tree_scores.copy()"
   ]
  },
  {
   "cell_type": "code",
   "execution_count": 9,
   "metadata": {},
   "outputs": [
    {
     "name": "stdout",
     "output_type": "stream",
     "text": [
      "boxes area filtering:  4231 boxes removed\n",
      "box edge ratio filtering: 1077 boxes removed\n"
     ]
    }
   ],
   "source": [
    "keep_ix_box_area = detect_utils.filter_on_box_area_mt2(copy_glb_tile_tree_boxes,\n",
    "                                                               max_area_mt2 = cfg.get('detection/trees/max_area_boxes_mt2'),\n",
    "                                                               box_format = 'xyxy')\n",
    "glb_tile_tree_boxes = copy_glb_tile_tree_boxes[keep_ix_box_area]\n",
    "glb_tile_tree_scores = copy_glb_tile_tree_scores[keep_ix_box_area]\n",
    "print('boxes area filtering: ', len(keep_ix_box_area) - np.sum(keep_ix_box_area), 'boxes removed')\n",
    "\n",
    "keep_ix_box_ratio = detect_utils.filter_on_box_ratio(glb_tile_tree_boxes,\n",
    "                                                        min_edges_ratio = cfg.get('detection/trees/min_ratio_GD_boxes_edges'),\n",
    "                                                        box_format = 'xyxy')\n",
    "glb_tile_tree_boxes = glb_tile_tree_boxes[keep_ix_box_ratio]\n",
    "glb_tile_tree_scores = glb_tile_tree_scores[keep_ix_box_ratio]\n",
    "print('box edge ratio filtering:', len(keep_ix_box_ratio) - np.sum(keep_ix_box_ratio), 'boxes removed')"
   ]
  },
  {
   "cell_type": "code",
   "execution_count": 10,
   "metadata": {},
   "outputs": [
    {
     "data": {
      "text/plain": [
       "8000"
      ]
     },
     "execution_count": 10,
     "metadata": {},
     "output_type": "execute_result"
    }
   ],
   "source": [
    "cfg.get('detection/trees/max_area_boxes_mt2')"
   ]
  },
  {
   "cell_type": "code",
   "execution_count": 11,
   "metadata": {},
   "outputs": [],
   "source": [
    "if len(glb_tile_tree_boxes.shape) == 1:\n",
    "            glb_tile_tree_boxes = np.expand_dims(glb_tile_tree_boxes, axis = 0)\n",
    "if glb_tile_tree_scores.size == 1:\n",
    "    glb_tile_tree_scores = np.expand_dims(glb_tile_tree_scores, axis = 0)\n",
    "\n",
    "for i, box in enumerate(glb_tile_tree_boxes):\n",
    "    #need to invert x and y to go from col row to row col index\n",
    "    try:\n",
    "        glb_tile_tree_boxes[i] = np.array(to_xy(box[1], box[0]) + to_xy(box[3], box[2]))\n",
    "    # catch and print \n",
    "    except Exception as e:\n",
    "        print(f'Error in box {i}: {e}')                \n",
    "cols = {'score': list(glb_tile_tree_scores),\n",
    "        'geometry': [samplers_utils.xyxyBox2Polygon(box) for box in glb_tile_tree_boxes]}\n",
    "\n",
    "gdf = gpd.GeoDataFrame(cols, crs = crs)\n",
    "\n",
    "gdf.to_file(tile_path.parts[-1][:-4]+'_Gdino'+'_tree' + str(gd_size) +'_edg_ratio'+ str(cfg.get('detection/trees/min_ratio_GD_boxes_edges')) + '_area'+str(cfg.get('detection/trees/max_area_boxes_mt2'))+'.gpkg', driver=\"GPKG\")"
   ]
  }
 ],
 "metadata": {
  "kernelspec": {
   "display_name": ".venv",
   "language": "python",
   "name": "python3"
  },
  "language_info": {
   "codemirror_mode": {
    "name": "ipython",
    "version": 3
   },
   "file_extension": ".py",
   "mimetype": "text/x-python",
   "name": "python",
   "nbconvert_exporter": "python",
   "pygments_lexer": "ipython3",
   "version": "3.10.12"
  }
 },
 "nbformat": 4,
 "nbformat_minor": 2
}

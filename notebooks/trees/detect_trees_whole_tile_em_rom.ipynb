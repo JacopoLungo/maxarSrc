{
 "cells": [
  {
   "cell_type": "code",
   "execution_count": 1,
   "metadata": {},
   "outputs": [],
   "source": [
    "from pathlib import Path\n",
    "import os\n",
    "\n",
    "if Path.cwd().name != 'src':\n",
    "    os.chdir('/home/vaschetti/maxarSrc/src')"
   ]
  },
  {
   "cell_type": "code",
   "execution_count": 2,
   "metadata": {},
   "outputs": [],
   "source": [
    "from my_functions.assemble import names\n",
    "events_names = names.get_all_events()"
   ]
  },
  {
   "cell_type": "code",
   "execution_count": 3,
   "metadata": {},
   "outputs": [
    {
     "name": "stdout",
     "output_type": "stream",
     "text": [
      "0 southafrica-flooding22\n",
      "1 Kalehe-DRC-Flooding-5-8-23\n",
      "2 shovi-georgia-landslide-8Aug23\n",
      "3 Emilia-Romagna-Italy-flooding-may23\n",
      "4 NWT-Canada-Aug-23\n",
      "5 Libya-Floods-Sept-2023\n",
      "6 Gambia-flooding-8-11-2022\n",
      "7 New-Zealand-Flooding23\n",
      "8 Hurricane-Fiona-9-19-2022\n",
      "9 Hurricane-Idalia-Florida-Aug23\n",
      "10 Hurricane-Ian-9-26-2022\n",
      "11 yellowstone-flooding22\n",
      "12 pakistan-flooding22\n",
      "13 Morocco-Earthquake-Sept-2023\n",
      "14 Indonesia-Earthquake22\n",
      "15 cyclone-emnati22\n",
      "16 Kahramanmaras-turkey-earthquake-23\n",
      "17 Marshall-Fire-21-Update\n",
      "18 India-Floods-Oct-2023\n",
      "19 Maui-Hawaii-fires-Aug-23\n",
      "20 tonga-volcano21\n",
      "21 BayofBengal-Cyclone-Mocha-May-23\n",
      "22 Sudan-flooding-8-22-2022\n"
     ]
    }
   ],
   "source": [
    "for i, name in enumerate(events_names):\n",
    "    print(i, name)"
   ]
  },
  {
   "cell_type": "code",
   "execution_count": 4,
   "metadata": {},
   "outputs": [],
   "source": [
    "from my_functions.configs import DetectConfig, SegmentConfig\n",
    "#seg_config = SegmentConfig(batch_size = 1, device='cuda:2', size = 600, stride = 400)\n",
    "det_config = DetectConfig(batch_size = 1,\n",
    "                          device='cuda:2',\n",
    "                          size = 600,\n",
    "                          stride = 600,\n",
    "                          TEXT_PROMPT='bush',\n",
    "                          BOX_THRESHOLD=0.12,\n",
    "                          min_ratio_GD_boxes_edges=0\n",
    "                          )"
   ]
  },
  {
   "cell_type": "code",
   "execution_count": 5,
   "metadata": {},
   "outputs": [
    {
     "name": "stdout",
     "output_type": "stream",
     "text": [
      "Europe-Full\n",
      "['10300100C5C14E00', '1050010032B2A600', '104005003ADC5C00', '10300500CCF8B300', '103005009DF96A00', '1040010030544E00', '1050410012C31100', '10300100BF164000', '10300100C48E0A00', '10300500DDF89E00']\n",
      "Mosaic name: 10300100C48E0A00\n",
      "Number of tiles: 15\n"
     ]
    }
   ],
   "source": [
    "from my_functions.assemble import holders, names\n",
    "\n",
    "events_names = names.get_all_events()\n",
    "\n",
    "event = holders.Event(events_names[3],\n",
    "                      #seg_config = seg_config,\n",
    "                      det_config = det_config,\n",
    "                      when='pre')\n",
    "\n",
    "print(event.region_name)\n",
    "\n",
    "all_mosaics_names = event.all_mosaics_names\n",
    "print(all_mosaics_names)\n",
    "\n",
    "m0 = event.mosaics[all_mosaics_names[-2]]\n",
    "print(f'Mosaic name: {m0.name}')\n",
    "print(f'Number of tiles: {m0.tiles_num}')"
   ]
  },
  {
   "cell_type": "code",
   "execution_count": 6,
   "metadata": {},
   "outputs": [
    {
     "name": "stdout",
     "output_type": "stream",
     "text": [
      "0 031111231000.tif\n",
      "1 031111231002.tif\n",
      "2 031111231021.tif\n",
      "3 031111212331.tif\n",
      "4 031111231003.tif\n",
      "5 031111231001.tif\n",
      "6 031111213220.tif\n",
      "7 031111231010.tif\n",
      "8 031111231012.tif\n",
      "9 031111230111.tif\n",
      "10 031111213232.tif\n",
      "11 031111212333.tif\n",
      "12 031111231030.tif\n",
      "13 031111213223.tif\n",
      "14 031111213222.tif\n"
     ]
    }
   ],
   "source": [
    "for i, path in enumerate(m0.tiles_paths):\n",
    "    print(i, str(path).split('/')[-1])"
   ]
  },
  {
   "cell_type": "code",
   "execution_count": 7,
   "metadata": {},
   "outputs": [
    {
     "name": "stdout",
     "output_type": "stream",
     "text": [
      "final text_encoder_type: bert-base-uncased\n",
      "\n",
      "- GD model device: cuda:2\n"
     ]
    },
    {
     "name": "stderr",
     "output_type": "stream",
     "text": [
      " 96%|█████████▋| 868/900 [03:58<00:08,  3.65it/s]\n"
     ]
    },
    {
     "name": "stdout",
     "output_type": "stream",
     "text": [
      "Discarded empty chips:  32\n",
      "True num of batch:  868.0\n"
     ]
    }
   ],
   "source": [
    "res = m0.detect_trees_tile(m0.tiles_paths[14])"
   ]
  },
  {
   "cell_type": "code",
   "execution_count": 8,
   "metadata": {},
   "outputs": [
    {
     "data": {
      "text/plain": [
       "True"
      ]
     },
     "execution_count": 8,
     "metadata": {},
     "output_type": "execute_result"
    }
   ],
   "source": [
    "~(res.geometry.area > 6000).all()"
   ]
  },
  {
   "cell_type": "code",
   "execution_count": 9,
   "metadata": {},
   "outputs": [
    {
     "data": {
      "text/plain": [
       "19357"
      ]
     },
     "execution_count": 9,
     "metadata": {},
     "output_type": "execute_result"
    }
   ],
   "source": [
    "len(res)"
   ]
  },
  {
   "cell_type": "code",
   "execution_count": 10,
   "metadata": {},
   "outputs": [],
   "source": [
    "res.to_file(\"trees_25_3_24_Em_Rom\")"
   ]
  },
  {
   "cell_type": "code",
   "execution_count": 7,
   "metadata": {},
   "outputs": [
    {
     "data": {
      "text/plain": [
       "array([ 1808.9430542 , 16808.05786133,  2200.04272461,  2200.05755615])"
      ]
     },
     "execution_count": 7,
     "metadata": {},
     "output_type": "execute_result"
    }
   ],
   "source": [
    "res[0]"
   ]
  },
  {
   "cell_type": "code",
   "execution_count": 6,
   "metadata": {},
   "outputs": [
    {
     "data": {
      "text/plain": [
       "tensor([[0.6742, 0.5001, 0.6518, 1.0000],\n",
       "        [0.4174, 0.1213, 0.0641, 0.0977],\n",
       "        [0.8966, 0.2891, 0.2067, 0.5784],\n",
       "        [0.6268, 0.2973, 0.3135, 0.5958],\n",
       "        [0.3973, 0.4996, 0.1009, 0.1841],\n",
       "        [0.7323, 0.2991, 0.5352, 0.5987],\n",
       "        [0.4845, 0.0220, 0.0526, 0.0442],\n",
       "        [0.7265, 0.4994, 0.5475, 1.0000]])"
      ]
     },
     "execution_count": 6,
     "metadata": {},
     "output_type": "execute_result"
    }
   ],
   "source": [
    "box"
   ]
  },
  {
   "cell_type": "code",
   "execution_count": 11,
   "metadata": {},
   "outputs": [],
   "source": [
    "from groundingdino.util.inference import Model\n",
    "det = Model.post_process_result(source_h = 600,\n",
    "                          source_w = 600,\n",
    "                          boxes = box,\n",
    "                          logits = log)"
   ]
  },
  {
   "cell_type": "code",
   "execution_count": 14,
   "metadata": {},
   "outputs": [
    {
     "data": {
      "text/plain": [
       "array([[ 2.0894305e+02,  5.7861328e-02,  6.0004272e+02,  6.0005756e+02],\n",
       "       [ 2.3118320e+02,  4.3495026e+01,  2.6965045e+02,  1.0211229e+02],\n",
       "       [ 4.7595953e+02, -7.7209473e-02,  6.0000555e+02,  3.4698505e+02],\n",
       "       [ 2.8204865e+02, -3.4008789e-01,  4.7012793e+02,  3.5714130e+02],\n",
       "       [ 2.0810159e+02,  2.4451244e+02,  2.6861993e+02,  3.5499356e+02],\n",
       "       [ 2.7880759e+02, -1.3945007e-01,  5.9994080e+02,  3.5909802e+02],\n",
       "       [ 2.7491299e+02, -7.7271461e-02,  3.0650290e+02,  2.6418896e+01],\n",
       "       [ 2.7163971e+02, -3.3309937e-01,  6.0012323e+02,  5.9966614e+02]],\n",
       "      dtype=float32)"
      ]
     },
     "execution_count": 14,
     "metadata": {},
     "output_type": "execute_result"
    }
   ],
   "source": [
    "det.xyxy"
   ]
  },
  {
   "cell_type": "code",
   "execution_count": 8,
   "metadata": {},
   "outputs": [
    {
     "data": {
      "text/plain": [
       "['green tree', '', '', '', '', '', '', '']"
      ]
     },
     "execution_count": 8,
     "metadata": {},
     "output_type": "execute_result"
    }
   ],
   "source": [
    "phr"
   ]
  }
 ],
 "metadata": {
  "kernelspec": {
   "display_name": ".venv",
   "language": "python",
   "name": "python3"
  },
  "language_info": {
   "codemirror_mode": {
    "name": "ipython",
    "version": 3
   },
   "file_extension": ".py",
   "mimetype": "text/x-python",
   "name": "python",
   "nbconvert_exporter": "python",
   "pygments_lexer": "ipython3",
   "version": "3.10.13"
  }
 },
 "nbformat": 4,
 "nbformat_minor": 2
}

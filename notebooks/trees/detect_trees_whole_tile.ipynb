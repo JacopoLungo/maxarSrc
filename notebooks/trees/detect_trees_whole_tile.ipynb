{
 "cells": [
  {
   "cell_type": "code",
   "execution_count": 1,
   "metadata": {},
   "outputs": [],
   "source": [
    "from pathlib import Path\n",
    "import os\n",
    "\n",
    "if Path.cwd().name != 'src':\n",
    "    os.chdir('/home/vaschetti/maxarSrc/src')"
   ]
  },
  {
   "cell_type": "code",
   "execution_count": 2,
   "metadata": {},
   "outputs": [],
   "source": [
    "from maxarseg.assemble import names\n",
    "events_names = names.get_all_events()"
   ]
  },
  {
   "cell_type": "code",
   "execution_count": 3,
   "metadata": {},
   "outputs": [],
   "source": [
    "from maxarseg.configs import DetectConfig, SegmentConfig\n",
    "#seg_config = SegmentConfig(batch_size = 1, device='cuda:2', size = 600, stride = 400)\n",
    "det_config = DetectConfig(batch_size = 1,\n",
    "                          device='cuda:2',\n",
    "                          size = 600,\n",
    "                          stride = 600,\n",
    "                          TEXT_PROMPT='bush')"
   ]
  },
  {
   "cell_type": "code",
   "execution_count": 4,
   "metadata": {},
   "outputs": [
    {
     "name": "stdout",
     "output_type": "stream",
     "text": [
      "AfricaWest-Full\n",
      "['10300100CFC9A500', '105001002BD68F00', '1040010073D77D00']\n",
      "Number of tiles: 18\n"
     ]
    }
   ],
   "source": [
    "from maxarseg.assemble import holders, names\n",
    "\n",
    "events_names = names.get_all_events()\n",
    "\n",
    "event = holders.Event(events_names[6],\n",
    "                      #seg_config = seg_config,\n",
    "                      det_config = det_config,\n",
    "                      when='pre')\n",
    "\n",
    "print(event.region_name)\n",
    "\n",
    "all_mosaics_names = event.all_mosaics_names\n",
    "print(all_mosaics_names)\n",
    "\n",
    "m0 = event.mosaics[all_mosaics_names[0]]\n",
    "print(f'Number of tiles: {m0.tiles_num}')"
   ]
  },
  {
   "cell_type": "code",
   "execution_count": 5,
   "metadata": {},
   "outputs": [],
   "source": [
    "from maxarseg.geo_datasets import geoDatasets\n",
    "from maxarseg.samplers import samplers\n",
    "from torch.utils.data import DataLoader\n",
    "from torchgeo.datasets import stack_samples\n",
    "\n",
    "dataset = geoDatasets.MxrSingleTileNoEmpty(str(m0.tiles_paths[17]))\n",
    "sampler = samplers.BatchGridGeoSampler(dataset, batch_size=1, size=600, stride=400)\n",
    "dataloader = DataLoader(dataset , batch_sampler=sampler, collate_fn=stack_samples)"
   ]
  },
  {
   "cell_type": "code",
   "execution_count": 9,
   "metadata": {},
   "outputs": [
    {
     "data": {
      "text/plain": [
       "torchgeo.datasets.utils.BoundingBox"
      ]
     },
     "execution_count": 9,
     "metadata": {},
     "output_type": "execute_result"
    }
   ],
   "source": [
    "type(next(iter(dataloader))['bbox'][0])"
   ]
  },
  {
   "cell_type": "code",
   "execution_count": null,
   "metadata": {},
   "outputs": [],
   "source": [
    "from torchgeo.datasets.utils import BoundingBox"
   ]
  },
  {
   "cell_type": "code",
   "execution_count": 6,
   "metadata": {},
   "outputs": [
    {
     "name": "stdout",
     "output_type": "stream",
     "text": [
      "final text_encoder_type: bert-base-uncased\n",
      "\n",
      "- GD model device: cuda:2\n"
     ]
    },
    {
     "name": "stderr",
     "output_type": "stream",
     "text": [
      " 90%|█████████ | 810/900 [03:43<00:24,  3.62it/s]\n"
     ]
    },
    {
     "name": "stdout",
     "output_type": "stream",
     "text": [
      "Discarded empty chips:  90\n",
      "True num of batch:  810.0\n"
     ]
    }
   ],
   "source": [
    "res = m0.detect_trees_tile(m0.tiles_paths[17])"
   ]
  },
  {
   "cell_type": "code",
   "execution_count": 7,
   "metadata": {},
   "outputs": [
    {
     "data": {
      "text/plain": [
       "True"
      ]
     },
     "execution_count": 7,
     "metadata": {},
     "output_type": "execute_result"
    }
   ],
   "source": [
    "~(res.geometry.area > 6000).all()"
   ]
  },
  {
   "cell_type": "code",
   "execution_count": 8,
   "metadata": {},
   "outputs": [],
   "source": [
    "res.to_file(\"trees_25_3_24_full\")"
   ]
  },
  {
   "cell_type": "code",
   "execution_count": 7,
   "metadata": {},
   "outputs": [
    {
     "data": {
      "text/plain": [
       "array([ 1808.9430542 , 16808.05786133,  2200.04272461,  2200.05755615])"
      ]
     },
     "execution_count": 7,
     "metadata": {},
     "output_type": "execute_result"
    }
   ],
   "source": [
    "res[0]"
   ]
  },
  {
   "cell_type": "code",
   "execution_count": 14,
   "metadata": {},
   "outputs": [
    {
     "ename": "ValueError",
     "evalue": "operands could not be broadcast together with shapes (4,) (2,) ",
     "output_type": "error",
     "traceback": [
      "\u001b[0;31m---------------------------------------------------------------------------\u001b[0m",
      "\u001b[0;31mValueError\u001b[0m                                Traceback (most recent call last)",
      "Cell \u001b[0;32mIn[14], line 4\u001b[0m\n\u001b[1;32m      2\u001b[0m a \u001b[38;5;241m=\u001b[39m np\u001b[38;5;241m.\u001b[39marray([\u001b[38;5;241m1\u001b[39m,\u001b[38;5;241m2\u001b[39m,\u001b[38;5;241m3\u001b[39m,\u001b[38;5;241m4\u001b[39m])\n\u001b[1;32m      3\u001b[0m b \u001b[38;5;241m=\u001b[39m np\u001b[38;5;241m.\u001b[39marray([\u001b[38;5;241m1\u001b[39m,\u001b[38;5;241m2\u001b[39m])\n\u001b[0;32m----> 4\u001b[0m \u001b[43ma\u001b[49m\u001b[43m \u001b[49m\u001b[38;5;241;43m+\u001b[39;49m\u001b[43m \u001b[49m\u001b[43mb\u001b[49m\n",
      "\u001b[0;31mValueError\u001b[0m: operands could not be broadcast together with shapes (4,) (2,) "
     ]
    }
   ],
   "source": [
    "import numpy as np\n",
    "a = np.array([1,2,3,4])\n",
    "b = np.array([1,2])\n",
    "a + b"
   ]
  },
  {
   "cell_type": "code",
   "execution_count": 13,
   "metadata": {},
   "outputs": [
    {
     "data": {
      "text/plain": [
       "array([[ 2.0894305e+02,  5.7861328e-02,  6.0004272e+02,  6.0005756e+02],\n",
       "       [ 2.3118320e+02,  4.3495026e+01,  2.6965045e+02,  1.0211229e+02],\n",
       "       [ 4.7595953e+02, -7.7209473e-02,  6.0000555e+02,  3.4698505e+02],\n",
       "       [ 2.8204865e+02, -3.4008789e-01,  4.7012793e+02,  3.5714130e+02],\n",
       "       [ 2.0810159e+02,  2.4451244e+02,  2.6861993e+02,  3.5499356e+02],\n",
       "       [ 2.7880759e+02, -1.3945007e-01,  5.9994080e+02,  3.5909802e+02],\n",
       "       [ 2.7491299e+02, -7.7271461e-02,  3.0650290e+02,  2.6418896e+01],\n",
       "       [ 2.7163971e+02, -3.3309937e-01,  6.0012323e+02,  5.9966614e+02]],\n",
       "      dtype=float32)"
      ]
     },
     "execution_count": 13,
     "metadata": {},
     "output_type": "execute_result"
    }
   ],
   "source": [
    "r[0]"
   ]
  },
  {
   "cell_type": "code",
   "execution_count": 6,
   "metadata": {},
   "outputs": [
    {
     "data": {
      "text/plain": [
       "tensor([[0.6742, 0.5001, 0.6518, 1.0000],\n",
       "        [0.4174, 0.1213, 0.0641, 0.0977],\n",
       "        [0.8966, 0.2891, 0.2067, 0.5784],\n",
       "        [0.6268, 0.2973, 0.3135, 0.5958],\n",
       "        [0.3973, 0.4996, 0.1009, 0.1841],\n",
       "        [0.7323, 0.2991, 0.5352, 0.5987],\n",
       "        [0.4845, 0.0220, 0.0526, 0.0442],\n",
       "        [0.7265, 0.4994, 0.5475, 1.0000]])"
      ]
     },
     "execution_count": 6,
     "metadata": {},
     "output_type": "execute_result"
    }
   ],
   "source": [
    "box"
   ]
  },
  {
   "cell_type": "code",
   "execution_count": 11,
   "metadata": {},
   "outputs": [],
   "source": [
    "from groundingdino.util.inference import Model\n",
    "det = Model.post_process_result(source_h = 600,\n",
    "                          source_w = 600,\n",
    "                          boxes = box,\n",
    "                          logits = log)"
   ]
  },
  {
   "cell_type": "code",
   "execution_count": 14,
   "metadata": {},
   "outputs": [
    {
     "data": {
      "text/plain": [
       "array([[ 2.0894305e+02,  5.7861328e-02,  6.0004272e+02,  6.0005756e+02],\n",
       "       [ 2.3118320e+02,  4.3495026e+01,  2.6965045e+02,  1.0211229e+02],\n",
       "       [ 4.7595953e+02, -7.7209473e-02,  6.0000555e+02,  3.4698505e+02],\n",
       "       [ 2.8204865e+02, -3.4008789e-01,  4.7012793e+02,  3.5714130e+02],\n",
       "       [ 2.0810159e+02,  2.4451244e+02,  2.6861993e+02,  3.5499356e+02],\n",
       "       [ 2.7880759e+02, -1.3945007e-01,  5.9994080e+02,  3.5909802e+02],\n",
       "       [ 2.7491299e+02, -7.7271461e-02,  3.0650290e+02,  2.6418896e+01],\n",
       "       [ 2.7163971e+02, -3.3309937e-01,  6.0012323e+02,  5.9966614e+02]],\n",
       "      dtype=float32)"
      ]
     },
     "execution_count": 14,
     "metadata": {},
     "output_type": "execute_result"
    }
   ],
   "source": [
    "det.xyxy"
   ]
  },
  {
   "cell_type": "code",
   "execution_count": 8,
   "metadata": {},
   "outputs": [
    {
     "data": {
      "text/plain": [
       "['green tree', '', '', '', '', '', '', '']"
      ]
     },
     "execution_count": 8,
     "metadata": {},
     "output_type": "execute_result"
    }
   ],
   "source": [
    "phr"
   ]
  }
 ],
 "metadata": {
  "kernelspec": {
   "display_name": ".venv",
   "language": "python",
   "name": "python3"
  },
  "language_info": {
   "codemirror_mode": {
    "name": "ipython",
    "version": 3
   },
   "file_extension": ".py",
   "mimetype": "text/x-python",
   "name": "python",
   "nbconvert_exporter": "python",
   "pygments_lexer": "ipython3",
   "version": "3.10.13"
  }
 },
 "nbformat": 4,
 "nbformat_minor": 2
}

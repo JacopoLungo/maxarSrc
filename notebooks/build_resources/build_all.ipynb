{
 "cells": [
  {
   "cell_type": "code",
   "execution_count": 1,
   "metadata": {},
   "outputs": [],
   "source": [
    "import glob\n",
    "import rasterio\n",
    "from pathlib import Path\n",
    "import os\n",
    "import reverse_geocoder as rg\n",
    "import pyproj\n",
    "import geopandas as gpd\n",
    "import sys"
   ]
  },
  {
   "cell_type": "code",
   "execution_count": 2,
   "metadata": {},
   "outputs": [],
   "source": [
    "if Path.cwd().name != 'src':\n",
    "    os.chdir('/home/vaschetti/maxarSrc/src')"
   ]
  },
  {
   "cell_type": "code",
   "execution_count": 3,
   "metadata": {},
   "outputs": [],
   "source": [
    "from my_functions import build\n",
    "events_names = build.get_all_events()"
   ]
  },
  {
   "cell_type": "code",
   "execution_count": 34,
   "metadata": {},
   "outputs": [],
   "source": [
    "import pandas as pd\n",
    "\n",
    "class Mosaic:\n",
    "    def __init__(self,\n",
    "                 name,\n",
    "                 event_name,\n",
    "                 path_mosaic_metatada = '/home/vaschetti/maxarSrc/metadata/from_github_maxar_metadata/datasets',\n",
    "                 ):\n",
    "        \n",
    "        #Paths\n",
    "        self.path_mosaic_metatada = path_mosaic_metatada\n",
    "\n",
    "        #Mosaic\n",
    "        self.name = name\n",
    "        self.event_name = event_name\n",
    "        self.bbox, _ = build.get_mosaic_bbox(self.event_name,\n",
    "                                          self.name,\n",
    "                                          self.path_mosaic_metatada,\n",
    "                                          extra_mt=1000)\n",
    "        \n",
    "        self.road_gdf = None\n",
    "        self.build_gdf = None\n",
    "        \n",
    "        self.tiles_path = []\n",
    "\n",
    "        #Event\n",
    "        \n",
    "        self.event_road_gdf = None\n",
    "\n",
    "    def set_event_road_gdf(self, gdf):\n",
    "        self.event_road_gdf = gdf\n",
    "\n",
    "    def set_road_gdf(self):\n",
    "        if self.event_road_gdf is None:\n",
    "            raise ValueError('event_road_gdf is None')\n",
    "        self.road_gdf = build.filter_gdf_w_bbox(self.event_road_gdf, self.bbox)\n",
    "    \n",
    "    def set_build_gdf(self, buildings_dataset_links_path):\n",
    "        qk_hits = build.intersecting_qks(*self.bbox)\n",
    "        self.build_gdf = build.qk_building_gdf(qk_hits, csv_path=buildings_dataset_links_path)\n",
    "        \n",
    "    def add_tile(self, tile):\n",
    "        self.tiles.append(tile)\n",
    "\n",
    "    def remove_tile(self, tile):\n",
    "        self.tiles.remove(tile)\n",
    "\n",
    "    def get_tiles(self):\n",
    "        return self.tiles\n",
    "    \n",
    "    def __str__(self) -> str:\n",
    "        return self.name"
   ]
  },
  {
   "cell_type": "code",
   "execution_count": 31,
   "metadata": {},
   "outputs": [],
   "source": [
    "from my_functions import build\n",
    "import time\n",
    "import pandas as pd\n",
    "\n",
    "class Event:\n",
    "    def __init__(self,\n",
    "                 name,\n",
    "                 when = 'pre',\n",
    "                 maxar_root = '/mnt/data2/vaschetti_data/maxar',\n",
    "                 ):\n",
    "        \n",
    "        #Paths\n",
    "        self.maxar_root = maxar_root\n",
    "        self.buildings_ds_links_path = '/home/vaschetti/maxarSrc/metadata/buildings_dataset_links.csv'\n",
    "        \n",
    "        #Event\n",
    "        self.name = name\n",
    "        self.when = when\n",
    "        self.region_name = build.get_region_name(self.name)\n",
    "        self.bbox = build.get_event_bbox(self.name, extra_mt=1000) #TODO può essere ottimizzata sfruttando i mosaici\n",
    "        self.all_mosaics_names = build.get_mosaics_names(self.name, self.maxar_root, self.when)\n",
    "        \n",
    "        \n",
    "        #Roads\n",
    "        self.road_gdf = None\n",
    "\n",
    "        #Mosaics\n",
    "        self.mosaics = {} #TODO decidere se lista o dict\n",
    "\n",
    "        #Init mosaics\n",
    "        for m_name in self.all_mosaics_names:\n",
    "            self.mosaics[m_name] = Mosaic(m_name, self.name)\n",
    "\n",
    "    #Roads methods\n",
    "    def set_road_gdf(self): #set road_gdf for the event\n",
    "        region_road_gdf = build.get_region_road_gdf(self.region_name)\n",
    "        self.road_gdf = build.filter_gdf_w_bbox(region_road_gdf, self.bbox)\n",
    "\n",
    "\n",
    "    def set_road_gdf_in_mos(self, mosaic_name): #set road_gdf for the mosaic\n",
    "        if self.road_gdf is None:\n",
    "            self.set_road_gdf()\n",
    "\n",
    "        self.mosaics[mosaic_name].set_event_road_gdf(self.road_gdf)\n",
    "        self.mosaics[mosaic_name].set_road_gdf()\n",
    "\n",
    "    def set_roads_gdf_all_mos(self): #set road_gdf for all the mosaics\n",
    "        if self.road_gdf is None:\n",
    "            self.set_road_gdf()\n",
    "\n",
    "        for mosaic_name, mosaic in self.mosaics.items():\n",
    "            if mosaic.road_gdf is None:\n",
    "                self.set_road_gdf_in_mos(mosaic_name)\n",
    "    \n",
    "    #Buildings methods\n",
    "    def set_build_gdf_in_mos(self, mosaic_name):\n",
    "        self.mosaics[mosaic_name].set_build_gdf(self.buildings_ds_links_path)\n",
    "\n",
    "    def set_build_gdf_all_mos(self):\n",
    "        for mosaic_name, mosaic in self.mosaics.items():\n",
    "            if mosaic.build_gdf is None:\n",
    "                self.set_build_gdf_in_mos(mosaic_name)\n",
    "\n",
    "    def get_mosaic(self, mosaic_name):\n",
    "        return self.mosaics[mosaic_name]"
   ]
  },
  {
   "cell_type": "code",
   "execution_count": 32,
   "metadata": {},
   "outputs": [
    {
     "name": "stdout",
     "output_type": "stream",
     "text": [
      "['10300100CFC9A500', '105001002BD68F00', '1040010073D77D00']\n"
     ]
    },
    {
     "data": {
      "text/plain": [
       "((-16.70926555697382, 13.323422751465731),\n",
       " (-16.564347201396977, 13.498854689055355))"
      ]
     },
     "execution_count": 32,
     "metadata": {},
     "output_type": "execute_result"
    }
   ],
   "source": [
    "evento = Event('Gambia-flooding-8-11-2022')\n",
    "all_mosaics_names = evento.all_mosaics_names\n",
    "print(all_mosaics_names)\n",
    "m0 = evento.mosaics[all_mosaics_names[0]]\n",
    "m0.bbox"
   ]
  },
  {
   "cell_type": "code",
   "execution_count": 33,
   "metadata": {},
   "outputs": [
    {
     "name": "stdout",
     "output_type": "stream",
     "text": [
      "Found 3 links matching: [33303200, 3330320, 333032]\n",
      "Found 3 links matching: [33303200, 3330320, 333032]\n",
      "Found 3 links matching: [33303200, 3330320, 333032]\n"
     ]
    },
    {
     "ename": "NameError",
     "evalue": "name 'building_links_df' is not defined",
     "output_type": "error",
     "traceback": [
      "\u001b[0;31m---------------------------------------------------------------------------\u001b[0m",
      "\u001b[0;31mNameError\u001b[0m                                 Traceback (most recent call last)",
      "Cell \u001b[0;32mIn[33], line 1\u001b[0m\n\u001b[0;32m----> 1\u001b[0m \u001b[43mevento\u001b[49m\u001b[38;5;241;43m.\u001b[39;49m\u001b[43minit_buildings\u001b[49m\u001b[43m(\u001b[49m\u001b[43m)\u001b[49m\n",
      "Cell \u001b[0;32mIn[31], line 47\u001b[0m, in \u001b[0;36mEvent.init_buildings\u001b[0;34m(self)\u001b[0m\n\u001b[1;32m     43\u001b[0m \u001b[38;5;28;01mfor\u001b[39;00m mosaic_name, mosaic \u001b[38;5;129;01min\u001b[39;00m \u001b[38;5;28mself\u001b[39m\u001b[38;5;241m.\u001b[39mmosaics\u001b[38;5;241m.\u001b[39mitems():\n\u001b[1;32m     44\u001b[0m     mosaic\u001b[38;5;241m.\u001b[39minit_buildings(\u001b[38;5;28mself\u001b[39m\u001b[38;5;241m.\u001b[39mbuildings_ds_links_path)\n\u001b[0;32m---> 47\u001b[0m \u001b[43mbuilding_links_df\u001b[49m[building_links_df[\u001b[38;5;124m'\u001b[39m\u001b[38;5;124mQuadKey\u001b[39m\u001b[38;5;124m'\u001b[39m]\u001b[38;5;241m.\u001b[39misin(qk_hits)][\u001b[38;5;124m'\u001b[39m\u001b[38;5;124mUrl\u001b[39m\u001b[38;5;124m'\u001b[39m]\u001b[38;5;241m.\u001b[39mvalues[\u001b[38;5;241m2\u001b[39m]\n\u001b[1;32m     48\u001b[0m \u001b[38;5;28;01mpass\u001b[39;00m\n",
      "\u001b[0;31mNameError\u001b[0m: name 'building_links_df' is not defined"
     ]
    }
   ],
   "source": [
    "evento.init_buildings()"
   ]
  },
  {
   "cell_type": "code",
   "execution_count": 12,
   "metadata": {},
   "outputs": [
    {
     "name": "stdout",
     "output_type": "stream",
     "text": [
      "time per leggere il df: 8.127062797546387\n",
      "get_region_road_gdf: 108.75397634506226\n"
     ]
    }
   ],
   "source": [
    "evento.init_roads()"
   ]
  },
  {
   "cell_type": "code",
   "execution_count": 16,
   "metadata": {},
   "outputs": [
    {
     "data": {
      "text/html": [
       "<div>\n",
       "<style scoped>\n",
       "    .dataframe tbody tr th:only-of-type {\n",
       "        vertical-align: middle;\n",
       "    }\n",
       "\n",
       "    .dataframe tbody tr th {\n",
       "        vertical-align: top;\n",
       "    }\n",
       "\n",
       "    .dataframe thead th {\n",
       "        text-align: right;\n",
       "    }\n",
       "</style>\n",
       "<table border=\"1\" class=\"dataframe\">\n",
       "  <thead>\n",
       "    <tr style=\"text-align: right;\">\n",
       "      <th></th>\n",
       "      <th>country</th>\n",
       "      <th>geometry</th>\n",
       "    </tr>\n",
       "  </thead>\n",
       "  <tbody>\n",
       "    <tr>\n",
       "      <th>158659</th>\n",
       "      <td>GMB</td>\n",
       "      <td>LINESTRING (-16.68202 13.41127, -16.68201 13.4...</td>\n",
       "    </tr>\n",
       "    <tr>\n",
       "      <th>158664</th>\n",
       "      <td>GMB</td>\n",
       "      <td>LINESTRING (-16.68379 13.46848, -16.68323 13.4...</td>\n",
       "    </tr>\n",
       "    <tr>\n",
       "      <th>158669</th>\n",
       "      <td>GMB</td>\n",
       "      <td>LINESTRING (-16.69678 13.36874, -16.69712 13.3...</td>\n",
       "    </tr>\n",
       "    <tr>\n",
       "      <th>158689</th>\n",
       "      <td>GMB</td>\n",
       "      <td>LINESTRING (-16.68736 13.44269, -16.68723 13.4...</td>\n",
       "    </tr>\n",
       "    <tr>\n",
       "      <th>158694</th>\n",
       "      <td>GMB</td>\n",
       "      <td>LINESTRING (-16.68226 13.39987, -16.68224 13.3...</td>\n",
       "    </tr>\n",
       "    <tr>\n",
       "      <th>...</th>\n",
       "      <td>...</td>\n",
       "      <td>...</td>\n",
       "    </tr>\n",
       "    <tr>\n",
       "      <th>504430</th>\n",
       "      <td>GMB</td>\n",
       "      <td>LINESTRING (-16.72385 13.40120, -16.72470 13.4...</td>\n",
       "    </tr>\n",
       "    <tr>\n",
       "      <th>504460</th>\n",
       "      <td>GMB</td>\n",
       "      <td>LINESTRING (-16.69546 13.40399, -16.69566 13.4...</td>\n",
       "    </tr>\n",
       "    <tr>\n",
       "      <th>504475</th>\n",
       "      <td>GMB</td>\n",
       "      <td>LINESTRING (-16.73466 13.41199, -16.73617 13.4...</td>\n",
       "    </tr>\n",
       "    <tr>\n",
       "      <th>504485</th>\n",
       "      <td>GMB</td>\n",
       "      <td>LINESTRING (-16.69505 13.36657, -16.69382 13.3...</td>\n",
       "    </tr>\n",
       "    <tr>\n",
       "      <th>504495</th>\n",
       "      <td>GMB</td>\n",
       "      <td>LINESTRING (-16.70590 13.41176, -16.70587 13.4...</td>\n",
       "    </tr>\n",
       "  </tbody>\n",
       "</table>\n",
       "<p>13935 rows × 2 columns</p>\n",
       "</div>"
      ],
      "text/plain": [
       "       country                                           geometry\n",
       "158659     GMB  LINESTRING (-16.68202 13.41127, -16.68201 13.4...\n",
       "158664     GMB  LINESTRING (-16.68379 13.46848, -16.68323 13.4...\n",
       "158669     GMB  LINESTRING (-16.69678 13.36874, -16.69712 13.3...\n",
       "158689     GMB  LINESTRING (-16.68736 13.44269, -16.68723 13.4...\n",
       "158694     GMB  LINESTRING (-16.68226 13.39987, -16.68224 13.3...\n",
       "...        ...                                                ...\n",
       "504430     GMB  LINESTRING (-16.72385 13.40120, -16.72470 13.4...\n",
       "504460     GMB  LINESTRING (-16.69546 13.40399, -16.69566 13.4...\n",
       "504475     GMB  LINESTRING (-16.73466 13.41199, -16.73617 13.4...\n",
       "504485     GMB  LINESTRING (-16.69505 13.36657, -16.69382 13.3...\n",
       "504495     GMB  LINESTRING (-16.70590 13.41176, -16.70587 13.4...\n",
       "\n",
       "[13935 rows x 2 columns]"
      ]
     },
     "execution_count": 16,
     "metadata": {},
     "output_type": "execute_result"
    }
   ],
   "source": [
    "evento.mosaics[2].road_gdf"
   ]
  },
  {
   "cell_type": "code",
   "execution_count": null,
   "metadata": {},
   "outputs": [
    {
     "data": {
      "text/plain": [
       "((-16.70926555697382, 13.323422751465731),\n",
       " (-16.564347201396977, 13.498854689055355))"
      ]
     },
     "execution_count": 8,
     "metadata": {},
     "output_type": "execute_result"
    }
   ],
   "source": [
    "m0 = evento.mosaics[0]\n",
    "m0.bbox"
   ]
  }
 ],
 "metadata": {
  "kernelspec": {
   "display_name": "maxarSrc",
   "language": "python",
   "name": "maxarsrc"
  },
  "language_info": {
   "codemirror_mode": {
    "name": "ipython",
    "version": 3
   },
   "file_extension": ".py",
   "mimetype": "text/x-python",
   "name": "python",
   "nbconvert_exporter": "python",
   "pygments_lexer": "ipython3",
   "version": "3.10.13"
  }
 },
 "nbformat": 4,
 "nbformat_minor": 2
}

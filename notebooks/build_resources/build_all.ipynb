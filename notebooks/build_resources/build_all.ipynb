{
 "cells": [
  {
   "cell_type": "code",
   "execution_count": 8,
   "metadata": {},
   "outputs": [],
   "source": [
    "import glob\n",
    "import rasterio\n",
    "from pathlib import Path\n",
    "import os\n",
    "import reverse_geocoder as rg\n",
    "import pyproj\n",
    "import geopandas as gpd\n",
    "import sys\n",
    "from my_functions import build"
   ]
  },
  {
   "cell_type": "code",
   "execution_count": 2,
   "metadata": {},
   "outputs": [],
   "source": [
    "if Path.cwd().name != 'src':\n",
    "    os.chdir('/home/vaschetti/maxarSrc/src')"
   ]
  },
  {
   "cell_type": "code",
   "execution_count": 11,
   "metadata": {},
   "outputs": [],
   "source": [
    "events_names = build.get_all_events()"
   ]
  },
  {
   "cell_type": "code",
   "execution_count": null,
   "metadata": {},
   "outputs": [],
   "source": [
    "for e_name in events_names:\n",
    "    event = Event(e_name, when = 'pre' )\n"
   ]
  },
  {
   "cell_type": "code",
   "execution_count": 12,
   "metadata": {},
   "outputs": [],
   "source": [
    "from my_functions import build\n",
    "\n",
    "class Event:\n",
    "    def __init__(self, name,\n",
    "                 when = 'pre',\n",
    "                 maxar_root = '/mnt/data2/vaschetti_data/maxar',\n",
    "                 ):\n",
    "        \n",
    "        #Event\n",
    "        self.name = name\n",
    "        self.when = when\n",
    "        self.region_name = build.get_region_name(self.name)\n",
    "        self.bbox = build.get_event_bbox(self.name)\n",
    "\n",
    "        #Paths\n",
    "        self.maxar_root = maxar_root\n",
    "        \n",
    "        \n",
    "        #Roads\n",
    "        self.road_gdf = None\n",
    "\n",
    "        #Mosaics\n",
    "        self.mosaics = [] #TODO decidere se lista o dict\n",
    "\n",
    "        #Init mosaics\n",
    "        for m_name in build.get_mosaics_names(self.name, self.maxar_root, self.when):\n",
    "            mosaic = Mosaic(m_name)\n",
    "            mosaic.set_road_gdf()\n",
    "            self.add_mosaic(mosaic)\n",
    "        self.mosaics_name = []\n",
    "\n",
    "    def init_roads(self):\n",
    "        region_road_gdf = build.get_region_road_gdf(self.region_name)\n",
    "        self.road_gdf = build.filter_gdf_w_bbox(region_road_gdf, )\n",
    "        pass\n",
    "\n",
    "    def add_mosaic(self, mosaic):\n",
    "        self.mosaics.append(mosaic)\n",
    "\n",
    "    def remove_mosaic(self, mosaic):\n",
    "        self.mosaics.remove(mosaic)\n",
    "\n",
    "    def get_mosaics(self):\n",
    "        return self.mosaics"
   ]
  },
  {
   "cell_type": "code",
   "execution_count": 13,
   "metadata": {},
   "outputs": [],
   "source": [
    "class Mosaic:\n",
    "    def __init__(self, name):\n",
    "        self.name = name\n",
    "        self.tiles_path = []\n",
    "\n",
    "        event_road_gdf = None\n",
    "\n",
    "    def set_event_road_gdf(self, gdf):\n",
    "        self.event_road_gdf = gdf\n",
    "        \n",
    "    def add_tile(self, tile):\n",
    "        self.tiles.append(tile)\n",
    "\n",
    "    def remove_tile(self, tile):\n",
    "        self.tiles.remove(tile)\n",
    "\n",
    "    def get_tiles(self):\n",
    "        return self.tiles"
   ]
  }
 ],
 "metadata": {
  "kernelspec": {
   "display_name": "maxarSrc",
   "language": "python",
   "name": "maxarsrc"
  },
  "language_info": {
   "codemirror_mode": {
    "name": "ipython",
    "version": 3
   },
   "file_extension": ".py",
   "mimetype": "text/x-python",
   "name": "python",
   "nbconvert_exporter": "python",
   "pygments_lexer": "ipython3",
   "version": "3.10.13"
  }
 },
 "nbformat": 4,
 "nbformat_minor": 2
}

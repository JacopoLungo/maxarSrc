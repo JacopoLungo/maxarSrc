{
 "cells": [
  {
   "cell_type": "code",
   "execution_count": 1,
   "metadata": {},
   "outputs": [],
   "source": [
    "from maxarseg.samplers import samplers\n",
    "from maxarseg.geo_datasets import geoDatasets\n",
    "from torch.utils.data import DataLoader\n",
    "from torchgeo.datasets import stack_samples\n",
    "from pathlib import Path\n",
    "import os\n",
    "import numpy as np\n",
    "import matplotlib.pyplot as plt\n",
    "from maxarseg.assemble import names\n",
    "\n",
    "if Path.cwd().name != 'src':\n",
    "    os.chdir('/nfs/home/vaschetti/maxarSrc/')"
   ]
  },
  {
   "cell_type": "code",
   "execution_count": 2,
   "metadata": {},
   "outputs": [
    {
     "name": "stdout",
     "output_type": "stream",
     "text": [
      "0 BayofBengal-Cyclone-Mocha-May-23\n",
      "1 Emilia-Romagna-Italy-flooding-may23\n",
      "2 Gambia-flooding-8-11-2022\n",
      "3 Hurricane-Fiona-9-19-2022\n",
      "4 Hurricane-Ian-9-26-2022\n",
      "5 Hurricane-Idalia-Florida-Aug23\n",
      "6 India-Floods-Oct-2023\n",
      "7 Indonesia-Earthquake22\n",
      "8 Kahramanmaras-turkey-earthquake-23\n",
      "9 Kalehe-DRC-Flooding-5-8-23\n",
      "10 Libya-Floods-Sept-2023\n",
      "11 Marshall-Fire-21-Update\n",
      "12 Maui-Hawaii-fires-Aug-23\n",
      "13 Morocco-Earthquake-Sept-2023\n",
      "14 NWT-Canada-Aug-23\n",
      "15 New-Zealand-Flooding23\n",
      "16 Sudan-flooding-8-22-2022\n",
      "17 afghanistan-earthquake22\n",
      "18 cyclone-emnati22\n",
      "19 kentucky-flooding-7-29-2022\n",
      "20 pakistan-flooding22\n",
      "21 shovi-georgia-landslide-8Aug23\n",
      "22 southafrica-flooding22\n",
      "23 tonga-volcano21\n",
      "24 yellowstone-flooding22\n"
     ]
    }
   ],
   "source": [
    "events_names = names.get_all_events()\n",
    "for i, e_n in enumerate(events_names):\n",
    "    print(i, e_n)"
   ]
  },
  {
   "cell_type": "code",
   "execution_count": 3,
   "metadata": {},
   "outputs": [
    {
     "name": "stdout",
     "output_type": "stream",
     "text": [
      "Creating event: Gambia-flooding-8-11-2022\n",
      "Region: AfricaWest-Full\n",
      "Mosaics: ['105001002BD68F00', '10300100CFC9A500', '1040010073D77D00']\n",
      "AfricaWest-Full\n",
      "['105001002BD68F00', '10300100CFC9A500', '1040010073D77D00']\n",
      "Number of tiles: 10\n"
     ]
    }
   ],
   "source": [
    "from maxarseg.assemble import holders\n",
    "\n",
    "event = holders.Event(events_names[2],\n",
    "                    seg_config = None,\n",
    "                    det_config = None,\n",
    "                    when='pre')\n",
    "print(event.region_name)\n",
    "\n",
    "all_mosaics_names = event.all_mosaics_names\n",
    "print(all_mosaics_names)\n",
    "\n",
    "m0 = event.mosaics[all_mosaics_names[2]]\n",
    "print(f'Number of tiles: {m0.tiles_num}')"
   ]
  },
  {
   "cell_type": "code",
   "execution_count": 4,
   "metadata": {},
   "outputs": [
    {
     "name": "stdout",
     "output_type": "stream",
     "text": [
      "\n",
      "Buildings: found 3 links matching: [33303200, 3330320, 333032]\n"
     ]
    }
   ],
   "source": [
    "m0.set_build_gdf()"
   ]
  },
  {
   "cell_type": "code",
   "execution_count": 5,
   "metadata": {},
   "outputs": [
    {
     "name": "stdout",
     "output_type": "stream",
     "text": [
      "- Efficient SAM device: cpu\n"
     ]
    }
   ],
   "source": [
    "from maxarseg.configs import SegmentConfig, DetectConfig\n",
    "seg_config = SegmentConfig(batch_size = 1,\n",
    "                        device='cpu',\n",
    "                        size = 1024,\n",
    "                        stride = 1024,\n",
    "                        use_separate_detect_config = True,\n",
    "                        clean_masks_bool=True,\n",
    "                        ESAM_root='/nfs/home/vaschetti/maxarSrc/models/EfficientSAM'\n",
    "                        )\n",
    "\n",
    "det_config = DetectConfig(DF_batch_size = 1,\n",
    "                        GD_batch_size= 1,\n",
    "                        device='cpu',\n",
    "                        size = 600,\n",
    "                        stride = 600,\n",
    "                        TEXT_PROMPT='bush',\n",
    "                        BOX_THRESHOLD = 0.12,\n",
    "                        DF_patch_size = 400,\n",
    "                        DF_patch_overlap = 0.25,\n",
    "                        min_ratio_GD_boxes_edges=0.5,\n",
    "                        max_area_GD_boxes_mt2 = 6000,\n",
    "                        nms_threshold=0.2\n",
    "                        )"
   ]
  },
  {
   "cell_type": "code",
   "execution_count": 6,
   "metadata": {},
   "outputs": [
    {
     "data": {
      "text/plain": [
       "PosixPath('/nfs/projects/overwatch/maxar-segmentation/maxar-open-data/Gambia-flooding-8-11-2022/pre/1040010073D77D00/033133031233.tif')"
      ]
     },
     "execution_count": 6,
     "metadata": {},
     "output_type": "execute_result"
    }
   ],
   "source": [
    "tile_path = m0.tiles_paths[1]\n",
    "tile_path"
   ]
  },
  {
   "cell_type": "code",
   "execution_count": 7,
   "metadata": {},
   "outputs": [],
   "source": [
    "tile_path = m0.tiles_paths[1]\n",
    "\n",
    "dataset = geoDatasets.MxrSingleTileNoEmpty(str(tile_path))\n",
    "sampler = samplers.BatchGridGeoSampler(dataset = dataset,\n",
    "                                    batch_size=seg_config.batch_size,\n",
    "                                    size=seg_config.size,\n",
    "                                    stride=seg_config.stride)\n",
    "\n",
    "dataloader = DataLoader(dataset , batch_sampler=sampler, collate_fn=stack_samples)"
   ]
  },
  {
   "cell_type": "code",
   "execution_count": 8,
   "metadata": {},
   "outputs": [],
   "source": [
    "iterabile = iter(dataloader)"
   ]
  },
  {
   "cell_type": "code",
   "execution_count": 11,
   "metadata": {},
   "outputs": [],
   "source": [
    "from maxarseg.detect import detect\n",
    "\n",
    "batch = next(iterabile)\n",
    "sample_bbox = batch['bbox'][0]"
   ]
  },
  {
   "cell_type": "code",
   "execution_count": 12,
   "metadata": {},
   "outputs": [
    {
     "data": {
      "text/plain": [
       "BoundingBox(minx=315156.25, maxx=315468.75, miny=1479843.75, maxy=1480156.25, mint=0.0, maxt=9.223372036854776e+18)"
      ]
     },
     "execution_count": 12,
     "metadata": {},
     "output_type": "execute_result"
    }
   ],
   "source": [
    "sample_bbox"
   ]
  },
  {
   "cell_type": "code",
   "execution_count": 13,
   "metadata": {},
   "outputs": [
    {
     "data": {
      "text/plain": [
       "tensor([[ 893.5878, 1021.0492,  940.8184, 1049.4922],\n",
       "        [ 978.2892, 1013.2503, 1026.8911, 1043.5901],\n",
       "        [ 895.2476,  984.5605,  940.4967, 1012.3614],\n",
       "        [ 972.3121,  976.4455, 1022.8850, 1004.2693],\n",
       "        [ 724.8817,  951.6296,  744.8765,  980.4776],\n",
       "        [ 890.7768,  951.8585,  927.8968,  978.8636],\n",
       "        [ 811.3453,  941.8502,  833.3995,  980.7298],\n",
       "        [ 969.2638,  944.4745, 1017.7019,  972.5246],\n",
       "        [ 938.3969,  938.9522,  956.3329,  976.1934],\n",
       "        [ 986.2111,  904.4778, 1025.9043,  928.3371],\n",
       "        [ 898.1642,  877.8641,  936.4798,  941.8895],\n",
       "        [ 977.5417,  867.3012, 1029.6370,  893.0204],\n",
       "        [ 879.4077,  814.8986,  904.4850,  855.3654],\n",
       "        [ 918.9288,  812.2683,  944.0648,  853.6785],\n",
       "        [ 960.1137,  810.3887,  983.8024,  851.5134],\n",
       "        [ 998.7913,  805.9923, 1028.3145,  842.0572],\n",
       "        [ 892.8147,  727.7225,  940.3717,  754.1353],\n",
       "        [ 999.7088,  844.9842, 1032.2734,  860.2735],\n",
       "        [1007.0009,  714.1950, 1029.7276,  743.1936],\n",
       "        [ 967.6377,  715.1200,  989.8594,  744.3957],\n",
       "        [ 942.5298,  714.8778,  954.9590,  736.4137],\n",
       "        [ 891.1513,  682.0432,  936.8474,  709.6741],\n",
       "        [ 979.7745,  665.3089, 1024.6813,  694.5670],\n",
       "        [ 958.4040,  666.1319,  974.2675,  687.8446],\n",
       "        [ 737.1399,  632.7758,  796.3433,  669.2493],\n",
       "        [ 890.1138,  633.9300,  936.8592,  660.6538],\n",
       "        [ 981.4208,  617.1318, 1028.6150,  657.8025],\n",
       "        [ 731.0887,  607.9838,  772.3694,  629.2224],\n",
       "        [ 898.0373,  583.8041,  943.1955,  609.6109],\n",
       "        [ 746.8332,  574.9959,  816.4130,  606.3035],\n",
       "        [ 982.1947,  568.9342, 1025.9537,  597.4389],\n",
       "        [ 898.9787,  535.5773,  945.1250,  564.2460],\n",
       "        [ 982.6631,  520.6182, 1029.4621,  559.6593],\n",
       "        [ 943.5293,  518.8074,  961.5980,  534.6208],\n",
       "        [ 890.5400,  518.2399,  906.0659,  533.6695],\n",
       "        [ 901.0425,  489.3727,  948.2466,  516.8574],\n",
       "        [ 978.5721,  474.9087, 1028.8242,  502.8446],\n",
       "        [ 900.5833,  452.9053,  948.0497,  480.1090],\n",
       "        [ 757.7230,  439.9073,  811.0706,  475.7671],\n",
       "        [ 688.0742,  431.5272,  745.8228,  473.0787],\n",
       "        [ 985.6899,  425.6704, 1034.9594,  465.0530],\n",
       "        [ 897.5073,  417.7931,  946.8680,  450.7461],\n",
       "        [ 983.5636,  377.8414, 1034.8941,  404.9981],\n",
       "        [ 896.9079,  370.4468,  942.5711,  402.5390],\n",
       "        [ 883.0810,  352.9427,  911.8758,  367.6085],\n",
       "        [ 981.3360,  317.8230, 1034.7385,  354.3992],\n",
       "        [ 898.8973,  308.2342,  946.9115,  336.3919],\n",
       "        [ 689.2495,  252.4278,  698.8802,  268.5747],\n",
       "        [ 843.8668,  135.3022,  919.1123,  183.2598],\n",
       "        [ 933.2590,   79.6191,  955.6377,   94.1312],\n",
       "        [ 870.8089,   62.6232,  929.6530,   92.1832]], dtype=torch.float64)"
      ]
     },
     "execution_count": 13,
     "metadata": {},
     "output_type": "execute_result"
    }
   ],
   "source": [
    "detect.evit_get_batch_box_prompt(sample_bbox, m0.proj_build_gdf, dataset.res)"
   ]
  },
  {
   "cell_type": "code",
   "execution_count": 32,
   "metadata": {},
   "outputs": [
    {
     "data": {
      "text/plain": [
       "'105001002BD68F00'"
      ]
     },
     "execution_count": 32,
     "metadata": {},
     "output_type": "execute_result"
    }
   ],
   "source": [
    "m0.name"
   ]
  }
 ],
 "metadata": {
  "kernelspec": {
   "display_name": ".venv",
   "language": "python",
   "name": "python3"
  },
  "language_info": {
   "codemirror_mode": {
    "name": "ipython",
    "version": 3
   },
   "file_extension": ".py",
   "mimetype": "text/x-python",
   "name": "python",
   "nbconvert_exporter": "python",
   "pygments_lexer": "ipython3",
   "version": "3.10.14"
  }
 },
 "nbformat": 4,
 "nbformat_minor": 2
}

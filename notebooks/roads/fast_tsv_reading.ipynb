{
 "cells": [
  {
   "cell_type": "code",
   "execution_count": 1,
   "metadata": {},
   "outputs": [],
   "source": [
    "from pathlib import Path\n",
    "import pandas as pd\n",
    "import time\n",
    "import geopandas as gpd\n",
    "from shapely import geometry\n",
    "import dask.dataframe as dd\n",
    "from dask import delayed\n",
    "import swifter\n",
    "import json\n",
    "import msgspec"
   ]
  },
  {
   "cell_type": "code",
   "execution_count": 2,
   "metadata": {},
   "outputs": [],
   "source": [
    "whole_path = Path('/nfs/projects/overwatch/maxar-segmentation/microsoft-roads/AfricaWest-Full.tsv')"
   ]
  },
  {
   "cell_type": "code",
   "execution_count": 81,
   "metadata": {},
   "outputs": [
    {
     "name": "stdout",
     "output_type": "stream",
     "text": [
      "json load: 0.0014243125915527344, shape: 0.0004885196685791016\n"
     ]
    }
   ],
   "source": [
    "t0 = time.time()\n",
    "step1 = json.loads(region_road_df['geometry'].iloc[0])['geometry']\n",
    "t1 = time.time()\n",
    "res = geometry.shape(step1)\n",
    "t2 = time.time()\n",
    "print(f'json load: {t1 - t0}, shape: {t2 - t1}')\n",
    "\n"
   ]
  },
  {
   "cell_type": "code",
   "execution_count": 90,
   "metadata": {},
   "outputs": [
    {
     "name": "stdout",
     "output_type": "stream",
     "text": [
      "json load: 0.0003714561462402344, shape: 0.0017671585083007812\n"
     ]
    }
   ],
   "source": [
    "import msgspec\n",
    "t0 = time.time()\n",
    "step1 = msgspec.json.decode(region_road_df['geometry'].iloc[0])['geometry']\n",
    "t1 = time.time()\n",
    "res = geometry.shape(step1)\n",
    "t2 = time.time()\n",
    "print(f'json load: {t1 - t0}, shape: {t2 - t1}')"
   ]
  },
  {
   "cell_type": "code",
   "execution_count": 6,
   "metadata": {},
   "outputs": [
    {
     "name": "stdout",
     "output_type": "stream",
     "text": [
      "pd.read_csv time: 9.33686375617981\n",
      "apply time: 65.0588927268982\n",
      "GeoDataFrame time: 10.049694538116455\n",
      "Total time: 84.44595956802368\n"
     ]
    }
   ],
   "source": [
    "start_t = time.time()\n",
    "t0_i= time.time()\n",
    "region_road_df = pd.read_csv(whole_path, names =['country', 'geometry'], sep='\\t')\n",
    "t0_f = time.time()\n",
    "print(f'pd.read_csv time: {t0_f - t0_i}')\n",
    "t1_i = time.time()\n",
    "region_road_df['geometry'] = region_road_df['geometry'].apply(custom_json_loads)\n",
    "t1_f = time.time()\n",
    "print(f'apply time: {t1_f - t1_i}')\n",
    "t2_i = time.time()\n",
    "region_road_gdf = gpd.GeoDataFrame(region_road_df, crs=4326)\n",
    "t2_f = time.time()\n",
    "print(f'GeoDataFrame time: {t2_f - t2_i}')\n",
    "end_t = time.time()\n",
    "print(f'Total time: {end_t - start_t}')\n"
   ]
  },
  {
   "cell_type": "markdown",
   "metadata": {},
   "source": [
    "# BEST CHECK IF SAME RESULTS"
   ]
  },
  {
   "cell_type": "code",
   "execution_count": 5,
   "metadata": {},
   "outputs": [],
   "source": [
    "import ujson\n",
    "def custom_json_loads(s):\n",
    "    try:\n",
    "        return geometry.shape(ujson.loads(s)['geometry'])\n",
    "    except:\n",
    "        return geometry.LineString()"
   ]
  },
  {
   "cell_type": "code",
   "execution_count": 8,
   "metadata": {},
   "outputs": [
    {
     "name": "stdout",
     "output_type": "stream",
     "text": [
      "pd.read_csv time: 38.029499530792236\n",
      "GeoDataFrame time: 9.052536487579346\n",
      "Total time: 47.082475900650024\n"
     ]
    }
   ],
   "source": [
    "start_t = time.time()\n",
    "t0_i= time.time()\n",
    "region_road_df = pd.read_csv(whole_path, names =['geometry'], sep='\\t', usecols=['geometry'], converters={'geometry': custom_json_loads})\n",
    "t0_f = time.time()\n",
    "print(f'pd.read_csv time: {t0_f - t0_i}')\n",
    "t2_i = time.time()\n",
    "region_road_gdf = gpd.GeoDataFrame(region_road_df, crs=4326)\n",
    "t2_f = time.time()\n",
    "print(f'GeoDataFrame time: {t2_f - t2_i}')\n",
    "end_t = time.time()\n",
    "print(f'Total time: {end_t - start_t}')"
   ]
  },
  {
   "cell_type": "code",
   "execution_count": 22,
   "metadata": {},
   "outputs": [
    {
     "name": "stdout",
     "output_type": "stream",
     "text": [
      "pd.read_csv time: 8.837228059768677\n"
     ]
    },
    {
     "data": {
      "application/vnd.jupyter.widget-view+json": {
       "model_id": "1cb36f649e2f4fdcaeb46c527615f832",
       "version_major": 2,
       "version_minor": 0
      },
      "text/plain": [
       "Pandas Apply:   0%|          | 0/4438294 [00:00<?, ?it/s]"
      ]
     },
     "metadata": {},
     "output_type": "display_data"
    },
    {
     "name": "stdout",
     "output_type": "stream",
     "text": [
      "apply time: 37.68620038032532\n",
      "GeoDataFrame time: 9.239280462265015\n",
      "Total time: 55.76539921760559\n"
     ]
    }
   ],
   "source": [
    "start_t = time.time()\n",
    "t0_i= time.time()\n",
    "region_road_df = pd.read_csv(whole_path, names =['country', 'geometry'], sep='\\t')\n",
    "t0_f = time.time()\n",
    "print(f'pd.read_csv time: {t0_f - t0_i}')\n",
    "t1_i = time.time()\n",
    "region_road_df['geometry'] = region_road_df['geometry'].swifter.apply(custom_json_loads)\n",
    "t1_f = time.time()\n",
    "print(f'apply time: {t1_f - t1_i}')\n",
    "t2_i = time.time()\n",
    "region_road_gdf = gpd.GeoDataFrame(region_road_df, crs=4326)\n",
    "t2_f = time.time()\n",
    "print(f'GeoDataFrame time: {t2_f - t2_i}')\n",
    "end_t = time.time()\n",
    "print(f'Total time: {end_t - start_t}')"
   ]
  },
  {
   "cell_type": "code",
   "execution_count": null,
   "metadata": {},
   "outputs": [],
   "source": [
    "start_t = time.time()\n",
    "chunksieze = 100_000\n",
    "region_road_df = pd.read_csv(whole_path, names = ['country', 'geometry'], sep='\\t', converters={'geometry': custom_json_loads} )\n",
    "#region_road_df['geometry'] = region_road_df['geometry'].apply(custom_json_loads)\n",
    "region_road_gdf = gpd.GeoDataFrame(region_road_df, crs=4326)\n",
    "end_t = time.time()\n",
    "print(f'Loading time: {end_t - start_t}')"
   ]
  },
  {
   "cell_type": "markdown",
   "metadata": {},
   "source": [
    "Using chunks"
   ]
  },
  {
   "cell_type": "code",
   "execution_count": 12,
   "metadata": {},
   "outputs": [
    {
     "name": "stdout",
     "output_type": "stream",
     "text": [
      "Loading time: 52.00859093666077\n"
     ]
    }
   ],
   "source": [
    "start_t = time.time()\n",
    "chunk_size = 1000  # Adjust the chunk size based on available memory\n",
    "chunks = []\n",
    "for chunk in pd.read_csv(whole_path, names=['country', 'geometry'], sep='\\t', usecols=[0, 1], dtype={'country': str, 'geometry': str}, chunksize=chunk_size):\n",
    "    chunk['geometry'] = chunk['geometry'].apply(custom_json_loads)\n",
    "    chunks.append(chunk)\n",
    "fast_region_road_df = pd.concat(chunks, ignore_index=True)\n",
    "fast_region_road_gdf = gpd.GeoDataFrame(region_road_df, crs=4326)\n",
    "end_t = time.time()\n",
    "print(f'Loading time: {end_t - start_t}')"
   ]
  },
  {
   "cell_type": "markdown",
   "metadata": {},
   "source": [
    "Using Converter"
   ]
  },
  {
   "cell_type": "code",
   "execution_count": 16,
   "metadata": {},
   "outputs": [
    {
     "name": "stdout",
     "output_type": "stream",
     "text": [
      "Loading time: 44.09066653251648\n"
     ]
    }
   ],
   "source": [
    "start_t = time.time()\n",
    "chunk_size = 10000  # Adjust the chunk size based on available memory\n",
    "chunks = []\n",
    "for chunk in pd.read_csv(whole_path, names=['country', 'geometry'], sep='\\t', usecols=[0, 1], dtype={'country': str}, converters={'geometry': custom_json_loads}, chunksize=chunk_size):\n",
    "    chunks.append(chunk)\n",
    "fast_region_road_df = pd.concat(chunks, ignore_index=True)\n",
    "fast_region_road_gdf = gpd.GeoDataFrame(fast_region_road_df, crs=4326)\n",
    "end_t = time.time()\n",
    "print(f'Loading time: {end_t - start_t}')"
   ]
  }
 ],
 "metadata": {
  "kernelspec": {
   "display_name": ".venv",
   "language": "python",
   "name": "python3"
  },
  "language_info": {
   "codemirror_mode": {
    "name": "ipython",
    "version": 3
   },
   "file_extension": ".py",
   "mimetype": "text/x-python",
   "name": "python",
   "nbconvert_exporter": "python",
   "pygments_lexer": "ipython3",
   "version": "3.10.14"
  }
 },
 "nbformat": 4,
 "nbformat_minor": 2
}

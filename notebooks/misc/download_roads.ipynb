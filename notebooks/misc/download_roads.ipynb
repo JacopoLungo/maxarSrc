{
 "cells": [
  {
   "cell_type": "code",
   "execution_count": 26,
   "metadata": {},
   "outputs": [],
   "source": [
    "import pandas as pd\n",
    "import os\n",
    "import requests\n",
    "import zipfile\n",
    "import io\n",
    "from pathlib import Path"
   ]
  },
  {
   "cell_type": "code",
   "execution_count": 40,
   "metadata": {},
   "outputs": [
    {
     "name": "stdout",
     "output_type": "stream",
     "text": [
      "USA.tsv\n",
      "SouthAmerica-Full.tsv\n",
      "CaribbeanIslands-Full.tsv\n",
      "MiddleEast-Full.tsv\n",
      "AsiaCenter-Full.tsv\n",
      "AfricaNorth-Full.tsv\n",
      "AfricaWest-Full.tsv\n",
      "AfricaCenter-Full.tsv\n",
      "AfricaEast-Full.tsv\n",
      "AfricaSouth-Full.tsv\n",
      "Europe-Full.tsv\n",
      "Oceania-Full.tsv\n",
      "AmericaCenter-Full.tsv\n",
      "Canada-Full.tsv\n",
      "AsiaSouth-Full.tsv\n",
      "AsiaSouthEast-Full.tsv\n",
      "AsiaNorth-Full.tsv\n",
      "Japan-Full.tsv\n"
     ]
    }
   ],
   "source": [
    "meta_root = Path('./metadata')\n",
    "road_links_df = pd.read_csv( meta_root / 'roads_links.csv')\n",
    "output_folder = Path('/nfs/projects/overwatch/microsoft-roads')\n",
    "\n",
    "for i, row in road_links_df.iterrows(): \n",
    "    url = row['link']\n",
    "    filename = url.split(\"/\")[-1].replace(\"zip\", \"tsv\")\n",
    "    print(filename)\n",
    "    if not os.path.exists(output_folder / filename):\n",
    "        response = requests.get(url)\n",
    "        zip_file = zipfile.ZipFile(io.BytesIO(response.content))\n",
    "        zip_file.extractall(path=output_folder)"
   ]
  }
 ],
 "metadata": {
  "kernelspec": {
   "display_name": "maxarSrc",
   "language": "python",
   "name": "maxarsrc"
  },
  "language_info": {
   "codemirror_mode": {
    "name": "ipython",
    "version": 3
   },
   "file_extension": ".py",
   "mimetype": "text/x-python",
   "name": "python",
   "nbconvert_exporter": "python",
   "pygments_lexer": "ipython3",
   "version": "3.10.13"
  }
 },
 "nbformat": 4,
 "nbformat_minor": 2
}

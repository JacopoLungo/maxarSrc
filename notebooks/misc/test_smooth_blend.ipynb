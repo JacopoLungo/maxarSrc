{
 "cells": [
  {
   "cell_type": "code",
   "execution_count": 1,
   "metadata": {},
   "outputs": [],
   "source": [
    "import numpy as np"
   ]
  },
  {
   "cell_type": "code",
   "execution_count": 2,
   "metadata": {},
   "outputs": [],
   "source": [
    "import scipy\n",
    "import torch\n",
    "\n",
    "def _spline_window(window_size: int, power: int = 2) -> np.ndarray:\n",
    "    \"\"\"Generates a 1-dimensional spline of order 'power' (typically 2), in the designated\n",
    "    window.\n",
    "    https://www.wolframalpha.com/input/?i=y%3Dx**2,+y%3D-(x-2)**2+%2B2,+y%3D(x-4)**2,+from+y+%3D+0+to+2\n",
    "\n",
    "    Args:\n",
    "        window_size (int): size of the interested window\n",
    "        power (int, optional): Order of the spline. Defaults to 2.\n",
    "\n",
    "    Returns:\n",
    "        np.ndarray: 1D spline\n",
    "    \"\"\"\n",
    "    intersection = int(window_size / 4)\n",
    "    wind_outer = (abs(2 * (scipy.signal.windows.triang(window_size))) ** power) / 2\n",
    "    wind_outer[intersection:-intersection] = 0\n",
    "\n",
    "    wind_inner = 1 - (abs(2 * (scipy.signal.windows.triang(window_size) - 1)) ** power) / 2\n",
    "    wind_inner[:intersection] = 0\n",
    "    wind_inner[-intersection:] = 0\n",
    "\n",
    "    wind = wind_inner + wind_outer\n",
    "    wind = wind / np.average(wind)\n",
    "    return wind\n",
    "\n",
    "def _spline_2d(window_size: int, power: int = 2) -> torch.Tensor:\n",
    "    \"\"\"Makes a 1D window spline function, then combines it to return a 2D window function.\n",
    "    The 2D window is useful to smoothly interpolate between patches.\n",
    "\n",
    "    Args:\n",
    "        window_size (int): size of the window (patch)\n",
    "        power (int, optional): Which order for the spline. Defaults to 2.\n",
    "\n",
    "    Returns:\n",
    "        np.ndarray: numpy array containing a 2D spline function\n",
    "    \"\"\"\n",
    "    # Memorization to avoid remaking it for every call\n",
    "    # since the same window is needed multiple times\n",
    "    \n",
    "    wind = _spline_window(window_size, power)\n",
    "    wind = np.expand_dims(np.expand_dims(wind, 1), 1)  # SREENI: Changed from 3, 3, to 1, 1\n",
    "    wind = torch.from_numpy(wind * wind.transpose(1, 0, 2))\n",
    "    return wind"
   ]
  },
  {
   "cell_type": "code",
   "execution_count": 3,
   "metadata": {},
   "outputs": [
    {
     "data": {
      "text/plain": [
       "array([[0., 0., 0., 0., 0., 0., 0., 0.],\n",
       "       [0., 0., 0., 0., 0., 0., 0., 0.],\n",
       "       [0., 0., 0., 0., 0., 0., 0., 0.],\n",
       "       [0., 0., 0., 0., 0., 0., 0., 0.],\n",
       "       [0., 0., 0., 0., 0., 0., 0., 0.],\n",
       "       [0., 0., 0., 0., 0., 0., 0., 0.],\n",
       "       [0., 0., 0., 0., 0., 0., 0., 0.],\n",
       "       [0., 0., 0., 0., 0., 0., 0., 0.]])"
      ]
     },
     "execution_count": 3,
     "metadata": {},
     "output_type": "execute_result"
    }
   ],
   "source": [
    "canvas = np.full((8, 8), 0, dtype=float)\n",
    "\n",
    "p1 = np.full((4,4), 2, dtype=float)\n",
    "p1_top_left = (0, 0)\n",
    "\n",
    "p2 = np.full((4,4), 4, dtype=float)\n",
    "p2_top_left = (0, 2)\n",
    "\n",
    "canvas"
   ]
  },
  {
   "cell_type": "code",
   "execution_count": 4,
   "metadata": {},
   "outputs": [],
   "source": [
    "def get_I(patch_top_left: tuple, patch_shape: tuple):\n",
    "    row, col = patch_top_left\n",
    "    h, w = patch_shape\n",
    "    I = np.s_[row : row+h, col : col+w]\n",
    "    return I\n",
    "\n",
    "def is_overlap(canvas, I, def_val = -100):\n",
    "    is_overlap = canvas[I] != def_val\n",
    "    return is_overlap\n",
    "\n",
    "def add_patch(canvas, patch, patch_top_left, mode: str):\n",
    "    I = get_I(patch_top_left, patch.shape)\n",
    "    ov = is_overlap(canvas, I) # bool mask\n",
    "    if mode == 'plain_avg':\n",
    "        canvas[I] = np.where(ov, (patch + canvas[I])/2, patch)\n",
    "    elif mode == 'max':\n",
    "        canvas[I] = np.where(ov, np.max(patch + canvas[I]), patch)\n",
    "    elif mode == 'smooth':\n",
    "        spline = _spline_2d(window_size = patch.shape[0], power = 2).squeeze(-1)\n",
    "        canvas[I] += (patch * spline.numpy())\n",
    "        #canvas[I] = np.where(ov, (patch + canvas[I]) / 2, patch)\n",
    "    return canvas"
   ]
  },
  {
   "cell_type": "code",
   "execution_count": 5,
   "metadata": {},
   "outputs": [
    {
     "data": {
      "text/plain": [
       "array([[1., 1., 1., 1., 0., 0., 0., 0.],\n",
       "       [1., 1., 1., 1., 0., 0., 0., 0.],\n",
       "       [1., 1., 1., 1., 0., 0., 0., 0.],\n",
       "       [1., 1., 1., 1., 0., 0., 0., 0.],\n",
       "       [0., 0., 0., 0., 0., 0., 0., 0.],\n",
       "       [0., 0., 0., 0., 0., 0., 0., 0.],\n",
       "       [0., 0., 0., 0., 0., 0., 0., 0.],\n",
       "       [0., 0., 0., 0., 0., 0., 0., 0.]])"
      ]
     },
     "execution_count": 5,
     "metadata": {},
     "output_type": "execute_result"
    }
   ],
   "source": [
    "add_patch(canvas, p1, p1_top_left, mode='plain_avg')"
   ]
  },
  {
   "cell_type": "code",
   "execution_count": 6,
   "metadata": {},
   "outputs": [
    {
     "data": {
      "text/plain": [
       "array([[1. , 1. , 2.5, 2.5, 2. , 2. , 0. , 0. ],\n",
       "       [1. , 1. , 2.5, 2.5, 2. , 2. , 0. , 0. ],\n",
       "       [1. , 1. , 2.5, 2.5, 2. , 2. , 0. , 0. ],\n",
       "       [1. , 1. , 2.5, 2.5, 2. , 2. , 0. , 0. ],\n",
       "       [0. , 0. , 0. , 0. , 0. , 0. , 0. , 0. ],\n",
       "       [0. , 0. , 0. , 0. , 0. , 0. , 0. , 0. ],\n",
       "       [0. , 0. , 0. , 0. , 0. , 0. , 0. , 0. ],\n",
       "       [0. , 0. , 0. , 0. , 0. , 0. , 0. , 0. ]])"
      ]
     },
     "execution_count": 6,
     "metadata": {},
     "output_type": "execute_result"
    }
   ],
   "source": [
    "add_patch(canvas, p2, p2_top_left, mode='plain_avg')"
   ]
  },
  {
   "cell_type": "code",
   "execution_count": 6,
   "metadata": {},
   "outputs": [
    {
     "name": "stdout",
     "output_type": "stream",
     "text": [
      "canvas\n",
      " [[ 7.  7.  7.  7. -1. -1. -1. -1.]\n",
      " [ 7.  7.  7.  7. -1. -1. -1. -1.]\n",
      " [ 7.  7.  7.  7. -1. -1. -1. -1.]\n",
      " [ 7.  7.  7.  7. -1. -1. -1. -1.]\n",
      " [-1. -1. -1. -1. -1. -1. -1. -1.]\n",
      " [-1. -1. -1. -1. -1. -1. -1. -1.]\n",
      " [-1. -1. -1. -1. -1. -1. -1. -1.]\n",
      " [-1. -1. -1. -1. -1. -1. -1. -1.]]\n",
      "p2\n",
      " [[2 2 2 2]\n",
      " [2 2 2 2]\n",
      " [2 2 2 2]\n",
      " [2 2 2 2]]\n",
      "canvas[I]\n",
      " [[ 7.  7. -1. -1.]\n",
      " [ 7.  7. -1. -1.]\n",
      " [ 7.  7. -1. -1.]\n",
      " [ 7.  7. -1. -1.]]\n",
      "avg\n",
      "[[4.5 4.5 0.5 0.5]\n",
      " [4.5 4.5 0.5 0.5]\n",
      " [4.5 4.5 0.5 0.5]\n",
      " [4.5 4.5 0.5 0.5]]\n",
      "canvas\n",
      " [[ 7.   7.   4.5  4.5  2.   2.  -1.  -1. ]\n",
      " [ 7.   7.   4.5  4.5  2.   2.  -1.  -1. ]\n",
      " [ 7.   7.   4.5  4.5  2.   2.  -1.  -1. ]\n",
      " [ 7.   7.   4.5  4.5  2.   2.  -1.  -1. ]\n",
      " [-1.  -1.  -1.  -1.  -1.  -1.  -1.  -1. ]\n",
      " [-1.  -1.  -1.  -1.  -1.  -1.  -1.  -1. ]\n",
      " [-1.  -1.  -1.  -1.  -1.  -1.  -1.  -1. ]\n",
      " [-1.  -1.  -1.  -1.  -1.  -1.  -1.  -1. ]]\n"
     ]
    }
   ],
   "source": [
    "print('canvas\\n', canvas)\n",
    "I = np.s_[0 : 0+h, 2 : 2+w]\n",
    "p2 = np.full((4, 4), 2)\n",
    "ov = is_overlap(canvas, I) #4,4 bool mask\n",
    "print('p2\\n', p2)\n",
    "print('canvas[I]\\n', canvas[I])\n",
    "print('avg')\n",
    "print((p2 + canvas[I])/2)\n",
    "canvas[I] = np.where(ov, (p2 + canvas[I])/2, p2)\n",
    "#print('res', res)\n",
    "#np.where(ov, p1[is_overlap(canvas, I)] + canvas[I][is_overlap(canvas, I)] , p1)\n",
    "print('canvas\\n', canvas)"
   ]
  },
  {
   "cell_type": "code",
   "execution_count": 11,
   "metadata": {},
   "outputs": [
    {
     "data": {
      "text/plain": [
       "array([[1., 1., 2., 2., 2., 2., 0., 0.],\n",
       "       [1., 1., 2., 2., 2., 2., 0., 0.],\n",
       "       [1., 1., 2., 2., 2., 2., 0., 0.],\n",
       "       [1., 1., 2., 2., 2., 2., 0., 0.],\n",
       "       [0., 0., 0., 0., 0., 0., 0., 0.],\n",
       "       [0., 0., 0., 0., 0., 0., 0., 0.],\n",
       "       [0., 0., 0., 0., 0., 0., 0., 0.],\n",
       "       [0., 0., 0., 0., 0., 0., 0., 0.]])"
      ]
     },
     "execution_count": 11,
     "metadata": {},
     "output_type": "execute_result"
    }
   ],
   "source": [
    "p2 = np.full((4, 4), 2)\n",
    "I = np._s[0 : 0+h, 2 : 2+w]\n",
    "canvas[I] = p2\n",
    "canvas"
   ]
  },
  {
   "cell_type": "code",
   "execution_count": 18,
   "metadata": {},
   "outputs": [
    {
     "name": "stderr",
     "output_type": "stream",
     "text": [
      "/tmp/ipykernel_17127/3926806145.py:17: DeprecationWarning: Importing triang from 'scipy.signal' is deprecated since SciPy 1.1.0 and will raise an error in SciPy 1.13.0. Please use 'scipy.signal.windows.triang' or the convenience function 'scipy.signal.get_window' instead.\n",
      "  wind_outer = (abs(2 * (scipy.signal.triang(window_size))) ** power) / 2\n",
      "/tmp/ipykernel_17127/3926806145.py:20: DeprecationWarning: Importing triang from 'scipy.signal' is deprecated since SciPy 1.1.0 and will raise an error in SciPy 1.13.0. Please use 'scipy.signal.windows.triang' or the convenience function 'scipy.signal.get_window' instead.\n",
      "  wind_inner = 1 - (abs(2 * (scipy.signal.triang(window_size) - 1)) ** power) / 2\n"
     ]
    }
   ],
   "source": [
    "spli = _spline_2d(4, power = 2)"
   ]
  },
  {
   "cell_type": "code",
   "execution_count": 20,
   "metadata": {},
   "outputs": [
    {
     "data": {
      "text/plain": [
       "tensor([[0.0156, 0.2344, 0.2344, 0.0156],\n",
       "        [0.2344, 3.5156, 3.5156, 0.2344],\n",
       "        [0.2344, 3.5156, 3.5156, 0.2344],\n",
       "        [0.0156, 0.2344, 0.2344, 0.0156]], dtype=torch.float64)"
      ]
     },
     "execution_count": 20,
     "metadata": {},
     "output_type": "execute_result"
    }
   ],
   "source": [
    "spli[:, :, 0]"
   ]
  },
  {
   "cell_type": "code",
   "execution_count": 19,
   "metadata": {},
   "outputs": [
    {
     "data": {
      "image/png": "[encoded data removed]",
      "text/plain": [
       "<Figure size 640x480 with 2 Axes>"
      ]
     },
     "metadata": {},
     "output_type": "display_data"
    }
   ],
   "source": [
    "import numpy as np\n",
    "import matplotlib.pyplot as plt\n",
    "\n",
    "plt.imshow(spli[:, :, 0], cmap='viridis')\n",
    "plt.colorbar()\n",
    "plt.show()"
   ]
  },
  {
   "cell_type": "code",
   "execution_count": 15,
   "metadata": {},
   "outputs": [
    {
     "data": {
      "image/png": "[encoded data removed]",
      "text/plain": [
       "<Figure size 640x480 with 2 Axes>"
      ]
     },
     "metadata": {},
     "output_type": "display_data"
    }
   ],
   "source": [
    "plt.imshow(spli[:, :, 0], cmap='viridis')\n",
    "plt.colorbar()\n",
    "plt.show()"
   ]
  }
 ],
 "metadata": {
  "kernelspec": {
   "display_name": ".venv",
   "language": "python",
   "name": "python3"
  },
  "language_info": {
   "codemirror_mode": {
    "name": "ipython",
    "version": 3
   },
   "file_extension": ".py",
   "mimetype": "text/x-python",
   "name": "python",
   "nbconvert_exporter": "python",
   "pygments_lexer": "ipython3",
   "version": "3.10.13"
  }
 },
 "nbformat": 4,
 "nbformat_minor": 2
}
